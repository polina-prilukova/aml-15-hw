{
 "cells": [
  {
   "cell_type": "markdown",
   "id": "19898f86",
   "metadata": {},
   "source": [
    "### Домашнее задание к лекции Улучшение качества модели"
   ]
  },
  {
   "cell_type": "markdown",
   "id": "621343a7",
   "metadata": {},
   "source": [
    "Взять boston house-prices datase (sklearn.datasets.load_boston). Возмите 7 любых регрессоров (попробовать разные алгоритмы, поподбирать параметры, вывести итоговое качество)."
   ]
  },
  {
   "cell_type": "code",
   "execution_count": 1,
   "id": "54125698",
   "metadata": {},
   "outputs": [],
   "source": [
    "import pandas as pd\n",
    "import numpy as np\n",
    "import matplotlib.pyplot as plt\n",
    "%matplotlib inline\n",
    "import seaborn as sns\n",
    "from sklearn.datasets import load_boston"
   ]
  },
  {
   "cell_type": "code",
   "execution_count": 32,
   "id": "9bbb3c78",
   "metadata": {},
   "outputs": [],
   "source": [
    "import warnings\n",
    "warnings.filterwarnings(\"ignore\")"
   ]
  },
  {
   "cell_type": "code",
   "execution_count": 2,
   "id": "89ebbea8",
   "metadata": {},
   "outputs": [
    {
     "data": {
      "text/html": [
       "<div>\n",
       "<style scoped>\n",
       "    .dataframe tbody tr th:only-of-type {\n",
       "        vertical-align: middle;\n",
       "    }\n",
       "\n",
       "    .dataframe tbody tr th {\n",
       "        vertical-align: top;\n",
       "    }\n",
       "\n",
       "    .dataframe thead th {\n",
       "        text-align: right;\n",
       "    }\n",
       "</style>\n",
       "<table border=\"1\" class=\"dataframe\">\n",
       "  <thead>\n",
       "    <tr style=\"text-align: right;\">\n",
       "      <th></th>\n",
       "      <th>CRIM</th>\n",
       "      <th>ZN</th>\n",
       "      <th>INDUS</th>\n",
       "      <th>CHAS</th>\n",
       "      <th>NOX</th>\n",
       "      <th>RM</th>\n",
       "      <th>AGE</th>\n",
       "      <th>DIS</th>\n",
       "      <th>RAD</th>\n",
       "      <th>TAX</th>\n",
       "      <th>PTRATIO</th>\n",
       "      <th>B</th>\n",
       "      <th>LSTAT</th>\n",
       "      <th>MEDV</th>\n",
       "    </tr>\n",
       "  </thead>\n",
       "  <tbody>\n",
       "    <tr>\n",
       "      <th>0</th>\n",
       "      <td>0.00632</td>\n",
       "      <td>18.0</td>\n",
       "      <td>2.31</td>\n",
       "      <td>0</td>\n",
       "      <td>0.538</td>\n",
       "      <td>6.575</td>\n",
       "      <td>65.2</td>\n",
       "      <td>4.0900</td>\n",
       "      <td>1</td>\n",
       "      <td>296</td>\n",
       "      <td>15.3</td>\n",
       "      <td>396.90</td>\n",
       "      <td>4.98</td>\n",
       "      <td>24.0</td>\n",
       "    </tr>\n",
       "    <tr>\n",
       "      <th>1</th>\n",
       "      <td>0.02731</td>\n",
       "      <td>0.0</td>\n",
       "      <td>7.07</td>\n",
       "      <td>0</td>\n",
       "      <td>0.469</td>\n",
       "      <td>6.421</td>\n",
       "      <td>78.9</td>\n",
       "      <td>4.9671</td>\n",
       "      <td>2</td>\n",
       "      <td>242</td>\n",
       "      <td>17.8</td>\n",
       "      <td>396.90</td>\n",
       "      <td>9.14</td>\n",
       "      <td>21.6</td>\n",
       "    </tr>\n",
       "    <tr>\n",
       "      <th>2</th>\n",
       "      <td>0.02729</td>\n",
       "      <td>0.0</td>\n",
       "      <td>7.07</td>\n",
       "      <td>0</td>\n",
       "      <td>0.469</td>\n",
       "      <td>7.185</td>\n",
       "      <td>61.1</td>\n",
       "      <td>4.9671</td>\n",
       "      <td>2</td>\n",
       "      <td>242</td>\n",
       "      <td>17.8</td>\n",
       "      <td>392.83</td>\n",
       "      <td>4.03</td>\n",
       "      <td>34.7</td>\n",
       "    </tr>\n",
       "    <tr>\n",
       "      <th>3</th>\n",
       "      <td>0.03237</td>\n",
       "      <td>0.0</td>\n",
       "      <td>2.18</td>\n",
       "      <td>0</td>\n",
       "      <td>0.458</td>\n",
       "      <td>6.998</td>\n",
       "      <td>45.8</td>\n",
       "      <td>6.0622</td>\n",
       "      <td>3</td>\n",
       "      <td>222</td>\n",
       "      <td>18.7</td>\n",
       "      <td>394.63</td>\n",
       "      <td>2.94</td>\n",
       "      <td>33.4</td>\n",
       "    </tr>\n",
       "    <tr>\n",
       "      <th>4</th>\n",
       "      <td>0.06905</td>\n",
       "      <td>0.0</td>\n",
       "      <td>2.18</td>\n",
       "      <td>0</td>\n",
       "      <td>0.458</td>\n",
       "      <td>7.147</td>\n",
       "      <td>54.2</td>\n",
       "      <td>6.0622</td>\n",
       "      <td>3</td>\n",
       "      <td>222</td>\n",
       "      <td>18.7</td>\n",
       "      <td>396.90</td>\n",
       "      <td>5.33</td>\n",
       "      <td>36.2</td>\n",
       "    </tr>\n",
       "  </tbody>\n",
       "</table>\n",
       "</div>"
      ],
      "text/plain": [
       "      CRIM    ZN  INDUS  CHAS    NOX     RM   AGE     DIS  RAD  TAX  PTRATIO  \\\n",
       "0  0.00632  18.0   2.31     0  0.538  6.575  65.2  4.0900    1  296     15.3   \n",
       "1  0.02731   0.0   7.07     0  0.469  6.421  78.9  4.9671    2  242     17.8   \n",
       "2  0.02729   0.0   7.07     0  0.469  7.185  61.1  4.9671    2  242     17.8   \n",
       "3  0.03237   0.0   2.18     0  0.458  6.998  45.8  6.0622    3  222     18.7   \n",
       "4  0.06905   0.0   2.18     0  0.458  7.147  54.2  6.0622    3  222     18.7   \n",
       "\n",
       "        B  LSTAT  MEDV  \n",
       "0  396.90   4.98  24.0  \n",
       "1  396.90   9.14  21.6  \n",
       "2  392.83   4.03  34.7  \n",
       "3  394.63   2.94  33.4  \n",
       "4  396.90   5.33  36.2  "
      ]
     },
     "execution_count": 2,
     "metadata": {},
     "output_type": "execute_result"
    }
   ],
   "source": [
    "df = pd.read_csv(load_boston()['filename'], skiprows=1)\n",
    "df.head()"
   ]
  },
  {
   "cell_type": "code",
   "execution_count": 3,
   "id": "c26e10e4",
   "metadata": {},
   "outputs": [
    {
     "name": "stdout",
     "output_type": "stream",
     "text": [
      "<class 'pandas.core.frame.DataFrame'>\n",
      "RangeIndex: 506 entries, 0 to 505\n",
      "Data columns (total 14 columns):\n",
      " #   Column   Non-Null Count  Dtype  \n",
      "---  ------   --------------  -----  \n",
      " 0   CRIM     506 non-null    float64\n",
      " 1   ZN       506 non-null    float64\n",
      " 2   INDUS    506 non-null    float64\n",
      " 3   CHAS     506 non-null    int64  \n",
      " 4   NOX      506 non-null    float64\n",
      " 5   RM       506 non-null    float64\n",
      " 6   AGE      506 non-null    float64\n",
      " 7   DIS      506 non-null    float64\n",
      " 8   RAD      506 non-null    int64  \n",
      " 9   TAX      506 non-null    int64  \n",
      " 10  PTRATIO  506 non-null    float64\n",
      " 11  B        506 non-null    float64\n",
      " 12  LSTAT    506 non-null    float64\n",
      " 13  MEDV     506 non-null    float64\n",
      "dtypes: float64(11), int64(3)\n",
      "memory usage: 55.5 KB\n"
     ]
    }
   ],
   "source": [
    "df.info()"
   ]
  },
  {
   "cell_type": "markdown",
   "id": "b7048349",
   "metadata": {},
   "source": [
    "Пропусков в даных нет, обработка отсутствующих значений не нужна"
   ]
  },
  {
   "cell_type": "code",
   "execution_count": 4,
   "id": "0ed51524",
   "metadata": {},
   "outputs": [],
   "source": [
    "# разбиваем датасет на целевую переменную и признаки\n",
    "X, Y = df.iloc[:, :-1], df['MEDV']"
   ]
  },
  {
   "cell_type": "code",
   "execution_count": 5,
   "id": "d82f3abd",
   "metadata": {},
   "outputs": [],
   "source": [
    "from sklearn.model_selection import train_test_split"
   ]
  },
  {
   "cell_type": "code",
   "execution_count": 6,
   "id": "19efa706",
   "metadata": {},
   "outputs": [],
   "source": [
    "# отделяем валидационную выборку\n",
    "X_train, X_valid, y_train, y_valid = train_test_split(X, Y, test_size=0.2)"
   ]
  },
  {
   "cell_type": "code",
   "execution_count": 7,
   "id": "b7e40985",
   "metadata": {},
   "outputs": [],
   "source": [
    "from sklearn.preprocessing import StandardScaler"
   ]
  },
  {
   "cell_type": "code",
   "execution_count": 8,
   "id": "cb49981a",
   "metadata": {},
   "outputs": [],
   "source": [
    "# проведем нормализацию данных, чтобы привести признаки к единому масштабу\n",
    "sc = StandardScaler()\n",
    "X_train = sc.fit_transform(X_train)\n",
    "X_valid = sc.transform(X_valid)"
   ]
  },
  {
   "cell_type": "markdown",
   "id": "08bbf384",
   "metadata": {},
   "source": [
    "Выберем модели для регрессионного анализа"
   ]
  },
  {
   "cell_type": "code",
   "execution_count": 10,
   "id": "320d1639",
   "metadata": {},
   "outputs": [],
   "source": [
    "from sklearn.linear_model import LinearRegression, Ridge, Lasso\n",
    "from sklearn.svm import SVR\n",
    "from sklearn.ensemble import RandomForestRegressor\n",
    "from sklearn.tree import DecisionTreeRegressor\n",
    "from sklearn.linear_model import SGDRegressor"
   ]
  },
  {
   "cell_type": "markdown",
   "id": "9e522795",
   "metadata": {},
   "source": [
    "Заполним сетки для подбора параметров каждой модели"
   ]
  },
  {
   "cell_type": "code",
   "execution_count": 28,
   "id": "a2582c8f",
   "metadata": {},
   "outputs": [],
   "source": [
    "params_lr = {'positive': [True, False]}\n",
    "params_rd = {'solver': ['auto', 'svd', 'cholesky', 'lsqr', 'sparse_cg', 'sag', 'saga'], 'alpha': np.linspace(0.1, 5, 20)}\n",
    "params_ls = {'alpha': np.linspace(0.1, 5, 20), 'selection': ['cyclic', 'random']}\n",
    "params_rfr = {'n_estimators': [10, 30, 50, 70, 100], \n",
    "              'max_depth':np.arange(1,8), \n",
    "              'min_samples_split': np.arange(2,10), \n",
    "              'min_samples_leaf':np.arange(1,5)}\n",
    "params_dtr = {'splitter':['best','random'],\n",
    "              'max_depth':np.arange(1,8), \n",
    "              'min_samples_split':np.arange(2,10),\n",
    "              'min_samples_leaf':np.arange(1,5)}\n",
    "params_svr = {'kernel': ['linear', 'poly', 'rbf', 'sigmoid'], 'gamma': ['scale', 'auto'], 'C':[0.1,0.3,0.5,0.7,1]}\n",
    "params_sgd = {'penalty': ['l1', 'l2', 'elasticnet'], \n",
    "              'loss': ['squared_loss', 'huber', 'epsilon_insensitive', 'squared_epsilon_insensitive'],\n",
    "              'alpha': [0.0001, 0.001, 0.01]}"
   ]
  },
  {
   "cell_type": "code",
   "execution_count": 29,
   "id": "0fdbfdf4",
   "metadata": {},
   "outputs": [],
   "source": [
    "# список моделей\n",
    "models = [\n",
    "    {'name': 'Lr', 'model': LinearRegression(), 'params': params_lr},\n",
    "    {'name': 'Rd', 'model': Ridge(), 'params': params_rd},\n",
    "    {'name': 'Ls', 'model': Lasso(), 'params': params_ls},\n",
    "    {'name': 'Svr', 'model': SVR(), 'params': params_svr},\n",
    "    {'name': 'Rfr', 'model': RandomForestRegressor(), 'params': params_rfr},\n",
    "    {'name': 'Dtr', 'model': DecisionTreeRegressor(), 'params': params_dtr},\n",
    "    {'name': 'Sgd', 'model': SGDRegressor(), 'params': params_sgd}\n",
    "]"
   ]
  },
  {
   "cell_type": "code",
   "execution_count": 15,
   "id": "2c017d13",
   "metadata": {},
   "outputs": [],
   "source": [
    "from sklearn.model_selection import RandomizedSearchCV"
   ]
  },
  {
   "cell_type": "code",
   "execution_count": 33,
   "id": "b4e8e37d",
   "metadata": {},
   "outputs": [],
   "source": [
    "res=[]\n",
    "for v in  models:\n",
    "    res.append((v['name'], RandomizedSearchCV(v['model'], v['params'], cv=10).fit(X_train, y_train)))"
   ]
  },
  {
   "cell_type": "code",
   "execution_count": 34,
   "id": "c8924896",
   "metadata": {},
   "outputs": [
    {
     "name": "stdout",
     "output_type": "stream",
     "text": [
      "Lr 0.7273094423067769 {'positive': False}\n",
      "Rd 0.7292824488428481 {'solver': 'cholesky', 'alpha': 5.0}\n",
      "Ls 0.6955937350872903 {'selection': 'random', 'alpha': 0.35789473684210527}\n",
      "Svr 0.7168924243671102 {'kernel': 'linear', 'gamma': 'scale', 'C': 0.5}\n",
      "Rfr 0.8323853341613507 {'n_estimators': 100, 'min_samples_split': 2, 'min_samples_leaf': 3, 'max_depth': 5}\n",
      "Dtr 0.7706675390161289 {'splitter': 'best', 'min_samples_split': 2, 'min_samples_leaf': 4, 'max_depth': 7}\n",
      "Sgd 0.7301396865608737 {'penalty': 'l2', 'loss': 'squared_loss', 'alpha': 0.01}\n"
     ]
    }
   ],
   "source": [
    "for r in res:\n",
    "    print(r[0], r[1].best_score_, r[1].best_params_)"
   ]
  },
  {
   "cell_type": "markdown",
   "id": "4cd2573f",
   "metadata": {},
   "source": [
    "Лучший результат показали модели Random forest regressor и decision tree regressor. Попробуем для них отдельно провести поиск лучших параметров по сетке рядом со значениями, которые были выбраны в результате работы RandomizedSearchCV "
   ]
  },
  {
   "cell_type": "code",
   "execution_count": 35,
   "id": "3ead3d54",
   "metadata": {},
   "outputs": [],
   "source": [
    "from sklearn.model_selection import GridSearchCV"
   ]
  },
  {
   "cell_type": "code",
   "execution_count": 37,
   "id": "556f57a5",
   "metadata": {},
   "outputs": [],
   "source": [
    "params_rfr_grid = {'n_estimators': [80, 90, 100, 110, 120], \n",
    "              'max_depth':np.arange(4,8), \n",
    "              'min_samples_split': np.arange(2,5), \n",
    "              'min_samples_leaf':np.arange(1,5)}\n",
    "params_dtr_grid = {'splitter':['best'],\n",
    "              'max_depth':np.arange(6,9), \n",
    "              'min_samples_split':np.arange(2,5),\n",
    "              'min_samples_leaf':np.arange(3,6)}"
   ]
  },
  {
   "cell_type": "code",
   "execution_count": 45,
   "id": "a2d2f9c6",
   "metadata": {},
   "outputs": [
    {
     "data": {
      "text/plain": [
       "GridSearchCV(cv=10, estimator=RandomForestRegressor(),\n",
       "             param_grid={'max_depth': array([4, 5, 6, 7]),\n",
       "                         'min_samples_leaf': array([1, 2, 3, 4]),\n",
       "                         'min_samples_split': array([2, 3, 4]),\n",
       "                         'n_estimators': [80, 90, 100, 110, 120]},\n",
       "             scoring='r2')"
      ]
     },
     "execution_count": 45,
     "metadata": {},
     "output_type": "execute_result"
    }
   ],
   "source": [
    "grid_rfr = GridSearchCV(RandomForestRegressor(), params_rfr_grid, cv=10, scoring='r2')\n",
    "grid_rfr.fit(X_train, y_train)"
   ]
  },
  {
   "cell_type": "code",
   "execution_count": 43,
   "id": "84838cf1",
   "metadata": {},
   "outputs": [
    {
     "data": {
      "text/plain": [
       "GridSearchCV(cv=10, estimator=DecisionTreeRegressor(),\n",
       "             param_grid={'max_depth': array([6, 7, 8]),\n",
       "                         'min_samples_leaf': array([3, 4, 5]),\n",
       "                         'min_samples_split': array([2, 3, 4]),\n",
       "                         'splitter': ['best']},\n",
       "             scoring='r2')"
      ]
     },
     "execution_count": 43,
     "metadata": {},
     "output_type": "execute_result"
    }
   ],
   "source": [
    "grid_dtr = GridSearchCV(DecisionTreeRegressor(), params_dtr_grid, cv=10, scoring='r2')\n",
    "grid_dtr.fit(X_train, y_train)"
   ]
  },
  {
   "cell_type": "code",
   "execution_count": 46,
   "id": "0e34b211",
   "metadata": {},
   "outputs": [
    {
     "name": "stdout",
     "output_type": "stream",
     "text": [
      "Random forest regressor: score 0.8527073386810269, params {'max_depth': 7, 'min_samples_leaf': 1, 'min_samples_split': 3, 'n_estimators': 90}\n"
     ]
    }
   ],
   "source": [
    "print(f'Random forest regressor: score {grid_rfr.best_score_}, params {grid_rfr.best_params_}')"
   ]
  },
  {
   "cell_type": "code",
   "execution_count": 44,
   "id": "ce333f9c",
   "metadata": {},
   "outputs": [
    {
     "name": "stdout",
     "output_type": "stream",
     "text": [
      "Decision tree regressor: score 0.7842042777370414, params {'max_depth': 6, 'min_samples_leaf': 4, 'min_samples_split': 3, 'splitter': 'best'}\n"
     ]
    }
   ],
   "source": [
    "print(f'Decision tree regressor: score {grid_dtr.best_score_}, params {grid_dtr.best_params_}')"
   ]
  },
  {
   "cell_type": "markdown",
   "id": "f7358a31",
   "metadata": {},
   "source": [
    "С новыми гиперпараметрами результат у Random forest regressor улучшился еще на 2%, у Decision tree regressor на 1,4% "
   ]
  },
  {
   "cell_type": "markdown",
   "id": "5dfb7717",
   "metadata": {},
   "source": [
    "Посмотрим на результаты, которые обученные модели покажут на отложенной валидационной выборке"
   ]
  },
  {
   "cell_type": "code",
   "execution_count": 49,
   "id": "245eb331",
   "metadata": {},
   "outputs": [
    {
     "name": "stdout",
     "output_type": "stream",
     "text": [
      "Lr 0.618967079242239\n",
      "Rd 0.6150785817012956\n",
      "Ls 0.5590319018453553\n",
      "Svr 0.5405526567587893\n",
      "Rfr 0.7071333412499351\n",
      "Dtr 0.6752171304214307\n",
      "Sgd 0.6069973558691024\n"
     ]
    }
   ],
   "source": [
    "# модели с параметрами, подобранными после randomizedSearch \n",
    "for r in res:\n",
    "    print(r[0], r[1].best_estimator_.score(X_valid, y_valid))"
   ]
  },
  {
   "cell_type": "code",
   "execution_count": 47,
   "id": "2fb5fc70",
   "metadata": {},
   "outputs": [
    {
     "data": {
      "text/plain": [
       "0.7529091666135501"
      ]
     },
     "execution_count": 47,
     "metadata": {},
     "output_type": "execute_result"
    }
   ],
   "source": [
    "# Random forest regressor после GridSearch\n",
    "grid_rfr.best_estimator_.score(X_valid, y_valid)"
   ]
  },
  {
   "cell_type": "code",
   "execution_count": 48,
   "id": "c80b71f6",
   "metadata": {},
   "outputs": [
    {
     "data": {
      "text/plain": [
       "0.684590744028653"
      ]
     },
     "execution_count": 48,
     "metadata": {},
     "output_type": "execute_result"
    }
   ],
   "source": [
    "# Decision tree regressor после GridSearch\n",
    "grid_dtr.best_estimator_.score(X_valid, y_valid)"
   ]
  },
  {
   "cell_type": "markdown",
   "id": "580c1d09",
   "metadata": {},
   "source": [
    "Видим, что случайный лес и на валидационной выборке показывает лучший результат из всех, а после дополнительного подбора параметров этот результат вырастает на 5%"
   ]
  },
  {
   "cell_type": "code",
   "execution_count": null,
   "id": "a66a1289",
   "metadata": {},
   "outputs": [],
   "source": []
  }
 ],
 "metadata": {
  "kernelspec": {
   "display_name": "Python 3",
   "language": "python",
   "name": "python3"
  },
  "language_info": {
   "codemirror_mode": {
    "name": "ipython",
    "version": 3
   },
   "file_extension": ".py",
   "mimetype": "text/x-python",
   "name": "python",
   "nbconvert_exporter": "python",
   "pygments_lexer": "ipython3",
   "version": "3.7.7"
  }
 },
 "nbformat": 4,
 "nbformat_minor": 5
}
