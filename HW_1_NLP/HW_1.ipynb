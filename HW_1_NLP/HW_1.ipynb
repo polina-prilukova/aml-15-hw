{
 "cells": [
  {
   "cell_type": "markdown",
   "id": "1a0efaec",
   "metadata": {},
   "source": [
    "### Классификация по тональности"
   ]
  },
  {
   "cell_type": "markdown",
   "id": "72193744",
   "metadata": {},
   "source": [
    "В этом домашнем задании вам предстоит классифицировать по тональности отзывы на банки с сайта banki.ru.\n",
    "\n",
    "Данные содержат непосредственно тексты отзывов, некоторую дополнительную информацию, а также оценку по шкале от 1 до 5.\n",
    "\n",
    "Тексты хранятся в json-ах в массиве responses.\n",
    "\n",
    "Посмотрим на примере отзыва: возьмите для удобства ноутбук, размещенный в папке репозитория."
   ]
  },
  {
   "cell_type": "markdown",
   "id": "772dec74",
   "metadata": {},
   "source": [
    "### Часть 1. Анализ текстов"
   ]
  },
  {
   "cell_type": "markdown",
   "id": "23aad8c7",
   "metadata": {},
   "source": [
    "1. Посчитайте количество отзывов в разных городах и на разные банки\n",
    "2. Постройте гистограмы длин слов в символах и в словах\n",
    "3. Найдите 10 самых частых:\n",
    "- слов\n",
    "- слов без стоп-слов\n",
    "- лемм\n",
    "- существительных\n",
    "\n",
    "4. Постройте кривые Ципфа и Хипса\n",
    "5. Ответьте на следующие вопросы:\n",
    "- какое слово встречается чаще, \"сотрудник\" или \"клиент\"?\n",
    "- сколько раз встречается слова \"мошенничество\" и \"доверие\"?\n",
    "\n",
    "6. В поле \"rating_grade\" записана оценка отзыва по шкале от 1 до 5. Используйте меру $tf-idf$, для того, чтобы найти ключевые слова и биграмы для положительных отзывов (с оценкой 5) и отрицательных отзывов (с оценкой 1)"
   ]
  },
  {
   "cell_type": "code",
   "execution_count": 1,
   "id": "f3962bd3",
   "metadata": {},
   "outputs": [],
   "source": [
    "import json\n",
    "\n",
    "import bz2\n",
    "import regex\n",
    "from tqdm import tqdm\n",
    "from scipy import sparse"
   ]
  },
  {
   "cell_type": "code",
   "execution_count": 2,
   "id": "ca8fe138",
   "metadata": {},
   "outputs": [
    {
     "name": "stdout",
     "output_type": "stream",
     "text": [
      "Populating the interactive namespace from numpy and matplotlib\n"
     ]
    }
   ],
   "source": [
    "import pandas as pd\n",
    "import numpy as np\n",
    "import nltk\n",
    "import matplotlib.pyplot as plt\n",
    "import seaborn as sns\n",
    "%matplotlib inline\n",
    "%pylab inline"
   ]
  },
  {
   "cell_type": "code",
   "execution_count": 3,
   "id": "5166af6e",
   "metadata": {},
   "outputs": [
    {
     "name": "stderr",
     "output_type": "stream",
     "text": [
      "201030it [01:50, 1820.70it/s]\n"
     ]
    }
   ],
   "source": [
    "responses = []\n",
    "with bz2.BZ2File('Materials/banki_responses.json.bz2', 'r') as thefile:\n",
    "    for row in tqdm(thefile):\n",
    "        resp = json.loads(row)\n",
    "        if not resp['rating_not_checked'] and (len(resp['text'].split()) > 0):\n",
    "            responses.append(resp)"
   ]
  },
  {
   "cell_type": "code",
   "execution_count": 4,
   "id": "35b37d50",
   "metadata": {},
   "outputs": [
    {
     "data": {
      "text/plain": [
       "{'city': 'г. Москва',\n",
       " 'rating_not_checked': False,\n",
       " 'title': 'Двойное списание за один товар.',\n",
       " 'num_comments': 1,\n",
       " 'bank_license': 'лицензия № 2562',\n",
       " 'author': 'Vladimir84',\n",
       " 'bank_name': 'Бинбанк',\n",
       " 'datetime': '2015-06-05 20:14:28',\n",
       " 'text': 'Здравствуйте! \\xa0Дублирую свое заявление от 03.06.2015 в ДО \"Можайский\". \\xa002.06.2015 мною, по моей дебетовой карте была совершена покупка в интернет-магазине \\xa0на сумму 3028 руб., но с карты произошло двойное списание (два раза по 3028 руб.) то есть 6056 руб. (о чем имеются смс сообщения от банка). Интернет-магазин подтвердил только один платеж 3028 руб. , товар был получен 05.06.2015. Прошу разобраться в ситуации и вернуть мне на счет ошибочно списанную сумму в размере 3028 руб.!  \\xa0С уважением, давний клиент Вашего банка Владимир. Номер карты указан в моем заявлении в\\xa0ДО \"Можайский\".',\n",
       " 'rating_grade': None}"
      ]
     },
     "execution_count": 4,
     "metadata": {},
     "output_type": "execute_result"
    }
   ],
   "source": [
    "# пример отзыва\n",
    "responses[2]"
   ]
  },
  {
   "cell_type": "code",
   "execution_count": 3,
   "id": "dffe4dd0",
   "metadata": {},
   "outputs": [],
   "source": [
    "import warnings\n",
    "warnings.filterwarnings('ignore')"
   ]
  },
  {
   "cell_type": "code",
   "execution_count": 5,
   "id": "f0eb1f19",
   "metadata": {},
   "outputs": [
    {
     "data": {
      "text/html": [
       "<div>\n",
       "<style scoped>\n",
       "    .dataframe tbody tr th:only-of-type {\n",
       "        vertical-align: middle;\n",
       "    }\n",
       "\n",
       "    .dataframe tbody tr th {\n",
       "        vertical-align: top;\n",
       "    }\n",
       "\n",
       "    .dataframe thead th {\n",
       "        text-align: right;\n",
       "    }\n",
       "</style>\n",
       "<table border=\"1\" class=\"dataframe\">\n",
       "  <thead>\n",
       "    <tr style=\"text-align: right;\">\n",
       "      <th></th>\n",
       "      <th>city</th>\n",
       "      <th>rating_not_checked</th>\n",
       "      <th>title</th>\n",
       "      <th>num_comments</th>\n",
       "      <th>bank_license</th>\n",
       "      <th>author</th>\n",
       "      <th>bank_name</th>\n",
       "      <th>datetime</th>\n",
       "      <th>text</th>\n",
       "      <th>rating_grade</th>\n",
       "    </tr>\n",
       "  </thead>\n",
       "  <tbody>\n",
       "    <tr>\n",
       "      <th>0</th>\n",
       "      <td>г. Москва</td>\n",
       "      <td>False</td>\n",
       "      <td>Жалоба</td>\n",
       "      <td>0</td>\n",
       "      <td>лицензия № 2562</td>\n",
       "      <td>uhnov1</td>\n",
       "      <td>Бинбанк</td>\n",
       "      <td>2015-06-08 12:50:54</td>\n",
       "      <td>Добрый день! Я не являюсь клиентом банка и пор...</td>\n",
       "      <td>NaN</td>\n",
       "    </tr>\n",
       "    <tr>\n",
       "      <th>1</th>\n",
       "      <td>г. Новосибирск</td>\n",
       "      <td>False</td>\n",
       "      <td>Не могу пользоваться услугой Сбербанк он-лайн</td>\n",
       "      <td>0</td>\n",
       "      <td>лицензия № 1481</td>\n",
       "      <td>Foryou</td>\n",
       "      <td>Сбербанк России</td>\n",
       "      <td>2015-06-08 11:09:57</td>\n",
       "      <td>Доброго дня! Являюсь держателем зарплатной кар...</td>\n",
       "      <td>NaN</td>\n",
       "    </tr>\n",
       "    <tr>\n",
       "      <th>2</th>\n",
       "      <td>г. Москва</td>\n",
       "      <td>False</td>\n",
       "      <td>Двойное списание за один товар.</td>\n",
       "      <td>1</td>\n",
       "      <td>лицензия № 2562</td>\n",
       "      <td>Vladimir84</td>\n",
       "      <td>Бинбанк</td>\n",
       "      <td>2015-06-05 20:14:28</td>\n",
       "      <td>Здравствуйте!  Дублирую свое заявление от 03.0...</td>\n",
       "      <td>NaN</td>\n",
       "    </tr>\n",
       "    <tr>\n",
       "      <th>3</th>\n",
       "      <td>г. Ставрополь</td>\n",
       "      <td>False</td>\n",
       "      <td>Меняют проценты комиссии  не предупредив и не ...</td>\n",
       "      <td>2</td>\n",
       "      <td>лицензия № 1481</td>\n",
       "      <td>643609</td>\n",
       "      <td>Сбербанк России</td>\n",
       "      <td>2015-06-05 13:51:01</td>\n",
       "      <td>Добрый день!! Я открыл расчетный счет в СберБа...</td>\n",
       "      <td>NaN</td>\n",
       "    </tr>\n",
       "    <tr>\n",
       "      <th>4</th>\n",
       "      <td>г. Челябинск</td>\n",
       "      <td>False</td>\n",
       "      <td>Верните денежные средства за страховку</td>\n",
       "      <td>1</td>\n",
       "      <td>лицензия № 2766</td>\n",
       "      <td>anfisa-2003</td>\n",
       "      <td>ОТП Банк</td>\n",
       "      <td>2015-06-05 10:58:12</td>\n",
       "      <td>04.03.2015 г. взяла кредит в вашем банке, заяв...</td>\n",
       "      <td>NaN</td>\n",
       "    </tr>\n",
       "  </tbody>\n",
       "</table>\n",
       "</div>"
      ],
      "text/plain": [
       "             city  rating_not_checked  \\\n",
       "0       г. Москва               False   \n",
       "1  г. Новосибирск               False   \n",
       "2       г. Москва               False   \n",
       "3   г. Ставрополь               False   \n",
       "4    г. Челябинск               False   \n",
       "\n",
       "                                               title  num_comments  \\\n",
       "0                                             Жалоба             0   \n",
       "1      Не могу пользоваться услугой Сбербанк он-лайн             0   \n",
       "2                    Двойное списание за один товар.             1   \n",
       "3  Меняют проценты комиссии  не предупредив и не ...             2   \n",
       "4             Верните денежные средства за страховку             1   \n",
       "\n",
       "      bank_license       author        bank_name             datetime  \\\n",
       "0  лицензия № 2562       uhnov1          Бинбанк  2015-06-08 12:50:54   \n",
       "1  лицензия № 1481       Foryou  Сбербанк России  2015-06-08 11:09:57   \n",
       "2  лицензия № 2562   Vladimir84          Бинбанк  2015-06-05 20:14:28   \n",
       "3  лицензия № 1481       643609  Сбербанк России  2015-06-05 13:51:01   \n",
       "4  лицензия № 2766  anfisa-2003         ОТП Банк  2015-06-05 10:58:12   \n",
       "\n",
       "                                                text  rating_grade  \n",
       "0  Добрый день! Я не являюсь клиентом банка и пор...           NaN  \n",
       "1  Доброго дня! Являюсь держателем зарплатной кар...           NaN  \n",
       "2  Здравствуйте!  Дублирую свое заявление от 03.0...           NaN  \n",
       "3  Добрый день!! Я открыл расчетный счет в СберБа...           NaN  \n",
       "4  04.03.2015 г. взяла кредит в вашем банке, заяв...           NaN  "
      ]
     },
     "execution_count": 5,
     "metadata": {},
     "output_type": "execute_result"
    }
   ],
   "source": [
    "df = pd.DataFrame(responses)\n",
    "df.head()"
   ]
  },
  {
   "cell_type": "code",
   "execution_count": 6,
   "id": "9b13592b",
   "metadata": {},
   "outputs": [
    {
     "name": "stdout",
     "output_type": "stream",
     "text": [
      "<class 'pandas.core.frame.DataFrame'>\n",
      "RangeIndex: 153499 entries, 0 to 153498\n",
      "Data columns (total 10 columns):\n",
      " #   Column              Non-Null Count   Dtype  \n",
      "---  ------              --------------   -----  \n",
      " 0   city                138325 non-null  object \n",
      " 1   rating_not_checked  153499 non-null  bool   \n",
      " 2   title               153499 non-null  object \n",
      " 3   num_comments        153499 non-null  int64  \n",
      " 4   bank_license        153498 non-null  object \n",
      " 5   author              153479 non-null  object \n",
      " 6   bank_name           153499 non-null  object \n",
      " 7   datetime            153499 non-null  object \n",
      " 8   text                153499 non-null  object \n",
      " 9   rating_grade        88658 non-null   float64\n",
      "dtypes: bool(1), float64(1), int64(1), object(7)\n",
      "memory usage: 10.7+ MB\n"
     ]
    }
   ],
   "source": [
    "df.info()"
   ]
  },
  {
   "cell_type": "markdown",
   "id": "69650230",
   "metadata": {},
   "source": [
    "**1. Посчитайте количество отзывов в разных городах и на разные банки**"
   ]
  },
  {
   "cell_type": "code",
   "execution_count": 8,
   "id": "5a9658aa",
   "metadata": {},
   "outputs": [
    {
     "data": {
      "text/html": [
       "<div>\n",
       "<style scoped>\n",
       "    .dataframe tbody tr th:only-of-type {\n",
       "        vertical-align: middle;\n",
       "    }\n",
       "\n",
       "    .dataframe tbody tr th {\n",
       "        vertical-align: top;\n",
       "    }\n",
       "\n",
       "    .dataframe thead th {\n",
       "        text-align: right;\n",
       "    }\n",
       "</style>\n",
       "<table border=\"1\" class=\"dataframe\">\n",
       "  <thead>\n",
       "    <tr style=\"text-align: right;\">\n",
       "      <th></th>\n",
       "      <th>city</th>\n",
       "      <th>bank_name</th>\n",
       "      <th>responce_count</th>\n",
       "    </tr>\n",
       "  </thead>\n",
       "  <tbody>\n",
       "    <tr>\n",
       "      <th>0</th>\n",
       "      <td>г.  (Красногорск)</td>\n",
       "      <td>Транснациональный Банк</td>\n",
       "      <td>1</td>\n",
       "    </tr>\n",
       "    <tr>\n",
       "      <th>1</th>\n",
       "      <td>г.  (Москва)</td>\n",
       "      <td>Национальный Банк «Траст»</td>\n",
       "      <td>1</td>\n",
       "    </tr>\n",
       "    <tr>\n",
       "      <th>2</th>\n",
       "      <td>г.  (Москва)</td>\n",
       "      <td>Райффайзенбанк</td>\n",
       "      <td>1</td>\n",
       "    </tr>\n",
       "    <tr>\n",
       "      <th>3</th>\n",
       "      <td>г.  (Россия)</td>\n",
       "      <td>Кредит-Москва</td>\n",
       "      <td>1</td>\n",
       "    </tr>\n",
       "    <tr>\n",
       "      <th>4</th>\n",
       "      <td>г.  (Ханты-Мансийский автономный округ)</td>\n",
       "      <td>Киви Банк</td>\n",
       "      <td>1</td>\n",
       "    </tr>\n",
       "  </tbody>\n",
       "</table>\n",
       "</div>"
      ],
      "text/plain": [
       "                                      city                  bank_name  \\\n",
       "0                        г.  (Красногорск)     Транснациональный Банк   \n",
       "1                             г.  (Москва)  Национальный Банк «Траст»   \n",
       "2                             г.  (Москва)             Райффайзенбанк   \n",
       "3                             г.  (Россия)              Кредит-Москва   \n",
       "4  г.  (Ханты-Мансийский автономный округ)                  Киви Банк   \n",
       "\n",
       "   responce_count  \n",
       "0               1  \n",
       "1               1  \n",
       "2               1  \n",
       "3               1  \n",
       "4               1  "
      ]
     },
     "execution_count": 8,
     "metadata": {},
     "output_type": "execute_result"
    }
   ],
   "source": [
    "df_cities = df[['city', 'bank_name', 'title']].groupby(['city', 'bank_name']).count().reset_index()\n",
    "df_cities.rename(columns={'title':'responce_count'}, inplace=True)\n",
    "df_cities.head()"
   ]
  },
  {
   "cell_type": "code",
   "execution_count": 9,
   "id": "3835586b",
   "metadata": {},
   "outputs": [
    {
     "data": {
      "text/plain": [
       "5823"
      ]
     },
     "execution_count": 9,
     "metadata": {},
     "output_type": "execute_result"
    }
   ],
   "source": [
    "len(df_cities.city.unique())"
   ]
  },
  {
   "cell_type": "markdown",
   "id": "7125a252",
   "metadata": {},
   "source": [
    "Очевидно, что у одних и тех же городов могут быть разные варианты написания названия. Хорошо бы немного почистить датасет, чтобы разбиение отзывов по городам выглядело более релевантно. Попробую привести хотя бы часть названий городов к одному формату. Для начала уберу из названия скобки  "
   ]
  },
  {
   "cell_type": "code",
   "execution_count": 10,
   "id": "e3c97483",
   "metadata": {},
   "outputs": [
    {
     "data": {
      "text/html": [
       "<div>\n",
       "<style scoped>\n",
       "    .dataframe tbody tr th:only-of-type {\n",
       "        vertical-align: middle;\n",
       "    }\n",
       "\n",
       "    .dataframe tbody tr th {\n",
       "        vertical-align: top;\n",
       "    }\n",
       "\n",
       "    .dataframe thead th {\n",
       "        text-align: right;\n",
       "    }\n",
       "</style>\n",
       "<table border=\"1\" class=\"dataframe\">\n",
       "  <thead>\n",
       "    <tr style=\"text-align: right;\">\n",
       "      <th></th>\n",
       "      <th>city</th>\n",
       "      <th>bank_name</th>\n",
       "      <th>responce_count</th>\n",
       "    </tr>\n",
       "  </thead>\n",
       "  <tbody>\n",
       "    <tr>\n",
       "      <th>0</th>\n",
       "      <td>г.  Красногорск</td>\n",
       "      <td>Транснациональный Банк</td>\n",
       "      <td>1</td>\n",
       "    </tr>\n",
       "    <tr>\n",
       "      <th>1</th>\n",
       "      <td>г.  Москва</td>\n",
       "      <td>Национальный Банк «Траст»</td>\n",
       "      <td>1</td>\n",
       "    </tr>\n",
       "    <tr>\n",
       "      <th>2</th>\n",
       "      <td>г.  Москва</td>\n",
       "      <td>Райффайзенбанк</td>\n",
       "      <td>1</td>\n",
       "    </tr>\n",
       "    <tr>\n",
       "      <th>3</th>\n",
       "      <td>г.  Россия</td>\n",
       "      <td>Кредит-Москва</td>\n",
       "      <td>1</td>\n",
       "    </tr>\n",
       "    <tr>\n",
       "      <th>4</th>\n",
       "      <td>г.  Ханты-Мансийский автономный округ</td>\n",
       "      <td>Киви Банк</td>\n",
       "      <td>1</td>\n",
       "    </tr>\n",
       "  </tbody>\n",
       "</table>\n",
       "</div>"
      ],
      "text/plain": [
       "                                    city                  bank_name  \\\n",
       "0                        г.  Красногорск     Транснациональный Банк   \n",
       "1                             г.  Москва  Национальный Банк «Траст»   \n",
       "2                             г.  Москва             Райффайзенбанк   \n",
       "3                             г.  Россия              Кредит-Москва   \n",
       "4  г.  Ханты-Мансийский автономный округ                  Киви Банк   \n",
       "\n",
       "   responce_count  \n",
       "0               1  \n",
       "1               1  \n",
       "2               1  \n",
       "3               1  \n",
       "4               1  "
      ]
     },
     "execution_count": 10,
     "metadata": {},
     "output_type": "execute_result"
    }
   ],
   "source": [
    "df_cities['city'] = df_cities['city'].str.replace('(', '')\n",
    "df_cities['city'] = df_cities['city'].str.replace(')', '')\n",
    "df_cities.head()"
   ]
  },
  {
   "cell_type": "code",
   "execution_count": 11,
   "id": "e30fff2a",
   "metadata": {},
   "outputs": [
    {
     "data": {
      "text/plain": [
       "5790"
      ]
     },
     "execution_count": 11,
     "metadata": {},
     "output_type": "execute_result"
    }
   ],
   "source": [
    "len(df_cities.city.unique())"
   ]
  },
  {
   "cell_type": "code",
   "execution_count": 12,
   "id": "9f2a29f5",
   "metadata": {},
   "outputs": [
    {
     "data": {
      "text/plain": [
       "['г.  Красногорск',\n",
       " 'г.  Москва',\n",
       " 'г.  Россия',\n",
       " 'г.  Ханты-Мансийский автономный округ',\n",
       " 'г. -',\n",
       " 'г. ...',\n",
       " 'г. ....',\n",
       " 'г. .......',\n",
       " 'г. ........',\n",
       " 'г. 047169000 или 5939',\n",
       " 'г. 1-е Новоспасское',\n",
       " 'г. 111',\n",
       " 'г. 1111',\n",
       " 'г. 112',\n",
       " 'г. 112422',\n",
       " 'г. 140051, МО, Люберецкий район, Красково',\n",
       " 'г. 140205,Pobeda street,16,39,city of Voscresensk,Moscow region',\n",
       " 'г. 143420 Московская область, Красногорский район, посёлок дачного хозяйства Архангельское, д.4,кв.2',\n",
       " 'г. 1Ёсаратов',\n",
       " 'г. 2-я Гавриловка',\n",
       " 'г. 21000, China, Jiangsu province, Nanjing',\n",
       " 'г. 3 года с ТКС',\n",
       " 'г. 312',\n",
       " 'г. 5939 можно и так 047169000',\n",
       " 'г. 5939 он же 047169000',\n",
       " 'г. 636930, Томская обл., Первомайский р-н, с. Первомайское, ул. Советская, 11-4',\n",
       " 'г. :erjdcrbq Москва',\n",
       " 'г. :Жуковка',\n",
       " 'г. ? видимо москва или новосибирск',\n",
       " 'г. Astana',\n",
       " 'г. Aрхангельск',\n",
       " 'г. Back in USSR...',\n",
       " 'г. Booischot, Belgium Москва',\n",
       " 'г. Bremen Москва',\n",
       " 'г. Bruxelles',\n",
       " 'г. C-Пб',\n",
       " 'г. C-Петербург',\n",
       " 'г. Cg,',\n",
       " 'г. Costa-Mesa',\n",
       " 'г. CАнкт=Петербург',\n",
       " 'г. CПб',\n",
       " 'г. Cамара',\n",
       " 'г. Cанкт -Петербург',\n",
       " 'г. Cанкт- Петербург',\n",
       " 'г. Cанкт-Петербург',\n",
       " 'г. Cанкт-Петербург Ленинский пр',\n",
       " 'г. Cаранск',\n",
       " 'г. Cерпухов',\n",
       " 'г. Cимферополь',\n",
       " 'г. Cочи',\n",
       " 'г. Cпб',\n",
       " 'г. Cургут',\n",
       " 'г. Default',\n",
       " 'г. Djkujuhfl',\n",
       " 'г. Dmitrov',\n",
       " 'г. Ghent, Belgium',\n",
       " 'г. Goa, Индия',\n",
       " 'г. Ho Chi Minh City',\n",
       " 'г. Indonesia',\n",
       " 'г. Internet',\n",
       " 'г. Jersey City',\n",
       " 'г. KZN-MSK-DXB',\n",
       " 'г. Kazan',\n",
       " 'г. Khabarovsk',\n",
       " 'г. Khimki',\n",
       " 'г. Klaukkala',\n",
       " 'г. Krasnoyarsk',\n",
       " 'г. Krasnoyarsk Санкт-Петербург',\n",
       " 'г. Kurgan',\n",
       " 'г. Kursk',\n",
       " 'г. London',\n",
       " 'г. Louisville',\n",
       " 'г. MOSCOW',\n",
       " 'г. MOSKVA',\n",
       " 'г. MSK',\n",
       " 'г. Miami Beach',\n",
       " 'г. Miesau',\n",
       " 'г. Mocква',\n",
       " 'г. Moscow',\n",
       " 'г. Moscow -- New York',\n",
       " 'г. Moscow, Russia',\n",
       " 'г. Moscow-city',\n",
       " 'г. Moskow',\n",
       " 'г. Moskva',\n",
       " 'г. Mscow',\n",
       " 'г. Murmansk',\n",
       " 'г. Mосква',\n",
       " 'г. N-ск',\n",
       " 'г. N.Novgorod',\n",
       " 'г. Naberezhnye Chelny',\n",
       " 'г. New York',\n",
       " 'г. Niznevartovsk',\n",
       " 'г. Novosibirsk',\n",
       " 'г. Omsk',\n",
       " 'г. Orel',\n",
       " 'г. Penza',\n",
       " 'г. Perm',\n",
       " 'г. Podolsk',\n",
       " 'г. Pskov',\n",
       " 'г. Rfpfym']"
      ]
     },
     "execution_count": 12,
     "metadata": {},
     "output_type": "execute_result"
    }
   ],
   "source": [
    "list(df_cities.city.unique())[:100]"
   ]
  },
  {
   "cell_type": "markdown",
   "id": "5716db56",
   "metadata": {},
   "source": [
    "Часть проблем, которая видна в начале списка уникальных названий городов из датасета:\n",
    "- В названии есть явные ошибки (1Ёсаратов)\n",
    "- название может быть написано латиницей (Omsk)\n",
    "- название написано английскими буквами по русской раскладке (Rfpfym->Казань)\n",
    "- название представляет собой сокращение (MSK)\n",
    "- название включает в себя не только город (21000, China, Jiangsu province, Nanjing) \n",
    "- название включает в себя 2 города, непонятно, который из них основной (Moscow -- New York)\n",
    "- название представляет собой комбинацию из цифр, символов или слов, из которых город понять невозможно (г. ...., г.111) "
   ]
  },
  {
   "cell_type": "code",
   "execution_count": 13,
   "id": "c15ee4fc",
   "metadata": {},
   "outputs": [
    {
     "data": {
      "text/plain": [
       "True"
      ]
     },
     "execution_count": 13,
     "metadata": {},
     "output_type": "execute_result"
    }
   ],
   "source": [
    "len(df_cities.city.str.contains('г.')) == len(df_cities)"
   ]
  },
  {
   "cell_type": "code",
   "execution_count": 14,
   "id": "3699e673",
   "metadata": {},
   "outputs": [],
   "source": [
    "# Уберем сочетание \"г.\" из названий городов\n",
    "df_cities['city'] = df_cities['city'].str.replace('г.', '', regex=False)"
   ]
  },
  {
   "cell_type": "markdown",
   "id": "70a59bf1",
   "metadata": {},
   "source": [
    "Предположим, что если название не содержит ни одной буквы (только цифры или прочие символы), то вытащить название города из этого не получится. Заменяю такие сочетания на заглушку UNKNOWN "
   ]
  },
  {
   "cell_type": "code",
   "execution_count": 4,
   "id": "a5ff2a70",
   "metadata": {},
   "outputs": [],
   "source": [
    "import re\n"
   ]
  },
  {
   "cell_type": "code",
   "execution_count": 16,
   "id": "7e4681ef",
   "metadata": {},
   "outputs": [],
   "source": [
    "reg = r'^[^a-zA-Zа-яА-Я]+$'"
   ]
  },
  {
   "cell_type": "code",
   "execution_count": 17,
   "id": "4f51faa0",
   "metadata": {},
   "outputs": [],
   "source": [
    "df_cities['city'] = df_cities['city'].str.replace(reg, 'UNKNOWN', regex=True)"
   ]
  },
  {
   "cell_type": "code",
   "execution_count": 18,
   "id": "4c18a62a",
   "metadata": {},
   "outputs": [
    {
     "data": {
      "text/html": [
       "<div>\n",
       "<style scoped>\n",
       "    .dataframe tbody tr th:only-of-type {\n",
       "        vertical-align: middle;\n",
       "    }\n",
       "\n",
       "    .dataframe tbody tr th {\n",
       "        vertical-align: top;\n",
       "    }\n",
       "\n",
       "    .dataframe thead th {\n",
       "        text-align: right;\n",
       "    }\n",
       "</style>\n",
       "<table border=\"1\" class=\"dataframe\">\n",
       "  <thead>\n",
       "    <tr style=\"text-align: right;\">\n",
       "      <th></th>\n",
       "      <th>city</th>\n",
       "      <th>bank_name</th>\n",
       "      <th>responce_count</th>\n",
       "    </tr>\n",
       "  </thead>\n",
       "  <tbody>\n",
       "    <tr>\n",
       "      <th>0</th>\n",
       "      <td>Красногорск</td>\n",
       "      <td>Транснациональный Банк</td>\n",
       "      <td>1</td>\n",
       "    </tr>\n",
       "    <tr>\n",
       "      <th>1</th>\n",
       "      <td>Москва</td>\n",
       "      <td>Национальный Банк «Траст»</td>\n",
       "      <td>1</td>\n",
       "    </tr>\n",
       "    <tr>\n",
       "      <th>2</th>\n",
       "      <td>Москва</td>\n",
       "      <td>Райффайзенбанк</td>\n",
       "      <td>1</td>\n",
       "    </tr>\n",
       "    <tr>\n",
       "      <th>3</th>\n",
       "      <td>Россия</td>\n",
       "      <td>Кредит-Москва</td>\n",
       "      <td>1</td>\n",
       "    </tr>\n",
       "    <tr>\n",
       "      <th>4</th>\n",
       "      <td>Ханты-Мансийский автономный округ</td>\n",
       "      <td>Киви Банк</td>\n",
       "      <td>1</td>\n",
       "    </tr>\n",
       "    <tr>\n",
       "      <th>5</th>\n",
       "      <td>UNKNOWN</td>\n",
       "      <td>Сбербанк России</td>\n",
       "      <td>1</td>\n",
       "    </tr>\n",
       "    <tr>\n",
       "      <th>6</th>\n",
       "      <td>UNKNOWN</td>\n",
       "      <td>Авангард</td>\n",
       "      <td>2</td>\n",
       "    </tr>\n",
       "    <tr>\n",
       "      <th>7</th>\n",
       "      <td>UNKNOWN</td>\n",
       "      <td>Авангард</td>\n",
       "      <td>1</td>\n",
       "    </tr>\n",
       "    <tr>\n",
       "      <th>8</th>\n",
       "      <td>UNKNOWN</td>\n",
       "      <td>Альфа-Банк</td>\n",
       "      <td>1</td>\n",
       "    </tr>\n",
       "    <tr>\n",
       "      <th>9</th>\n",
       "      <td>UNKNOWN</td>\n",
       "      <td>Ханты-Мансийский банк Открытие</td>\n",
       "      <td>1</td>\n",
       "    </tr>\n",
       "    <tr>\n",
       "      <th>10</th>\n",
       "      <td>047169000 или 5939</td>\n",
       "      <td>Сбербанк России</td>\n",
       "      <td>1</td>\n",
       "    </tr>\n",
       "    <tr>\n",
       "      <th>11</th>\n",
       "      <td>1-е Новоспасское</td>\n",
       "      <td>Уралсиб</td>\n",
       "      <td>1</td>\n",
       "    </tr>\n",
       "    <tr>\n",
       "      <th>12</th>\n",
       "      <td>UNKNOWN</td>\n",
       "      <td>Русфинанс Банк</td>\n",
       "      <td>1</td>\n",
       "    </tr>\n",
       "    <tr>\n",
       "      <th>13</th>\n",
       "      <td>UNKNOWN</td>\n",
       "      <td>Сбербанк России</td>\n",
       "      <td>1</td>\n",
       "    </tr>\n",
       "    <tr>\n",
       "      <th>14</th>\n",
       "      <td>UNKNOWN</td>\n",
       "      <td>Связной Банк</td>\n",
       "      <td>1</td>\n",
       "    </tr>\n",
       "  </tbody>\n",
       "</table>\n",
       "</div>"
      ],
      "text/plain": [
       "                                   city                       bank_name  \\\n",
       "0                           Красногорск          Транснациональный Банк   \n",
       "1                                Москва       Национальный Банк «Траст»   \n",
       "2                                Москва                  Райффайзенбанк   \n",
       "3                                Россия                   Кредит-Москва   \n",
       "4     Ханты-Мансийский автономный округ                       Киви Банк   \n",
       "5                               UNKNOWN                 Сбербанк России   \n",
       "6                               UNKNOWN                        Авангард   \n",
       "7                               UNKNOWN                        Авангард   \n",
       "8                               UNKNOWN                      Альфа-Банк   \n",
       "9                               UNKNOWN  Ханты-Мансийский банк Открытие   \n",
       "10                   047169000 или 5939                 Сбербанк России   \n",
       "11                     1-е Новоспасское                         Уралсиб   \n",
       "12                              UNKNOWN                  Русфинанс Банк   \n",
       "13                              UNKNOWN                 Сбербанк России   \n",
       "14                              UNKNOWN                    Связной Банк   \n",
       "\n",
       "    responce_count  \n",
       "0                1  \n",
       "1                1  \n",
       "2                1  \n",
       "3                1  \n",
       "4                1  \n",
       "5                1  \n",
       "6                2  \n",
       "7                1  \n",
       "8                1  \n",
       "9                1  \n",
       "10               1  \n",
       "11               1  \n",
       "12               1  \n",
       "13               1  \n",
       "14               1  "
      ]
     },
     "execution_count": 18,
     "metadata": {},
     "output_type": "execute_result"
    }
   ],
   "source": [
    "df_cities.head(15)"
   ]
  },
  {
   "cell_type": "code",
   "execution_count": 19,
   "id": "ff4c5272",
   "metadata": {},
   "outputs": [
    {
     "data": {
      "text/html": [
       "<div>\n",
       "<style scoped>\n",
       "    .dataframe tbody tr th:only-of-type {\n",
       "        vertical-align: middle;\n",
       "    }\n",
       "\n",
       "    .dataframe tbody tr th {\n",
       "        vertical-align: top;\n",
       "    }\n",
       "\n",
       "    .dataframe thead th {\n",
       "        text-align: right;\n",
       "    }\n",
       "</style>\n",
       "<table border=\"1\" class=\"dataframe\">\n",
       "  <thead>\n",
       "    <tr style=\"text-align: right;\">\n",
       "      <th></th>\n",
       "      <th>city</th>\n",
       "      <th>bank_name</th>\n",
       "      <th>responce_count</th>\n",
       "    </tr>\n",
       "  </thead>\n",
       "  <tbody>\n",
       "    <tr>\n",
       "      <th>0</th>\n",
       "      <td>Железнодорожный</td>\n",
       "      <td>Соцгорбанк</td>\n",
       "      <td>1</td>\n",
       "    </tr>\n",
       "    <tr>\n",
       "      <th>1</th>\n",
       "      <td>Азов</td>\n",
       "      <td>Сбербанк России</td>\n",
       "      <td>1</td>\n",
       "    </tr>\n",
       "    <tr>\n",
       "      <th>2</th>\n",
       "      <td>Алексеевка Белгородская область</td>\n",
       "      <td>Сбербанк России</td>\n",
       "      <td>1</td>\n",
       "    </tr>\n",
       "    <tr>\n",
       "      <th>3</th>\n",
       "      <td>Амурск</td>\n",
       "      <td>Хоум Кредит Банк</td>\n",
       "      <td>1</td>\n",
       "    </tr>\n",
       "    <tr>\n",
       "      <th>4</th>\n",
       "      <td>Ахтубинск, Астраханская обл.</td>\n",
       "      <td>Сбербанк России</td>\n",
       "      <td>1</td>\n",
       "    </tr>\n",
       "  </tbody>\n",
       "</table>\n",
       "</div>"
      ],
      "text/plain": [
       "                                city         bank_name  responce_count\n",
       "0                    Железнодорожный        Соцгорбанк               1\n",
       "1                               Азов   Сбербанк России               1\n",
       "2    Алексеевка Белгородская область   Сбербанк России               1\n",
       "3                             Амурск  Хоум Кредит Банк               1\n",
       "4       Ахтубинск, Астраханская обл.   Сбербанк России               1"
      ]
     },
     "execution_count": 19,
     "metadata": {},
     "output_type": "execute_result"
    }
   ],
   "source": [
    "# сгруппирую, чтобы сложить дубликаты строк\n",
    "df_cities = df_cities.groupby(['city', 'bank_name']).sum().reset_index()\n",
    "df_cities.head()"
   ]
  },
  {
   "cell_type": "code",
   "execution_count": 20,
   "id": "603d1148",
   "metadata": {},
   "outputs": [
    {
     "data": {
      "text/plain": [
       "5682"
      ]
     },
     "execution_count": 20,
     "metadata": {},
     "output_type": "execute_result"
    }
   ],
   "source": [
    "len(df_cities.city.unique())"
   ]
  },
  {
   "cell_type": "code",
   "execution_count": 21,
   "id": "3c853ec2",
   "metadata": {},
   "outputs": [
    {
     "name": "stdout",
     "output_type": "stream",
     "text": [
      "Requirement already satisfied: transliterate in c:\\users\\polina.desktop-ugboplj\\anaconda3\\lib\\site-packages (1.10.2)\n",
      "Requirement already satisfied: six>=1.1.0 in c:\\users\\polina.desktop-ugboplj\\anaconda3\\lib\\site-packages (from transliterate) (1.15.0)\n"
     ]
    }
   ],
   "source": [
    "! pip install transliterate"
   ]
  },
  {
   "cell_type": "code",
   "execution_count": 5,
   "id": "6bca4130",
   "metadata": {},
   "outputs": [],
   "source": [
    "from transliterate import translit"
   ]
  },
  {
   "cell_type": "markdown",
   "id": "7daab954",
   "metadata": {},
   "source": [
    "Переведу названия, написанные транслитом на латинице, на русский "
   ]
  },
  {
   "cell_type": "code",
   "execution_count": 23,
   "id": "8858710d",
   "metadata": {},
   "outputs": [],
   "source": [
    "def translit_to_ru(row):\n",
    "    return translit(row, 'ru')\n",
    "        "
   ]
  },
  {
   "cell_type": "code",
   "execution_count": 24,
   "id": "e203e988",
   "metadata": {},
   "outputs": [],
   "source": [
    "df_cities['city'] = df_cities['city'].apply(translit_to_ru)"
   ]
  },
  {
   "cell_type": "code",
   "execution_count": 25,
   "id": "559ba68d",
   "metadata": {},
   "outputs": [
    {
     "data": {
      "text/plain": [
       "5639"
      ]
     },
     "execution_count": 25,
     "metadata": {},
     "output_type": "execute_result"
    }
   ],
   "source": [
    "len(df_cities.city.unique())"
   ]
  },
  {
   "cell_type": "code",
   "execution_count": 26,
   "id": "7d78ff6f",
   "metadata": {},
   "outputs": [
    {
     "data": {
      "text/plain": [
       "['   Железнодорожный',\n",
       " '  Азов',\n",
       " '  Алексеевка Белгородская область',\n",
       " '  Амурск',\n",
       " '  Ахтубинск, Астраханская обл.',\n",
       " '  Ашхабад, Туркменистан',\n",
       " '  Барнаул',\n",
       " '  Березовский',\n",
       " '  Березовский Свердловская область',\n",
       " '  Богородицк Тульская облась',\n",
       " '  Бор Нижегородской области',\n",
       " '  Бор, Нижегородская область Нижний Новгород',\n",
       " '  Бород',\n",
       " '  Бугульма',\n",
       " '  Волгоград',\n",
       " '  Волгодонск',\n",
       " '  Волжск',\n",
       " '  Волжский Волгоградской обл.',\n",
       " '  Волжский Волгоградской области',\n",
       " '  Воркута',\n",
       " '  Воронеж',\n",
       " '  Всеволожск, Ленинградская обл.',\n",
       " '  Геленджик с.Дивноморское',\n",
       " '  Горно-Алтайск',\n",
       " '  Долгопрудный',\n",
       " '  Домодедово',\n",
       " '  Ейск',\n",
       " '  Екатеринбург',\n",
       " '  Железнодорожный',\n",
       " '  Жуковский',\n",
       " '  Жуковский, МО',\n",
       " '  Заполярный Мурманская область Мурманск',\n",
       " '  Зеленоград',\n",
       " '  Иванново',\n",
       " '  Иваново',\n",
       " '  Иркутск',\n",
       " '  Йошкар-Ола',\n",
       " '  Калачинск',\n",
       " '  Калининград',\n",
       " '  Калуга',\n",
       " '  Кашин, Тверская область',\n",
       " '  Кашира',\n",
       " '  Кингисепп',\n",
       " '  Киров',\n",
       " '  Киров, Кировская область',\n",
       " '  Кировск',\n",
       " '  Климовск',\n",
       " '  Ковров',\n",
       " '  Кодинск',\n",
       " '  Комсомольск на Амуре']"
      ]
     },
     "execution_count": 26,
     "metadata": {},
     "output_type": "execute_result"
    }
   ],
   "source": [
    "list(df_cities.city.unique())[:50]"
   ]
  },
  {
   "cell_type": "code",
   "execution_count": 27,
   "id": "85f23224",
   "metadata": {},
   "outputs": [
    {
     "data": {
      "text/html": [
       "<div>\n",
       "<style scoped>\n",
       "    .dataframe tbody tr th:only-of-type {\n",
       "        vertical-align: middle;\n",
       "    }\n",
       "\n",
       "    .dataframe tbody tr th {\n",
       "        vertical-align: top;\n",
       "    }\n",
       "\n",
       "    .dataframe thead th {\n",
       "        text-align: right;\n",
       "    }\n",
       "</style>\n",
       "<table border=\"1\" class=\"dataframe\">\n",
       "  <thead>\n",
       "    <tr style=\"text-align: right;\">\n",
       "      <th></th>\n",
       "      <th>city</th>\n",
       "      <th>bank_name</th>\n",
       "      <th>responce_count</th>\n",
       "    </tr>\n",
       "  </thead>\n",
       "  <tbody>\n",
       "    <tr>\n",
       "      <th>0</th>\n",
       "      <td>Железнодорожный</td>\n",
       "      <td>Соцгорбанк</td>\n",
       "      <td>1</td>\n",
       "    </tr>\n",
       "    <tr>\n",
       "      <th>1</th>\n",
       "      <td>Азов</td>\n",
       "      <td>Сбербанк России</td>\n",
       "      <td>1</td>\n",
       "    </tr>\n",
       "    <tr>\n",
       "      <th>2</th>\n",
       "      <td>Алексеевка Белгородская область</td>\n",
       "      <td>Сбербанк России</td>\n",
       "      <td>1</td>\n",
       "    </tr>\n",
       "    <tr>\n",
       "      <th>3</th>\n",
       "      <td>Амурск</td>\n",
       "      <td>Хоум Кредит Банк</td>\n",
       "      <td>1</td>\n",
       "    </tr>\n",
       "    <tr>\n",
       "      <th>4</th>\n",
       "      <td>Ахтубинск, Астраханская обл.</td>\n",
       "      <td>Сбербанк России</td>\n",
       "      <td>1</td>\n",
       "    </tr>\n",
       "  </tbody>\n",
       "</table>\n",
       "</div>"
      ],
      "text/plain": [
       "                                city         bank_name  responce_count\n",
       "0                    Железнодорожный        Соцгорбанк               1\n",
       "1                               Азов   Сбербанк России               1\n",
       "2    Алексеевка Белгородская область   Сбербанк России               1\n",
       "3                             Амурск  Хоум Кредит Банк               1\n",
       "4       Ахтубинск, Астраханская обл.   Сбербанк России               1"
      ]
     },
     "execution_count": 27,
     "metadata": {},
     "output_type": "execute_result"
    }
   ],
   "source": [
    "# сгруппирую, чтобы сложить дубликаты строк\n",
    "df_cities = df_cities.groupby(['city', 'bank_name']).sum().reset_index()\n",
    "df_cities.head()"
   ]
  },
  {
   "cell_type": "markdown",
   "id": "37abc1c5",
   "metadata": {},
   "source": [
    "Приведем все названия к lower-кейсу. Возможно, это тоже схлопнет часть названий городов "
   ]
  },
  {
   "cell_type": "code",
   "execution_count": 28,
   "id": "b82281e4",
   "metadata": {},
   "outputs": [
    {
     "data": {
      "text/html": [
       "<div>\n",
       "<style scoped>\n",
       "    .dataframe tbody tr th:only-of-type {\n",
       "        vertical-align: middle;\n",
       "    }\n",
       "\n",
       "    .dataframe tbody tr th {\n",
       "        vertical-align: top;\n",
       "    }\n",
       "\n",
       "    .dataframe thead th {\n",
       "        text-align: right;\n",
       "    }\n",
       "</style>\n",
       "<table border=\"1\" class=\"dataframe\">\n",
       "  <thead>\n",
       "    <tr style=\"text-align: right;\">\n",
       "      <th></th>\n",
       "      <th>city</th>\n",
       "      <th>bank_name</th>\n",
       "      <th>responce_count</th>\n",
       "    </tr>\n",
       "  </thead>\n",
       "  <tbody>\n",
       "    <tr>\n",
       "      <th>0</th>\n",
       "      <td>железнодорожный</td>\n",
       "      <td>Соцгорбанк</td>\n",
       "      <td>1</td>\n",
       "    </tr>\n",
       "    <tr>\n",
       "      <th>1</th>\n",
       "      <td>азов</td>\n",
       "      <td>Сбербанк России</td>\n",
       "      <td>1</td>\n",
       "    </tr>\n",
       "    <tr>\n",
       "      <th>2</th>\n",
       "      <td>алексеевка белгородская область</td>\n",
       "      <td>Сбербанк России</td>\n",
       "      <td>1</td>\n",
       "    </tr>\n",
       "    <tr>\n",
       "      <th>3</th>\n",
       "      <td>амурск</td>\n",
       "      <td>Хоум Кредит Банк</td>\n",
       "      <td>1</td>\n",
       "    </tr>\n",
       "    <tr>\n",
       "      <th>4</th>\n",
       "      <td>ахтубинск, астраханская обл.</td>\n",
       "      <td>Сбербанк России</td>\n",
       "      <td>1</td>\n",
       "    </tr>\n",
       "  </tbody>\n",
       "</table>\n",
       "</div>"
      ],
      "text/plain": [
       "                              city         bank_name  responce_count\n",
       "0                  железнодорожный        Соцгорбанк               1\n",
       "1                             азов   Сбербанк России               1\n",
       "2  алексеевка белгородская область   Сбербанк России               1\n",
       "3                           амурск  Хоум Кредит Банк               1\n",
       "4     ахтубинск, астраханская обл.   Сбербанк России               1"
      ]
     },
     "execution_count": 28,
     "metadata": {},
     "output_type": "execute_result"
    }
   ],
   "source": [
    "df_cities['city'] = df_cities['city'].str.lower()\n",
    "df_cities['city'] = df_cities['city'].str.strip()\n",
    "df_cities.head()"
   ]
  },
  {
   "cell_type": "code",
   "execution_count": 29,
   "id": "abd70fdf",
   "metadata": {},
   "outputs": [
    {
     "data": {
      "text/html": [
       "<div>\n",
       "<style scoped>\n",
       "    .dataframe tbody tr th:only-of-type {\n",
       "        vertical-align: middle;\n",
       "    }\n",
       "\n",
       "    .dataframe tbody tr th {\n",
       "        vertical-align: top;\n",
       "    }\n",
       "\n",
       "    .dataframe thead th {\n",
       "        text-align: right;\n",
       "    }\n",
       "</style>\n",
       "<table border=\"1\" class=\"dataframe\">\n",
       "  <thead>\n",
       "    <tr style=\"text-align: right;\">\n",
       "      <th></th>\n",
       "      <th>city</th>\n",
       "      <th>bank_name</th>\n",
       "      <th>responce_count</th>\n",
       "    </tr>\n",
       "  </thead>\n",
       "  <tbody>\n",
       "    <tr>\n",
       "      <th>0</th>\n",
       "      <td>047169000 или 5939</td>\n",
       "      <td>Сбербанк России</td>\n",
       "      <td>1</td>\n",
       "    </tr>\n",
       "    <tr>\n",
       "      <th>1</th>\n",
       "      <td>1-е новоспасское</td>\n",
       "      <td>Уралсиб</td>\n",
       "      <td>1</td>\n",
       "    </tr>\n",
       "    <tr>\n",
       "      <th>2</th>\n",
       "      <td>140051, мо, люберецкий район, красково</td>\n",
       "      <td>Сбербанк России</td>\n",
       "      <td>1</td>\n",
       "    </tr>\n",
       "    <tr>\n",
       "      <th>3</th>\n",
       "      <td>140205,победа стреет,16,39,циты оф восцресенск...</td>\n",
       "      <td>ОТП Банк</td>\n",
       "      <td>1</td>\n",
       "    </tr>\n",
       "    <tr>\n",
       "      <th>4</th>\n",
       "      <td>143420 московская область, красногорский район...</td>\n",
       "      <td>Банк Москвы</td>\n",
       "      <td>1</td>\n",
       "    </tr>\n",
       "  </tbody>\n",
       "</table>\n",
       "</div>"
      ],
      "text/plain": [
       "                                                city        bank_name  \\\n",
       "0                                 047169000 или 5939  Сбербанк России   \n",
       "1                                   1-е новоспасское          Уралсиб   \n",
       "2             140051, мо, люберецкий район, красково  Сбербанк России   \n",
       "3  140205,победа стреет,16,39,циты оф восцресенск...         ОТП Банк   \n",
       "4  143420 московская область, красногорский район...      Банк Москвы   \n",
       "\n",
       "   responce_count  \n",
       "0               1  \n",
       "1               1  \n",
       "2               1  \n",
       "3               1  \n",
       "4               1  "
      ]
     },
     "execution_count": 29,
     "metadata": {},
     "output_type": "execute_result"
    }
   ],
   "source": [
    "# сгруппирую, чтобы сложить дубликаты строк\n",
    "df_cities = df_cities.groupby(['city', 'bank_name']).sum().reset_index()\n",
    "df_cities.head()"
   ]
  },
  {
   "cell_type": "code",
   "execution_count": 30,
   "id": "e79e1542",
   "metadata": {},
   "outputs": [
    {
     "data": {
      "text/plain": [
       "4959"
      ]
     },
     "execution_count": 30,
     "metadata": {},
     "output_type": "execute_result"
    }
   ],
   "source": [
    "len(df_cities.city.unique())"
   ]
  },
  {
   "cell_type": "code",
   "execution_count": 31,
   "id": "e6eac28d",
   "metadata": {},
   "outputs": [
    {
     "data": {
      "text/plain": [
       "['047169000 или 5939',\n",
       " '1-е новоспасское',\n",
       " '140051, мо, люберецкий район, красково',\n",
       " '140205,победа стреет,16,39,циты оф восцресенск,мосцоw регион',\n",
       " '143420 московская область, красногорский район, посёлок дачного хозяйства архангельское, д.4,кв.2',\n",
       " '1ёсаратов',\n",
       " '2-я гавриловка',\n",
       " '21000, чина, йиангсу провинце, нанйинг',\n",
       " '3 года с ткс',\n",
       " '5939 можно и так 047169000',\n",
       " '5939 он же 047169000',\n",
       " '636930, томская обл., первомайский р-н, с. первомайское, ул. советская, 11-4',\n",
       " ':ерйдцрбq москва',\n",
       " ':жуковка',\n",
       " '? видимо москва или новосибирск',\n",
       " '\\\\бобруйск :',\n",
       " 'wатербуры',\n",
       " 'wиннипег, цанада',\n",
       " 'а-вск',\n",
       " 'абага амгинский р-н',\n",
       " 'абаза',\n",
       " 'абакан',\n",
       " 'абакан абакан',\n",
       " 'абакан москва',\n",
       " 'абакан республика хакасия',\n",
       " 'абатское',\n",
       " 'абашево',\n",
       " 'абдулино',\n",
       " 'абзелиловский р-н, с.аскарово',\n",
       " 'абинск',\n",
       " 'абинск краснодарский край',\n",
       " 'абинский район поселок ахтырский',\n",
       " 'абрамово',\n",
       " 'аван хабаровский край вяземсий район хабаровск',\n",
       " 'авсюнино',\n",
       " 'агалатово',\n",
       " 'агаповка',\n",
       " 'агвали',\n",
       " 'агидель',\n",
       " 'агинское',\n",
       " 'агинское забайкальский край',\n",
       " 'агроном',\n",
       " 'агрыз',\n",
       " 'адлер',\n",
       " 'адлер санкт-петербург',\n",
       " 'адлер сочи',\n",
       " 'азнакаево',\n",
       " 'азнакаевский район п.т. актюбинский',\n",
       " 'азов',\n",
       " 'азов ростовская обл.',\n",
       " 'азов, ростовская область',\n",
       " 'айхал',\n",
       " 'академгородок',\n",
       " 'аксай',\n",
       " 'аксай краснодар',\n",
       " 'аксай ро',\n",
       " 'аксай ростовская область',\n",
       " 'аксай, ростовская обл.',\n",
       " 'аксаково',\n",
       " 'аксеново',\n",
       " 'актау',\n",
       " 'акъяр хайбуллинский р-н',\n",
       " 'алабота',\n",
       " 'алапаевск',\n",
       " 'алатырь',\n",
       " 'алдан',\n",
       " 'алейск',\n",
       " 'александро-невский',\n",
       " 'александров',\n",
       " 'александров владимирская область владимир',\n",
       " 'александров владимирской области',\n",
       " 'александров, владимирская область',\n",
       " 'александровск-сахалинский',\n",
       " 'александровское отд1861 ставропольского края сб рф',\n",
       " 'алексеевка',\n",
       " 'алексеевка белгородская область',\n",
       " 'алексеевка,белгородская область',\n",
       " 'алексеевская',\n",
       " 'алексеевское',\n",
       " 'алексин',\n",
       " 'алексин тульская обл.',\n",
       " 'алексин тульская область',\n",
       " 'алматы москва',\n",
       " 'алтайский край',\n",
       " 'алтайский край с. зимино',\n",
       " 'алтайский край, ключевской район, село северка, ул.гагарина дом5.',\n",
       " 'алтайское',\n",
       " 'алушта',\n",
       " 'альметьевск',\n",
       " 'альметьевск республика татарстан',\n",
       " 'альметьевск рт',\n",
       " 'альмтеьевск',\n",
       " 'альфасити',\n",
       " 'амурск',\n",
       " 'амурск другие',\n",
       " 'амурск хабаровский край',\n",
       " 'амурская область архара',\n",
       " 'анадырь',\n",
       " 'анапа',\n",
       " 'анапа краснодар']"
      ]
     },
     "execution_count": 31,
     "metadata": {},
     "output_type": "execute_result"
    }
   ],
   "source": [
    "list(df_cities.city.unique())[:100]"
   ]
  },
  {
   "cell_type": "markdown",
   "id": "38b31083",
   "metadata": {},
   "source": [
    "Транслитерация почему-то не заменила букву w. Заменю вручную w на в"
   ]
  },
  {
   "cell_type": "code",
   "execution_count": 32,
   "id": "e17893c9",
   "metadata": {},
   "outputs": [],
   "source": [
    "df_cities['city'] = df_cities['city'].str.replace('w', 'в', regex = False)"
   ]
  },
  {
   "cell_type": "code",
   "execution_count": 6,
   "id": "97c38a32",
   "metadata": {},
   "outputs": [],
   "source": [
    "from nltk import word_tokenize"
   ]
  },
  {
   "cell_type": "markdown",
   "id": "0d90317e",
   "metadata": {},
   "source": [
    "Для простоты предположим, что первое слово из всего адреса и есть название города. Это справедливо не для всего датасета, но, похоже, надо обучать отдельно модель по названиям городов, чтобы корректно извлечь их с учетом всех возможных форм написания и ошибок"
   ]
  },
  {
   "cell_type": "code",
   "execution_count": 34,
   "id": "b79099d2",
   "metadata": {},
   "outputs": [],
   "source": [
    "df_cities['city_token'] = df_cities['city'].apply(word_tokenize)"
   ]
  },
  {
   "cell_type": "code",
   "execution_count": 35,
   "id": "ec3004c1",
   "metadata": {},
   "outputs": [
    {
     "data": {
      "text/html": [
       "<div>\n",
       "<style scoped>\n",
       "    .dataframe tbody tr th:only-of-type {\n",
       "        vertical-align: middle;\n",
       "    }\n",
       "\n",
       "    .dataframe tbody tr th {\n",
       "        vertical-align: top;\n",
       "    }\n",
       "\n",
       "    .dataframe thead th {\n",
       "        text-align: right;\n",
       "    }\n",
       "</style>\n",
       "<table border=\"1\" class=\"dataframe\">\n",
       "  <thead>\n",
       "    <tr style=\"text-align: right;\">\n",
       "      <th></th>\n",
       "      <th>city</th>\n",
       "      <th>bank_name</th>\n",
       "      <th>responce_count</th>\n",
       "      <th>city_token</th>\n",
       "    </tr>\n",
       "  </thead>\n",
       "  <tbody>\n",
       "    <tr>\n",
       "      <th>0</th>\n",
       "      <td>047169000 или 5939</td>\n",
       "      <td>Сбербанк России</td>\n",
       "      <td>1</td>\n",
       "      <td>[047169000, или, 5939]</td>\n",
       "    </tr>\n",
       "    <tr>\n",
       "      <th>1</th>\n",
       "      <td>1-е новоспасское</td>\n",
       "      <td>Уралсиб</td>\n",
       "      <td>1</td>\n",
       "      <td>[1-е, новоспасское]</td>\n",
       "    </tr>\n",
       "    <tr>\n",
       "      <th>2</th>\n",
       "      <td>140051, мо, люберецкий район, красково</td>\n",
       "      <td>Сбербанк России</td>\n",
       "      <td>1</td>\n",
       "      <td>[140051, ,, мо, ,, люберецкий, район, ,, краск...</td>\n",
       "    </tr>\n",
       "    <tr>\n",
       "      <th>3</th>\n",
       "      <td>140205,победа стреет,16,39,циты оф восцресенск...</td>\n",
       "      <td>ОТП Банк</td>\n",
       "      <td>1</td>\n",
       "      <td>[140205, ,, победа, стреет,16,39, ,, циты, оф,...</td>\n",
       "    </tr>\n",
       "    <tr>\n",
       "      <th>4</th>\n",
       "      <td>143420 московская область, красногорский район...</td>\n",
       "      <td>Банк Москвы</td>\n",
       "      <td>1</td>\n",
       "      <td>[143420, московская, область, ,, красногорский...</td>\n",
       "    </tr>\n",
       "  </tbody>\n",
       "</table>\n",
       "</div>"
      ],
      "text/plain": [
       "                                                city        bank_name  \\\n",
       "0                                 047169000 или 5939  Сбербанк России   \n",
       "1                                   1-е новоспасское          Уралсиб   \n",
       "2             140051, мо, люберецкий район, красково  Сбербанк России   \n",
       "3  140205,победа стреет,16,39,циты оф восцресенск...         ОТП Банк   \n",
       "4  143420 московская область, красногорский район...      Банк Москвы   \n",
       "\n",
       "   responce_count                                         city_token  \n",
       "0               1                             [047169000, или, 5939]  \n",
       "1               1                                [1-е, новоспасское]  \n",
       "2               1  [140051, ,, мо, ,, люберецкий, район, ,, краск...  \n",
       "3               1  [140205, ,, победа, стреет,16,39, ,, циты, оф,...  \n",
       "4               1  [143420, московская, область, ,, красногорский...  "
      ]
     },
     "execution_count": 35,
     "metadata": {},
     "output_type": "execute_result"
    }
   ],
   "source": [
    "df_cities.head()"
   ]
  },
  {
   "cell_type": "code",
   "execution_count": 36,
   "id": "48ffab82",
   "metadata": {},
   "outputs": [],
   "source": [
    "df_cities['city'] = df_cities['city_token'].apply(lambda x: x[0])"
   ]
  },
  {
   "cell_type": "code",
   "execution_count": 37,
   "id": "216133e0",
   "metadata": {},
   "outputs": [
    {
     "data": {
      "text/html": [
       "<div>\n",
       "<style scoped>\n",
       "    .dataframe tbody tr th:only-of-type {\n",
       "        vertical-align: middle;\n",
       "    }\n",
       "\n",
       "    .dataframe tbody tr th {\n",
       "        vertical-align: top;\n",
       "    }\n",
       "\n",
       "    .dataframe thead th {\n",
       "        text-align: right;\n",
       "    }\n",
       "</style>\n",
       "<table border=\"1\" class=\"dataframe\">\n",
       "  <thead>\n",
       "    <tr style=\"text-align: right;\">\n",
       "      <th></th>\n",
       "      <th>city</th>\n",
       "      <th>bank_name</th>\n",
       "      <th>responce_count</th>\n",
       "      <th>city_token</th>\n",
       "    </tr>\n",
       "  </thead>\n",
       "  <tbody>\n",
       "    <tr>\n",
       "      <th>0</th>\n",
       "      <td>047169000</td>\n",
       "      <td>Сбербанк России</td>\n",
       "      <td>1</td>\n",
       "      <td>[047169000, или, 5939]</td>\n",
       "    </tr>\n",
       "    <tr>\n",
       "      <th>1</th>\n",
       "      <td>1-е</td>\n",
       "      <td>Уралсиб</td>\n",
       "      <td>1</td>\n",
       "      <td>[1-е, новоспасское]</td>\n",
       "    </tr>\n",
       "    <tr>\n",
       "      <th>2</th>\n",
       "      <td>140051</td>\n",
       "      <td>Сбербанк России</td>\n",
       "      <td>1</td>\n",
       "      <td>[140051, ,, мо, ,, люберецкий, район, ,, краск...</td>\n",
       "    </tr>\n",
       "    <tr>\n",
       "      <th>3</th>\n",
       "      <td>140205</td>\n",
       "      <td>ОТП Банк</td>\n",
       "      <td>1</td>\n",
       "      <td>[140205, ,, победа, стреет,16,39, ,, циты, оф,...</td>\n",
       "    </tr>\n",
       "    <tr>\n",
       "      <th>4</th>\n",
       "      <td>143420</td>\n",
       "      <td>Банк Москвы</td>\n",
       "      <td>1</td>\n",
       "      <td>[143420, московская, область, ,, красногорский...</td>\n",
       "    </tr>\n",
       "  </tbody>\n",
       "</table>\n",
       "</div>"
      ],
      "text/plain": [
       "        city        bank_name  responce_count  \\\n",
       "0  047169000  Сбербанк России               1   \n",
       "1        1-е          Уралсиб               1   \n",
       "2     140051  Сбербанк России               1   \n",
       "3     140205         ОТП Банк               1   \n",
       "4     143420      Банк Москвы               1   \n",
       "\n",
       "                                          city_token  \n",
       "0                             [047169000, или, 5939]  \n",
       "1                                [1-е, новоспасское]  \n",
       "2  [140051, ,, мо, ,, люберецкий, район, ,, краск...  \n",
       "3  [140205, ,, победа, стреет,16,39, ,, циты, оф,...  \n",
       "4  [143420, московская, область, ,, красногорский...  "
      ]
     },
     "execution_count": 37,
     "metadata": {},
     "output_type": "execute_result"
    }
   ],
   "source": [
    "df_cities.head()"
   ]
  },
  {
   "cell_type": "code",
   "execution_count": 38,
   "id": "91a5e45e",
   "metadata": {},
   "outputs": [
    {
     "data": {
      "text/html": [
       "<div>\n",
       "<style scoped>\n",
       "    .dataframe tbody tr th:only-of-type {\n",
       "        vertical-align: middle;\n",
       "    }\n",
       "\n",
       "    .dataframe tbody tr th {\n",
       "        vertical-align: top;\n",
       "    }\n",
       "\n",
       "    .dataframe thead th {\n",
       "        text-align: right;\n",
       "    }\n",
       "</style>\n",
       "<table border=\"1\" class=\"dataframe\">\n",
       "  <thead>\n",
       "    <tr style=\"text-align: right;\">\n",
       "      <th></th>\n",
       "      <th>city</th>\n",
       "      <th>bank_name</th>\n",
       "      <th>responce_count</th>\n",
       "    </tr>\n",
       "  </thead>\n",
       "  <tbody>\n",
       "    <tr>\n",
       "      <th>0</th>\n",
       "      <td>047169000</td>\n",
       "      <td>Сбербанк России</td>\n",
       "      <td>1</td>\n",
       "    </tr>\n",
       "    <tr>\n",
       "      <th>1</th>\n",
       "      <td>1-е</td>\n",
       "      <td>Уралсиб</td>\n",
       "      <td>1</td>\n",
       "    </tr>\n",
       "    <tr>\n",
       "      <th>2</th>\n",
       "      <td>140051</td>\n",
       "      <td>Сбербанк России</td>\n",
       "      <td>1</td>\n",
       "    </tr>\n",
       "    <tr>\n",
       "      <th>3</th>\n",
       "      <td>140205</td>\n",
       "      <td>ОТП Банк</td>\n",
       "      <td>1</td>\n",
       "    </tr>\n",
       "    <tr>\n",
       "      <th>4</th>\n",
       "      <td>143420</td>\n",
       "      <td>Банк Москвы</td>\n",
       "      <td>1</td>\n",
       "    </tr>\n",
       "  </tbody>\n",
       "</table>\n",
       "</div>"
      ],
      "text/plain": [
       "        city        bank_name  responce_count\n",
       "0  047169000  Сбербанк России               1\n",
       "1        1-е          Уралсиб               1\n",
       "2     140051  Сбербанк России               1\n",
       "3     140205         ОТП Банк               1\n",
       "4     143420      Банк Москвы               1"
      ]
     },
     "execution_count": 38,
     "metadata": {},
     "output_type": "execute_result"
    }
   ],
   "source": [
    "# сгруппирую, чтобы сложить дубликаты строк\n",
    "df_cities = df_cities.groupby(['city', 'bank_name']).sum().reset_index()\n",
    "df_cities.head()"
   ]
  },
  {
   "cell_type": "code",
   "execution_count": 39,
   "id": "64f7cd72",
   "metadata": {},
   "outputs": [
    {
     "data": {
      "text/plain": [
       "2506"
      ]
     },
     "execution_count": 39,
     "metadata": {},
     "output_type": "execute_result"
    }
   ],
   "source": [
    "len(df_cities.city.unique())"
   ]
  },
  {
   "cell_type": "code",
   "execution_count": 40,
   "id": "ac97e8e1",
   "metadata": {},
   "outputs": [],
   "source": [
    "reg = r'^[^a-zA-Zа-яА-Я]+$'\n",
    "df_cities['city'] = df_cities['city'].str.replace(reg, 'UNKNOWN', regex=True)"
   ]
  },
  {
   "cell_type": "code",
   "execution_count": 41,
   "id": "f04577a1",
   "metadata": {},
   "outputs": [
    {
     "data": {
      "text/html": [
       "<div>\n",
       "<style scoped>\n",
       "    .dataframe tbody tr th:only-of-type {\n",
       "        vertical-align: middle;\n",
       "    }\n",
       "\n",
       "    .dataframe tbody tr th {\n",
       "        vertical-align: top;\n",
       "    }\n",
       "\n",
       "    .dataframe thead th {\n",
       "        text-align: right;\n",
       "    }\n",
       "</style>\n",
       "<table border=\"1\" class=\"dataframe\">\n",
       "  <thead>\n",
       "    <tr style=\"text-align: right;\">\n",
       "      <th></th>\n",
       "      <th>city</th>\n",
       "      <th>bank_name</th>\n",
       "      <th>responce_count</th>\n",
       "    </tr>\n",
       "  </thead>\n",
       "  <tbody>\n",
       "    <tr>\n",
       "      <th>0</th>\n",
       "      <td>1-е</td>\n",
       "      <td>Уралсиб</td>\n",
       "      <td>1</td>\n",
       "    </tr>\n",
       "    <tr>\n",
       "      <th>1</th>\n",
       "      <td>1ёсаратов</td>\n",
       "      <td>Ренессанс Кредит</td>\n",
       "      <td>1</td>\n",
       "    </tr>\n",
       "    <tr>\n",
       "      <th>2</th>\n",
       "      <td>2-я</td>\n",
       "      <td>Сбербанк России</td>\n",
       "      <td>1</td>\n",
       "    </tr>\n",
       "    <tr>\n",
       "      <th>3</th>\n",
       "      <td>UNKNOWN</td>\n",
       "      <td>Альфа-Банк</td>\n",
       "      <td>1</td>\n",
       "    </tr>\n",
       "    <tr>\n",
       "      <th>4</th>\n",
       "      <td>UNKNOWN</td>\n",
       "      <td>Банк Москвы</td>\n",
       "      <td>1</td>\n",
       "    </tr>\n",
       "  </tbody>\n",
       "</table>\n",
       "</div>"
      ],
      "text/plain": [
       "        city         bank_name  responce_count\n",
       "0        1-е           Уралсиб               1\n",
       "1  1ёсаратов  Ренессанс Кредит               1\n",
       "2        2-я   Сбербанк России               1\n",
       "3    UNKNOWN        Альфа-Банк               1\n",
       "4    UNKNOWN       Банк Москвы               1"
      ]
     },
     "execution_count": 41,
     "metadata": {},
     "output_type": "execute_result"
    }
   ],
   "source": [
    "# сгруппирую, чтобы сложить дубликаты строк\n",
    "df_cities = df_cities.groupby(['city', 'bank_name']).sum().reset_index()\n",
    "df_cities.head()"
   ]
  },
  {
   "cell_type": "markdown",
   "id": "8beb1fbe",
   "metadata": {},
   "source": [
    "Как промежуточный итог: не все ошибки убраны из датасета и не все названия городов извлечены корректно. Однако количество уникальных названий городов сократилось с 5823 до 2506 элементов, что даст более адекватную картину распределения количества отзывов по городам.\n",
    "\n",
    "Собственно, теперь выведем по заданию, какое количество отзывов относится к различным городам и различным банкам. "
   ]
  },
  {
   "cell_type": "code",
   "execution_count": 42,
   "id": "cb84fecf",
   "metadata": {},
   "outputs": [
    {
     "data": {
      "text/html": [
       "<div>\n",
       "<style scoped>\n",
       "    .dataframe tbody tr th:only-of-type {\n",
       "        vertical-align: middle;\n",
       "    }\n",
       "\n",
       "    .dataframe tbody tr th {\n",
       "        vertical-align: top;\n",
       "    }\n",
       "\n",
       "    .dataframe thead th {\n",
       "        text-align: right;\n",
       "    }\n",
       "</style>\n",
       "<table border=\"1\" class=\"dataframe\">\n",
       "  <thead>\n",
       "    <tr style=\"text-align: right;\">\n",
       "      <th></th>\n",
       "      <th>city</th>\n",
       "      <th>responce_count</th>\n",
       "    </tr>\n",
       "  </thead>\n",
       "  <tbody>\n",
       "    <tr>\n",
       "      <th>1156</th>\n",
       "      <td>москва</td>\n",
       "      <td>57178</td>\n",
       "    </tr>\n",
       "    <tr>\n",
       "      <th>1872</th>\n",
       "      <td>санкт-петербург</td>\n",
       "      <td>14759</td>\n",
       "    </tr>\n",
       "    <tr>\n",
       "      <th>1384</th>\n",
       "      <td>новосибирск</td>\n",
       "      <td>2394</td>\n",
       "    </tr>\n",
       "    <tr>\n",
       "      <th>529</th>\n",
       "      <td>екатеринбург</td>\n",
       "      <td>2393</td>\n",
       "    </tr>\n",
       "    <tr>\n",
       "      <th>1318</th>\n",
       "      <td>нижний</td>\n",
       "      <td>2279</td>\n",
       "    </tr>\n",
       "  </tbody>\n",
       "</table>\n",
       "</div>"
      ],
      "text/plain": [
       "                 city  responce_count\n",
       "1156           москва           57178\n",
       "1872  санкт-петербург           14759\n",
       "1384      новосибирск            2394\n",
       "529      екатеринбург            2393\n",
       "1318           нижний            2279"
      ]
     },
     "execution_count": 42,
     "metadata": {},
     "output_type": "execute_result"
    }
   ],
   "source": [
    "df_cities_only = df_cities.groupby(['city']).sum().reset_index()\n",
    "df_cities_only = df_cities_only.sort_values('responce_count', ascending=False)\n",
    "df_cities_only.head()"
   ]
  },
  {
   "cell_type": "code",
   "execution_count": 43,
   "id": "7080dad7",
   "metadata": {},
   "outputs": [
    {
     "data": {
      "text/plain": [
       "<AxesSubplot:xlabel='city'>"
      ]
     },
     "execution_count": 43,
     "metadata": {},
     "output_type": "execute_result"
    },
    {
     "data": {
      "image/png": "[encoded data removed]",
      "text/plain": [
       "<Figure size 432x288 with 1 Axes>"
      ]
     },
     "metadata": {
      "needs_background": "light"
     },
     "output_type": "display_data"
    }
   ],
   "source": [
    "# выведем наиболее часто встречающиеся города\n",
    "df_cities_only.set_index('city').head(15).plot(kind='bar')"
   ]
  },
  {
   "cell_type": "code",
   "execution_count": 44,
   "id": "5aefcb30",
   "metadata": {},
   "outputs": [
    {
     "data": {
      "text/html": [
       "<div>\n",
       "<style scoped>\n",
       "    .dataframe tbody tr th:only-of-type {\n",
       "        vertical-align: middle;\n",
       "    }\n",
       "\n",
       "    .dataframe tbody tr th {\n",
       "        vertical-align: top;\n",
       "    }\n",
       "\n",
       "    .dataframe thead th {\n",
       "        text-align: right;\n",
       "    }\n",
       "</style>\n",
       "<table border=\"1\" class=\"dataframe\">\n",
       "  <thead>\n",
       "    <tr style=\"text-align: right;\">\n",
       "      <th></th>\n",
       "      <th>bank_name</th>\n",
       "      <th>responce_count</th>\n",
       "    </tr>\n",
       "  </thead>\n",
       "  <tbody>\n",
       "    <tr>\n",
       "      <th>449</th>\n",
       "      <td>Сбербанк России</td>\n",
       "      <td>25521</td>\n",
       "    </tr>\n",
       "    <tr>\n",
       "      <th>32</th>\n",
       "      <td>Альфа-Банк</td>\n",
       "      <td>9059</td>\n",
       "    </tr>\n",
       "    <tr>\n",
       "      <th>560</th>\n",
       "      <td>Хоум Кредит Банк</td>\n",
       "      <td>7337</td>\n",
       "    </tr>\n",
       "    <tr>\n",
       "      <th>98</th>\n",
       "      <td>ВТБ 24</td>\n",
       "      <td>7307</td>\n",
       "    </tr>\n",
       "    <tr>\n",
       "      <th>432</th>\n",
       "      <td>Русский Стандарт</td>\n",
       "      <td>7194</td>\n",
       "    </tr>\n",
       "  </tbody>\n",
       "</table>\n",
       "</div>"
      ],
      "text/plain": [
       "            bank_name  responce_count\n",
       "449   Сбербанк России           25521\n",
       "32         Альфа-Банк            9059\n",
       "560  Хоум Кредит Банк            7337\n",
       "98             ВТБ 24            7307\n",
       "432  Русский Стандарт            7194"
      ]
     },
     "execution_count": 44,
     "metadata": {},
     "output_type": "execute_result"
    }
   ],
   "source": [
    "df_banks_only = df_cities.groupby(['bank_name']).sum().reset_index()\n",
    "df_banks_only = df_banks_only.sort_values('responce_count', ascending=False)\n",
    "df_banks_only.head()"
   ]
  },
  {
   "cell_type": "code",
   "execution_count": 45,
   "id": "675f8943",
   "metadata": {},
   "outputs": [
    {
     "data": {
      "text/plain": [
       "<AxesSubplot:xlabel='bank_name'>"
      ]
     },
     "execution_count": 45,
     "metadata": {},
     "output_type": "execute_result"
    },
    {
     "data": {
      "image/png": "[encoded data removed]",
      "text/plain": [
       "<Figure size 432x288 with 1 Axes>"
      ]
     },
     "metadata": {
      "needs_background": "light"
     },
     "output_type": "display_data"
    }
   ],
   "source": [
    "df_banks_only.set_index('bank_name').head(15).plot(kind='bar')"
   ]
  },
  {
   "cell_type": "markdown",
   "id": "571e031c",
   "metadata": {},
   "source": [
    "**2. Постройте гистограмы длин слов в символах и в словах**"
   ]
  },
  {
   "cell_type": "markdown",
   "id": "afa438cb",
   "metadata": {},
   "source": [
    "Строить буду непосредственно на текстах отзывов"
   ]
  },
  {
   "cell_type": "code",
   "execution_count": 47,
   "id": "093238fa",
   "metadata": {},
   "outputs": [
    {
     "data": {
      "text/plain": [
       "'Добрый день! Я не являюсь клиентом банка и поручителем по кредитному договору, а также не являюсь каким-либо другим лицом, письменно  оформившим отношения с банком по поводу урегулирования чьей-либо  задолженности.  Начиная с марта 2015 года начали приходить бесконечные письма из ООО \"Примо коллект\"на мой адрес: город Москва, Уваровский переулок, дом 10, квартира 111, с угрозами о возбуждении уголовного дела в отношении гражданина Филиппова Эдуарда Владимировича, который уклоняется от уплаты взятых им кредитов: договор № 81014 от 20.10.2013 года и договор № 2464946 от 09.10.2014 года. Со всей ответственностью\\xa0 хочу Вас заверить, что вышеуказанный гражданин, которого Вы разыскиваете, мне не знаком и никогда в моем адресе не был зарегистрирован. Каким образом Вы не удостоверившись в подлинности его документов оформили на его имя кредитный договор, мне по меньшей мере не понятно,\\xa0 и почему по Вашей милости я должна переживать и бояться за себе и свое имущество. Письма доставляют мне серьезные неудобства, нарушают мои гражданские права, а также нарушают закон о защите персональных данных. Убедительно прошу прекратить посылать на мой адрес письма с угрозами по вопросам, к которым я не имею отношения. В случае отклонения моей претензии буду вынуждена обратиться с жалобами в  другие органы: Росспотребнадзор, Центральный банк, Службу Финансового  омбудсмена. Кроме этого будет подано заявление в полицию и заявление в  суд возмещение причиненного мне морального вреда. Надеюсь на скорое решение моего вопроса.'"
      ]
     },
     "execution_count": 47,
     "metadata": {},
     "output_type": "execute_result"
    }
   ],
   "source": [
    "all_responces = df.text.to_list()\n",
    "all_responces[0]"
   ]
  },
  {
   "cell_type": "code",
   "execution_count": 51,
   "id": "0d8dbd7d",
   "metadata": {},
   "outputs": [],
   "source": [
    "ru_words = re.compile(\"[А-Яа-я]+\")\n",
    "\n",
    "def words_only(text):\n",
    "    return \" \".join(ru_words.findall(text))"
   ]
  },
  {
   "cell_type": "code",
   "execution_count": 53,
   "id": "ab4ba82b",
   "metadata": {},
   "outputs": [
    {
     "data": {
      "text/plain": [
       "['Добрый',\n",
       " 'день',\n",
       " 'Я',\n",
       " 'не',\n",
       " 'являюсь',\n",
       " 'клиентом',\n",
       " 'банка',\n",
       " 'и',\n",
       " 'поручителем',\n",
       " 'по',\n",
       " 'кредитному',\n",
       " 'договору',\n",
       " 'а',\n",
       " 'также',\n",
       " 'не',\n",
       " 'являюсь',\n",
       " 'каким',\n",
       " 'либо',\n",
       " 'другим',\n",
       " 'лицом',\n",
       " 'письменно',\n",
       " 'оформившим',\n",
       " 'отношения',\n",
       " 'с',\n",
       " 'банком',\n",
       " 'по',\n",
       " 'поводу',\n",
       " 'урегулирования',\n",
       " 'чьей',\n",
       " 'либо',\n",
       " 'задолженности',\n",
       " 'Начиная',\n",
       " 'с',\n",
       " 'марта',\n",
       " 'года',\n",
       " 'начали',\n",
       " 'приходить',\n",
       " 'бесконечные',\n",
       " 'письма',\n",
       " 'из',\n",
       " 'ООО',\n",
       " 'Примо',\n",
       " 'коллект',\n",
       " 'на',\n",
       " 'мой',\n",
       " 'адрес',\n",
       " 'город',\n",
       " 'Москва',\n",
       " 'Уваровский',\n",
       " 'переулок',\n",
       " 'дом',\n",
       " 'квартира',\n",
       " 'с',\n",
       " 'угрозами',\n",
       " 'о',\n",
       " 'возбуждении',\n",
       " 'уголовного',\n",
       " 'дела',\n",
       " 'в',\n",
       " 'отношении',\n",
       " 'гражданина',\n",
       " 'Филиппова',\n",
       " 'Эдуарда',\n",
       " 'Владимировича',\n",
       " 'который',\n",
       " 'уклоняется',\n",
       " 'от',\n",
       " 'уплаты',\n",
       " 'взятых',\n",
       " 'им',\n",
       " 'кредитов',\n",
       " 'договор',\n",
       " 'от',\n",
       " 'года',\n",
       " 'и',\n",
       " 'договор',\n",
       " 'от',\n",
       " 'года',\n",
       " 'Со',\n",
       " 'всей',\n",
       " 'ответственностью',\n",
       " 'хочу',\n",
       " 'Вас',\n",
       " 'заверить',\n",
       " 'что',\n",
       " 'вышеуказанный',\n",
       " 'гражданин',\n",
       " 'которого',\n",
       " 'Вы',\n",
       " 'разыскиваете',\n",
       " 'мне',\n",
       " 'не',\n",
       " 'знаком',\n",
       " 'и',\n",
       " 'никогда',\n",
       " 'в',\n",
       " 'моем',\n",
       " 'адресе',\n",
       " 'не',\n",
       " 'был',\n",
       " 'зарегистрирован',\n",
       " 'Каким',\n",
       " 'образом',\n",
       " 'Вы',\n",
       " 'не',\n",
       " 'удостоверившись',\n",
       " 'в',\n",
       " 'подлинности',\n",
       " 'его',\n",
       " 'документов',\n",
       " 'оформили',\n",
       " 'на',\n",
       " 'его',\n",
       " 'имя',\n",
       " 'кредитный',\n",
       " 'договор',\n",
       " 'мне',\n",
       " 'по',\n",
       " 'меньшей',\n",
       " 'мере',\n",
       " 'не',\n",
       " 'понятно',\n",
       " 'и',\n",
       " 'почему',\n",
       " 'по',\n",
       " 'Вашей',\n",
       " 'милости',\n",
       " 'я',\n",
       " 'должна',\n",
       " 'переживать',\n",
       " 'и',\n",
       " 'бояться',\n",
       " 'за',\n",
       " 'себе',\n",
       " 'и',\n",
       " 'свое',\n",
       " 'имущество',\n",
       " 'Письма',\n",
       " 'доставляют',\n",
       " 'мне',\n",
       " 'серьезные',\n",
       " 'неудобства',\n",
       " 'нарушают',\n",
       " 'мои',\n",
       " 'гражданские',\n",
       " 'права',\n",
       " 'а',\n",
       " 'также',\n",
       " 'нарушают',\n",
       " 'закон',\n",
       " 'о',\n",
       " 'защите',\n",
       " 'персональных',\n",
       " 'данных',\n",
       " 'Убедительно',\n",
       " 'прошу',\n",
       " 'прекратить',\n",
       " 'посылать',\n",
       " 'на',\n",
       " 'мой',\n",
       " 'адрес',\n",
       " 'письма',\n",
       " 'с',\n",
       " 'угрозами',\n",
       " 'по',\n",
       " 'вопросам',\n",
       " 'к',\n",
       " 'которым',\n",
       " 'я',\n",
       " 'не',\n",
       " 'имею',\n",
       " 'отношения',\n",
       " 'В',\n",
       " 'случае',\n",
       " 'отклонения',\n",
       " 'моей',\n",
       " 'претензии',\n",
       " 'буду',\n",
       " 'вынуждена',\n",
       " 'обратиться',\n",
       " 'с',\n",
       " 'жалобами',\n",
       " 'в',\n",
       " 'другие',\n",
       " 'органы',\n",
       " 'Росспотребнадзор',\n",
       " 'Центральный',\n",
       " 'банк',\n",
       " 'Службу',\n",
       " 'Финансового',\n",
       " 'омбудсмена',\n",
       " 'Кроме',\n",
       " 'этого',\n",
       " 'будет',\n",
       " 'подано',\n",
       " 'заявление',\n",
       " 'в',\n",
       " 'полицию',\n",
       " 'и',\n",
       " 'заявление',\n",
       " 'в',\n",
       " 'суд',\n",
       " 'возмещение',\n",
       " 'причиненного',\n",
       " 'мне',\n",
       " 'морального',\n",
       " 'вреда',\n",
       " 'Надеюсь',\n",
       " 'на',\n",
       " 'скорое',\n",
       " 'решение',\n",
       " 'моего',\n",
       " 'вопроса']"
      ]
     },
     "execution_count": 53,
     "metadata": {},
     "output_type": "execute_result"
    }
   ],
   "source": [
    "all_rus_words = [words_only(all_responces[i]).split() for i in range(len(all_responces))]\n",
    "all_rus_words[0]"
   ]
  },
  {
   "cell_type": "code",
   "execution_count": 54,
   "id": "26f121bd",
   "metadata": {},
   "outputs": [
    {
     "data": {
      "text/plain": [
       "'Добрый'"
      ]
     },
     "execution_count": 54,
     "metadata": {},
     "output_type": "execute_result"
    }
   ],
   "source": [
    "# Получился список списков, развернем его в одномерный список\n",
    "all_rus_words = [item for sublist in all_rus_words for item in sublist]\n",
    "all_rus_words[0]"
   ]
  },
  {
   "cell_type": "code",
   "execution_count": 63,
   "id": "c7de28d2",
   "metadata": {},
   "outputs": [],
   "source": [
    "# создаю словарь, в котором ключи будут длины слов, значения - количество слов соответствующей длины\n",
    "len_in_chars = {}\n",
    "\n",
    "for word in all_rus_words:\n",
    "#     если такая длина слова уже есть в словаре, увеличиваю значение на единицу, иначе заношу новый ключ\n",
    "    if len_in_chars.get(len(word)):\n",
    "        len_in_chars[len(word)] +=1\n",
    "    else:\n",
    "        len_in_chars[len(word)] = 1\n",
    "    "
   ]
  },
  {
   "cell_type": "code",
   "execution_count": 66,
   "id": "5b9f3925",
   "metadata": {},
   "outputs": [
    {
     "data": {
      "text/plain": [
       "[(1, 4515472),\n",
       " (2, 3897962),\n",
       " (3, 4019032),\n",
       " (4, 2900976),\n",
       " (5, 4370298),\n",
       " (6, 3791372),\n",
       " (7, 3144115),\n",
       " (8, 2708775),\n",
       " (9, 2379698),\n",
       " (10, 1455175),\n",
       " (11, 909581),\n",
       " (12, 567720),\n",
       " (13, 375984),\n",
       " (14, 202272),\n",
       " (15, 104531),\n",
       " (16, 49893),\n",
       " (17, 16664),\n",
       " (18, 10617),\n",
       " (19, 4090),\n",
       " (20, 2061),\n",
       " (21, 583),\n",
       " (22, 865),\n",
       " (23, 438),\n",
       " (24, 1035),\n",
       " (25, 95),\n",
       " (26, 34),\n",
       " (27, 10),\n",
       " (28, 2),\n",
       " (29, 3),\n",
       " (30, 5),\n",
       " (32, 2),\n",
       " (34, 3),\n",
       " (35, 1),\n",
       " (39, 1),\n",
       " (40, 1),\n",
       " (45, 1),\n",
       " (50, 1),\n",
       " (61, 1),\n",
       " (66, 1),\n",
       " (73, 1),\n",
       " (80, 1),\n",
       " (82, 1)]"
      ]
     },
     "execution_count": 66,
     "metadata": {},
     "output_type": "execute_result"
    }
   ],
   "source": [
    "sorted(len_in_chars.items())\n"
   ]
  },
  {
   "cell_type": "code",
   "execution_count": 77,
   "id": "979abba2",
   "metadata": {},
   "outputs": [
    {
     "data": {
      "image/png": "[encoded data removed]",
      "text/plain": [
       "<Figure size 1080x504 with 1 Axes>"
      ]
     },
     "metadata": {
      "needs_background": "light"
     },
     "output_type": "display_data"
    }
   ],
   "source": [
    "len_words = [x[0] for x in sorted(len_in_chars.items())]\n",
    "score = [x[1] for x in sorted(len_in_chars.items())]\n",
    "x_pos = np.arange(len(len_words)) \n",
    "\n",
    "plt.figure(figsize=(15, 7))\n",
    "plt.bar(x_pos, score,align='center')\n",
    "plt.xticks(x_pos, len_words) \n",
    "plt.ylabel('Number of words')\n",
    "plt.title('Length in chars distribution')\n",
    "plt.grid()\n",
    "plt.show()"
   ]
  },
  {
   "cell_type": "markdown",
   "id": "0008b1bd",
   "metadata": {},
   "source": [
    "Интересно, что за слова состоят из более чем 20 букв. Скорее всего это какие-то ошибочные написания, например, без пробелов"
   ]
  },
  {
   "cell_type": "markdown",
   "id": "4939a85e",
   "metadata": {},
   "source": [
    "Теперь посмотрим на распределение по количеству слов в отзывах"
   ]
  },
  {
   "cell_type": "code",
   "execution_count": 78,
   "id": "ee6e4d92",
   "metadata": {},
   "outputs": [],
   "source": [
    "all_responces = df.text.to_list()\n",
    "all_responces_cleaned = [words_only(all_responces[i]).split() for i in range(len(all_responces))]"
   ]
  },
  {
   "cell_type": "code",
   "execution_count": 79,
   "id": "09c8c1a8",
   "metadata": {},
   "outputs": [],
   "source": [
    "len_in_words = {}\n",
    "\n",
    "for responce in all_responces_cleaned:\n",
    "    if len_in_chars.get(len(responce)):\n",
    "        len_in_chars[len(responce)] +=1\n",
    "    else:\n",
    "        len_in_chars[len(responce)] = 1\n",
    "        \n",
    "len_in_words = sorted(len_in_chars.items())"
   ]
  },
  {
   "cell_type": "code",
   "execution_count": 80,
   "id": "5469c1b7",
   "metadata": {},
   "outputs": [
    {
     "data": {
      "text/plain": [
       "[(0, 2),\n",
       " (1, 4515472),\n",
       " (2, 3897962),\n",
       " (3, 4019032),\n",
       " (4, 2900980),\n",
       " (5, 4370300),\n",
       " (6, 3791374),\n",
       " (7, 3144119),\n",
       " (8, 2708787),\n",
       " (9, 2379709),\n",
       " (10, 1455195),\n",
       " (11, 909591),\n",
       " (12, 567734),\n",
       " (13, 375994),\n",
       " (14, 202288),\n",
       " (15, 104545),\n",
       " (16, 49905),\n",
       " (17, 16684),\n",
       " (18, 10643),\n",
       " (19, 4111),\n",
       " (20, 2092),\n",
       " (21, 614),\n",
       " (22, 899),\n",
       " (23, 470),\n",
       " (24, 1068),\n",
       " (25, 146),\n",
       " (26, 79),\n",
       " (27, 78),\n",
       " (28, 45),\n",
       " (29, 74),\n",
       " (30, 63),\n",
       " (31, 63),\n",
       " (32, 86),\n",
       " (33, 68),\n",
       " (34, 95),\n",
       " (35, 100),\n",
       " (36, 89),\n",
       " (37, 113),\n",
       " (38, 131),\n",
       " (39, 160),\n",
       " (40, 184),\n",
       " (41, 229),\n",
       " (42, 268),\n",
       " (43, 285),\n",
       " (44, 371),\n",
       " (45, 403),\n",
       " (46, 441),\n",
       " (47, 455),\n",
       " (48, 455),\n",
       " (49, 514),\n",
       " (50, 537),\n",
       " (51, 521),\n",
       " (52, 494),\n",
       " (53, 512),\n",
       " (54, 510),\n",
       " (55, 510),\n",
       " (56, 530),\n",
       " (57, 489),\n",
       " (58, 474),\n",
       " (59, 533),\n",
       " (60, 498),\n",
       " (61, 506),\n",
       " (62, 517),\n",
       " (63, 485),\n",
       " (64, 500),\n",
       " (65, 516),\n",
       " (66, 554),\n",
       " (67, 530),\n",
       " (68, 561),\n",
       " (69, 557),\n",
       " (70, 535),\n",
       " (71, 523),\n",
       " (72, 545),\n",
       " (73, 572),\n",
       " (74, 577),\n",
       " (75, 563),\n",
       " (76, 589),\n",
       " (77, 589),\n",
       " (78, 554),\n",
       " (79, 607),\n",
       " (80, 590),\n",
       " (81, 588),\n",
       " (82, 599),\n",
       " (83, 590),\n",
       " (84, 612),\n",
       " (85, 594),\n",
       " (86, 601),\n",
       " (87, 614),\n",
       " (88, 588),\n",
       " (89, 629),\n",
       " (90, 635),\n",
       " (91, 592),\n",
       " (92, 605),\n",
       " (93, 654),\n",
       " (94, 615),\n",
       " (95, 539),\n",
       " (96, 671),\n",
       " (97, 615),\n",
       " (98, 620),\n",
       " (99, 666),\n",
       " (100, 613),\n",
       " (101, 642),\n",
       " (102, 572),\n",
       " (103, 597),\n",
       " (104, 619),\n",
       " (105, 592),\n",
       " (106, 615),\n",
       " (107, 625),\n",
       " (108, 638),\n",
       " (109, 583),\n",
       " (110, 614),\n",
       " (111, 600),\n",
       " (112, 592),\n",
       " (113, 606),\n",
       " (114, 610),\n",
       " (115, 595),\n",
       " (116, 604),\n",
       " (117, 591),\n",
       " (118, 570),\n",
       " (119, 600),\n",
       " (120, 614),\n",
       " (121, 570),\n",
       " (122, 594),\n",
       " (123, 580),\n",
       " (124, 609),\n",
       " (125, 631),\n",
       " (126, 583),\n",
       " (127, 591),\n",
       " (128, 613),\n",
       " (129, 597),\n",
       " (130, 626),\n",
       " (131, 548),\n",
       " (132, 573),\n",
       " (133, 614),\n",
       " (134, 600),\n",
       " (135, 573),\n",
       " (136, 583),\n",
       " (137, 558),\n",
       " (138, 531),\n",
       " (139, 550),\n",
       " (140, 612),\n",
       " (141, 581),\n",
       " (142, 548),\n",
       " (143, 589),\n",
       " (144, 541),\n",
       " (145, 489),\n",
       " (146, 562),\n",
       " (147, 533),\n",
       " (148, 554),\n",
       " (149, 565),\n",
       " (150, 535),\n",
       " (151, 531),\n",
       " (152, 550),\n",
       " (153, 523),\n",
       " (154, 478),\n",
       " (155, 522),\n",
       " (156, 527),\n",
       " (157, 521),\n",
       " (158, 505),\n",
       " (159, 539),\n",
       " (160, 499),\n",
       " (161, 479),\n",
       " (162, 516),\n",
       " (163, 575),\n",
       " (164, 517),\n",
       " (165, 526),\n",
       " (166, 509),\n",
       " (167, 498),\n",
       " (168, 533),\n",
       " (169, 472),\n",
       " (170, 518),\n",
       " (171, 527),\n",
       " (172, 496),\n",
       " (173, 494),\n",
       " (174, 486),\n",
       " (175, 518),\n",
       " (176, 501),\n",
       " (177, 468),\n",
       " (178, 477),\n",
       " (179, 485),\n",
       " (180, 466),\n",
       " (181, 448),\n",
       " (182, 451),\n",
       " (183, 470),\n",
       " (184, 479),\n",
       " (185, 445),\n",
       " (186, 457),\n",
       " (187, 436),\n",
       " (188, 456),\n",
       " (189, 455),\n",
       " (190, 450),\n",
       " (191, 439),\n",
       " (192, 435),\n",
       " (193, 415),\n",
       " (194, 451),\n",
       " (195, 453),\n",
       " (196, 437),\n",
       " (197, 415),\n",
       " (198, 410),\n",
       " (199, 439),\n",
       " (200, 423),\n",
       " (201, 418),\n",
       " (202, 399),\n",
       " (203, 396),\n",
       " (204, 390),\n",
       " (205, 411),\n",
       " (206, 415),\n",
       " (207, 393),\n",
       " (208, 397),\n",
       " (209, 426),\n",
       " (210, 397),\n",
       " (211, 398),\n",
       " (212, 418),\n",
       " (213, 378),\n",
       " (214, 403),\n",
       " (215, 410),\n",
       " (216, 349),\n",
       " (217, 378),\n",
       " (218, 412),\n",
       " (219, 325),\n",
       " (220, 349),\n",
       " (221, 361),\n",
       " (222, 369),\n",
       " (223, 342),\n",
       " (224, 381),\n",
       " (225, 359),\n",
       " (226, 352),\n",
       " (227, 346),\n",
       " (228, 324),\n",
       " (229, 333),\n",
       " (230, 339),\n",
       " (231, 328),\n",
       " (232, 340),\n",
       " (233, 313),\n",
       " (234, 312),\n",
       " (235, 323),\n",
       " (236, 347),\n",
       " (237, 353),\n",
       " (238, 348),\n",
       " (239, 300),\n",
       " (240, 317),\n",
       " (241, 300),\n",
       " (242, 317),\n",
       " (243, 350),\n",
       " (244, 317),\n",
       " (245, 299),\n",
       " (246, 306),\n",
       " (247, 310),\n",
       " (248, 326),\n",
       " (249, 281),\n",
       " (250, 311),\n",
       " (251, 298),\n",
       " (252, 313),\n",
       " (253, 280),\n",
       " (254, 298),\n",
       " (255, 282),\n",
       " (256, 305),\n",
       " (257, 283),\n",
       " (258, 269),\n",
       " (259, 326),\n",
       " (260, 295),\n",
       " (261, 236),\n",
       " (262, 308),\n",
       " (263, 271),\n",
       " (264, 307),\n",
       " (265, 281),\n",
       " (266, 261),\n",
       " (267, 271),\n",
       " (268, 283),\n",
       " (269, 278),\n",
       " (270, 283),\n",
       " (271, 278),\n",
       " (272, 270),\n",
       " (273, 259),\n",
       " (274, 266),\n",
       " (275, 257),\n",
       " (276, 265),\n",
       " (277, 226),\n",
       " (278, 227),\n",
       " (279, 259),\n",
       " (280, 241),\n",
       " (281, 244),\n",
       " (282, 266),\n",
       " (283, 226),\n",
       " (284, 257),\n",
       " (285, 217),\n",
       " (286, 243),\n",
       " (287, 234),\n",
       " (288, 225),\n",
       " (289, 221),\n",
       " (290, 234),\n",
       " (291, 229),\n",
       " (292, 228),\n",
       " (293, 221),\n",
       " (294, 246),\n",
       " (295, 210),\n",
       " (296, 221),\n",
       " (297, 212),\n",
       " (298, 226),\n",
       " (299, 236),\n",
       " (300, 241),\n",
       " (301, 212),\n",
       " (302, 226),\n",
       " (303, 231),\n",
       " (304, 230),\n",
       " (305, 201),\n",
       " (306, 205),\n",
       " (307, 199),\n",
       " (308, 181),\n",
       " (309, 213),\n",
       " (310, 200),\n",
       " (311, 194),\n",
       " (312, 207),\n",
       " (313, 193),\n",
       " (314, 202),\n",
       " (315, 189),\n",
       " (316, 179),\n",
       " (317, 183),\n",
       " (318, 180),\n",
       " (319, 169),\n",
       " (320, 205),\n",
       " (321, 197),\n",
       " (322, 147),\n",
       " (323, 187),\n",
       " (324, 162),\n",
       " (325, 162),\n",
       " (326, 150),\n",
       " (327, 183),\n",
       " (328, 196),\n",
       " (329, 175),\n",
       " (330, 148),\n",
       " (331, 183),\n",
       " (332, 172),\n",
       " (333, 150),\n",
       " (334, 168),\n",
       " (335, 161),\n",
       " (336, 169),\n",
       " (337, 169),\n",
       " (338, 157),\n",
       " (339, 161),\n",
       " (340, 152),\n",
       " (341, 160),\n",
       " (342, 186),\n",
       " (343, 181),\n",
       " (344, 168),\n",
       " (345, 168),\n",
       " (346, 153),\n",
       " (347, 162),\n",
       " (348, 135),\n",
       " (349, 149),\n",
       " (350, 156),\n",
       " (351, 156),\n",
       " (352, 152),\n",
       " (353, 155),\n",
       " (354, 166),\n",
       " (355, 136),\n",
       " (356, 135),\n",
       " (357, 156),\n",
       " (358, 134),\n",
       " (359, 153),\n",
       " (360, 170),\n",
       " (361, 161),\n",
       " (362, 139),\n",
       " (363, 124),\n",
       " (364, 148),\n",
       " (365, 130),\n",
       " (366, 152),\n",
       " (367, 122),\n",
       " (368, 147),\n",
       " (369, 134),\n",
       " (370, 140),\n",
       " (371, 146),\n",
       " (372, 122),\n",
       " (373, 116),\n",
       " (374, 127),\n",
       " (375, 136),\n",
       " (376, 154),\n",
       " (377, 127),\n",
       " (378, 132),\n",
       " (379, 126),\n",
       " (380, 126),\n",
       " (381, 121),\n",
       " (382, 141),\n",
       " (383, 123),\n",
       " (384, 114),\n",
       " (385, 119),\n",
       " (386, 113),\n",
       " (387, 150),\n",
       " (388, 119),\n",
       " (389, 94),\n",
       " (390, 108),\n",
       " (391, 123),\n",
       " (392, 129),\n",
       " (393, 111),\n",
       " (394, 120),\n",
       " (395, 131),\n",
       " (396, 117),\n",
       " (397, 125),\n",
       " (398, 102),\n",
       " (399, 106),\n",
       " (400, 118),\n",
       " (401, 101),\n",
       " (402, 135),\n",
       " (403, 98),\n",
       " (404, 104),\n",
       " (405, 98),\n",
       " (406, 98),\n",
       " (407, 112),\n",
       " (408, 95),\n",
       " (409, 91),\n",
       " (410, 100),\n",
       " (411, 99),\n",
       " (412, 83),\n",
       " (413, 92),\n",
       " (414, 103),\n",
       " (415, 84),\n",
       " (416, 93),\n",
       " (417, 119),\n",
       " (418, 94),\n",
       " (419, 106),\n",
       " (420, 65),\n",
       " (421, 100),\n",
       " (422, 102),\n",
       " (423, 100),\n",
       " (424, 106),\n",
       " (425, 88),\n",
       " (426, 84),\n",
       " (427, 98),\n",
       " (428, 78),\n",
       " (429, 95),\n",
       " (430, 77),\n",
       " (431, 95),\n",
       " (432, 94),\n",
       " (433, 97),\n",
       " (434, 92),\n",
       " (435, 103),\n",
       " (436, 93),\n",
       " (437, 105),\n",
       " (438, 104),\n",
       " (439, 86),\n",
       " (440, 89),\n",
       " (441, 75),\n",
       " (442, 92),\n",
       " (443, 72),\n",
       " (444, 89),\n",
       " (445, 73),\n",
       " (446, 79),\n",
       " (447, 74),\n",
       " (448, 74),\n",
       " (449, 77),\n",
       " (450, 92),\n",
       " (451, 77),\n",
       " (452, 74),\n",
       " (453, 77),\n",
       " (454, 67),\n",
       " (455, 74),\n",
       " (456, 72),\n",
       " (457, 71),\n",
       " (458, 81),\n",
       " (459, 68),\n",
       " (460, 73),\n",
       " (461, 86),\n",
       " (462, 76),\n",
       " (463, 76),\n",
       " (464, 63),\n",
       " (465, 70),\n",
       " (466, 71),\n",
       " (467, 68),\n",
       " (468, 76),\n",
       " (469, 86),\n",
       " (470, 70),\n",
       " (471, 75),\n",
       " (472, 78),\n",
       " (473, 72),\n",
       " (474, 90),\n",
       " (475, 73),\n",
       " (476, 69),\n",
       " (477, 60),\n",
       " (478, 86),\n",
       " (479, 65),\n",
       " (480, 60),\n",
       " (481, 57),\n",
       " (482, 71),\n",
       " (483, 62),\n",
       " (484, 59),\n",
       " (485, 66),\n",
       " (486, 63),\n",
       " (487, 62),\n",
       " (488, 54),\n",
       " (489, 81),\n",
       " (490, 59),\n",
       " (491, 72),\n",
       " (492, 63),\n",
       " (493, 60),\n",
       " (494, 57),\n",
       " (495, 46),\n",
       " (496, 55),\n",
       " (497, 61),\n",
       " (498, 53),\n",
       " (499, 51),\n",
       " (500, 52),\n",
       " (501, 76),\n",
       " (502, 53),\n",
       " (503, 75),\n",
       " (504, 44),\n",
       " (505, 68),\n",
       " (506, 52),\n",
       " (507, 59),\n",
       " (508, 64),\n",
       " (509, 62),\n",
       " (510, 58),\n",
       " (511, 69),\n",
       " (512, 58),\n",
       " (513, 50),\n",
       " (514, 60),\n",
       " (515, 60),\n",
       " (516, 47),\n",
       " (517, 56),\n",
       " (518, 51),\n",
       " (519, 55),\n",
       " (520, 51),\n",
       " (521, 55),\n",
       " (522, 54),\n",
       " (523, 49),\n",
       " (524, 49),\n",
       " (525, 56),\n",
       " (526, 61),\n",
       " (527, 38),\n",
       " (528, 50),\n",
       " (529, 45),\n",
       " (530, 52),\n",
       " (531, 55),\n",
       " (532, 59),\n",
       " (533, 53),\n",
       " (534, 44),\n",
       " (535, 54),\n",
       " (536, 61),\n",
       " (537, 39),\n",
       " (538, 46),\n",
       " (539, 46),\n",
       " (540, 44),\n",
       " (541, 43),\n",
       " (542, 55),\n",
       " (543, 58),\n",
       " (544, 50),\n",
       " (545, 56),\n",
       " (546, 41),\n",
       " (547, 46),\n",
       " (548, 48),\n",
       " (549, 38),\n",
       " (550, 40),\n",
       " (551, 44),\n",
       " (552, 44),\n",
       " (553, 34),\n",
       " (554, 42),\n",
       " (555, 35),\n",
       " (556, 46),\n",
       " (557, 50),\n",
       " (558, 45),\n",
       " (559, 49),\n",
       " (560, 28),\n",
       " (561, 42),\n",
       " (562, 34),\n",
       " (563, 41),\n",
       " (564, 46),\n",
       " (565, 53),\n",
       " (566, 46),\n",
       " (567, 44),\n",
       " (568, 40),\n",
       " (569, 38),\n",
       " (570, 40),\n",
       " (571, 42),\n",
       " (572, 33),\n",
       " (573, 55),\n",
       " (574, 30),\n",
       " (575, 41),\n",
       " (576, 40),\n",
       " (577, 38),\n",
       " (578, 35),\n",
       " (579, 39),\n",
       " (580, 47),\n",
       " (581, 39),\n",
       " (582, 32),\n",
       " (583, 43),\n",
       " (584, 30),\n",
       " (585, 29),\n",
       " (586, 32),\n",
       " (587, 36),\n",
       " (588, 40),\n",
       " (589, 41),\n",
       " (590, 35),\n",
       " (591, 32),\n",
       " (592, 27),\n",
       " (593, 38),\n",
       " (594, 34),\n",
       " (595, 39),\n",
       " (596, 38),\n",
       " (597, 31),\n",
       " (598, 39),\n",
       " (599, 41),\n",
       " (600, 29),\n",
       " (601, 33),\n",
       " (602, 37),\n",
       " (603, 25),\n",
       " (604, 35),\n",
       " (605, 25),\n",
       " (606, 28),\n",
       " (607, 41),\n",
       " (608, 41),\n",
       " (609, 25),\n",
       " (610, 42),\n",
       " (611, 38),\n",
       " (612, 28),\n",
       " (613, 32),\n",
       " (614, 18),\n",
       " (615, 34),\n",
       " (616, 34),\n",
       " (617, 28),\n",
       " (618, 30),\n",
       " (619, 26),\n",
       " (620, 30),\n",
       " (621, 32),\n",
       " (622, 29),\n",
       " (623, 29),\n",
       " (624, 28),\n",
       " (625, 27),\n",
       " (626, 32),\n",
       " (627, 29),\n",
       " (628, 32),\n",
       " (629, 33),\n",
       " (630, 29),\n",
       " (631, 18),\n",
       " (632, 28),\n",
       " (633, 23),\n",
       " (634, 22),\n",
       " (635, 23),\n",
       " (636, 24),\n",
       " (637, 28),\n",
       " (638, 27),\n",
       " (639, 29),\n",
       " (640, 28),\n",
       " (641, 29),\n",
       " (642, 30),\n",
       " (643, 30),\n",
       " (644, 27),\n",
       " (645, 24),\n",
       " (646, 20),\n",
       " (647, 34),\n",
       " (648, 30),\n",
       " (649, 24),\n",
       " (650, 29),\n",
       " (651, 24),\n",
       " (652, 21),\n",
       " (653, 20),\n",
       " (654, 26),\n",
       " (655, 26),\n",
       " (656, 26),\n",
       " (657, 22),\n",
       " (658, 29),\n",
       " (659, 24),\n",
       " (660, 23),\n",
       " (661, 32),\n",
       " (662, 24),\n",
       " (663, 34),\n",
       " (664, 20),\n",
       " (665, 28),\n",
       " (666, 18),\n",
       " (667, 26),\n",
       " (668, 22),\n",
       " (669, 18),\n",
       " (670, 19),\n",
       " (671, 20),\n",
       " (672, 21),\n",
       " (673, 26),\n",
       " (674, 27),\n",
       " (675, 21),\n",
       " (676, 22),\n",
       " (677, 21),\n",
       " (678, 22),\n",
       " (679, 20),\n",
       " (680, 23),\n",
       " (681, 17),\n",
       " (682, 13),\n",
       " (683, 22),\n",
       " (684, 27),\n",
       " (685, 18),\n",
       " (686, 26),\n",
       " (687, 22),\n",
       " (688, 18),\n",
       " (689, 29),\n",
       " (690, 18),\n",
       " (691, 21),\n",
       " (692, 21),\n",
       " (693, 22),\n",
       " (694, 16),\n",
       " (695, 17),\n",
       " (696, 16),\n",
       " (697, 13),\n",
       " (698, 19),\n",
       " (699, 27),\n",
       " (700, 21),\n",
       " (701, 19),\n",
       " (702, 27),\n",
       " (703, 16),\n",
       " (704, 23),\n",
       " (705, 17),\n",
       " (706, 19),\n",
       " (707, 23),\n",
       " (708, 11),\n",
       " (709, 23),\n",
       " (710, 18),\n",
       " (711, 16),\n",
       " (712, 25),\n",
       " (713, 17),\n",
       " (714, 16),\n",
       " (715, 14),\n",
       " (716, 21),\n",
       " (717, 17),\n",
       " (718, 18),\n",
       " (719, 13),\n",
       " (720, 18),\n",
       " (721, 21),\n",
       " (722, 12),\n",
       " (723, 18),\n",
       " (724, 15),\n",
       " (725, 25),\n",
       " (726, 28),\n",
       " (727, 22),\n",
       " (728, 18),\n",
       " (729, 16),\n",
       " (730, 15),\n",
       " (731, 11),\n",
       " (732, 16),\n",
       " (733, 15),\n",
       " (734, 16),\n",
       " (735, 13),\n",
       " (736, 18),\n",
       " (737, 17),\n",
       " (738, 17),\n",
       " (739, 14),\n",
       " (740, 23),\n",
       " (741, 23),\n",
       " (742, 9),\n",
       " (743, 12),\n",
       " (744, 12),\n",
       " (745, 15),\n",
       " (746, 11),\n",
       " (747, 11),\n",
       " (748, 12),\n",
       " (749, 13),\n",
       " (750, 18),\n",
       " (751, 11),\n",
       " (752, 11),\n",
       " (753, 20),\n",
       " (754, 20),\n",
       " (755, 9),\n",
       " (756, 18),\n",
       " (757, 12),\n",
       " (758, 17),\n",
       " (759, 19),\n",
       " (760, 19),\n",
       " (761, 10),\n",
       " (762, 17),\n",
       " (763, 15),\n",
       " (764, 17),\n",
       " (765, 16),\n",
       " (766, 18),\n",
       " (767, 17),\n",
       " (768, 17),\n",
       " (769, 12),\n",
       " (770, 16),\n",
       " (771, 15),\n",
       " (772, 11),\n",
       " (773, 15),\n",
       " (774, 16),\n",
       " (775, 14),\n",
       " (776, 11),\n",
       " (777, 14),\n",
       " (778, 13),\n",
       " (779, 15),\n",
       " (780, 11),\n",
       " (781, 15),\n",
       " (782, 12),\n",
       " (783, 11),\n",
       " (784, 14),\n",
       " (785, 12),\n",
       " (786, 11),\n",
       " (787, 21),\n",
       " (788, 12),\n",
       " (789, 11),\n",
       " (790, 8),\n",
       " (791, 12),\n",
       " (792, 13),\n",
       " (793, 13),\n",
       " (794, 11),\n",
       " (795, 12),\n",
       " (796, 9),\n",
       " (797, 13),\n",
       " (798, 13),\n",
       " (799, 9),\n",
       " (800, 14),\n",
       " (801, 15),\n",
       " (802, 12),\n",
       " (803, 14),\n",
       " (804, 14),\n",
       " (805, 10),\n",
       " (806, 15),\n",
       " (807, 15),\n",
       " (808, 11),\n",
       " (809, 12),\n",
       " (810, 14),\n",
       " (811, 7),\n",
       " (812, 6),\n",
       " (813, 14),\n",
       " (814, 8),\n",
       " (815, 5),\n",
       " (816, 13),\n",
       " (817, 8),\n",
       " (818, 13),\n",
       " (819, 11),\n",
       " (820, 12),\n",
       " (821, 13),\n",
       " (822, 11),\n",
       " (823, 6),\n",
       " (824, 20),\n",
       " (825, 14),\n",
       " (826, 9),\n",
       " (827, 15),\n",
       " (828, 13),\n",
       " (829, 12),\n",
       " (830, 10),\n",
       " (831, 8),\n",
       " (832, 10),\n",
       " (833, 7),\n",
       " (834, 10),\n",
       " (835, 6),\n",
       " (836, 2),\n",
       " (837, 17),\n",
       " (838, 7),\n",
       " (839, 9),\n",
       " (840, 10),\n",
       " (841, 16),\n",
       " (842, 12),\n",
       " (843, 8),\n",
       " (844, 14),\n",
       " (845, 16),\n",
       " (846, 4),\n",
       " (847, 13),\n",
       " (848, 11),\n",
       " (849, 13),\n",
       " (850, 7),\n",
       " (851, 9),\n",
       " (852, 9),\n",
       " (853, 9),\n",
       " (854, 13),\n",
       " (855, 8),\n",
       " (856, 14),\n",
       " (857, 9),\n",
       " (858, 9),\n",
       " (859, 9),\n",
       " (860, 5),\n",
       " (861, 9),\n",
       " (862, 14),\n",
       " (863, 11),\n",
       " (864, 9),\n",
       " (865, 12),\n",
       " (866, 10),\n",
       " (867, 5),\n",
       " (868, 6),\n",
       " (869, 12),\n",
       " (870, 12),\n",
       " (871, 13),\n",
       " (872, 8),\n",
       " (873, 6),\n",
       " (874, 11),\n",
       " (875, 9),\n",
       " (876, 7),\n",
       " (877, 6),\n",
       " (878, 10),\n",
       " (879, 6),\n",
       " (880, 10),\n",
       " (881, 6),\n",
       " (882, 6),\n",
       " (883, 6),\n",
       " (884, 8),\n",
       " (885, 10),\n",
       " (886, 13),\n",
       " (887, 9),\n",
       " (888, 9),\n",
       " (889, 10),\n",
       " (890, 4),\n",
       " (891, 10),\n",
       " (892, 7),\n",
       " (893, 9),\n",
       " (894, 16),\n",
       " (895, 6),\n",
       " (896, 5),\n",
       " (897, 9),\n",
       " (898, 6),\n",
       " (899, 9),\n",
       " (900, 11),\n",
       " (901, 8),\n",
       " (902, 4),\n",
       " (903, 4),\n",
       " (904, 11),\n",
       " (905, 7),\n",
       " (906, 8),\n",
       " (907, 6),\n",
       " (908, 12),\n",
       " (909, 6),\n",
       " (910, 5),\n",
       " (911, 5),\n",
       " (912, 11),\n",
       " (913, 4),\n",
       " (914, 7),\n",
       " (915, 8),\n",
       " (916, 6),\n",
       " (917, 6),\n",
       " (918, 6),\n",
       " (919, 6),\n",
       " (920, 4),\n",
       " (921, 4),\n",
       " (922, 7),\n",
       " (923, 3),\n",
       " (924, 4),\n",
       " (925, 9),\n",
       " (926, 6),\n",
       " (927, 5),\n",
       " (928, 4),\n",
       " (929, 3),\n",
       " (930, 9),\n",
       " (931, 4),\n",
       " (932, 7),\n",
       " (933, 7),\n",
       " (934, 5),\n",
       " (935, 6),\n",
       " (936, 6),\n",
       " (937, 8),\n",
       " (938, 7),\n",
       " (939, 6),\n",
       " (940, 7),\n",
       " (941, 2),\n",
       " (942, 1),\n",
       " (943, 12),\n",
       " (944, 8),\n",
       " (945, 7),\n",
       " (946, 6),\n",
       " (947, 8),\n",
       " (948, 7),\n",
       " (949, 10),\n",
       " (950, 4),\n",
       " (951, 4),\n",
       " (952, 7),\n",
       " (953, 3),\n",
       " (954, 8),\n",
       " (955, 4),\n",
       " (956, 3),\n",
       " (957, 8),\n",
       " (958, 3),\n",
       " (959, 1),\n",
       " (960, 6),\n",
       " (961, 7),\n",
       " (962, 7),\n",
       " (963, 4),\n",
       " (964, 9),\n",
       " (965, 6),\n",
       " (966, 5),\n",
       " (967, 2),\n",
       " (968, 5),\n",
       " (969, 8),\n",
       " (970, 3),\n",
       " (971, 4),\n",
       " (972, 9),\n",
       " (973, 7),\n",
       " (974, 6),\n",
       " (975, 7),\n",
       " (976, 8),\n",
       " (977, 2),\n",
       " (978, 4),\n",
       " (979, 7),\n",
       " (980, 5),\n",
       " (981, 7),\n",
       " (982, 5),\n",
       " (983, 3),\n",
       " (984, 6),\n",
       " (985, 5),\n",
       " (986, 10),\n",
       " (987, 7),\n",
       " (988, 4),\n",
       " (989, 6),\n",
       " (990, 5),\n",
       " (991, 6),\n",
       " (992, 6),\n",
       " (993, 4),\n",
       " (994, 7),\n",
       " (995, 8),\n",
       " (996, 2),\n",
       " (997, 2),\n",
       " (998, 4),\n",
       " (999, 3),\n",
       " ...]"
      ]
     },
     "execution_count": 80,
     "metadata": {},
     "output_type": "execute_result"
    }
   ],
   "source": [
    "len_in_words"
   ]
  },
  {
   "cell_type": "code",
   "execution_count": 88,
   "id": "436ea6c3",
   "metadata": {},
   "outputs": [
    {
     "data": {
      "image/png": "[encoded data removed]",
      "text/plain": [
       "<Figure size 1080x504 with 1 Axes>"
      ]
     },
     "metadata": {
      "needs_background": "light"
     },
     "output_type": "display_data"
    }
   ],
   "source": [
    "len_words = [x[0] for x in len_in_words]\n",
    "score = [x[1] for x in len_in_words]\n",
    "x_pos = np.arange(len(len_words)) \n",
    "\n",
    "plt.figure(figsize=(15, 7))\n",
    "plt.plot(x_pos, score)\n",
    "plt.title('Length in words distribution')\n",
    "plt.grid()\n",
    "plt.show()"
   ]
  },
  {
   "cell_type": "markdown",
   "id": "0f4640bc",
   "metadata": {},
   "source": [
    "Для большей наглядности разобьем на 2 графика: отдельно для отзывов с длиной, не превышающей 25 слов, отдельно для прочих  "
   ]
  },
  {
   "cell_type": "code",
   "execution_count": 100,
   "id": "7418876a",
   "metadata": {},
   "outputs": [
    {
     "data": {
      "image/png": "[encoded data removed]",
      "text/plain": [
       "<Figure size 1080x504 with 1 Axes>"
      ]
     },
     "metadata": {
      "needs_background": "light"
     },
     "output_type": "display_data"
    },
    {
     "data": {
      "image/png": "[encoded data removed]",
      "text/plain": [
       "<Figure size 1080x504 with 1 Axes>"
      ]
     },
     "metadata": {
      "needs_background": "light"
     },
     "output_type": "display_data"
    }
   ],
   "source": [
    "plt.figure(figsize=(15, 7))\n",
    "plt.plot(x_pos[:26], score[:26])\n",
    "plt.xticks(x_pos[:26], len_words[:26])\n",
    "plt.title('Length in words distribution (<=25 words)')\n",
    "plt.grid()\n",
    "plt.show()\n",
    "\n",
    "plt.figure(figsize=(15, 7))\n",
    "plt.plot(x_pos[26:], score[26:])\n",
    "plt.xticks(x_pos[26::50], len_words[26::50], rotation=45)\n",
    "plt.title('Length in words distribution (>25 words)')\n",
    "plt.grid()\n",
    "plt.show()"
   ]
  },
  {
   "cell_type": "markdown",
   "id": "9c8f3ec4",
   "metadata": {},
   "source": [
    "**3. Найдите 10 самых частых:**\n",
    "- слов\n",
    "- слов без стоп-слов\n",
    "- лемм\n",
    "- существительных"
   ]
  },
  {
   "cell_type": "code",
   "execution_count": 102,
   "id": "588d31fc",
   "metadata": {},
   "outputs": [],
   "source": [
    "# приведем все слова к lower-кейсу\n",
    "all_rus_words = [word.lower() for word in all_rus_words]"
   ]
  },
  {
   "cell_type": "code",
   "execution_count": 7,
   "id": "8e1cc90c",
   "metadata": {},
   "outputs": [],
   "source": [
    "from collections import Counter"
   ]
  },
  {
   "cell_type": "code",
   "execution_count": 105,
   "id": "f5c581d7",
   "metadata": {},
   "outputs": [
    {
     "data": {
      "text/plain": [
       "[('в', 1330550),\n",
       " ('и', 1058997),\n",
       " ('не', 855335),\n",
       " ('на', 707935),\n",
       " ('что', 640057),\n",
       " ('я', 577500),\n",
       " ('с', 464037),\n",
       " ('по', 372769),\n",
       " ('мне', 320958),\n",
       " ('банка', 275906)]"
      ]
     },
     "execution_count": 105,
     "metadata": {},
     "output_type": "execute_result"
    }
   ],
   "source": [
    "freq_dict = Counter(all_rus_words)\n",
    "\n",
    "# 10 самых частотных слов\n",
    "freq_dict.most_common(10)"
   ]
  },
  {
   "cell_type": "code",
   "execution_count": 8,
   "id": "ea10baf4",
   "metadata": {},
   "outputs": [],
   "source": [
    "from nltk.corpus import stopwords"
   ]
  },
  {
   "cell_type": "code",
   "execution_count": 111,
   "id": "33b57e27",
   "metadata": {},
   "outputs": [],
   "source": [
    "without_stopwords = [word for word in all_rus_words if not word in stopwords.words('russian')]"
   ]
  },
  {
   "cell_type": "code",
   "execution_count": 112,
   "id": "d52a209d",
   "metadata": {},
   "outputs": [
    {
     "data": {
      "text/plain": [
       "[('банка', 275906),\n",
       " ('банк', 215426),\n",
       " ('это', 183365),\n",
       " ('деньги', 131201),\n",
       " ('карту', 105829),\n",
       " ('карты', 101821),\n",
       " ('т', 91756),\n",
       " ('кредит', 81136),\n",
       " ('день', 76552),\n",
       " ('банке', 72169)]"
      ]
     },
     "execution_count": 112,
     "metadata": {},
     "output_type": "execute_result"
    }
   ],
   "source": [
    "freq_dict = Counter(without_stopwords)\n",
    "\n",
    "# 10 самых частотных слов без стоп-слов\n",
    "freq_dict.most_common(10)"
   ]
  },
  {
   "cell_type": "code",
   "execution_count": 9,
   "id": "a5df034e",
   "metadata": {},
   "outputs": [],
   "source": [
    "import pymorphy2\n"
   ]
  },
  {
   "cell_type": "code",
   "execution_count": 112,
   "id": "0d8a682c",
   "metadata": {},
   "outputs": [],
   "source": [
    "morph = pymorphy2.MorphAnalyzer()"
   ]
  },
  {
   "cell_type": "code",
   "execution_count": 122,
   "id": "6ceb2d22",
   "metadata": {},
   "outputs": [],
   "source": [
    "def lemmatize(text):\n",
    "    words = text.split() # разбиваем текст на слова\n",
    "    res = list()\n",
    "    for word in words:\n",
    "        p = morph.parse(word)[0]\n",
    "        res.append(p.normal_form)\n",
    "\n",
    "    return res"
   ]
  },
  {
   "cell_type": "code",
   "execution_count": 123,
   "id": "4d7eb047",
   "metadata": {},
   "outputs": [
    {
     "data": {
      "text/plain": [
       "['съесть',\n",
       " 'ещё',\n",
       " 'этот',\n",
       " 'мягкий',\n",
       " 'французский',\n",
       " 'булка',\n",
       " 'да',\n",
       " 'выпить',\n",
       " 'чай']"
      ]
     },
     "execution_count": 123,
     "metadata": {},
     "output_type": "execute_result"
    }
   ],
   "source": [
    "text = \"Съешь еще этих мягких французских булок да выпей чаю\"\n",
    "lemmatize(text)"
   ]
  },
  {
   "cell_type": "code",
   "execution_count": 115,
   "id": "4b63bf1e",
   "metadata": {},
   "outputs": [],
   "source": [
    "# записываю в файл. достаточно долго формировался список без стоп-слов,если придется формировать снова, прочитать будет быстрее\n",
    "with open('without_stopwords.txt','w', encoding='utf-8') as f:\n",
    "    for item in without_stopwords:\n",
    "        f.write(\"%s\\n\" % item)"
   ]
  },
  {
   "cell_type": "code",
   "execution_count": 125,
   "id": "bcab44d6",
   "metadata": {},
   "outputs": [],
   "source": [
    "lemmatized = lemmatize(' '.join(without_stopwords))"
   ]
  },
  {
   "cell_type": "code",
   "execution_count": 11,
   "id": "f3738651",
   "metadata": {},
   "outputs": [],
   "source": [
    "# lemmatized_ = []\n",
    "\n",
    "# with open('lemmatized.txt', 'r', encoding='utf-8') as f:\n",
    "#     for line in f:\n",
    "#         lemmatized_.append(line.strip())"
   ]
  },
  {
   "cell_type": "code",
   "execution_count": 12,
   "id": "9f666d7a",
   "metadata": {},
   "outputs": [
    {
     "data": {
      "text/plain": [
       "'добрый'"
      ]
     },
     "execution_count": 12,
     "metadata": {},
     "output_type": "execute_result"
    }
   ],
   "source": [
    "# lemmatized_[0]"
   ]
  },
  {
   "cell_type": "code",
   "execution_count": 15,
   "id": "da8adf2b",
   "metadata": {},
   "outputs": [],
   "source": [
    "# freq_dict = Counter(lemmatized_)"
   ]
  },
  {
   "cell_type": "code",
   "execution_count": 126,
   "id": "664d6163",
   "metadata": {},
   "outputs": [
    {
     "data": {
      "text/plain": [
       "[('банк', 668563),\n",
       " ('карта', 334999),\n",
       " ('это', 200057),\n",
       " ('деньга', 179819),\n",
       " ('день', 173116),\n",
       " ('мой', 163042),\n",
       " ('кредит', 156177),\n",
       " ('который', 149017),\n",
       " ('отделение', 144050),\n",
       " ('клиент', 136892)]"
      ]
     },
     "execution_count": 126,
     "metadata": {},
     "output_type": "execute_result"
    }
   ],
   "source": [
    "freq_dict = Counter(lemmatized)\n",
    "\n",
    "# 10 самых частых лемм\n",
    "freq_dict.most_common(10)"
   ]
  },
  {
   "cell_type": "code",
   "execution_count": 128,
   "id": "2cd304bf",
   "metadata": {},
   "outputs": [],
   "source": [
    "# записываю в файл, прочитать будет быстрее\n",
    "with open('lemmatized.txt','w', encoding='utf-8') as f:\n",
    "    for item in lemmatized:\n",
    "        f.write(\"%s\\n\" % item)"
   ]
  },
  {
   "cell_type": "code",
   "execution_count": 136,
   "id": "acc30f90",
   "metadata": {},
   "outputs": [],
   "source": [
    "nouns = []\n",
    "\n",
    "for word in lemmatized:\n",
    "    lemma = morph.parse(word)[0]\n",
    "    if lemma.tag.POS == 'NOUN':\n",
    "        nouns.append(lemma) \n",
    "    "
   ]
  },
  {
   "cell_type": "code",
   "execution_count": 137,
   "id": "70279d94",
   "metadata": {},
   "outputs": [
    {
     "data": {
      "text/plain": [
       "[(Parse(word='банк', tag=OpencorporaTag('NOUN,inan,masc sing,nomn'), normal_form='банк', score=0.653846, methods_stack=((DictionaryAnalyzer(), 'банк', 19, 0),)),\n",
       "  668563),\n",
       " (Parse(word='карта', tag=OpencorporaTag('NOUN,inan,femn sing,nomn'), normal_form='карта', score=1.0, methods_stack=((DictionaryAnalyzer(), 'карта', 55, 0),)),\n",
       "  334999),\n",
       " (Parse(word='деньга', tag=OpencorporaTag('NOUN,inan,femn sing,nomn,Infr'), normal_form='деньга', score=1.0, methods_stack=((DictionaryAnalyzer(), 'деньга', 1328, 0),)),\n",
       "  179819),\n",
       " (Parse(word='день', tag=OpencorporaTag('NOUN,inan,masc sing,accs'), normal_form='день', score=0.745454, methods_stack=((DictionaryAnalyzer(), 'день', 1327, 3),)),\n",
       "  173116),\n",
       " (Parse(word='кредит', tag=OpencorporaTag('NOUN,inan,masc sing,accs'), normal_form='кредит', score=0.833333, methods_stack=((DictionaryAnalyzer(), 'кредит', 34, 3),)),\n",
       "  156177),\n",
       " (Parse(word='отделение', tag=OpencorporaTag('NOUN,inan,neut sing,accs'), normal_form='отделение', score=0.6, methods_stack=((DictionaryAnalyzer(), 'отделение', 77, 6),)),\n",
       "  144050),\n",
       " (Parse(word='клиент', tag=OpencorporaTag('NOUN,anim,masc sing,nomn'), normal_form='клиент', score=0.818181, methods_stack=((DictionaryAnalyzer(), 'клиент', 52, 0),)),\n",
       "  136892),\n",
       " (Parse(word='сотрудник', tag=OpencorporaTag('NOUN,anim,masc sing,nomn'), normal_form='сотрудник', score=1.0, methods_stack=((DictionaryAnalyzer(), 'сотрудник', 2, 0),)),\n",
       "  134168),\n",
       " (Parse(word='счёт', tag=OpencorporaTag('NOUN,inan,masc sing,accs'), normal_form='счёт', score=0.857142, methods_stack=((DictionaryAnalyzer(), 'счёт', 2982, 3),)),\n",
       "  126894),\n",
       " (Parse(word='сумма', tag=OpencorporaTag('NOUN,inan,femn sing,nomn'), normal_form='сумма', score=1.0, methods_stack=((DictionaryAnalyzer(), 'сумма', 55, 0),)),\n",
       "  111232)]"
      ]
     },
     "execution_count": 137,
     "metadata": {},
     "output_type": "execute_result"
    }
   ],
   "source": [
    "freq_dict_nouns = Counter(nouns)\n",
    "\n",
    "# 10 самых частых существительных\n",
    "freq_dict_nouns.most_common(10)"
   ]
  },
  {
   "cell_type": "code",
   "execution_count": 144,
   "id": "f7c930cf",
   "metadata": {},
   "outputs": [],
   "source": [
    "nouns_ = [nouns[i].word for i in range(len(nouns))]"
   ]
  },
  {
   "cell_type": "code",
   "execution_count": 145,
   "id": "5f424fcf",
   "metadata": {},
   "outputs": [
    {
     "data": {
      "text/plain": [
       "[('банк', 668563),\n",
       " ('карта', 334999),\n",
       " ('деньга', 179819),\n",
       " ('день', 173116),\n",
       " ('кредит', 156177),\n",
       " ('отделение', 144050),\n",
       " ('клиент', 136892),\n",
       " ('сотрудник', 134168),\n",
       " ('счёт', 126894),\n",
       " ('сумма', 111232)]"
      ]
     },
     "execution_count": 145,
     "metadata": {},
     "output_type": "execute_result"
    }
   ],
   "source": [
    "freq_dict_nouns = Counter(nouns_)\n",
    "\n",
    "# 10 самых частых существительных\n",
    "freq_dict_nouns.most_common(10)"
   ]
  },
  {
   "cell_type": "markdown",
   "id": "79ec3cb9",
   "metadata": {},
   "source": [
    "**4. Постройте кривые Ципфа и Хипса**"
   ]
  },
  {
   "cell_type": "code",
   "execution_count": 10,
   "id": "6735c03a",
   "metadata": {},
   "outputs": [],
   "source": [
    "from string import punctuation"
   ]
  },
  {
   "cell_type": "code",
   "execution_count": 80,
   "id": "61684482",
   "metadata": {},
   "outputs": [],
   "source": [
    "freqs = list(freq_dict.values()) # возвращаюсь к предыдущему частотному словарю, чтобы учитывать не только существительные\n",
    "freqs = sorted(freqs, reverse = True)"
   ]
  },
  {
   "cell_type": "code",
   "execution_count": 104,
   "id": "d1ce638f",
   "metadata": {},
   "outputs": [
    {
     "name": "stderr",
     "output_type": "stream",
     "text": [
      "100%|████████████████████████████████████████████████████████████████████████| 153499/153499 [1:38:09<00:00, 26.06it/s]\n"
     ]
    }
   ],
   "source": [
    "cnt = Counter()\n",
    "n_words = []\n",
    "n_tokens = []\n",
    "tokens = []\n",
    "for index, row in tqdm(df.iterrows(), total = len(df)):\n",
    "    tokens = word_tokenize(row['text'])\n",
    "    cnt.update([token for token in tokens if token not in punctuation])\n",
    "    n_words.append(len(cnt))\n",
    "    n_tokens.append(sum(list(cnt.values())))\n"
   ]
  },
  {
   "cell_type": "code",
   "execution_count": 106,
   "id": "dea970b1",
   "metadata": {},
   "outputs": [
    {
     "data": {
      "text/plain": [
       "[170, 268, 319, 398, 551, 601, 648, 710, 770, 854]"
      ]
     },
     "execution_count": 106,
     "metadata": {},
     "output_type": "execute_result"
    }
   ],
   "source": [
    "n_words[:10]"
   ]
  },
  {
   "cell_type": "code",
   "execution_count": 107,
   "id": "15ea968c",
   "metadata": {},
   "outputs": [
    {
     "data": {
      "text/plain": [
       "[222, 358, 451, 575, 883, 969, 1058, 1159, 1254, 1453]"
      ]
     },
     "execution_count": 107,
     "metadata": {},
     "output_type": "execute_result"
    }
   ],
   "source": [
    "n_tokens[:10]"
   ]
  },
  {
   "cell_type": "code",
   "execution_count": 108,
   "id": "645d9d05",
   "metadata": {},
   "outputs": [
    {
     "data": {
      "image/png": "[encoded data removed]",
      "text/plain": [
       "<Figure size 1080x360 with 2 Axes>"
      ]
     },
     "metadata": {
      "needs_background": "light"
     },
     "output_type": "display_data"
    }
   ],
   "source": [
    "fig, axes = plt.subplots(1, 2,figsize=(15, 5))\n",
    "\n",
    "axes[0].plot(freqs[:300], range(300))\n",
    "axes[0].set_title('Кривая Ципфа')\n",
    "\n",
    "axes[1].plot(n_tokens, n_words)\n",
    "axes[1].set_title('Кривая Хипса')\n",
    "\n",
    "plt.show()"
   ]
  },
  {
   "cell_type": "markdown",
   "id": "b16e82a7",
   "metadata": {},
   "source": [
    "**5. Ответьте на следующие вопросы:**\n",
    " - какое слово встречается чаще, \"сотрудник\" или \"клиент\"?\n",
    " - сколько раз встречается слова \"мошенничество\" и \"доверие\"?"
   ]
  },
  {
   "cell_type": "code",
   "execution_count": 148,
   "id": "d348fdc2",
   "metadata": {},
   "outputs": [
    {
     "name": "stdout",
     "output_type": "stream",
     "text": [
      "Слово \"сотрудник\" встречается 134168 раз(а)\n",
      "Слово \"клиент\" встречается 136892 раз(а)\n",
      "Слово \"мошенничество\" встречается 3244 раз(а)\n",
      "Слово \"доверие\" встречается 2108 раз(а)\n"
     ]
    }
   ],
   "source": [
    "print(f'Слово \"сотрудник\" встречается {freq_dict_nouns[\"сотрудник\"]} раз(а)')\n",
    "print(f'Слово \"клиент\" встречается {freq_dict_nouns[\"клиент\"]} раз(а)')\n",
    "print(f'Слово \"мошенничество\" встречается {freq_dict_nouns[\"мошенничество\"]} раз(а)')\n",
    "print(f'Слово \"доверие\" встречается {freq_dict_nouns[\"доверие\"]} раз(а)')"
   ]
  },
  {
   "cell_type": "markdown",
   "id": "1cde4d79",
   "metadata": {},
   "source": [
    "\"Сотрудник\" реже, чем \"Клиент\", \"мошенничество\" чаще, чем \"доверие\" "
   ]
  },
  {
   "cell_type": "markdown",
   "id": "a552bc19",
   "metadata": {},
   "source": [
    "**6. В поле \"rating_grade\" записана оценка отзыва по шкале от 1 до 5. Используйте меру $tf-idf$, для того, чтобы найти ключевые слова и биграмы для положительных отзывов (с оценкой 5) и отрицательных отзывов (с оценкой 1)**"
   ]
  },
  {
   "cell_type": "code",
   "execution_count": 27,
   "id": "e763f3a8",
   "metadata": {},
   "outputs": [],
   "source": [
    "df_ratings_1 = df[df['rating_grade'] == 1]\n",
    "df_ratings_5 = df[df['rating_grade'] == 5]"
   ]
  },
  {
   "cell_type": "code",
   "execution_count": 29,
   "id": "d619192d",
   "metadata": {},
   "outputs": [
    {
     "data": {
      "text/html": [
       "<div>\n",
       "<style scoped>\n",
       "    .dataframe tbody tr th:only-of-type {\n",
       "        vertical-align: middle;\n",
       "    }\n",
       "\n",
       "    .dataframe tbody tr th {\n",
       "        vertical-align: top;\n",
       "    }\n",
       "\n",
       "    .dataframe thead th {\n",
       "        text-align: right;\n",
       "    }\n",
       "</style>\n",
       "<table border=\"1\" class=\"dataframe\">\n",
       "  <thead>\n",
       "    <tr style=\"text-align: right;\">\n",
       "      <th></th>\n",
       "      <th>city</th>\n",
       "      <th>rating_not_checked</th>\n",
       "      <th>title</th>\n",
       "      <th>num_comments</th>\n",
       "      <th>bank_license</th>\n",
       "      <th>author</th>\n",
       "      <th>bank_name</th>\n",
       "      <th>datetime</th>\n",
       "      <th>text</th>\n",
       "      <th>rating_grade</th>\n",
       "    </tr>\n",
       "  </thead>\n",
       "  <tbody>\n",
       "    <tr>\n",
       "      <th>98</th>\n",
       "      <td>г. Санкт-Петербург</td>\n",
       "      <td>False</td>\n",
       "      <td>Хорошо, когда проблемы решаются</td>\n",
       "      <td>0</td>\n",
       "      <td>лицензия № 1073</td>\n",
       "      <td>apka45</td>\n",
       "      <td>Русславбанк</td>\n",
       "      <td>2015-06-03 17:40:38</td>\n",
       "      <td>Досрочно закрывали вклады перед отпуском. Жена...</td>\n",
       "      <td>5.0</td>\n",
       "    </tr>\n",
       "    <tr>\n",
       "      <th>122</th>\n",
       "      <td>г. Нижний Новгород</td>\n",
       "      <td>False</td>\n",
       "      <td>Изменяют проценты по уже открытому договору вк...</td>\n",
       "      <td>3</td>\n",
       "      <td>лицензия № 226</td>\n",
       "      <td>20157673</td>\n",
       "      <td>РосинтерБанк</td>\n",
       "      <td>2015-06-04 09:38:18</td>\n",
       "      <td>Хотел открыть вклад \"Доходный+\" под 19% год , ...</td>\n",
       "      <td>5.0</td>\n",
       "    </tr>\n",
       "    <tr>\n",
       "      <th>157</th>\n",
       "      <td>г. Москва</td>\n",
       "      <td>False</td>\n",
       "      <td>Отделение Марксистская, дом 5: спасибо за помощь!</td>\n",
       "      <td>0</td>\n",
       "      <td>лицензия № 1623</td>\n",
       "      <td>ospar</td>\n",
       "      <td>ВТБ 24</td>\n",
       "      <td>2015-06-04 22:58:38</td>\n",
       "      <td>Вчера, 3 июня, просидев в очереди более 3-х ча...</td>\n",
       "      <td>5.0</td>\n",
       "    </tr>\n",
       "    <tr>\n",
       "      <th>259</th>\n",
       "      <td>г. Москва</td>\n",
       "      <td>False</td>\n",
       "      <td>Хорошее обслуживание</td>\n",
       "      <td>0</td>\n",
       "      <td>лицензия № 3206</td>\n",
       "      <td>ser-gyr</td>\n",
       "      <td>Соверен Банк</td>\n",
       "      <td>2015-06-02 18:23:41</td>\n",
       "      <td>Сегодня открывал вклад в этом банке. Очередь б...</td>\n",
       "      <td>5.0</td>\n",
       "    </tr>\n",
       "    <tr>\n",
       "      <th>266</th>\n",
       "      <td>г. Москва</td>\n",
       "      <td>False</td>\n",
       "      <td>Моя история получения кредита в Ренессанс Кред...</td>\n",
       "      <td>1</td>\n",
       "      <td>лицензия № 3354</td>\n",
       "      <td>SkaIa</td>\n",
       "      <td>Ренессанс Кредит</td>\n",
       "      <td>2015-06-03 02:03:28</td>\n",
       "      <td>Моя история получения кредита в Ренессанс Кред...</td>\n",
       "      <td>5.0</td>\n",
       "    </tr>\n",
       "  </tbody>\n",
       "</table>\n",
       "</div>"
      ],
      "text/plain": [
       "                   city  rating_not_checked  \\\n",
       "98   г. Санкт-Петербург               False   \n",
       "122  г. Нижний Новгород               False   \n",
       "157           г. Москва               False   \n",
       "259           г. Москва               False   \n",
       "266           г. Москва               False   \n",
       "\n",
       "                                                 title  num_comments  \\\n",
       "98                     Хорошо, когда проблемы решаются             0   \n",
       "122  Изменяют проценты по уже открытому договору вк...             3   \n",
       "157  Отделение Марксистская, дом 5: спасибо за помощь!             0   \n",
       "259                               Хорошее обслуживание             0   \n",
       "266  Моя история получения кредита в Ренессанс Кред...             1   \n",
       "\n",
       "        bank_license    author         bank_name             datetime  \\\n",
       "98   лицензия № 1073    apka45       Русславбанк  2015-06-03 17:40:38   \n",
       "122   лицензия № 226  20157673      РосинтерБанк  2015-06-04 09:38:18   \n",
       "157  лицензия № 1623     ospar            ВТБ 24  2015-06-04 22:58:38   \n",
       "259  лицензия № 3206   ser-gyr      Соверен Банк  2015-06-02 18:23:41   \n",
       "266  лицензия № 3354     SkaIa  Ренессанс Кредит  2015-06-03 02:03:28   \n",
       "\n",
       "                                                  text  rating_grade  \n",
       "98   Досрочно закрывали вклады перед отпуском. Жена...           5.0  \n",
       "122  Хотел открыть вклад \"Доходный+\" под 19% год , ...           5.0  \n",
       "157  Вчера, 3 июня, просидев в очереди более 3-х ча...           5.0  \n",
       "259  Сегодня открывал вклад в этом банке. Очередь б...           5.0  \n",
       "266  Моя история получения кредита в Ренессанс Кред...           5.0  "
      ]
     },
     "execution_count": 29,
     "metadata": {},
     "output_type": "execute_result"
    }
   ],
   "source": [
    "df_ratings_5.head()"
   ]
  },
  {
   "cell_type": "code",
   "execution_count": 11,
   "id": "c8a437ed",
   "metadata": {},
   "outputs": [],
   "source": [
    "from sklearn.feature_extraction.text import CountVectorizer\n",
    "from sklearn.feature_extraction.text import TfidfTransformer"
   ]
  },
  {
   "cell_type": "code",
   "execution_count": 41,
   "id": "0dbe4c84",
   "metadata": {},
   "outputs": [],
   "source": [
    "stops = stopwords.words('russian')+[char for char in punctuation]"
   ]
  },
  {
   "cell_type": "markdown",
   "id": "652e295f",
   "metadata": {},
   "source": [
    "Обучение tf-idf проведу на полном корпусе. Искать ключевые слова буду в отфильтрованных данных"
   ]
  },
  {
   "cell_type": "code",
   "execution_count": 43,
   "id": "d6bd4c66",
   "metadata": {},
   "outputs": [],
   "source": [
    "docs = df.text.to_list()"
   ]
  },
  {
   "cell_type": "code",
   "execution_count": 46,
   "id": "6c4b0725",
   "metadata": {},
   "outputs": [],
   "source": [
    "cv = CountVectorizer(ngram_range=(1, 1), stop_words=stops)\n",
    "word_count_vector=cv.fit_transform(docs)\n"
   ]
  },
  {
   "cell_type": "code",
   "execution_count": 47,
   "id": "20615ccb",
   "metadata": {},
   "outputs": [
    {
     "data": {
      "text/plain": [
       "(153499, 346827)"
      ]
     },
     "execution_count": 47,
     "metadata": {},
     "output_type": "execute_result"
    }
   ],
   "source": [
    "word_count_vector.shape"
   ]
  },
  {
   "cell_type": "markdown",
   "id": "09c39991",
   "metadata": {},
   "source": [
    "Количество фич очень велико. Ограничу размер обучаемого словаря с помощью max_features, 10000 наиболее частотных слов должно быть достаточно для выполнения задачи"
   ]
  },
  {
   "cell_type": "code",
   "execution_count": 48,
   "id": "ffda05ac",
   "metadata": {},
   "outputs": [],
   "source": [
    "cv = CountVectorizer(ngram_range=(1, 1), stop_words=stops, max_features=10000)\n",
    "word_count_vector=cv.fit_transform(docs)"
   ]
  },
  {
   "cell_type": "code",
   "execution_count": 49,
   "id": "a0873237",
   "metadata": {},
   "outputs": [
    {
     "data": {
      "text/plain": [
       "(153499, 10000)"
      ]
     },
     "execution_count": 49,
     "metadata": {},
     "output_type": "execute_result"
    }
   ],
   "source": [
    "word_count_vector.shape"
   ]
  },
  {
   "cell_type": "code",
   "execution_count": 50,
   "id": "bca23e34",
   "metadata": {},
   "outputs": [
    {
     "data": {
      "text/plain": [
       "['00',\n",
       " '000',\n",
       " '000107',\n",
       " '000407',\n",
       " '000912',\n",
       " '000913',\n",
       " '000р',\n",
       " '002207',\n",
       " '01',\n",
       " '02']"
      ]
     },
     "execution_count": 50,
     "metadata": {},
     "output_type": "execute_result"
    }
   ],
   "source": [
    "feature_names = cv.get_feature_names()\n",
    "feature_names[:10]"
   ]
  },
  {
   "cell_type": "code",
   "execution_count": 60,
   "id": "d921598d",
   "metadata": {},
   "outputs": [
    {
     "data": {
      "text/plain": [
       "TfidfTransformer()"
      ]
     },
     "execution_count": 60,
     "metadata": {},
     "output_type": "execute_result"
    }
   ],
   "source": [
    "trans=TfidfTransformer(smooth_idf=True)\n",
    "trans.fit(word_count_vector)"
   ]
  },
  {
   "cell_type": "code",
   "execution_count": 59,
   "id": "5e84448c",
   "metadata": {},
   "outputs": [],
   "source": [
    "# вспомогательные функции для получения наиболее значимых ключевых слов\n",
    "\n",
    "def sort_coo(coo_matrix):\n",
    "    tuples = zip(coo_matrix.col, coo_matrix.data)\n",
    "    return sorted(tuples, key=lambda x: (x[1], x[0]), reverse=True)\n",
    "\n",
    "def extract_topn_from_vector(feature_names, sorted_items, topn=10):\n",
    "    \"\"\"get the feature names and tf-idf score of top n items\"\"\"\n",
    "\n",
    "    sorted_items = sorted_items[:topn]\n",
    "\n",
    "    score_vals = []\n",
    "    feature_vals = []\n",
    "\n",
    "    for idx, score in sorted_items:\n",
    "        fname = feature_names[idx]\n",
    "        \n",
    "        score_vals.append(round(score, 3))\n",
    "        feature_vals.append(feature_names[idx])\n",
    "\n",
    "    results= {}\n",
    "    for idx in range(len(feature_vals)):\n",
    "        results[feature_vals[idx]]=score_vals[idx]\n",
    "    \n",
    "    return results"
   ]
  },
  {
   "cell_type": "code",
   "execution_count": 63,
   "id": "022553a8",
   "metadata": {},
   "outputs": [
    {
     "name": "stdout",
     "output_type": "stream",
     "text": [
      "\n",
      "=====Text=====\n",
      "Открыт вклад и счет в USD. Плюс к этому есть зарплатная карта, в рублях, само собой. Сегодня пришел в указанное отделение с целью пополнить долларовый счёт на 700 USD. Дал операционисту паспорт, зарплатную карту (т.к. на окошке написано \"приготовьте карту для подтверждения операции\" или что-то подобное и в прошлый раз у меня ее потребовали) и сказал, что нужно положить деньги на ДОЛЛАРОВЫЙ счет. Операционист всё взяла, что-то делала-крутила-вертела, вставила карту в терминал, сказала \"введите пин\", я ввёл пин, получил в ответ чек, где было написано, что доллары были внесены.... на счёт КАРТЫ! в РУБЛЯХ! Вопрос банку №1, риторический:  Я не понимаю, кем нужно быть, чтобы сознательно проводить такие операции??? за углом, меньше чем через квартал, курс приёма валюты выше почти на рубль! Если я действительно хотел совершить такую \"хитрую\" операцию, мне было выгоднее сделать 100 шагов и \"заработать\" на этом около 700 рублей, после чего просто внести рубли на счёт карты в банкомате! Далее...  После долгих, около двух часов, выяснений отношений с операционистом и (видимо) ее начальником, их попыток отменить первую транзакцию и т.д. и т.п., мы \"сошлись\" на том, что мне компенсируют курсовую разницу между зачислением долларов на рублёвую карту (54,6 руб/доллар, со СЛОВ операциониста) и курсом покупки валюты (58,7 руб/доллар), я куплю за наличные те же 700 долларов и положу их на долларовый счёт. Также я попросил указать на чеке курс, по которому прошла первая транзакция (доллары на рублёвый счёт, 54,6) и поставить печать.  Доллары поступили на счёт через 3 часа и по курсу (тадааам!) 54,38. Комиссия банка? или что это было?. Опять же, операционист не знает о комиссиях или курсах проведения операции? Вывод 1:  В итоге я потерял 2 часа времени, нервы и (фиг уж с ними) 154 рубля. Вывод 2:  другим клиентам: требуйте распечатки тех операций, которые собирается провести операционист ДО их проведения. Если бы не было \"высокотехнологичного\" подтверждения операции PIN'ом, а была обычная платёжка, всего этого можно было бы избежать. Вопрос банку №2, риторический:   Сбер, когда вы будете брать на работу компетентных сотрудников? Которые способны думать или, хотя бы, слушать, что их просят сделать?\n",
      "\n",
      "===Keywords===\n",
      "счёт 0.308\n",
      "долларовый 0.243\n",
      "54 0.215\n",
      "доллары 0.202\n",
      "700 0.187\n"
     ]
    }
   ],
   "source": [
    "# проверим на 1 документе\n",
    "doc_test=df_ratings_1.iloc[0].text\n",
    "\n",
    "tf_idf_vector=trans.transform(cv.transform([doc_test]))\n",
    "sorted_items=sort_coo(tf_idf_vector.tocoo())\n",
    "\n",
    "# извлекаю 5 ключевых слов\n",
    "keywords=extract_topn_from_vector(feature_names,sorted_items,5)\n",
    "\n",
    "print(\"\\n=====Text=====\")\n",
    "print(doc_test)\n",
    "\n",
    "print(\"\\n===Keywords===\")\n",
    "for k in keywords:\n",
    "    print(k,keywords[k])"
   ]
  },
  {
   "cell_type": "code",
   "execution_count": 76,
   "id": "77efcbf5",
   "metadata": {},
   "outputs": [],
   "source": [
    "def extract_keywords_in_docs_list(docs_list, cv, trans, feature_names):\n",
    "\n",
    "    tf_idf_vector=trans.transform(cv.transform(docs_list))\n",
    "\n",
    "    results=[]\n",
    "    for i in range(tf_idf_vector.shape[0]):\n",
    "\n",
    "        curr_vector=tf_idf_vector[i]\n",
    "        sorted_items=sort_coo(curr_vector.tocoo())\n",
    "        keywords=extract_topn_from_vector(feature_names,sorted_items,5)\n",
    "\n",
    "        results.append(keywords)\n",
    "\n",
    "    df_results=pd.DataFrame(zip(docs,results),columns=['doc','keywords'])\n",
    "    return df_results\n",
    "    "
   ]
  },
  {
   "cell_type": "code",
   "execution_count": 66,
   "id": "03eea432",
   "metadata": {},
   "outputs": [],
   "source": [
    "# выделим ключевые слова для отзывов с рейтингом 1\n",
    "\n",
    "docs_1 = df_ratings_1.text.to_list()\n",
    "df_results_1 = extract_keywords_in_docs_list(docs_1, cv, trans, feature_names)\n"
   ]
  },
  {
   "cell_type": "code",
   "execution_count": 67,
   "id": "fc15ffa9",
   "metadata": {},
   "outputs": [
    {
     "data": {
      "text/html": [
       "<div>\n",
       "<style scoped>\n",
       "    .dataframe tbody tr th:only-of-type {\n",
       "        vertical-align: middle;\n",
       "    }\n",
       "\n",
       "    .dataframe tbody tr th {\n",
       "        vertical-align: top;\n",
       "    }\n",
       "\n",
       "    .dataframe thead th {\n",
       "        text-align: right;\n",
       "    }\n",
       "</style>\n",
       "<table border=\"1\" class=\"dataframe\">\n",
       "  <thead>\n",
       "    <tr style=\"text-align: right;\">\n",
       "      <th></th>\n",
       "      <th>doc</th>\n",
       "      <th>keywords</th>\n",
       "    </tr>\n",
       "  </thead>\n",
       "  <tbody>\n",
       "    <tr>\n",
       "      <th>0</th>\n",
       "      <td>Добрый день! Я не являюсь клиентом банка и пор...</td>\n",
       "      <td>{'счёт': 0.308, 'долларовый': 0.243, '54': 0.2...</td>\n",
       "    </tr>\n",
       "    <tr>\n",
       "      <th>1</th>\n",
       "      <td>Доброго дня! Являюсь держателем зарплатной кар...</td>\n",
       "      <td>{'страховки': 0.42, 'одобренный': 0.281, 'стра...</td>\n",
       "    </tr>\n",
       "    <tr>\n",
       "      <th>2</th>\n",
       "      <td>Здравствуйте!  Дублирую свое заявление от 03.0...</td>\n",
       "      <td>{'взносы': 0.251, 'договора': 0.239, 'дополнит...</td>\n",
       "    </tr>\n",
       "    <tr>\n",
       "      <th>3</th>\n",
       "      <td>Добрый день!! Я открыл расчетный счет в СберБа...</td>\n",
       "      <td>{'найден': 0.481, 'счет': 0.248, 'лицевой': 0....</td>\n",
       "    </tr>\n",
       "    <tr>\n",
       "      <th>4</th>\n",
       "      <td>04.03.2015 г. взяла кредит в вашем банке, заяв...</td>\n",
       "      <td>{'квитанции': 0.323, 'положила': 0.252, 'подав...</td>\n",
       "    </tr>\n",
       "  </tbody>\n",
       "</table>\n",
       "</div>"
      ],
      "text/plain": [
       "                                                 doc  \\\n",
       "0  Добрый день! Я не являюсь клиентом банка и пор...   \n",
       "1  Доброго дня! Являюсь держателем зарплатной кар...   \n",
       "2  Здравствуйте!  Дублирую свое заявление от 03.0...   \n",
       "3  Добрый день!! Я открыл расчетный счет в СберБа...   \n",
       "4  04.03.2015 г. взяла кредит в вашем банке, заяв...   \n",
       "\n",
       "                                            keywords  \n",
       "0  {'счёт': 0.308, 'долларовый': 0.243, '54': 0.2...  \n",
       "1  {'страховки': 0.42, 'одобренный': 0.281, 'стра...  \n",
       "2  {'взносы': 0.251, 'договора': 0.239, 'дополнит...  \n",
       "3  {'найден': 0.481, 'счет': 0.248, 'лицевой': 0....  \n",
       "4  {'квитанции': 0.323, 'положила': 0.252, 'подав...  "
      ]
     },
     "execution_count": 67,
     "metadata": {},
     "output_type": "execute_result"
    }
   ],
   "source": [
    "df_results_1.head()"
   ]
  },
  {
   "cell_type": "code",
   "execution_count": 68,
   "id": "506d9d20",
   "metadata": {},
   "outputs": [],
   "source": [
    "# выделим ключевые слова для отзывов с рейтингом 5\n",
    "\n",
    "docs_5 = df_ratings_5.text.to_list()\n",
    "df_results_5 = extract_keywords_in_docs_list(docs_5, cv, trans, feature_names)"
   ]
  },
  {
   "cell_type": "code",
   "execution_count": 69,
   "id": "97bc4547",
   "metadata": {},
   "outputs": [
    {
     "data": {
      "text/html": [
       "<div>\n",
       "<style scoped>\n",
       "    .dataframe tbody tr th:only-of-type {\n",
       "        vertical-align: middle;\n",
       "    }\n",
       "\n",
       "    .dataframe tbody tr th {\n",
       "        vertical-align: top;\n",
       "    }\n",
       "\n",
       "    .dataframe thead th {\n",
       "        text-align: right;\n",
       "    }\n",
       "</style>\n",
       "<table border=\"1\" class=\"dataframe\">\n",
       "  <thead>\n",
       "    <tr style=\"text-align: right;\">\n",
       "      <th></th>\n",
       "      <th>doc</th>\n",
       "      <th>keywords</th>\n",
       "    </tr>\n",
       "  </thead>\n",
       "  <tbody>\n",
       "    <tr>\n",
       "      <th>0</th>\n",
       "      <td>Добрый день! Я не являюсь клиентом банка и пор...</td>\n",
       "      <td>{'вклады': 0.303, 'закрывали': 0.24, 'лишнего'...</td>\n",
       "    </tr>\n",
       "    <tr>\n",
       "      <th>1</th>\n",
       "      <td>Доброго дня! Являюсь держателем зарплатной кар...</td>\n",
       "      <td>{'доходный': 0.368, 'вклада': 0.294, 'вклад': ...</td>\n",
       "    </tr>\n",
       "    <tr>\n",
       "      <th>2</th>\n",
       "      <td>Здравствуйте!  Дублирую свое заявление от 03.0...</td>\n",
       "      <td>{'выплат': 0.308, 'июня': 0.229, 'просидев': 0...</td>\n",
       "    </tr>\n",
       "    <tr>\n",
       "      <th>3</th>\n",
       "      <td>Добрый день!! Я открыл расчетный счет в СберБа...</td>\n",
       "      <td>{'отмечу': 0.325, 'наличие': 0.284, 'зав': 0.1...</td>\n",
       "    </tr>\n",
       "    <tr>\n",
       "      <th>4</th>\n",
       "      <td>04.03.2015 г. взяла кредит в вашем банке, заяв...</td>\n",
       "      <td>{'страховки': 0.218, 'кредита': 0.185, 'пора':...</td>\n",
       "    </tr>\n",
       "  </tbody>\n",
       "</table>\n",
       "</div>"
      ],
      "text/plain": [
       "                                                 doc  \\\n",
       "0  Добрый день! Я не являюсь клиентом банка и пор...   \n",
       "1  Доброго дня! Являюсь держателем зарплатной кар...   \n",
       "2  Здравствуйте!  Дублирую свое заявление от 03.0...   \n",
       "3  Добрый день!! Я открыл расчетный счет в СберБа...   \n",
       "4  04.03.2015 г. взяла кредит в вашем банке, заяв...   \n",
       "\n",
       "                                            keywords  \n",
       "0  {'вклады': 0.303, 'закрывали': 0.24, 'лишнего'...  \n",
       "1  {'доходный': 0.368, 'вклада': 0.294, 'вклад': ...  \n",
       "2  {'выплат': 0.308, 'июня': 0.229, 'просидев': 0...  \n",
       "3  {'отмечу': 0.325, 'наличие': 0.284, 'зав': 0.1...  \n",
       "4  {'страховки': 0.218, 'кредита': 0.185, 'пора':...  "
      ]
     },
     "execution_count": 69,
     "metadata": {},
     "output_type": "execute_result"
    }
   ],
   "source": [
    "df_results_5.head()"
   ]
  },
  {
   "cell_type": "markdown",
   "id": "766475bf",
   "metadata": {},
   "source": [
    "повторим для биграмм"
   ]
  },
  {
   "cell_type": "code",
   "execution_count": 72,
   "id": "54290ac7",
   "metadata": {},
   "outputs": [],
   "source": [
    "cv_2 = CountVectorizer(ngram_range=(2, 2), stop_words=stops, max_features=10000)\n",
    "word_count_vector_2=cv_2.fit_transform(docs)"
   ]
  },
  {
   "cell_type": "code",
   "execution_count": 73,
   "id": "60b4820f",
   "metadata": {},
   "outputs": [
    {
     "data": {
      "text/plain": [
       "['00 00',\n",
       " '00 05',\n",
       " '00 14',\n",
       " '00 15',\n",
       " '00 16',\n",
       " '00 17',\n",
       " '00 18',\n",
       " '00 19',\n",
       " '00 20',\n",
       " '00 21']"
      ]
     },
     "execution_count": 73,
     "metadata": {},
     "output_type": "execute_result"
    }
   ],
   "source": [
    "feature_names_2 = cv_2.get_feature_names()\n",
    "feature_names_2[:10]"
   ]
  },
  {
   "cell_type": "code",
   "execution_count": 74,
   "id": "e1714bdf",
   "metadata": {},
   "outputs": [
    {
     "data": {
      "text/plain": [
       "TfidfTransformer()"
      ]
     },
     "execution_count": 74,
     "metadata": {},
     "output_type": "execute_result"
    }
   ],
   "source": [
    "trans_2=TfidfTransformer(smooth_idf=True)\n",
    "trans_2.fit(word_count_vector_2)"
   ]
  },
  {
   "cell_type": "code",
   "execution_count": 75,
   "id": "c009dbd3",
   "metadata": {},
   "outputs": [
    {
     "name": "stdout",
     "output_type": "stream",
     "text": [
      "\n",
      "=====Text=====\n",
      "Открыт вклад и счет в USD. Плюс к этому есть зарплатная карта, в рублях, само собой. Сегодня пришел в указанное отделение с целью пополнить долларовый счёт на 700 USD. Дал операционисту паспорт, зарплатную карту (т.к. на окошке написано \"приготовьте карту для подтверждения операции\" или что-то подобное и в прошлый раз у меня ее потребовали) и сказал, что нужно положить деньги на ДОЛЛАРОВЫЙ счет. Операционист всё взяла, что-то делала-крутила-вертела, вставила карту в терминал, сказала \"введите пин\", я ввёл пин, получил в ответ чек, где было написано, что доллары были внесены.... на счёт КАРТЫ! в РУБЛЯХ! Вопрос банку №1, риторический:  Я не понимаю, кем нужно быть, чтобы сознательно проводить такие операции??? за углом, меньше чем через квартал, курс приёма валюты выше почти на рубль! Если я действительно хотел совершить такую \"хитрую\" операцию, мне было выгоднее сделать 100 шагов и \"заработать\" на этом около 700 рублей, после чего просто внести рубли на счёт карты в банкомате! Далее...  После долгих, около двух часов, выяснений отношений с операционистом и (видимо) ее начальником, их попыток отменить первую транзакцию и т.д. и т.п., мы \"сошлись\" на том, что мне компенсируют курсовую разницу между зачислением долларов на рублёвую карту (54,6 руб/доллар, со СЛОВ операциониста) и курсом покупки валюты (58,7 руб/доллар), я куплю за наличные те же 700 долларов и положу их на долларовый счёт. Также я попросил указать на чеке курс, по которому прошла первая транзакция (доллары на рублёвый счёт, 54,6) и поставить печать.  Доллары поступили на счёт через 3 часа и по курсу (тадааам!) 54,38. Комиссия банка? или что это было?. Опять же, операционист не знает о комиссиях или курсах проведения операции? Вывод 1:  В итоге я потерял 2 часа времени, нервы и (фиг уж с ними) 154 рубля. Вывод 2:  другим клиентам: требуйте распечатки тех операций, которые собирается провести операционист ДО их проведения. Если бы не было \"высокотехнологичного\" подтверждения операции PIN'ом, а была обычная платёжка, всего этого можно было бы избежать. Вопрос банку №2, риторический:   Сбер, когда вы будете брать на работу компетентных сотрудников? Которые способны думать или, хотя бы, слушать, что их просят сделать?\n",
      "\n",
      "===Keywords===\n",
      "подтверждения операции 0.376\n",
      "счёт карты 0.367\n",
      "вопрос банку 0.318\n",
      "комиссия банка 0.193\n",
      "другим клиентам 0.193\n"
     ]
    }
   ],
   "source": [
    "# проверим на 1 документе\n",
    "doc_test=df_ratings_1.iloc[0].text\n",
    "\n",
    "tf_idf_vector=trans_2.transform(cv_2.transform([doc_test]))\n",
    "sorted_items=sort_coo(tf_idf_vector.tocoo())\n",
    "\n",
    "# извлекаю 5 ключевых слов\n",
    "keywords=extract_topn_from_vector(feature_names_2,sorted_items,5)\n",
    "\n",
    "print(\"\\n=====Text=====\")\n",
    "print(doc_test)\n",
    "\n",
    "print(\"\\n===Keywords===\")\n",
    "for k in keywords:\n",
    "    print(k,keywords[k])"
   ]
  },
  {
   "cell_type": "code",
   "execution_count": 77,
   "id": "549671a0",
   "metadata": {},
   "outputs": [
    {
     "data": {
      "text/html": [
       "<div>\n",
       "<style scoped>\n",
       "    .dataframe tbody tr th:only-of-type {\n",
       "        vertical-align: middle;\n",
       "    }\n",
       "\n",
       "    .dataframe tbody tr th {\n",
       "        vertical-align: top;\n",
       "    }\n",
       "\n",
       "    .dataframe thead th {\n",
       "        text-align: right;\n",
       "    }\n",
       "</style>\n",
       "<table border=\"1\" class=\"dataframe\">\n",
       "  <thead>\n",
       "    <tr style=\"text-align: right;\">\n",
       "      <th></th>\n",
       "      <th>doc</th>\n",
       "      <th>keywords</th>\n",
       "    </tr>\n",
       "  </thead>\n",
       "  <tbody>\n",
       "    <tr>\n",
       "      <th>0</th>\n",
       "      <td>Добрый день! Я не являюсь клиентом банка и пор...</td>\n",
       "      <td>{'подтверждения операции': 0.376, 'счёт карты'...</td>\n",
       "    </tr>\n",
       "    <tr>\n",
       "      <th>1</th>\n",
       "      <td>Доброго дня! Являюсь держателем зарплатной кар...</td>\n",
       "      <td>{'кредит сотрудник': 0.193, 'одобренный кредит...</td>\n",
       "    </tr>\n",
       "    <tr>\n",
       "      <th>2</th>\n",
       "      <td>Здравствуйте!  Дублирую свое заявление от 03.0...</td>\n",
       "      <td>{'го июня': 0.304, '05 06': 0.282, 'течение ср...</td>\n",
       "    </tr>\n",
       "    <tr>\n",
       "      <th>3</th>\n",
       "      <td>Добрый день!! Я открыл расчетный счет в СберБа...</td>\n",
       "      <td>{'возможность пополнения': 0.342, 'пластиковой...</td>\n",
       "    </tr>\n",
       "    <tr>\n",
       "      <th>4</th>\n",
       "      <td>04.03.2015 г. взяла кредит в вашем банке, заяв...</td>\n",
       "      <td>{'свой счет': 0.351, '02 06': 0.24, 'итоге ска...</td>\n",
       "    </tr>\n",
       "  </tbody>\n",
       "</table>\n",
       "</div>"
      ],
      "text/plain": [
       "                                                 doc  \\\n",
       "0  Добрый день! Я не являюсь клиентом банка и пор...   \n",
       "1  Доброго дня! Являюсь держателем зарплатной кар...   \n",
       "2  Здравствуйте!  Дублирую свое заявление от 03.0...   \n",
       "3  Добрый день!! Я открыл расчетный счет в СберБа...   \n",
       "4  04.03.2015 г. взяла кредит в вашем банке, заяв...   \n",
       "\n",
       "                                            keywords  \n",
       "0  {'подтверждения операции': 0.376, 'счёт карты'...  \n",
       "1  {'кредит сотрудник': 0.193, 'одобренный кредит...  \n",
       "2  {'го июня': 0.304, '05 06': 0.282, 'течение ср...  \n",
       "3  {'возможность пополнения': 0.342, 'пластиковой...  \n",
       "4  {'свой счет': 0.351, '02 06': 0.24, 'итоге ска...  "
      ]
     },
     "execution_count": 77,
     "metadata": {},
     "output_type": "execute_result"
    }
   ],
   "source": [
    "# выделим ключевые биграммы для отзывов с рейтингом 1\n",
    "\n",
    "df_results_1_bigramms = extract_keywords_in_docs_list(docs_1, cv_2, trans_2, feature_names_2)\n",
    "df_results_1_bigramms.head()"
   ]
  },
  {
   "cell_type": "code",
   "execution_count": 78,
   "id": "81e7973a",
   "metadata": {},
   "outputs": [
    {
     "data": {
      "text/html": [
       "<div>\n",
       "<style scoped>\n",
       "    .dataframe tbody tr th:only-of-type {\n",
       "        vertical-align: middle;\n",
       "    }\n",
       "\n",
       "    .dataframe tbody tr th {\n",
       "        vertical-align: top;\n",
       "    }\n",
       "\n",
       "    .dataframe thead th {\n",
       "        text-align: right;\n",
       "    }\n",
       "</style>\n",
       "<table border=\"1\" class=\"dataframe\">\n",
       "  <thead>\n",
       "    <tr style=\"text-align: right;\">\n",
       "      <th></th>\n",
       "      <th>doc</th>\n",
       "      <th>keywords</th>\n",
       "    </tr>\n",
       "  </thead>\n",
       "  <tbody>\n",
       "    <tr>\n",
       "      <th>0</th>\n",
       "      <td>Добрый день! Я не являюсь клиентом банка и пор...</td>\n",
       "      <td>{'банка спб': 0.675, 'быстро профессионально':...</td>\n",
       "    </tr>\n",
       "    <tr>\n",
       "      <th>1</th>\n",
       "      <td>Доброго дня! Являюсь держателем зарплатной кар...</td>\n",
       "      <td>{'счет вклада': 0.497, 'открыли счет': 0.32, '...</td>\n",
       "    </tr>\n",
       "    <tr>\n",
       "      <th>2</th>\n",
       "      <td>Здравствуйте!  Дублирую свое заявление от 03.0...</td>\n",
       "      <td>{'00 22': 0.285, 'закрытия отделения': 0.285, ...</td>\n",
       "    </tr>\n",
       "    <tr>\n",
       "      <th>3</th>\n",
       "      <td>Добрый день!! Я открыл расчетный счет в СберБа...</td>\n",
       "      <td>{'зав отделением': 0.357, 'одном другом': 0.35...</td>\n",
       "    </tr>\n",
       "    <tr>\n",
       "      <th>4</th>\n",
       "      <td>04.03.2015 г. взяла кредит в вашем банке, заяв...</td>\n",
       "      <td>{'1200 рублей': 0.216, 'информацию обо': 0.215...</td>\n",
       "    </tr>\n",
       "  </tbody>\n",
       "</table>\n",
       "</div>"
      ],
      "text/plain": [
       "                                                 doc  \\\n",
       "0  Добрый день! Я не являюсь клиентом банка и пор...   \n",
       "1  Доброго дня! Являюсь держателем зарплатной кар...   \n",
       "2  Здравствуйте!  Дублирую свое заявление от 03.0...   \n",
       "3  Добрый день!! Я открыл расчетный счет в СберБа...   \n",
       "4  04.03.2015 г. взяла кредит в вашем банке, заяв...   \n",
       "\n",
       "                                            keywords  \n",
       "0  {'банка спб': 0.675, 'быстро профессионально':...  \n",
       "1  {'счет вклада': 0.497, 'открыли счет': 0.32, '...  \n",
       "2  {'00 22': 0.285, 'закрытия отделения': 0.285, ...  \n",
       "3  {'зав отделением': 0.357, 'одном другом': 0.35...  \n",
       "4  {'1200 рублей': 0.216, 'информацию обо': 0.215...  "
      ]
     },
     "execution_count": 78,
     "metadata": {},
     "output_type": "execute_result"
    }
   ],
   "source": [
    "# выделим ключевые биграммы для отзывов с рейтингом 5\n",
    "\n",
    "df_results_5_bigramms = extract_keywords_in_docs_list(docs_5, cv_2, trans_2, feature_names_2)\n",
    "df_results_5_bigramms.head()"
   ]
  },
  {
   "cell_type": "markdown",
   "id": "6ec3e704",
   "metadata": {},
   "source": [
    "### Часть 2. Тематическое моделирование"
   ]
  },
  {
   "cell_type": "markdown",
   "id": "7dffb79e",
   "metadata": {},
   "source": [
    "1. Постройте несколько тематических моделей коллекции документов с разным числом тем. Приведите примеры понятных (интерпретируемых) тем.\n",
    "2. Найдите темы, в которых упомянуты конкретные банки (Сбербанк, ВТБ, другой банк). Можете ли вы их прокомментировать / объяснить?\n",
    "\n",
    "Эта часть задания может быть сделана с использованием gensim."
   ]
  },
  {
   "cell_type": "markdown",
   "id": "0c002fd9",
   "metadata": {},
   "source": [
    "Вначале предобработаем данные в самом датафрейме"
   ]
  },
  {
   "cell_type": "code",
   "execution_count": 109,
   "id": "ce61bb2a",
   "metadata": {},
   "outputs": [],
   "source": [
    "df_copy = df.copy()"
   ]
  },
  {
   "cell_type": "code",
   "execution_count": 115,
   "id": "cc13de3f",
   "metadata": {},
   "outputs": [],
   "source": [
    "mystopwords = stops + [\n",
    "    'это', 'наш' , 'тыс', 'млн', 'млрд', 'также',  'т', 'д',\n",
    "    'который','прошлый','сей', 'свой', 'такой'\n",
    "]\n",
    "ru_words = re.compile(\"[А-Яа-я]+\")\n",
    "\n",
    "\n",
    "def words_only(text):\n",
    "    return \" \".join(ru_words.findall(text))\n",
    "\n",
    "\n",
    "def lemmatize(text, mystem=morph):\n",
    "    try:\n",
    "        words = text.split() # разбиваем текст на слова\n",
    "        res = list()\n",
    "        for word in words:\n",
    "            p = morph.parse(word)[0]\n",
    "            res.append(p.normal_form)\n",
    "        return \" \".join(res).strip() \n",
    "    except:\n",
    "        return \" \"\n",
    "\n",
    "\n",
    "def remove_stopwords(text, mystopwords = mystopwords):\n",
    "    try:\n",
    "        return \" \".join([token for token in text.split() if not token in mystopwords])\n",
    "    except:\n",
    "        return \"\"\n",
    "\n",
    "    \n",
    "def preprocess(text):\n",
    "    return remove_stopwords(lemmatize(words_only(text.lower())))"
   ]
  },
  {
   "cell_type": "code",
   "execution_count": 117,
   "id": "e4813756",
   "metadata": {},
   "outputs": [],
   "source": [
    "df_copy.text = df_copy.text.apply(preprocess)"
   ]
  },
  {
   "cell_type": "code",
   "execution_count": 118,
   "id": "d0cfbc4d",
   "metadata": {},
   "outputs": [],
   "source": [
    "df_copy.to_csv('responces_cleaned.csv')"
   ]
  },
  {
   "cell_type": "code",
   "execution_count": 119,
   "id": "8b267306",
   "metadata": {},
   "outputs": [
    {
     "data": {
      "text/html": [
       "<div>\n",
       "<style scoped>\n",
       "    .dataframe tbody tr th:only-of-type {\n",
       "        vertical-align: middle;\n",
       "    }\n",
       "\n",
       "    .dataframe tbody tr th {\n",
       "        vertical-align: top;\n",
       "    }\n",
       "\n",
       "    .dataframe thead th {\n",
       "        text-align: right;\n",
       "    }\n",
       "</style>\n",
       "<table border=\"1\" class=\"dataframe\">\n",
       "  <thead>\n",
       "    <tr style=\"text-align: right;\">\n",
       "      <th></th>\n",
       "      <th>city</th>\n",
       "      <th>rating_not_checked</th>\n",
       "      <th>title</th>\n",
       "      <th>num_comments</th>\n",
       "      <th>bank_license</th>\n",
       "      <th>author</th>\n",
       "      <th>bank_name</th>\n",
       "      <th>datetime</th>\n",
       "      <th>text</th>\n",
       "      <th>rating_grade</th>\n",
       "    </tr>\n",
       "  </thead>\n",
       "  <tbody>\n",
       "    <tr>\n",
       "      <th>0</th>\n",
       "      <td>г. Москва</td>\n",
       "      <td>False</td>\n",
       "      <td>Жалоба</td>\n",
       "      <td>0</td>\n",
       "      <td>лицензия № 2562</td>\n",
       "      <td>uhnov1</td>\n",
       "      <td>Бинбанк</td>\n",
       "      <td>2015-06-08 12:50:54</td>\n",
       "      <td>добрый день являться клиент банк поручитель кр...</td>\n",
       "      <td>NaN</td>\n",
       "    </tr>\n",
       "    <tr>\n",
       "      <th>1</th>\n",
       "      <td>г. Новосибирск</td>\n",
       "      <td>False</td>\n",
       "      <td>Не могу пользоваться услугой Сбербанк он-лайн</td>\n",
       "      <td>0</td>\n",
       "      <td>лицензия № 1481</td>\n",
       "      <td>Foryou</td>\n",
       "      <td>Сбербанк России</td>\n",
       "      <td>2015-06-08 11:09:57</td>\n",
       "      <td>добрый день являться держатель зарплатный карт...</td>\n",
       "      <td>NaN</td>\n",
       "    </tr>\n",
       "    <tr>\n",
       "      <th>2</th>\n",
       "      <td>г. Москва</td>\n",
       "      <td>False</td>\n",
       "      <td>Двойное списание за один товар.</td>\n",
       "      <td>1</td>\n",
       "      <td>лицензия № 2562</td>\n",
       "      <td>Vladimir84</td>\n",
       "      <td>Бинбанк</td>\n",
       "      <td>2015-06-05 20:14:28</td>\n",
       "      <td>здравствуйте дублировать заявление можайский д...</td>\n",
       "      <td>NaN</td>\n",
       "    </tr>\n",
       "    <tr>\n",
       "      <th>3</th>\n",
       "      <td>г. Ставрополь</td>\n",
       "      <td>False</td>\n",
       "      <td>Меняют проценты комиссии  не предупредив и не ...</td>\n",
       "      <td>2</td>\n",
       "      <td>лицензия № 1481</td>\n",
       "      <td>643609</td>\n",
       "      <td>Сбербанк России</td>\n",
       "      <td>2015-06-05 13:51:01</td>\n",
       "      <td>добрый день открыть расчётный счёт сбербанк юр...</td>\n",
       "      <td>NaN</td>\n",
       "    </tr>\n",
       "    <tr>\n",
       "      <th>4</th>\n",
       "      <td>г. Челябинск</td>\n",
       "      <td>False</td>\n",
       "      <td>Верните денежные средства за страховку</td>\n",
       "      <td>1</td>\n",
       "      <td>лицензия № 2766</td>\n",
       "      <td>anfisa-2003</td>\n",
       "      <td>ОТП Банк</td>\n",
       "      <td>2015-06-05 10:58:12</td>\n",
       "      <td>г взять кредит ваш банк заявить сумма рубль го...</td>\n",
       "      <td>NaN</td>\n",
       "    </tr>\n",
       "  </tbody>\n",
       "</table>\n",
       "</div>"
      ],
      "text/plain": [
       "             city  rating_not_checked  \\\n",
       "0       г. Москва               False   \n",
       "1  г. Новосибирск               False   \n",
       "2       г. Москва               False   \n",
       "3   г. Ставрополь               False   \n",
       "4    г. Челябинск               False   \n",
       "\n",
       "                                               title  num_comments  \\\n",
       "0                                             Жалоба             0   \n",
       "1      Не могу пользоваться услугой Сбербанк он-лайн             0   \n",
       "2                    Двойное списание за один товар.             1   \n",
       "3  Меняют проценты комиссии  не предупредив и не ...             2   \n",
       "4             Верните денежные средства за страховку             1   \n",
       "\n",
       "      bank_license       author        bank_name             datetime  \\\n",
       "0  лицензия № 2562       uhnov1          Бинбанк  2015-06-08 12:50:54   \n",
       "1  лицензия № 1481       Foryou  Сбербанк России  2015-06-08 11:09:57   \n",
       "2  лицензия № 2562   Vladimir84          Бинбанк  2015-06-05 20:14:28   \n",
       "3  лицензия № 1481       643609  Сбербанк России  2015-06-05 13:51:01   \n",
       "4  лицензия № 2766  anfisa-2003         ОТП Банк  2015-06-05 10:58:12   \n",
       "\n",
       "                                                text  rating_grade  \n",
       "0  добрый день являться клиент банк поручитель кр...           NaN  \n",
       "1  добрый день являться держатель зарплатный карт...           NaN  \n",
       "2  здравствуйте дублировать заявление можайский д...           NaN  \n",
       "3  добрый день открыть расчётный счёт сбербанк юр...           NaN  \n",
       "4  г взять кредит ваш банк заявить сумма рубль го...           NaN  "
      ]
     },
     "execution_count": 119,
     "metadata": {},
     "output_type": "execute_result"
    }
   ],
   "source": [
    "df_copy.head()"
   ]
  },
  {
   "cell_type": "code",
   "execution_count": 12,
   "id": "e59573c3",
   "metadata": {},
   "outputs": [],
   "source": [
    "from gensim.corpora import Dictionary\n",
    "from gensim.models import TfidfModel\n",
    "from gensim import similarities\n",
    "from gensim.models import lsimodel"
   ]
  },
  {
   "cell_type": "code",
   "execution_count": 122,
   "id": "59e3e23f",
   "metadata": {},
   "outputs": [],
   "source": [
    "# готовим корпус для модели lsi\n",
    "\n",
    "texts = [text.split() for text in df_copy.text]\n",
    "dictionary = Dictionary(texts)\n",
    "corpus = [dictionary.doc2bow(text) for text in texts]"
   ]
  },
  {
   "cell_type": "code",
   "execution_count": 123,
   "id": "398f5ac6",
   "metadata": {},
   "outputs": [],
   "source": [
    "tfidf = TfidfModel(corpus)\n",
    "corpus_tfidf = tfidf[corpus]"
   ]
  },
  {
   "cell_type": "code",
   "execution_count": 124,
   "id": "fcea0ac0",
   "metadata": {},
   "outputs": [],
   "source": [
    "lsi = lsimodel.LsiModel(corpus=corpus_tfidf, id2word=dictionary, num_topics=30)"
   ]
  },
  {
   "cell_type": "code",
   "execution_count": 135,
   "id": "dc3c330e",
   "metadata": {},
   "outputs": [
    {
     "data": {
      "text/plain": [
       "[(0,\n",
       "  '0.197*\"карта\" + 0.135*\"кредит\" + 0.116*\"деньга\" + 0.110*\"заявление\" + 0.108*\"счёт\" + 0.102*\"банкомат\" + 0.102*\"вклад\" + 0.101*\"отделение\" + 0.097*\"сбербанк\" + 0.097*\"сумма\"'),\n",
       " (1,\n",
       "  '0.365*\"кредит\" + -0.364*\"вклад\" + -0.224*\"банкомат\" + -0.179*\"карта\" + 0.169*\"страховка\" + 0.146*\"задолженность\" + 0.142*\"платёж\" + 0.140*\"погашение\" + -0.125*\"деньга\" + 0.117*\"звонок\"'),\n",
       " (2,\n",
       "  '-0.516*\"вклад\" + 0.271*\"банкомат\" + 0.210*\"карта\" + 0.182*\"сбербанк\" + 0.134*\"заявление\" + -0.119*\"очередь\" + 0.117*\"операция\" + -0.116*\"кредит\" + -0.114*\"договор\" + 0.113*\"средство\"'),\n",
       " (3,\n",
       "  '-0.264*\"вклад\" + -0.220*\"сумма\" + 0.196*\"номер\" + -0.186*\"руб\" + 0.179*\"заявка\" + -0.160*\"погашение\" + -0.159*\"платёж\" + -0.156*\"договор\" + 0.150*\"звонок\" + -0.144*\"рубль\"'),\n",
       " (4,\n",
       "  '0.326*\"вклад\" + 0.274*\"номер\" + -0.246*\"карта\" + -0.214*\"страховка\" + 0.195*\"звонок\" + -0.190*\"заявка\" + -0.142*\"кредит\" + 0.142*\"ваш\" + 0.142*\"телефон\" + -0.121*\"лимит\"'),\n",
       " (5,\n",
       "  '0.475*\"банкомат\" + -0.375*\"карта\" + 0.158*\"купюра\" + -0.143*\"лимит\" + 0.141*\"деньга\" + -0.138*\"кредитный\" + 0.120*\"кредит\" + -0.117*\"смс\" + 0.116*\"чек\" + 0.113*\"очередь\"'),\n",
       " (6,\n",
       "  '0.250*\"сбербанк\" + 0.241*\"заявка\" + 0.207*\"заявление\" + 0.193*\"страховка\" + -0.189*\"платёж\" + 0.149*\"страхование\" + 0.148*\"документ\" + -0.146*\"задолженность\" + 0.144*\"рассмотрение\" + 0.135*\"вклад\"'),\n",
       " (7,\n",
       "  '0.329*\"банкомат\" + -0.314*\"сбербанк\" + -0.283*\"перевод\" + 0.253*\"карта\" + 0.250*\"вклад\" + -0.221*\"платёж\" + -0.152*\"терминал\" + -0.133*\"очередь\" + -0.126*\"счёт\" + 0.118*\"звонок\"'),\n",
       " (8,\n",
       "  '0.243*\"страховка\" + 0.215*\"банкомат\" + 0.185*\"страхование\" + 0.172*\"комиссия\" + 0.166*\"услуга\" + -0.165*\"вклад\" + 0.157*\"альфа\" + -0.146*\"заявление\" + -0.139*\"платёж\" + 0.116*\"страховой\"'),\n",
       " (9,\n",
       "  '0.361*\"страховка\" + 0.321*\"сбербанк\" + -0.304*\"заявка\" + 0.176*\"страхование\" + -0.147*\"документ\" + 0.140*\"карта\" + -0.133*\"рассмотрение\" + 0.131*\"номер\" + 0.123*\"страховой\" + 0.112*\"заявление\"')]"
      ]
     },
     "execution_count": 135,
     "metadata": {},
     "output_type": "execute_result"
    }
   ],
   "source": [
    "lsi.show_topics(10)"
   ]
  },
  {
   "cell_type": "markdown",
   "id": "4ea0b4c1",
   "metadata": {},
   "source": [
    "Если мы посмотрим на получившиеся темы, можно заметить, что в качестве ключевых слов выступают преимущественно наиболее общие понятия, характерные для бановской деятельности - деньги, сумма, кредит, страхование, заявление и пр.\n",
    "В целом, такие ключевые слова можно встретить почти в любом отзыве на банковскую деятельность, но некоторые из получившихся тем можно интерпретировать, представив какую-то более конкретную ситуацию.\n",
    "- Например, тема под индексом 5. Положительный вес присвоен таким её компонентам: банкомат, купюра, деньга, кредит, чек, очередь; отрицательный вес у слов карта, лимит, кредитный, смс. Т.е. вероятно эта тема описывает физическое взаимодействие с банкоматом, операции с наличными деньгами.\n",
    "- Тема под индексом 1. Положительные коэффициенты у слов кредит, страховка, задолженность, платеж, погашение, звонок; отрицательные у вклад, банкомат, карта, деньга. Здесь скорее всего речь идет о внесении платежей для покрытия задолженностей по определенным видам пераций.  \n"
   ]
  },
  {
   "cell_type": "markdown",
   "id": "22b3fe46",
   "metadata": {},
   "source": [
    "Среди ключевых слов мы встречаем упоминания конкретных банков, здесь это Сбербанк. Как мы видели в 1й части задания, большинство отзывов направлены именно в Сбербанк, поэтому включение его в список ключевых слов кажется достаточно ожидаемым. \n",
    "- Например, тема под индексом 6. Наиболее существенные для неё компоненты - это сбербанк, заявка, страховка, документ, рассмотрение. Видимо, имеем дело с оформлением документов при подаче заявок на что-либо (страхование) конкретно в Сбер  "
   ]
  },
  {
   "cell_type": "code",
   "execution_count": 146,
   "id": "1ee1236f",
   "metadata": {},
   "outputs": [],
   "source": [
    "# посмотрим, как будут меняться темы и ключевые слова а них с изменением количества тем\n",
    "topics_count = [10, 25, 50, 70]"
   ]
  },
  {
   "cell_type": "code",
   "execution_count": 13,
   "id": "27054aa8",
   "metadata": {},
   "outputs": [],
   "source": [
    "from pprint import pprint"
   ]
  },
  {
   "cell_type": "code",
   "execution_count": 145,
   "id": "340dbad5",
   "metadata": {},
   "outputs": [
    {
     "name": "stdout",
     "output_type": "stream",
     "text": [
      "Lsi model with 10 topics themes:\n",
      "[(0,\n",
      "  '0.197*\"карта\" + 0.135*\"кредит\" + 0.116*\"деньга\" + 0.110*\"заявление\" + '\n",
      "  '0.108*\"счёт\" + 0.102*\"вклад\" + 0.102*\"банкомат\" + 0.101*\"отделение\" + '\n",
      "  '0.098*\"сбербанк\" + 0.097*\"сумма\"'),\n",
      " (1,\n",
      "  '-0.420*\"вклад\" + 0.355*\"кредит\" + -0.188*\"банкомат\" + 0.162*\"страховка\" + '\n",
      "  '0.155*\"платёж\" + -0.155*\"карта\" + 0.149*\"задолженность\" + 0.141*\"погашение\" '\n",
      "  '+ -0.111*\"очередь\" + 0.111*\"погасить\"'),\n",
      " (2,\n",
      "  '-0.479*\"вклад\" + 0.272*\"банкомат\" + 0.227*\"карта\" + 0.205*\"сбербанк\" + '\n",
      "  '-0.157*\"кредит\" + 0.130*\"заявление\" + -0.129*\"договор\" + 0.129*\"операция\" + '\n",
      "  '0.120*\"средство\" + 0.118*\"деньга\"'),\n",
      " (3,\n",
      "  '-0.276*\"вклад\" + -0.215*\"сумма\" + 0.202*\"заявка\" + 0.187*\"номер\" + '\n",
      "  '-0.183*\"руб\" + -0.157*\"платёж\" + -0.157*\"договор\" + -0.154*\"погашение\" + '\n",
      "  '-0.144*\"рубль\" + -0.144*\"средство\"'),\n",
      " (4,\n",
      "  '-0.449*\"карта\" + 0.299*\"банкомат\" + -0.197*\"лимит\" + -0.188*\"кредитный\" + '\n",
      "  '0.162*\"номер\" + 0.129*\"терминал\" + 0.125*\"деньга\" + 0.122*\"звонок\" + '\n",
      "  '0.121*\"купюра\" + -0.116*\"комиссия\"')]\n",
      "---------------------------\n",
      "Lsi model with 25 topics themes:\n",
      "[(0,\n",
      "  '0.197*\"карта\" + 0.135*\"кредит\" + 0.116*\"деньга\" + 0.110*\"заявление\" + '\n",
      "  '0.108*\"счёт\" + 0.102*\"банкомат\" + 0.102*\"вклад\" + 0.101*\"отделение\" + '\n",
      "  '0.097*\"сбербанк\" + 0.097*\"сумма\"'),\n",
      " (1,\n",
      "  '-0.365*\"вклад\" + 0.364*\"кредит\" + -0.222*\"банкомат\" + -0.180*\"карта\" + '\n",
      "  '0.170*\"страховка\" + 0.147*\"задолженность\" + 0.143*\"платёж\" + '\n",
      "  '0.140*\"погашение\" + -0.124*\"деньга\" + 0.118*\"звонок\"'),\n",
      " (2,\n",
      "  '-0.515*\"вклад\" + 0.270*\"банкомат\" + 0.210*\"карта\" + 0.182*\"сбербанк\" + '\n",
      "  '0.135*\"заявление\" + -0.119*\"очередь\" + 0.118*\"операция\" + -0.117*\"кредит\" + '\n",
      "  '-0.114*\"договор\" + 0.114*\"средство\"'),\n",
      " (3,\n",
      "  '-0.267*\"вклад\" + -0.219*\"сумма\" + 0.193*\"номер\" + -0.187*\"руб\" + '\n",
      "  '0.180*\"заявка\" + -0.159*\"погашение\" + -0.159*\"платёж\" + -0.156*\"договор\" + '\n",
      "  '0.148*\"звонок\" + -0.145*\"процент\"'),\n",
      " (4,\n",
      "  '0.319*\"вклад\" + 0.277*\"номер\" + -0.263*\"карта\" + -0.210*\"страховка\" + '\n",
      "  '0.196*\"звонок\" + -0.188*\"заявка\" + 0.145*\"ваш\" + 0.142*\"телефон\" + '\n",
      "  '-0.141*\"кредит\" + -0.128*\"лимит\"')]\n",
      "---------------------------\n",
      "Lsi model with 50 topics themes:\n",
      "[(0,\n",
      "  '0.197*\"карта\" + 0.135*\"кредит\" + 0.116*\"деньга\" + 0.110*\"заявление\" + '\n",
      "  '0.108*\"счёт\" + 0.103*\"банкомат\" + 0.102*\"вклад\" + 0.101*\"отделение\" + '\n",
      "  '0.097*\"сбербанк\" + 0.097*\"сумма\"'),\n",
      " (1,\n",
      "  '0.367*\"кредит\" + -0.356*\"вклад\" + -0.229*\"банкомат\" + -0.181*\"карта\" + '\n",
      "  '0.171*\"страховка\" + 0.145*\"задолженность\" + 0.141*\"платёж\" + '\n",
      "  '0.138*\"погашение\" + -0.126*\"деньга\" + 0.117*\"звонок\"'),\n",
      " (2,\n",
      "  '-0.520*\"вклад\" + 0.267*\"банкомат\" + 0.207*\"карта\" + 0.182*\"сбербанк\" + '\n",
      "  '0.134*\"заявление\" + -0.121*\"очередь\" + 0.116*\"операция\" + -0.113*\"договор\" '\n",
      "  '+ 0.113*\"средство\" + -0.111*\"кредит\"'),\n",
      " (3,\n",
      "  '-0.258*\"вклад\" + -0.220*\"сумма\" + 0.202*\"номер\" + -0.185*\"руб\" + '\n",
      "  '0.178*\"заявка\" + -0.160*\"погашение\" + -0.158*\"платёж\" + -0.155*\"договор\" + '\n",
      "  '0.153*\"звонок\" + -0.146*\"рубль\"'),\n",
      " (4,\n",
      "  '0.329*\"вклад\" + 0.274*\"номер\" + -0.249*\"карта\" + -0.211*\"страховка\" + '\n",
      "  '0.193*\"звонок\" + -0.192*\"заявка\" + 0.146*\"ваш\" + 0.142*\"телефон\" + '\n",
      "  '-0.140*\"кредит\" + -0.124*\"лимит\"')]\n",
      "---------------------------\n",
      "Lsi model with 70 topics themes:\n",
      "[(0,\n",
      "  '0.197*\"карта\" + 0.135*\"кредит\" + 0.116*\"деньга\" + 0.111*\"заявление\" + '\n",
      "  '0.108*\"счёт\" + 0.103*\"банкомат\" + 0.102*\"вклад\" + 0.101*\"отделение\" + '\n",
      "  '0.097*\"сбербанк\" + 0.097*\"сумма\"'),\n",
      " (1,\n",
      "  '0.367*\"кредит\" + -0.354*\"вклад\" + -0.229*\"банкомат\" + -0.181*\"карта\" + '\n",
      "  '0.171*\"страховка\" + 0.145*\"задолженность\" + 0.141*\"платёж\" + '\n",
      "  '0.138*\"погашение\" + -0.127*\"деньга\" + 0.118*\"звонок\"'),\n",
      " (2,\n",
      "  '-0.521*\"вклад\" + 0.267*\"банкомат\" + 0.205*\"карта\" + 0.182*\"сбербанк\" + '\n",
      "  '0.134*\"заявление\" + -0.122*\"очередь\" + 0.115*\"операция\" + -0.113*\"договор\" '\n",
      "  '+ 0.113*\"средство\" + 0.111*\"деньга\"'),\n",
      " (3,\n",
      "  '-0.255*\"вклад\" + -0.219*\"сумма\" + 0.205*\"номер\" + -0.186*\"руб\" + '\n",
      "  '0.176*\"заявка\" + -0.159*\"погашение\" + -0.158*\"платёж\" + -0.156*\"договор\" + '\n",
      "  '0.155*\"звонок\" + -0.145*\"рубль\"'),\n",
      " (4,\n",
      "  '0.330*\"вклад\" + 0.273*\"номер\" + -0.254*\"карта\" + -0.210*\"страховка\" + '\n",
      "  '-0.195*\"заявка\" + 0.192*\"звонок\" + 0.147*\"ваш\" + 0.141*\"телефон\" + '\n",
      "  '-0.136*\"кредит\" + -0.125*\"лимит\"')]\n",
      "---------------------------\n"
     ]
    }
   ],
   "source": [
    "for n_topics in topics_count:\n",
    "    lsi = lsimodel.LsiModel(corpus=corpus_tfidf, id2word=dictionary, num_topics=n_topics)\n",
    "    print(f'Lsi model with {n_topics} topics themes:')\n",
    "    pprint(lsi.show_topics(5))\n",
    "    print('---------------------------')\n",
    "    "
   ]
  },
  {
   "cell_type": "markdown",
   "id": "5ec26a3d",
   "metadata": {},
   "source": [
    "Интересно, что с изменением количества тем, самая 1я тема почти не претерпевает изменений: в ней выделяются один и те же ключевые слова и веса. Но начиная уже со 2й темы модели расходятся в выборе ключевых слов.\n",
    "\n",
    "Модели с 50ю и с 70ю топиками показали похожие результаты, соответственно, увеличение количества тем до 70, вероятно, было излишним."
   ]
  },
  {
   "cell_type": "code",
   "execution_count": 148,
   "id": "4e017265",
   "metadata": {},
   "outputs": [],
   "source": [
    "lsi_25 = lsimodel.LsiModel(corpus=corpus_tfidf, id2word=dictionary, num_topics=25)"
   ]
  },
  {
   "cell_type": "code",
   "execution_count": 149,
   "id": "363e2ac9",
   "metadata": {},
   "outputs": [],
   "source": [
    "X = [0] * len(df_copy)\n",
    "Y = [0] * len(df_copy)\n",
    "for i in range(len(df_copy)):\n",
    "    vec = corpus[i]\n",
    "    LSI_topics = (lsi_25[vec])\n",
    "    for topic in LSI_topics:\n",
    "        if topic[0] == 0:\n",
    "            X[i] = topic[1]\n",
    "        elif topic[0] == 1:\n",
    "            Y[i] = topic[1]\n",
    "\n",
    "vis_df = pd.DataFrame({'X': X, 'Y': Y, 'topic' : df_copy.title})"
   ]
  },
  {
   "cell_type": "code",
   "execution_count": 150,
   "id": "3a511f72",
   "metadata": {},
   "outputs": [
    {
     "data": {
      "text/html": [
       "<div>\n",
       "<style scoped>\n",
       "    .dataframe tbody tr th:only-of-type {\n",
       "        vertical-align: middle;\n",
       "    }\n",
       "\n",
       "    .dataframe tbody tr th {\n",
       "        vertical-align: top;\n",
       "    }\n",
       "\n",
       "    .dataframe thead th {\n",
       "        text-align: right;\n",
       "    }\n",
       "</style>\n",
       "<table border=\"1\" class=\"dataframe\">\n",
       "  <thead>\n",
       "    <tr style=\"text-align: right;\">\n",
       "      <th></th>\n",
       "      <th>X</th>\n",
       "      <th>Y</th>\n",
       "      <th>topic</th>\n",
       "    </tr>\n",
       "  </thead>\n",
       "  <tbody>\n",
       "    <tr>\n",
       "      <th>0</th>\n",
       "      <td>3.987008</td>\n",
       "      <td>2.650813</td>\n",
       "      <td>Жалоба</td>\n",
       "    </tr>\n",
       "    <tr>\n",
       "      <th>1</th>\n",
       "      <td>3.727137</td>\n",
       "      <td>-0.521899</td>\n",
       "      <td>Не могу пользоваться услугой Сбербанк он-лайн</td>\n",
       "    </tr>\n",
       "    <tr>\n",
       "      <th>2</th>\n",
       "      <td>2.812607</td>\n",
       "      <td>0.131017</td>\n",
       "      <td>Двойное списание за один товар.</td>\n",
       "    </tr>\n",
       "    <tr>\n",
       "      <th>3</th>\n",
       "      <td>3.032333</td>\n",
       "      <td>-0.933829</td>\n",
       "      <td>Меняют проценты комиссии  не предупредив и не ...</td>\n",
       "    </tr>\n",
       "    <tr>\n",
       "      <th>4</th>\n",
       "      <td>8.174424</td>\n",
       "      <td>3.155954</td>\n",
       "      <td>Верните денежные средства за страховку</td>\n",
       "    </tr>\n",
       "  </tbody>\n",
       "</table>\n",
       "</div>"
      ],
      "text/plain": [
       "          X         Y                                              topic\n",
       "0  3.987008  2.650813                                             Жалоба\n",
       "1  3.727137 -0.521899      Не могу пользоваться услугой Сбербанк он-лайн\n",
       "2  2.812607  0.131017                    Двойное списание за один товар.\n",
       "3  3.032333 -0.933829  Меняют проценты комиссии  не предупредив и не ...\n",
       "4  8.174424  3.155954             Верните денежные средства за страховку"
      ]
     },
     "execution_count": 150,
     "metadata": {},
     "output_type": "execute_result"
    }
   ],
   "source": [
    "vis_df.head()"
   ]
  },
  {
   "cell_type": "code",
   "execution_count": 163,
   "id": "c4a8484d",
   "metadata": {},
   "outputs": [
    {
     "name": "stdout",
     "output_type": "stream",
     "text": [
      "<class 'pandas.core.frame.DataFrame'>\n",
      "RangeIndex: 153499 entries, 0 to 153498\n",
      "Data columns (total 3 columns):\n",
      " #   Column  Non-Null Count   Dtype  \n",
      "---  ------  --------------   -----  \n",
      " 0   X       153499 non-null  float64\n",
      " 1   Y       153499 non-null  float64\n",
      " 2   topic   153499 non-null  object \n",
      "dtypes: float64(2), object(1)\n",
      "memory usage: 3.5+ MB\n"
     ]
    }
   ],
   "source": [
    "vis_df.info()"
   ]
  },
  {
   "cell_type": "code",
   "execution_count": 161,
   "id": "8a3244ef",
   "metadata": {},
   "outputs": [],
   "source": [
    "vis_sample = vis_df.sample(1000)"
   ]
  },
  {
   "cell_type": "markdown",
   "id": "fd66eed3",
   "metadata": {},
   "source": [
    "Попробую визуализировать часть представленных тем. Беру сэмпл данных, т.к. в датасете содержится порядка 150к записей, и построение такой визуализации отнимет много времени."
   ]
  },
  {
   "cell_type": "code",
   "execution_count": 162,
   "id": "b26f5dfa",
   "metadata": {},
   "outputs": [
    {
     "data": {
      "text/plain": [
       "<seaborn.axisgrid.FacetGrid at 0x2a71ce66640>"
      ]
     },
     "execution_count": 162,
     "metadata": {},
     "output_type": "execute_result"
    },
    {
     "data": {
      "image/png": "[encoded data removed]",
      "text/plain": [
       "<Figure size 720x720 with 1 Axes>"
      ]
     },
     "metadata": {
      "needs_background": "light"
     },
     "output_type": "display_data"
    }
   ],
   "source": [
    "sns.FacetGrid(vis_sample, hue=\"topic\", size = 10).map(plt.scatter, \"X\", \"Y\")"
   ]
  },
  {
   "cell_type": "markdown",
   "id": "7a35380e",
   "metadata": {},
   "source": [
    "Визуализация сэмпла в пределах 1000 строк из датасета не дает какого-то внятного разбиения по кластерам, а на большем количестве данных (уже порядка 10000 и выше) визуализация строится слишком долго."
   ]
  },
  {
   "cell_type": "code",
   "execution_count": null,
   "id": "fe5a82f6",
   "metadata": {},
   "outputs": [],
   "source": []
  },
  {
   "cell_type": "markdown",
   "id": "e02492bb",
   "metadata": {},
   "source": [
    "### Часть 3. Классификация текстов"
   ]
  },
  {
   "cell_type": "markdown",
   "id": "6d64cbbe",
   "metadata": {},
   "source": [
    "Сформулируем для простоты задачу бинарной классификации: будем классифицировать на два класса, то есть, различать резко отрицательные отзывы (с оценкой 1) и положительные отзывы (с оценкой 5).\n",
    "\n",
    "1. Составьте обучающее и тестовое множество: выберите из всего набора данных N1 отзывов с оценкой 1 и N2 отзывов с оценкой 5 (значение N1 и N2 – на ваше усмотрение). Используйте sklearn.model_selection.train_test_split для разделения множества отобранных документов на обучающее и тестовое.\n",
    "2. Используйте любой известный вам алгоритм классификации текстов для решения задачи и получите baseline. Сравните разные варианты векторизации текста: использование только униграм, пар или троек слов или с использованием символьных $n$-грам.\n",
    "3. Сравните, как изменяется качество решения задачи при использовании скрытых тем в качестве признаков:\n",
    "- 1-ый вариант: $tf-idf$ преобразование (sklearn.feature_extraction.text.TfidfTransformer) и сингулярное разложение (оно же – латентый семантический анализ) (sklearn.decomposition.TruncatedSVD),\n",
    "- 2-ой вариант: тематические модели LDA (sklearn.decomposition.LatentDirichletAllocation).\n",
    "Используйте accuracy и F-measure для оценки качества классификации.\n",
    "\n",
    "В ноутбуке, размещенном в папке репозитория. написан примерный Pipeline для классификации текстов.\n",
    "\n",
    "Эта часть задания может быть сделана с использованием sklearn."
   ]
  },
  {
   "cell_type": "code",
   "execution_count": 15,
   "id": "0db71d28",
   "metadata": {},
   "outputs": [],
   "source": [
    "df_copy = pd.read_csv('responces_cleaned.csv')"
   ]
  },
  {
   "cell_type": "code",
   "execution_count": 16,
   "id": "f9f628ad",
   "metadata": {},
   "outputs": [
    {
     "data": {
      "text/html": [
       "<div>\n",
       "<style scoped>\n",
       "    .dataframe tbody tr th:only-of-type {\n",
       "        vertical-align: middle;\n",
       "    }\n",
       "\n",
       "    .dataframe tbody tr th {\n",
       "        vertical-align: top;\n",
       "    }\n",
       "\n",
       "    .dataframe thead th {\n",
       "        text-align: right;\n",
       "    }\n",
       "</style>\n",
       "<table border=\"1\" class=\"dataframe\">\n",
       "  <thead>\n",
       "    <tr style=\"text-align: right;\">\n",
       "      <th></th>\n",
       "      <th>text</th>\n",
       "      <th>rating_grade</th>\n",
       "    </tr>\n",
       "  </thead>\n",
       "  <tbody>\n",
       "    <tr>\n",
       "      <th>19</th>\n",
       "      <td>открыть вклад счёт плюс зарплатный карта рубль...</td>\n",
       "      <td>1.0</td>\n",
       "    </tr>\n",
       "    <tr>\n",
       "      <th>33</th>\n",
       "      <td>добрый время вчера поступить смс уведомление б...</td>\n",
       "      <td>1.0</td>\n",
       "    </tr>\n",
       "    <tr>\n",
       "      <th>76</th>\n",
       "      <td>г около час прийти указанный офис намерение по...</td>\n",
       "      <td>1.0</td>\n",
       "    </tr>\n",
       "    <tr>\n",
       "      <th>85</th>\n",
       "      <td>оплата коммунальный платёж пользоваться пласти...</td>\n",
       "      <td>1.0</td>\n",
       "    </tr>\n",
       "    <tr>\n",
       "      <th>94</th>\n",
       "      <td>апрель год прийти отделение сбербанк г чапаевс...</td>\n",
       "      <td>1.0</td>\n",
       "    </tr>\n",
       "  </tbody>\n",
       "</table>\n",
       "</div>"
      ],
      "text/plain": [
       "                                                 text  rating_grade\n",
       "19  открыть вклад счёт плюс зарплатный карта рубль...           1.0\n",
       "33  добрый время вчера поступить смс уведомление б...           1.0\n",
       "76  г около час прийти указанный офис намерение по...           1.0\n",
       "85  оплата коммунальный платёж пользоваться пласти...           1.0\n",
       "94  апрель год прийти отделение сбербанк г чапаевс...           1.0"
      ]
     },
     "execution_count": 16,
     "metadata": {},
     "output_type": "execute_result"
    }
   ],
   "source": [
    "# отбираем все записи из датасета с предобработаннм текстом с оценками 1 или 5\n",
    "df_responces = df_copy[df_copy.rating_grade.isin([1, 5])][['text', 'rating_grade']]\n",
    "df_responces.head()"
   ]
  },
  {
   "cell_type": "code",
   "execution_count": 17,
   "id": "7f507b36",
   "metadata": {},
   "outputs": [
    {
     "name": "stdout",
     "output_type": "stream",
     "text": [
      "<class 'pandas.core.frame.DataFrame'>\n",
      "Int64Index: 62100 entries, 19 to 153498\n",
      "Data columns (total 2 columns):\n",
      " #   Column        Non-Null Count  Dtype  \n",
      "---  ------        --------------  -----  \n",
      " 0   text          62099 non-null  object \n",
      " 1   rating_grade  62100 non-null  float64\n",
      "dtypes: float64(1), object(1)\n",
      "memory usage: 1.4+ MB\n"
     ]
    }
   ],
   "source": [
    "df_responces.info()"
   ]
  },
  {
   "cell_type": "code",
   "execution_count": 18,
   "id": "36bae619",
   "metadata": {},
   "outputs": [],
   "source": [
    "df_responces.dropna(inplace=True)"
   ]
  },
  {
   "cell_type": "code",
   "execution_count": 19,
   "id": "906086ee",
   "metadata": {},
   "outputs": [
    {
     "data": {
      "text/plain": [
       "1.0    0.763072\n",
       "5.0    0.236928\n",
       "Name: rating_grade, dtype: float64"
      ]
     },
     "execution_count": 19,
     "metadata": {},
     "output_type": "execute_result"
    }
   ],
   "source": [
    "df_responces.rating_grade.value_counts(normalize=True)"
   ]
  },
  {
   "cell_type": "markdown",
   "id": "aaaa2406",
   "metadata": {},
   "source": [
    "Классы распределены неравномерно, отрицательных отзывов существенно больше, чем положительных. В таких условиях предсказывание моделью всегда варианта рейтинга 1.0 даст 76% accuracy, так что модели есть куда улучшать свой результат. Пока не буду предобрабатывать данные так, чтобы уменьшить дисбаланс классов "
   ]
  },
  {
   "cell_type": "code",
   "execution_count": 20,
   "id": "318e99bc",
   "metadata": {},
   "outputs": [],
   "source": [
    "from sklearn.model_selection import train_test_split"
   ]
  },
  {
   "cell_type": "code",
   "execution_count": 41,
   "id": "e666499d",
   "metadata": {},
   "outputs": [],
   "source": [
    "# использую параметр stratify, чтобы в обучающей и тестовой выборке соотношение оценок примерно сохранялось\n",
    "x_train, x_test, y_train, y_test = train_test_split(df_responces.text, df_responces.rating_grade, stratify=df_responces.rating_grade)"
   ]
  },
  {
   "cell_type": "code",
   "execution_count": 22,
   "id": "0154c33e",
   "metadata": {},
   "outputs": [
    {
     "name": "stdout",
     "output_type": "stream",
     "text": [
      "(46574,)\n",
      "(15525,)\n"
     ]
    }
   ],
   "source": [
    "print(x_train.shape)\n",
    "print(x_test.shape)"
   ]
  },
  {
   "cell_type": "code",
   "execution_count": 23,
   "id": "c27ddeb6",
   "metadata": {},
   "outputs": [
    {
     "data": {
      "text/plain": [
       "rating_grade\n",
       "1.0             0.763065\n",
       "5.0             0.236935\n",
       "dtype: float64"
      ]
     },
     "execution_count": 23,
     "metadata": {},
     "output_type": "execute_result"
    }
   ],
   "source": [
    "pd.DataFrame(y_train).value_counts(normalize=True)"
   ]
  },
  {
   "cell_type": "markdown",
   "id": "2b9fb8c9",
   "metadata": {},
   "source": [
    "#### Baseline на мешке слов"
   ]
  },
  {
   "cell_type": "code",
   "execution_count": 42,
   "id": "059c735c",
   "metadata": {},
   "outputs": [],
   "source": [
    "vec = CountVectorizer(ngram_range=(1, 1))\n",
    "bow = vec.fit_transform(x_train)"
   ]
  },
  {
   "cell_type": "code",
   "execution_count": 30,
   "id": "a439c576",
   "metadata": {},
   "outputs": [],
   "source": [
    "from sklearn.linear_model import LogisticRegression\n",
    "from sklearn.metrics import classification_report"
   ]
  },
  {
   "cell_type": "code",
   "execution_count": 43,
   "id": "96ad83fa",
   "metadata": {},
   "outputs": [
    {
     "data": {
      "text/plain": [
       "LogisticRegression(solver='liblinear')"
      ]
     },
     "execution_count": 43,
     "metadata": {},
     "output_type": "execute_result"
    }
   ],
   "source": [
    "clf = LogisticRegression(solver='liblinear')\n",
    "clf.fit(bow, y_train)"
   ]
  },
  {
   "cell_type": "code",
   "execution_count": 44,
   "id": "e96b93c4",
   "metadata": {},
   "outputs": [
    {
     "name": "stdout",
     "output_type": "stream",
     "text": [
      "              precision    recall  f1-score   support\n",
      "\n",
      "         1.0       0.98      0.97      0.97     11925\n",
      "         5.0       0.90      0.92      0.91      3600\n",
      "\n",
      "    accuracy                           0.96     15525\n",
      "   macro avg       0.94      0.95      0.94     15525\n",
      "weighted avg       0.96      0.96      0.96     15525\n",
      "\n"
     ]
    }
   ],
   "source": [
    "y_pred = clf.predict(vec.transform(x_test))\n",
    "print(classification_report(y_pred, y_test))"
   ]
  },
  {
   "cell_type": "markdown",
   "id": "c5489dfb",
   "metadata": {},
   "source": [
    "Достаточно неплохо для baseline, без подбора параметров, без сложных преобразований входных данных. Предсказанные метки классов примерно сохраняют пропорцию исходного датасета "
   ]
  },
  {
   "cell_type": "code",
   "execution_count": 33,
   "id": "9deffe57",
   "metadata": {},
   "outputs": [],
   "source": [
    "n_grams = [(2, 2), (3, 3)]"
   ]
  },
  {
   "cell_type": "code",
   "execution_count": 34,
   "id": "676a9963",
   "metadata": {},
   "outputs": [
    {
     "name": "stdout",
     "output_type": "stream",
     "text": [
      "N-gramm range=(2, 2):\n",
      "              precision    recall  f1-score   support\n",
      "\n",
      "         1.0       0.99      0.95      0.97     12399\n",
      "         5.0       0.82      0.96      0.88      3126\n",
      "\n",
      "    accuracy                           0.95     15525\n",
      "   macro avg       0.90      0.95      0.93     15525\n",
      "weighted avg       0.95      0.95      0.95     15525\n",
      "\n",
      "------------\n",
      "N-gramm range=(3, 3):\n",
      "              precision    recall  f1-score   support\n",
      "\n",
      "         1.0       1.00      0.83      0.91     14193\n",
      "         5.0       0.35      0.97      0.51      1332\n",
      "\n",
      "    accuracy                           0.84     15525\n",
      "   macro avg       0.67      0.90      0.71     15525\n",
      "weighted avg       0.94      0.84      0.87     15525\n",
      "\n",
      "------------\n"
     ]
    }
   ],
   "source": [
    "# пробую логистическую регрессию для биграмм и триграмм\n",
    "for n_gram in n_grams:\n",
    "    vec = CountVectorizer(ngram_range=n_gram)\n",
    "    bow = vec.fit_transform(x_train)\n",
    "    clf = LogisticRegression(random_state=146, solver='liblinear')\n",
    "    clf.fit(bow, y_train)\n",
    "    y_pred = clf.predict(vec.transform(x_test))\n",
    "    print(f'N-gramm range={n_gram}:')\n",
    "    print(classification_report(y_pred, y_test))\n",
    "    print('------------')\n",
    "    "
   ]
  },
  {
   "cell_type": "markdown",
   "id": "3c1ceb0b",
   "metadata": {},
   "source": [
    "С использованием биграмм и триграмм результат становится более чувствительным к дисбалансу классов. Модель начинает прогнозировать больше рейтингов 1, precision для оценок 5 падает очень заметно"
   ]
  },
  {
   "cell_type": "code",
   "execution_count": 35,
   "id": "25f7d5dc",
   "metadata": {},
   "outputs": [],
   "source": [
    "from sklearn.feature_extraction.text import TfidfVectorizer"
   ]
  },
  {
   "cell_type": "code",
   "execution_count": 36,
   "id": "1d87e475",
   "metadata": {},
   "outputs": [
    {
     "name": "stdout",
     "output_type": "stream",
     "text": [
      "              precision    recall  f1-score   support\n",
      "\n",
      "         1.0       0.99      0.96      0.98     12180\n",
      "         5.0       0.88      0.97      0.92      3345\n",
      "\n",
      "    accuracy                           0.96     15525\n",
      "   macro avg       0.93      0.96      0.95     15525\n",
      "weighted avg       0.97      0.96      0.96     15525\n",
      "\n"
     ]
    }
   ],
   "source": [
    "# перед применением Truncated SVD посмотрим, какой результат дат логистическая регрессия\n",
    "# на данных, преобразованных с помощью tf-idf \n",
    "\n",
    "vec = TfidfVectorizer()\n",
    "bow = vec.fit_transform(x_train)\n",
    "clf = LogisticRegression(random_state=146, solver='liblinear')\n",
    "clf.fit(bow, y_train)\n",
    "\n",
    "y_pred = clf.predict(vec.transform(x_test))\n",
    "print(classification_report(y_pred, y_test))\n"
   ]
  },
  {
   "cell_type": "markdown",
   "id": "e277d523",
   "metadata": {},
   "source": [
    "Результат accuracy такой же, как и для baseline, но f-score обоих классов выше, так что можно считать, что этот вариант отработал немного лучше "
   ]
  },
  {
   "cell_type": "code",
   "execution_count": 45,
   "id": "9a2f35d4",
   "metadata": {},
   "outputs": [
    {
     "data": {
      "text/plain": [
       "(46574, 57883)"
      ]
     },
     "execution_count": 45,
     "metadata": {},
     "output_type": "execute_result"
    }
   ],
   "source": [
    "bow.shape"
   ]
  },
  {
   "cell_type": "markdown",
   "id": "0befdbea",
   "metadata": {},
   "source": [
    "Наша выборка после векторизации стала обладать большим количеством фич. Время для применения TruncatedSVD, чтобы сократить их число.\n",
    "Для этого переобучу tf-idf на датасете с рейтингами, и разделю на обучающую и тестовую выборки уже после преобразований с SVD"
   ]
  },
  {
   "cell_type": "code",
   "execution_count": 46,
   "id": "fa7c3b8a",
   "metadata": {},
   "outputs": [],
   "source": [
    "from sklearn.decomposition import TruncatedSVD"
   ]
  },
  {
   "cell_type": "code",
   "execution_count": 47,
   "id": "1d6529ad",
   "metadata": {},
   "outputs": [],
   "source": [
    "vectors = TfidfVectorizer().fit_transform(df_responces.text)"
   ]
  },
  {
   "cell_type": "code",
   "execution_count": 48,
   "id": "8f58cf68",
   "metadata": {},
   "outputs": [
    {
     "data": {
      "text/plain": [
       "(62099, 65581)"
      ]
     },
     "execution_count": 48,
     "metadata": {},
     "output_type": "execute_result"
    }
   ],
   "source": [
    "vectors.shape"
   ]
  },
  {
   "cell_type": "code",
   "execution_count": 49,
   "id": "f73329ed",
   "metadata": {},
   "outputs": [],
   "source": [
    "X_reduced = TruncatedSVD(n_components=100, random_state=0).fit_transform(vectors)"
   ]
  },
  {
   "cell_type": "code",
   "execution_count": 50,
   "id": "497cc001",
   "metadata": {},
   "outputs": [],
   "source": [
    "x_train, x_test, y_train, y_test = train_test_split(X_reduced, df_responces.rating_grade, stratify=df_responces.rating_grade)"
   ]
  },
  {
   "cell_type": "code",
   "execution_count": 51,
   "id": "025ff8c4",
   "metadata": {},
   "outputs": [
    {
     "name": "stdout",
     "output_type": "stream",
     "text": [
      "              precision    recall  f1-score   support\n",
      "\n",
      "         1.0       0.98      0.95      0.96     12281\n",
      "         5.0       0.82      0.93      0.87      3244\n",
      "\n",
      "    accuracy                           0.94     15525\n",
      "   macro avg       0.90      0.94      0.92     15525\n",
      "weighted avg       0.95      0.94      0.94     15525\n",
      "\n"
     ]
    }
   ],
   "source": [
    "clf = LogisticRegression(random_state=146, solver='liblinear')\n",
    "clf.fit(x_train, y_train)\n",
    "\n",
    "y_pred = clf.predict(x_test)\n",
    "print(classification_report(y_pred, y_test))"
   ]
  },
  {
   "cell_type": "markdown",
   "id": "8be2eeae",
   "metadata": {},
   "source": [
    "Результат упал ниже baseline. Попробую разное количество фич, оставляемых TruncatedSVD"
   ]
  },
  {
   "cell_type": "code",
   "execution_count": 47,
   "id": "0770809b",
   "metadata": {},
   "outputs": [],
   "source": [
    "n_features = [20, 50, 80, 200, 500, 1000]"
   ]
  },
  {
   "cell_type": "code",
   "execution_count": null,
   "id": "44e3cb46",
   "metadata": {},
   "outputs": [
    {
     "name": "stdout",
     "output_type": "stream",
     "text": [
      "truncatedSVD components: 20\n",
      "              precision    recall  f1-score   support\n",
      "\n",
      "         1.0       0.97      0.93      0.95     12418\n",
      "         5.0       0.75      0.88      0.81      3107\n",
      "\n",
      "    accuracy                           0.92     15525\n",
      "   macro avg       0.86      0.90      0.88     15525\n",
      "weighted avg       0.93      0.92      0.92     15525\n",
      "\n",
      "---------------------------\n",
      "truncatedSVD components: 50\n",
      "              precision    recall  f1-score   support\n",
      "\n",
      "         1.0       0.98      0.94      0.96     12299\n",
      "         5.0       0.81      0.92      0.86      3226\n",
      "\n",
      "    accuracy                           0.94     15525\n",
      "   macro avg       0.89      0.93      0.91     15525\n",
      "weighted avg       0.94      0.94      0.94     15525\n",
      "\n",
      "---------------------------\n",
      "truncatedSVD components: 80\n",
      "              precision    recall  f1-score   support\n",
      "\n",
      "         1.0       0.98      0.94      0.96     12311\n",
      "         5.0       0.81      0.93      0.87      3214\n",
      "\n",
      "    accuracy                           0.94     15525\n",
      "   macro avg       0.90      0.94      0.91     15525\n",
      "weighted avg       0.95      0.94      0.94     15525\n",
      "\n",
      "---------------------------\n",
      "truncatedSVD components: 200\n",
      "              precision    recall  f1-score   support\n",
      "\n",
      "         1.0       0.99      0.95      0.97     12225\n",
      "         5.0       0.85      0.95      0.90      3300\n",
      "\n",
      "    accuracy                           0.95     15525\n",
      "   macro avg       0.92      0.95      0.93     15525\n",
      "weighted avg       0.96      0.95      0.95     15525\n",
      "\n",
      "---------------------------\n",
      "truncatedSVD components: 500\n",
      "              precision    recall  f1-score   support\n",
      "\n",
      "         1.0       0.99      0.96      0.97     12252\n",
      "         5.0       0.86      0.96      0.91      3273\n",
      "\n",
      "    accuracy                           0.96     15525\n",
      "   macro avg       0.92      0.96      0.94     15525\n",
      "weighted avg       0.96      0.96      0.96     15525\n",
      "\n",
      "---------------------------\n",
      "truncatedSVD components: 1000\n",
      "              precision    recall  f1-score   support\n",
      "\n",
      "         1.0       0.99      0.96      0.98     12198\n",
      "         5.0       0.87      0.96      0.91      3327\n",
      "\n",
      "    accuracy                           0.96     15525\n",
      "   macro avg       0.93      0.96      0.94     15525\n",
      "weighted avg       0.96      0.96      0.96     15525\n",
      "\n",
      "---------------------------\n"
     ]
    }
   ],
   "source": [
    "for n in n_features:\n",
    "    X_reduced = TruncatedSVD(n_components=n, random_state=0).fit_transform(vectors)\n",
    "    x_train, x_test, y_train, y_test = train_test_split(X_reduced, df_responces.rating_grade, stratify=df_responces.rating_grade)\n",
    "    clf = LogisticRegression(random_state=146, solver='liblinear')\n",
    "    clf.fit(x_train, y_train)\n",
    "\n",
    "    y_pred = clf.predict(x_test)\n",
    "    print(f'truncatedSVD components: {n}')\n",
    "    print(classification_report(y_pred, y_test))\n",
    "    print('---------------------------')\n",
    "    "
   ]
  },
  {
   "cell_type": "code",
   "execution_count": null,
   "id": "c50440b6",
   "metadata": {},
   "outputs": [],
   "source": [
    "X_reduced = TruncatedSVD(n_components=n, random_state=0).fit_transform(vectors)\n",
    "x_train, x_test, y_train, y_test = train_test_split(X_reduced, df_responces.rating_grade, stratify=df_responces.rating_grade)\n",
    "clf = LogisticRegression(random_state=146, solver='liblinear')\n",
    "clf.fit(x_train, y_train)\n",
    "\n",
    "y_pred = clf.predict(x_test)\n",
    "print(f'truncatedSVD components: {n}')\n",
    "print(classification_report(y_pred, y_test))\n",
    "print('---------------------------'"
   ]
  },
  {
   "cell_type": "markdown",
   "id": "c62f5391",
   "metadata": {},
   "source": [
    "Видим, что при относительно малом количество компонентов (<500) итоговые f-score и accuracy меньш, чем для baseline. при этом Уже на 500 компонентах получаю такой же результат, хотя количество фич уменьшено более чем в 100 раз ((62099, 65581) - размерность векторов после применения к датасету tf-idf). Увеличение количества компонентов до 1000 дает еще небольшое улучшение (accuracy остается прежним, но ф-мера немного подрастает). Я пробовала увеличить количеств компонентов до 10000, но это настолько увеличивает время обучения, что дожидаться результатов кажется нецелесообразным. Поэтому для дальнейших экспериментов буду использовать меньшее значение n_components, пусть будет 1000\n",
    "\n",
    "Попробуем применить к этим же данным другие классификаторы"
   ]
  },
  {
   "cell_type": "code",
   "execution_count": 52,
   "id": "e18ff42e",
   "metadata": {},
   "outputs": [],
   "source": [
    "from sklearn.tree import DecisionTreeClassifier\n",
    "from sklearn.ensemble import RandomForestClassifier\n",
    "from sklearn.neighbors import KNeighborsClassifier\n",
    "from sklearn.svm import SVC"
   ]
  },
  {
   "cell_type": "code",
   "execution_count": 53,
   "id": "85df6b81",
   "metadata": {},
   "outputs": [],
   "source": [
    "classifiers = {\n",
    "\n",
    "    'tree': DecisionTreeClassifier(),\n",
    "    'rfc': RandomForestClassifier(), \n",
    "    'knc': KNeighborsClassifier(n_neighbors=10),\n",
    "    'svc': SVC()\n",
    "}"
   ]
  },
  {
   "cell_type": "code",
   "execution_count": 54,
   "id": "a302671c",
   "metadata": {},
   "outputs": [],
   "source": [
    "X_reduced = TruncatedSVD(n_components=1000, random_state=0).fit_transform(vectors)\n",
    "x_train, x_test, y_train, y_test = train_test_split(X_reduced, df_responces.rating_grade, stratify=df_responces.rating_grade)"
   ]
  },
  {
   "cell_type": "code",
   "execution_count": 55,
   "id": "c1ca4d51",
   "metadata": {},
   "outputs": [
    {
     "name": "stdout",
     "output_type": "stream",
     "text": [
      "tree result\n",
      "              precision    recall  f1-score   support\n",
      "\n",
      "         1.0       0.89      0.89      0.89     11758\n",
      "         5.0       0.66      0.65      0.66      3767\n",
      "\n",
      "    accuracy                           0.84     15525\n",
      "   macro avg       0.78      0.77      0.77     15525\n",
      "weighted avg       0.83      0.84      0.83     15525\n",
      "\n",
      "------------------------\n",
      "rfc result\n",
      "              precision    recall  f1-score   support\n",
      "\n",
      "         1.0       1.00      0.84      0.91     14003\n",
      "         5.0       0.41      0.98      0.57      1522\n",
      "\n",
      "    accuracy                           0.86     15525\n",
      "   macro avg       0.70      0.91      0.74     15525\n",
      "weighted avg       0.94      0.86      0.88     15525\n",
      "\n",
      "------------------------\n",
      "knc result\n",
      "              precision    recall  f1-score   support\n",
      "\n",
      "         1.0       0.99      0.79      0.88     14962\n",
      "         5.0       0.14      0.89      0.24       563\n",
      "\n",
      "    accuracy                           0.79     15525\n",
      "   macro avg       0.57      0.84      0.56     15525\n",
      "weighted avg       0.96      0.79      0.86     15525\n",
      "\n",
      "------------------------\n",
      "svc result\n",
      "              precision    recall  f1-score   support\n",
      "\n",
      "         1.0       0.99      0.97      0.98     12098\n",
      "         5.0       0.89      0.96      0.92      3427\n",
      "\n",
      "    accuracy                           0.97     15525\n",
      "   macro avg       0.94      0.96      0.95     15525\n",
      "weighted avg       0.97      0.97      0.97     15525\n",
      "\n",
      "------------------------\n"
     ]
    }
   ],
   "source": [
    "for label, model in classifiers.items():\n",
    "    model.fit(x_train, y_train)\n",
    "    y_pred = model.predict(x_test)\n",
    "    print(f'{label} result')\n",
    "    print(classification_report(y_pred, y_test))\n",
    "    print('------------------------')"
   ]
  },
  {
   "cell_type": "markdown",
   "id": "4a21110c",
   "metadata": {},
   "source": [
    "Самый лучший результат у модели SVC, и он лучше baseline. Accuracy = 0.97 при достаточных значения полноты и точности "
   ]
  },
  {
   "cell_type": "code",
   "execution_count": 56,
   "id": "3479edb3",
   "metadata": {},
   "outputs": [],
   "source": [
    "from sklearn.model_selection import GridSearchCV"
   ]
  },
  {
   "cell_type": "code",
   "execution_count": 57,
   "id": "8d19a4df",
   "metadata": {},
   "outputs": [],
   "source": [
    "params = {\n",
    "    'kernel': ['linear', 'rbf', 'sigmoid'],\n",
    "    'C': [1, 10]\n",
    "}"
   ]
  },
  {
   "cell_type": "code",
   "execution_count": 58,
   "id": "b4cd6b25",
   "metadata": {},
   "outputs": [],
   "source": [
    "svc = SVC()\n",
    "grid_svc = GridSearchCV(svc, param_grid=params)"
   ]
  },
  {
   "cell_type": "code",
   "execution_count": 59,
   "id": "9024a93f",
   "metadata": {},
   "outputs": [
    {
     "data": {
      "text/plain": [
       "GridSearchCV(estimator=SVC(),\n",
       "             param_grid={'C': [1, 10], 'kernel': ['linear', 'rbf', 'sigmoid']})"
      ]
     },
     "execution_count": 59,
     "metadata": {},
     "output_type": "execute_result"
    }
   ],
   "source": [
    "grid_svc.fit(X_reduced, df_responces.rating_grade)"
   ]
  },
  {
   "cell_type": "code",
   "execution_count": 60,
   "id": "61815296",
   "metadata": {},
   "outputs": [
    {
     "data": {
      "text/plain": [
       "{'C': 10, 'kernel': 'rbf'}"
      ]
     },
     "execution_count": 60,
     "metadata": {},
     "output_type": "execute_result"
    }
   ],
   "source": [
    "grid_svc.best_params_"
   ]
  },
  {
   "cell_type": "code",
   "execution_count": 61,
   "id": "c0d3f41e",
   "metadata": {},
   "outputs": [],
   "source": [
    "best_svc = grid_svc.best_estimator_"
   ]
  },
  {
   "cell_type": "code",
   "execution_count": 63,
   "id": "ab91ff2e",
   "metadata": {},
   "outputs": [
    {
     "name": "stdout",
     "output_type": "stream",
     "text": [
      "              precision    recall  f1-score   support\n",
      "\n",
      "         1.0       0.99      0.97      0.98     12098\n",
      "         5.0       0.89      0.96      0.92      3427\n",
      "\n",
      "    accuracy                           0.97     15525\n",
      "   macro avg       0.94      0.96      0.95     15525\n",
      "weighted avg       0.97      0.97      0.97     15525\n",
      "\n",
      "------------------------\n"
     ]
    }
   ],
   "source": [
    "best_svc.fit(x_train, y_train)\n",
    "y_pred = model.predict(x_test)\n",
    "\n",
    "print(classification_report(y_pred, y_test))\n",
    "print('------------------------')"
   ]
  },
  {
   "cell_type": "markdown",
   "id": "5d63554f",
   "metadata": {},
   "source": [
    "После попытки подобрать гиперпараметры, результат остался прежним, но это хорошие показатели. Полагаю, на этом можно остановиться"
   ]
  },
  {
   "cell_type": "code",
   "execution_count": null,
   "id": "83672d6e",
   "metadata": {},
   "outputs": [],
   "source": []
  }
 ],
 "metadata": {
  "kernelspec": {
   "display_name": "Python 3",
   "language": "python",
   "name": "python3"
  },
  "language_info": {
   "codemirror_mode": {
    "name": "ipython",
    "version": 3
   },
   "file_extension": ".py",
   "mimetype": "text/x-python",
   "name": "python",
   "nbconvert_exporter": "python",
   "pygments_lexer": "ipython3",
   "version": "3.8.8"
  }
 },
 "nbformat": 4,
 "nbformat_minor": 5
}
