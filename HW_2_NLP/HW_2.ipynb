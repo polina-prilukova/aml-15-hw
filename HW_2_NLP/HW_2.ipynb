{
 "cells": [
  {
   "cell_type": "markdown",
   "metadata": {
    "id": "bSm0ju9puyiP"
   },
   "source": [
    "Предварительно про PyTorch:\n",
    "* [Про тензоры в pytorch](https://colab.research.google.com/github/pytorch/tutorials/blob/gh-pages/_downloads/tensor_tutorial.ipynb)\n",
    "* [Про автоматическое дифференцирование и что такое .backwards()](https://colab.research.google.com/github/pytorch/tutorials/blob/gh-pages/_downloads/autograd_tutorial.ipynb)\n",
    "* [Очень простая нейронка на pytorch](https://colab.research.google.com/drive/1RsZvw4KBGn5U5Aj5Ak7OG2pHx6z1OSlF)"
   ]
  },
  {
   "cell_type": "markdown",
   "metadata": {
    "id": "P7ecOomAbUpx"
   },
   "source": [
    "## Код ноутбука с занятия оставляю, домашнее задание по теме \"Классификация в NLP\" будет после лекционного материала"
   ]
  },
  {
   "cell_type": "markdown",
   "metadata": {
    "id": "BcgMmb-QuyiT"
   },
   "source": [
    "# Классификация текстов\n",
    "\n",
    "## Fakenews\n",
    "\n",
    "1. Мы будем работать с данными fakenews отсюда: https://raw.githubusercontent.com/diptamath/covid_fake_news/main/data/Constraint_Train.csv\n",
    "2. Проведите препроцессинг текста. Разбейте данные на train и test для задачи классификации.\n",
    "3. Векторизуйте.\n",
    "4. Обучите на полученных векторах алгоритм классификации.\n",
    "\n",
    "Мы уже видели как эта задача выполняется с помощью Word2vec. Давайте вспомним."
   ]
  },
  {
   "cell_type": "code",
   "execution_count": 1,
   "metadata": {
    "colab": {
     "base_uri": "https://localhost:8080/"
    },
    "id": "8EQ4-xO7uyiU",
    "outputId": "55bb0ea6-bfff-4587-8907-bd2e8c170de8"
   },
   "outputs": [
    {
     "name": "stdout",
     "output_type": "stream",
     "text": [
      "--2021-11-23 20:30:17--  https://raw.githubusercontent.com/diptamath/covid_fake_news/main/data/Constraint_Train.csv\n",
      "Resolving raw.githubusercontent.com (raw.githubusercontent.com)... 185.199.108.133, 185.199.109.133, 185.199.110.133, ...\n",
      "Connecting to raw.githubusercontent.com (raw.githubusercontent.com)|185.199.108.133|:443... connected.\n",
      "HTTP request sent, awaiting response... 200 OK\n",
      "Length: 1253562 (1.2M) [text/plain]\n",
      "Saving to: ‘Constraint_Train.csv.3’\n",
      "\n",
      "Constraint_Train.cs 100%[===================>]   1.20M  --.-KB/s    in 0.02s   \n",
      "\n",
      "2021-11-23 20:30:17 (52.0 MB/s) - ‘Constraint_Train.csv.3’ saved [1253562/1253562]\n",
      "\n"
     ]
    }
   ],
   "source": [
    "!wget https://raw.githubusercontent.com/diptamath/covid_fake_news/main/data/Constraint_Train.csv"
   ]
  },
  {
   "cell_type": "code",
   "execution_count": 1,
   "metadata": {
    "id": "5YCpo8FuuyiW"
   },
   "outputs": [],
   "source": [
    "import pandas as pd"
   ]
  },
  {
   "cell_type": "code",
   "execution_count": 2,
   "metadata": {
    "id": "5NSv9Mo9X-tT"
   },
   "outputs": [],
   "source": [
    "df = pd.read_csv('Constraint_Train.csv')"
   ]
  },
  {
   "cell_type": "code",
   "execution_count": 3,
   "metadata": {
    "colab": {
     "base_uri": "https://localhost:8080/",
     "height": 206
    },
    "id": "hgpfPhA0uyiX",
    "outputId": "00240127-4455-4323-f6fc-6a26dd386c5e"
   },
   "outputs": [
    {
     "data": {
      "text/html": [
       "<div>\n",
       "<style scoped>\n",
       "    .dataframe tbody tr th:only-of-type {\n",
       "        vertical-align: middle;\n",
       "    }\n",
       "\n",
       "    .dataframe tbody tr th {\n",
       "        vertical-align: top;\n",
       "    }\n",
       "\n",
       "    .dataframe thead th {\n",
       "        text-align: right;\n",
       "    }\n",
       "</style>\n",
       "<table border=\"1\" class=\"dataframe\">\n",
       "  <thead>\n",
       "    <tr style=\"text-align: right;\">\n",
       "      <th></th>\n",
       "      <th>id</th>\n",
       "      <th>tweet</th>\n",
       "      <th>label</th>\n",
       "    </tr>\n",
       "  </thead>\n",
       "  <tbody>\n",
       "    <tr>\n",
       "      <th>0</th>\n",
       "      <td>1</td>\n",
       "      <td>The CDC currently reports 99031 deaths. In gen...</td>\n",
       "      <td>real</td>\n",
       "    </tr>\n",
       "    <tr>\n",
       "      <th>1</th>\n",
       "      <td>2</td>\n",
       "      <td>States reported 1121 deaths a small rise from ...</td>\n",
       "      <td>real</td>\n",
       "    </tr>\n",
       "    <tr>\n",
       "      <th>2</th>\n",
       "      <td>3</td>\n",
       "      <td>Politically Correct Woman (Almost) Uses Pandem...</td>\n",
       "      <td>fake</td>\n",
       "    </tr>\n",
       "    <tr>\n",
       "      <th>3</th>\n",
       "      <td>4</td>\n",
       "      <td>#IndiaFightsCorona: We have 1524 #COVID testin...</td>\n",
       "      <td>real</td>\n",
       "    </tr>\n",
       "    <tr>\n",
       "      <th>4</th>\n",
       "      <td>5</td>\n",
       "      <td>Populous states can generate large case counts...</td>\n",
       "      <td>real</td>\n",
       "    </tr>\n",
       "  </tbody>\n",
       "</table>\n",
       "</div>"
      ],
      "text/plain": [
       "   id                                              tweet label\n",
       "0   1  The CDC currently reports 99031 deaths. In gen...  real\n",
       "1   2  States reported 1121 deaths a small rise from ...  real\n",
       "2   3  Politically Correct Woman (Almost) Uses Pandem...  fake\n",
       "3   4  #IndiaFightsCorona: We have 1524 #COVID testin...  real\n",
       "4   5  Populous states can generate large case counts...  real"
      ]
     },
     "execution_count": 3,
     "metadata": {},
     "output_type": "execute_result"
    }
   ],
   "source": [
    "df.head()"
   ]
  },
  {
   "cell_type": "code",
   "execution_count": 4,
   "metadata": {
    "colab": {
     "base_uri": "https://localhost:8080/"
    },
    "id": "Lg0aqfh_Oykc",
    "outputId": "9679e76f-8bed-445f-8e35-6d6877436b58"
   },
   "outputs": [
    {
     "name": "stdout",
     "output_type": "stream",
     "text": [
      "<class 'pandas.core.frame.DataFrame'>\n",
      "RangeIndex: 6420 entries, 0 to 6419\n",
      "Data columns (total 3 columns):\n",
      " #   Column  Non-Null Count  Dtype \n",
      "---  ------  --------------  ----- \n",
      " 0   id      6420 non-null   int64 \n",
      " 1   tweet   6420 non-null   object\n",
      " 2   label   6420 non-null   object\n",
      "dtypes: int64(1), object(2)\n",
      "memory usage: 150.6+ KB\n"
     ]
    }
   ],
   "source": [
    "df.info()"
   ]
  },
  {
   "cell_type": "code",
   "execution_count": 5,
   "metadata": {
    "id": "-QVUEiLfuyiY"
   },
   "outputs": [],
   "source": [
    "from nltk.tokenize import word_tokenize\n",
    "from tqdm import tqdm"
   ]
  },
  {
   "cell_type": "code",
   "execution_count": 6,
   "metadata": {
    "id": "UyT2JH3aO3ZT"
   },
   "outputs": [],
   "source": [
    "import seaborn as sns "
   ]
  },
  {
   "cell_type": "code",
   "execution_count": 8,
   "metadata": {
    "colab": {
     "base_uri": "https://localhost:8080/",
     "height": 312
    },
    "id": "-QPq8FxCO69E",
    "outputId": "673a5512-9da2-4cc2-c4d5-ee1bc7ba72a6"
   },
   "outputs": [
    {
     "data": {
      "text/plain": [
       "Text(0.5, 1.0, 'fake/real news distribution')"
      ]
     },
     "execution_count": 8,
     "metadata": {},
     "output_type": "execute_result"
    },
    {
     "data": {
      "image/png": "[encoded data removed]",
      "text/plain": [
       "<Figure size 432x288 with 1 Axes>"
      ]
     },
     "metadata": {
      "needs_background": "light"
     },
     "output_type": "display_data"
    }
   ],
   "source": [
    "sns.countplot(data=df, y='label').set_title('fake/real news distribution')"
   ]
  },
  {
   "cell_type": "code",
   "execution_count": 7,
   "metadata": {
    "colab": {
     "base_uri": "https://localhost:8080/"
    },
    "id": "9HbHy4nVNKtt",
    "outputId": "04af7826-d425-440b-c1e7-a3f94cec6b82"
   },
   "outputs": [
    {
     "name": "stderr",
     "output_type": "stream",
     "text": [
      "[nltk_data] Downloading package punkt to C:\\Users\\Polina.DESKTOP-\n",
      "[nltk_data]     UGBOPLJ\\AppData\\Roaming\\nltk_data...\n",
      "[nltk_data]   Package punkt is already up-to-date!\n"
     ]
    },
    {
     "data": {
      "text/plain": [
       "True"
      ]
     },
     "execution_count": 7,
     "metadata": {},
     "output_type": "execute_result"
    }
   ],
   "source": [
    "import nltk\n",
    "nltk.download('punkt')"
   ]
  },
  {
   "cell_type": "code",
   "execution_count": 8,
   "metadata": {
    "colab": {
     "base_uri": "https://localhost:8080/"
    },
    "id": "sO62Fv2YuyiY",
    "outputId": "6b48fb3e-6ddd-47d3-aeba-c46c266f8f20"
   },
   "outputs": [
    {
     "name": "stderr",
     "output_type": "stream",
     "text": [
      "100%|████████████████████████████████████████████████████████████████████████████| 6420/6420 [00:02<00:00, 2179.50it/s]\n"
     ]
    }
   ],
   "source": [
    "sentences = [word_tokenize(text.lower()) for text in tqdm(df.tweet)]"
   ]
  },
  {
   "cell_type": "code",
   "execution_count": 9,
   "metadata": {
    "colab": {
     "base_uri": "https://localhost:8080/"
    },
    "id": "HV6DsOOPuyiZ",
    "outputId": "d4bef3d3-68fc-4cc4-e082-15a9cf577335"
   },
   "outputs": [],
   "source": [
    "from gensim.models.word2vec import Word2Vec\n",
    "# %time model_tweets = Word2Vec(sentences, workers=4, size=300, min_count=3, window=5, iter=30)\n",
    "model_tweets = Word2Vec(sentences, workers=4, vector_size=300, min_count=3, window=5)"
   ]
  },
  {
   "cell_type": "code",
   "execution_count": 14,
   "metadata": {
    "colab": {
     "base_uri": "https://localhost:8080/"
    },
    "id": "lmqe5t6BuyiZ",
    "outputId": "9661bf00-cd8c-4184-b796-46ec0c1ae4cf"
   },
   "outputs": [
    {
     "data": {
      "text/plain": [
       "[('research', 0.996173083782196),\n",
       " ('white', 0.9961590766906738),\n",
       " ('ahead', 0.9951794147491455),\n",
       " ('protection', 0.9949883818626404),\n",
       " ('suicide', 0.9945024847984314),\n",
       " ('house', 0.9942063689231873),\n",
       " ('demand', 0.9941803216934204),\n",
       " ('lanka', 0.9941743016242981),\n",
       " ('front', 0.9940750598907471),\n",
       " ('moment', 0.9938743114471436)]"
      ]
     },
     "execution_count": 14,
     "metadata": {},
     "output_type": "execute_result"
    }
   ],
   "source": [
    "model_tweets.wv.most_similar('france')"
   ]
  },
  {
   "cell_type": "code",
   "execution_count": 15,
   "metadata": {
    "id": "H1C2ivBwuyia"
   },
   "outputs": [
    {
     "name": "stderr",
     "output_type": "stream",
     "text": [
      "<ipython-input-15-f1a8336e4a1e>:1: DeprecationWarning: Call to deprecated `init_sims` (Gensim 4.0.0 implemented internal optimizations that make calls to init_sims() unnecessary. init_sims() is now obsoleted and will be completely removed in future versions. See https://github.com/RaRe-Technologies/gensim/wiki/Migrating-from-Gensim-3.x-to-4).\n",
      "  model_tweets.init_sims()\n"
     ]
    }
   ],
   "source": [
    "model_tweets.init_sims()"
   ]
  },
  {
   "cell_type": "code",
   "execution_count": 10,
   "metadata": {
    "id": "gegRNK8fuyib"
   },
   "outputs": [],
   "source": [
    "import numpy as np"
   ]
  },
  {
   "cell_type": "code",
   "execution_count": 17,
   "metadata": {
    "id": "9aQM-6_Cuyib"
   },
   "outputs": [],
   "source": [
    "def get_text_embedding(text):\n",
    "    result = []\n",
    "    for word in word_tokenize(text.lower()):\n",
    "        if word in model_tweets.wv:\n",
    "            result.append(model_tweets.wv[word])\n",
    "\n",
    "    if len(result):\n",
    "        result = np.sum(result, axis=0)\n",
    "    else:\n",
    "        result = np.zeros(300)\n",
    "    return result"
   ]
  },
  {
   "cell_type": "code",
   "execution_count": 16,
   "metadata": {
    "colab": {
     "base_uri": "https://localhost:8080/"
    },
    "id": "MEXHIkb7uyib",
    "outputId": "700cfdaf-bc4f-413f-bd9b-409b57cdc9c9"
   },
   "outputs": [
    {
     "name": "stderr",
     "output_type": "stream",
     "text": [
      "100%|██████████| 6420/6420 [00:03<00:00, 1976.39it/s]\n"
     ]
    }
   ],
   "source": [
    "features = [get_text_embedding(text) for text in tqdm(df.tweet)]"
   ]
  },
  {
   "cell_type": "code",
   "execution_count": 17,
   "metadata": {
    "colab": {
     "base_uri": "https://localhost:8080/"
    },
    "id": "GxjRL8mQQ-YQ",
    "outputId": "bf50bccf-b2a8-42a1-8828-a3e822fde128"
   },
   "outputs": [
    {
     "data": {
      "text/plain": [
       "6420"
      ]
     },
     "execution_count": 17,
     "metadata": {},
     "output_type": "execute_result"
    }
   ],
   "source": [
    "len(features)"
   ]
  },
  {
   "cell_type": "code",
   "execution_count": 11,
   "metadata": {
    "id": "KYWbsK2Duyic"
   },
   "outputs": [],
   "source": [
    "from sklearn.linear_model import LogisticRegression\n",
    "from sklearn.model_selection import train_test_split"
   ]
  },
  {
   "cell_type": "code",
   "execution_count": 19,
   "metadata": {
    "id": "45OhRwtTuyic"
   },
   "outputs": [],
   "source": [
    "X_train, X_test, y_train, y_test = train_test_split(features, df.label, test_size=0.33)"
   ]
  },
  {
   "cell_type": "code",
   "execution_count": 20,
   "metadata": {
    "colab": {
     "base_uri": "https://localhost:8080/"
    },
    "id": "r_JNAMZ2uyic",
    "outputId": "900fffe1-f322-43cb-b016-d1d938984191"
   },
   "outputs": [
    {
     "name": "stderr",
     "output_type": "stream",
     "text": [
      "/usr/local/lib/python3.7/dist-packages/sklearn/linear_model/_logistic.py:818: ConvergenceWarning: lbfgs failed to converge (status=1):\n",
      "STOP: TOTAL NO. of ITERATIONS REACHED LIMIT.\n",
      "\n",
      "Increase the number of iterations (max_iter) or scale the data as shown in:\n",
      "    https://scikit-learn.org/stable/modules/preprocessing.html\n",
      "Please also refer to the documentation for alternative solver options:\n",
      "    https://scikit-learn.org/stable/modules/linear_model.html#logistic-regression\n",
      "  extra_warning_msg=_LOGISTIC_SOLVER_CONVERGENCE_MSG,\n"
     ]
    },
    {
     "data": {
      "text/plain": [
       "LogisticRegression()"
      ]
     },
     "execution_count": 20,
     "metadata": {},
     "output_type": "execute_result"
    }
   ],
   "source": [
    "model = LogisticRegression()\n",
    "model.fit(X_train, y_train)"
   ]
  },
  {
   "cell_type": "code",
   "execution_count": 12,
   "metadata": {
    "id": "mrWxWWhmuyic"
   },
   "outputs": [],
   "source": [
    "from sklearn.metrics import classification_report"
   ]
  },
  {
   "cell_type": "code",
   "execution_count": 22,
   "metadata": {
    "id": "OSBQINBVuyid"
   },
   "outputs": [],
   "source": [
    "predicted = model.predict(X_test)"
   ]
  },
  {
   "cell_type": "code",
   "execution_count": 23,
   "metadata": {
    "colab": {
     "base_uri": "https://localhost:8080/"
    },
    "id": "Gh8xvZ-nuyid",
    "outputId": "1857868e-b26c-47bb-a8c2-dc1a395d2513"
   },
   "outputs": [
    {
     "name": "stdout",
     "output_type": "stream",
     "text": [
      "              precision    recall  f1-score   support\n",
      "\n",
      "        fake       0.92      0.92      0.92      1033\n",
      "        real       0.93      0.92      0.92      1086\n",
      "\n",
      "    accuracy                           0.92      2119\n",
      "   macro avg       0.92      0.92      0.92      2119\n",
      "weighted avg       0.92      0.92      0.92      2119\n",
      "\n"
     ]
    }
   ],
   "source": [
    "print(classification_report(y_test, predicted))"
   ]
  },
  {
   "cell_type": "markdown",
   "metadata": {
    "id": "z5qCQpNduyid"
   },
   "source": [
    "###  Что будет, если использовать самый наивный метод?"
   ]
  },
  {
   "cell_type": "code",
   "execution_count": 13,
   "metadata": {
    "id": "TKLUWP8huyie"
   },
   "outputs": [],
   "source": [
    "from sklearn.feature_extraction.text import CountVectorizer"
   ]
  },
  {
   "cell_type": "code",
   "execution_count": 25,
   "metadata": {
    "id": "EY2CQW0wuyie"
   },
   "outputs": [],
   "source": [
    "vec = CountVectorizer()"
   ]
  },
  {
   "cell_type": "code",
   "execution_count": 26,
   "metadata": {
    "id": "M7CxqeGwuyie"
   },
   "outputs": [],
   "source": [
    "bow = vec.fit_transform(df.tweet)"
   ]
  },
  {
   "cell_type": "code",
   "execution_count": 27,
   "metadata": {
    "colab": {
     "base_uri": "https://localhost:8080/"
    },
    "id": "sVzRicjKuyif",
    "outputId": "b87b9424-544d-4f9b-b46b-38c5c04dbae6"
   },
   "outputs": [
    {
     "data": {
      "text/plain": [
       "LogisticRegression()"
      ]
     },
     "execution_count": 27,
     "metadata": {},
     "output_type": "execute_result"
    }
   ],
   "source": [
    "X_train, X_test, y_train, y_test = train_test_split(bow, df.label, test_size=0.33)\n",
    "model = LogisticRegression()\n",
    "model.fit(X_train, y_train)"
   ]
  },
  {
   "cell_type": "code",
   "execution_count": 28,
   "metadata": {
    "colab": {
     "base_uri": "https://localhost:8080/"
    },
    "id": "xMowWWtnuyif",
    "outputId": "c4d7887b-76b8-41cf-eaa9-b102b433b2dc"
   },
   "outputs": [
    {
     "name": "stdout",
     "output_type": "stream",
     "text": [
      "              precision    recall  f1-score   support\n",
      "\n",
      "        fake       0.93      0.93      0.93      1018\n",
      "        real       0.93      0.93      0.93      1101\n",
      "\n",
      "    accuracy                           0.93      2119\n",
      "   macro avg       0.93      0.93      0.93      2119\n",
      "weighted avg       0.93      0.93      0.93      2119\n",
      "\n"
     ]
    }
   ],
   "source": [
    "predicted = model.predict(X_test)\n",
    "print(classification_report(y_test, predicted))"
   ]
  },
  {
   "cell_type": "markdown",
   "metadata": {
    "id": "UlDB2k1ruyif"
   },
   "source": [
    "Конечно, мы всегда можем поиграться с предобработкой."
   ]
  },
  {
   "cell_type": "code",
   "execution_count": 28,
   "metadata": {
    "id": "TYwoVRMbuyif"
   },
   "outputs": [],
   "source": []
  },
  {
   "cell_type": "markdown",
   "metadata": {
    "id": "T6qOclJPuyif"
   },
   "source": [
    "### PyTorch + LSTM"
   ]
  },
  {
   "cell_type": "code",
   "execution_count": 29,
   "metadata": {
    "id": "wHDxqZnTuyif"
   },
   "outputs": [],
   "source": [
    "labels = (df.label == 'real').astype(int).to_list()"
   ]
  },
  {
   "cell_type": "markdown",
   "metadata": {
    "id": "7fUz2OKauyif"
   },
   "source": [
    "Нужно заранее задать размер для макксимальной длины предложений."
   ]
  },
  {
   "cell_type": "code",
   "execution_count": 30,
   "metadata": {
    "id": "8BkQTxbMuyig"
   },
   "outputs": [],
   "source": [
    "token_lists = [word_tokenize(text.lower()) for text in df.tweet]\n",
    "max_len = len(max(token_lists, key=len))"
   ]
  },
  {
   "cell_type": "code",
   "execution_count": 31,
   "metadata": {
    "colab": {
     "base_uri": "https://localhost:8080/"
    },
    "id": "125Q6tQhuyig",
    "outputId": "24ea0cce-025c-4873-84cb-b4c116861e1b"
   },
   "outputs": [
    {
     "data": {
      "text/plain": [
       "1592"
      ]
     },
     "execution_count": 31,
     "metadata": {},
     "output_type": "execute_result"
    }
   ],
   "source": [
    "max_len"
   ]
  },
  {
   "cell_type": "markdown",
   "metadata": {
    "id": "0HUNPzqWuyig"
   },
   "source": [
    "Это слишком много. Но какая длина обычно?"
   ]
  },
  {
   "cell_type": "code",
   "execution_count": 14,
   "metadata": {
    "id": "4TQVd6Fruyig"
   },
   "outputs": [],
   "source": [
    "from collections import Counter\n",
    "fd = Counter([len(tokens) for tokens in token_lists])"
   ]
  },
  {
   "cell_type": "code",
   "execution_count": 33,
   "metadata": {
    "colab": {
     "base_uri": "https://localhost:8080/"
    },
    "id": "CycieWjbuyih",
    "outputId": "ae0d5e19-db7a-4caf-da93-2f08be026282"
   },
   "outputs": [
    {
     "data": {
      "text/plain": [
       "[(20, 179),\n",
       " (25, 174),\n",
       " (22, 170),\n",
       " (18, 170),\n",
       " (19, 167),\n",
       " (21, 167),\n",
       " (16, 162),\n",
       " (15, 161),\n",
       " (17, 161),\n",
       " (23, 157)]"
      ]
     },
     "execution_count": 33,
     "metadata": {},
     "output_type": "execute_result"
    }
   ],
   "source": [
    "fd.most_common(10)"
   ]
  },
  {
   "cell_type": "markdown",
   "metadata": {
    "id": "3LNWZldVuyih"
   },
   "source": [
    "Зададим максимум 200."
   ]
  },
  {
   "cell_type": "markdown",
   "metadata": {
    "id": "FxPTNDQ0uyii"
   },
   "source": [
    "Возьмём те же w2v эмбеддинги."
   ]
  },
  {
   "cell_type": "code",
   "execution_count": 34,
   "metadata": {
    "id": "cNOPWCq1uyii"
   },
   "outputs": [],
   "source": [
    "def get_word_embedding(tokens, max_len):\n",
    "    result = []\n",
    "    for i in range(max_len):\n",
    "        if i < len(tokens):\n",
    "            word = tokens[i]\n",
    "            if word in model_tweets.wv:\n",
    "                result.append(model_tweets.wv[word])\n",
    "            else:\n",
    "                result.append(np.zeros(300))\n",
    "        else:\n",
    "            result.append(np.zeros(300))\n",
    "    return result"
   ]
  },
  {
   "cell_type": "code",
   "execution_count": 35,
   "metadata": {
    "colab": {
     "base_uri": "https://localhost:8080/"
    },
    "id": "tBkyQdORuyii",
    "outputId": "fb8957e4-bb02-4b67-a5ca-7b557e7b2a45"
   },
   "outputs": [
    {
     "name": "stderr",
     "output_type": "stream",
     "text": [
      "100%|██████████| 6420/6420 [00:03<00:00, 1717.66it/s]\n"
     ]
    }
   ],
   "source": [
    "features = [get_word_embedding(text, 200) for text in tqdm(token_lists)]"
   ]
  },
  {
   "cell_type": "code",
   "execution_count": 36,
   "metadata": {
    "id": "_COity4Puyij"
   },
   "outputs": [],
   "source": [
    "X_train, X_test, y_train, y_test = train_test_split(features, labels, test_size=0.33)"
   ]
  },
  {
   "cell_type": "code",
   "execution_count": 45,
   "metadata": {
    "id": "DXHLD6eKuyij"
   },
   "outputs": [],
   "source": [
    "import torch\n",
    "import torch.nn as nn\n",
    "import torch.optim as optim"
   ]
  },
  {
   "cell_type": "code",
   "execution_count": 38,
   "metadata": {
    "colab": {
     "base_uri": "https://localhost:8080/"
    },
    "id": "ZwGQpAbcuyij",
    "outputId": "0fa816d6-a04b-4982-faa1-4b43e5ece67e"
   },
   "outputs": [
    {
     "data": {
      "text/plain": [
       "300"
      ]
     },
     "execution_count": 38,
     "metadata": {},
     "output_type": "execute_result"
    }
   ],
   "source": [
    "len(features[0][0])"
   ]
  },
  {
   "cell_type": "code",
   "execution_count": 39,
   "metadata": {
    "colab": {
     "base_uri": "https://localhost:8080/"
    },
    "id": "KUNRDEXNRdOF",
    "outputId": "962e4b08-3864-4d7c-8066-d252530c0fcd"
   },
   "outputs": [
    {
     "data": {
      "text/plain": [
       "4301"
      ]
     },
     "execution_count": 39,
     "metadata": {},
     "output_type": "execute_result"
    }
   ],
   "source": [
    "len(X_train)"
   ]
  },
  {
   "cell_type": "code",
   "execution_count": 40,
   "metadata": {
    "colab": {
     "base_uri": "https://localhost:8080/"
    },
    "id": "tVsXkUfMRlc1",
    "outputId": "7919b286-a497-4036-ae0f-9d8cf891ba34"
   },
   "outputs": [
    {
     "data": {
      "text/plain": [
       "200"
      ]
     },
     "execution_count": 40,
     "metadata": {},
     "output_type": "execute_result"
    }
   ],
   "source": [
    "len(X_train[0])"
   ]
  },
  {
   "cell_type": "code",
   "execution_count": 41,
   "metadata": {
    "colab": {
     "base_uri": "https://localhost:8080/"
    },
    "id": "-ZuoO5uhRpmy",
    "outputId": "53477e3b-6054-4ffc-8525-5d1559a918b1"
   },
   "outputs": [
    {
     "data": {
      "text/plain": [
       "300"
      ]
     },
     "execution_count": 41,
     "metadata": {},
     "output_type": "execute_result"
    }
   ],
   "source": [
    "len(X_train[0][0])"
   ]
  },
  {
   "cell_type": "code",
   "execution_count": 42,
   "metadata": {
    "colab": {
     "base_uri": "https://localhost:8080/"
    },
    "id": "J-N2gN0xuyij",
    "outputId": "2294870c-1297-49bb-dbfc-e0c4417ead12"
   },
   "outputs": [
    {
     "name": "stdout",
     "output_type": "stream",
     "text": [
      "Net(\n",
      "  (lstm): LSTM(300, 100)\n",
      "  (out): Linear(in_features=100, out_features=1, bias=True)\n",
      ")\n"
     ]
    }
   ],
   "source": [
    "class Net(nn.Module):\n",
    "\n",
    "    def __init__(self):\n",
    "        super(Net, self).__init__()\n",
    "        self.lstm = nn.LSTM(300, 100)\n",
    "        self.out = nn.Linear(100, 1)\n",
    "\n",
    "    def forward(self, x):\n",
    "        embeddings, (shortterm, longterm) = self.lstm(x.transpose(0, 1))\n",
    "        prediction = torch.sigmoid(self.out(longterm))\n",
    "        return prediction\n",
    "\n",
    "\n",
    "net = Net()\n",
    "print(net)"
   ]
  },
  {
   "cell_type": "code",
   "execution_count": 43,
   "metadata": {
    "colab": {
     "base_uri": "https://localhost:8080/"
    },
    "id": "cOjKyQdnuyij",
    "outputId": "594b84a7-c1af-4dc2-cec2-276ff0117c35"
   },
   "outputs": [
    {
     "name": "stderr",
     "output_type": "stream",
     "text": [
      "/usr/local/lib/python3.7/dist-packages/ipykernel_launcher.py:1: UserWarning: Creating a tensor from a list of numpy.ndarrays is extremely slow. Please consider converting the list to a single numpy.ndarray with numpy.array() before converting to a tensor. (Triggered internally at  ../torch/csrc/utils/tensor_new.cpp:201.)\n",
      "  \"\"\"Entry point for launching an IPython kernel.\n"
     ]
    }
   ],
   "source": [
    "in_data = torch.tensor(X_train).float()\n",
    "targets = torch.tensor(y_train).float()"
   ]
  },
  {
   "cell_type": "code",
   "execution_count": 44,
   "metadata": {
    "colab": {
     "base_uri": "https://localhost:8080/"
    },
    "id": "Surg_PcQuyij",
    "outputId": "6138debf-59fc-49c9-aafb-b9f32d4eead9"
   },
   "outputs": [
    {
     "data": {
      "text/plain": [
       "torch.Size([4301, 200, 300])"
      ]
     },
     "execution_count": 44,
     "metadata": {},
     "output_type": "execute_result"
    }
   ],
   "source": [
    "in_data.shape"
   ]
  },
  {
   "cell_type": "code",
   "execution_count": 45,
   "metadata": {
    "id": "dQ8WQFlnuyik"
   },
   "outputs": [],
   "source": [
    "optimizer = optim.SGD(net.parameters(), lr=0.01)\n",
    "criterion = nn.BCELoss()"
   ]
  },
  {
   "cell_type": "code",
   "execution_count": 46,
   "metadata": {
    "id": "ujjn4KVIuyik"
   },
   "outputs": [],
   "source": [
    "def train_one_epoch(in_data, targets, batch_size=16):\n",
    "    for i in tqdm(range(0, in_data.shape[0], batch_size)):\n",
    "        batch_x = in_data[i:i + batch_size]\n",
    "        batch_y = targets[i:i + batch_size]\n",
    "        optimizer.zero_grad()\n",
    "        output = net(batch_x)\n",
    "        loss = criterion(output.reshape(-1), batch_y)\n",
    "        loss.backward()\n",
    "        optimizer.step()\n",
    "    print(loss)"
   ]
  },
  {
   "cell_type": "code",
   "execution_count": 47,
   "metadata": {
    "colab": {
     "base_uri": "https://localhost:8080/"
    },
    "id": "CorzeZjIuyik",
    "outputId": "fcead564-45f1-4450-b477-c60ad55926aa"
   },
   "outputs": [
    {
     "name": "stderr",
     "output_type": "stream",
     "text": [
      "100%|██████████| 269/269 [03:15<00:00,  1.38it/s]"
     ]
    },
    {
     "name": "stdout",
     "output_type": "stream",
     "text": [
      "tensor(0.6967, grad_fn=<BinaryCrossEntropyBackward0>)\n"
     ]
    },
    {
     "name": "stderr",
     "output_type": "stream",
     "text": [
      "\n"
     ]
    }
   ],
   "source": [
    "train_one_epoch(in_data, targets)"
   ]
  },
  {
   "cell_type": "markdown",
   "metadata": {
    "id": "pna8zQLluyil"
   },
   "source": [
    "Что получилось?"
   ]
  },
  {
   "cell_type": "code",
   "execution_count": 48,
   "metadata": {
    "id": "CQGiiAiLuyil"
   },
   "outputs": [],
   "source": [
    "in_data_test = torch.tensor(X_test).float()\n",
    "targets_test = torch.tensor(y_test).float()"
   ]
  },
  {
   "cell_type": "code",
   "execution_count": 49,
   "metadata": {
    "id": "9VuVw4uUuyil"
   },
   "outputs": [],
   "source": [
    "with torch.no_grad():\n",
    "    output = net(in_data_test).reshape(-1)"
   ]
  },
  {
   "cell_type": "code",
   "execution_count": 50,
   "metadata": {
    "id": "cJxlSn2buyil"
   },
   "outputs": [],
   "source": [
    "result = (output > 0.5) == targets_test"
   ]
  },
  {
   "cell_type": "code",
   "execution_count": 51,
   "metadata": {
    "colab": {
     "base_uri": "https://localhost:8080/"
    },
    "id": "JTYoH6Xpuyil",
    "outputId": "6d18255a-a97c-4d35-cff2-4d783df9f664"
   },
   "outputs": [
    {
     "data": {
      "text/plain": [
       "0.5186408683341198"
      ]
     },
     "execution_count": 51,
     "metadata": {},
     "output_type": "execute_result"
    }
   ],
   "source": [
    "result.sum().item() / len(result)"
   ]
  },
  {
   "cell_type": "markdown",
   "metadata": {
    "id": "-a-HEDe9uyim"
   },
   "source": [
    "Но такую модель надо учить дольше("
   ]
  },
  {
   "cell_type": "markdown",
   "metadata": {
    "id": "hJ5wD7RqShnv"
   },
   "source": [
    "# Домашнее задание к лекции \"Классификация в NLP\"\n",
    "\n",
    "Используя ноутбук занятия (также размещен в папке Materials) и данные fakenews, 3 раза разными способами получить на задаче классификации значение f1 выше 0.91 для методов на sklearn и выше 0.52 для методов на pytorch."
   ]
  },
  {
   "cell_type": "markdown",
   "metadata": {
    "id": "SwdmFS6dTd_e"
   },
   "source": [
    "#### 1. Sklearn\n",
    "\n",
    "В начале попробую оставить предобработку данных такую, какая была для классической логистической регрессии, но применить другие классификаторы из sklearn"
   ]
  },
  {
   "cell_type": "code",
   "execution_count": 15,
   "metadata": {
    "colab": {
     "base_uri": "https://localhost:8080/",
     "height": 312
    },
    "id": "9xx8SmmYTcOk",
    "outputId": "240e4280-7b6b-4305-a526-796024a62f28"
   },
   "outputs": [
    {
     "data": {
      "text/plain": [
       "Text(0.5, 1.0, 'fake/real news distribution')"
      ]
     },
     "execution_count": 15,
     "metadata": {},
     "output_type": "execute_result"
    },
    {
     "data": {
      "image/png": "[encoded data removed]",
      "text/plain": [
       "<Figure size 432x288 with 1 Axes>"
      ]
     },
     "metadata": {
      "needs_background": "light"
     },
     "output_type": "display_data"
    }
   ],
   "source": [
    "sns.countplot(data=df, y='label').set_title('fake/real news distribution')"
   ]
  },
  {
   "cell_type": "markdown",
   "metadata": {
    "id": "J6Q4JsBdT1ks"
   },
   "source": [
    "Распределение классов относительно равномерное, проводить перебалансировку классов нет необходимости"
   ]
  },
  {
   "cell_type": "code",
   "execution_count": 21,
   "metadata": {
    "colab": {
     "base_uri": "https://localhost:8080/"
    },
    "id": "q-pcWy0xSe00",
    "outputId": "6c437846-4ecc-4392-aeb6-d54ee058ae75"
   },
   "outputs": [],
   "source": [
    "features = [get_text_embedding(text) for text in df.tweet]"
   ]
  },
  {
   "cell_type": "code",
   "execution_count": 22,
   "metadata": {
    "id": "zGcMS360SfHk"
   },
   "outputs": [],
   "source": [
    "x_train, x_test, y_train, y_test = train_test_split(features, df.label, test_size=0.33)"
   ]
  },
  {
   "cell_type": "code",
   "execution_count": 23,
   "metadata": {
    "id": "luzLKywHSfN8"
   },
   "outputs": [],
   "source": [
    "from sklearn.tree import DecisionTreeClassifier\n",
    "from sklearn.ensemble import RandomForestClassifier\n",
    "from sklearn.neighbors import KNeighborsClassifier\n",
    "from sklearn.svm import SVC\n",
    "from sklearn.gaussian_process import GaussianProcessClassifier"
   ]
  },
  {
   "cell_type": "code",
   "execution_count": 24,
   "metadata": {
    "id": "KPDjAIlPSfTt"
   },
   "outputs": [],
   "source": [
    "classifiers = {\n",
    "    'tree': DecisionTreeClassifier(),\n",
    "    'rfc': RandomForestClassifier(), \n",
    "    'knc': KNeighborsClassifier(n_neighbors=10),\n",
    "    'svc': SVC(),\n",
    "    'gpc': GaussianProcessClassifier()\n",
    "}"
   ]
  },
  {
   "cell_type": "code",
   "execution_count": 57,
   "metadata": {
    "colab": {
     "base_uri": "https://localhost:8080/"
    },
    "id": "zZixeG4FSfYt",
    "outputId": "e73a157b-4ecf-480e-e4ca-122a713ffcb7"
   },
   "outputs": [
    {
     "name": "stdout",
     "output_type": "stream",
     "text": [
      "tree result\n",
      "              precision    recall  f1-score   support\n",
      "\n",
      "        fake       0.89      0.88      0.88      1012\n",
      "        real       0.89      0.90      0.90      1107\n",
      "\n",
      "    accuracy                           0.89      2119\n",
      "   macro avg       0.89      0.89      0.89      2119\n",
      "weighted avg       0.89      0.89      0.89      2119\n",
      "\n",
      "------------------------\n",
      "rfc result\n",
      "              precision    recall  f1-score   support\n",
      "\n",
      "        fake       0.92      0.93      0.93       989\n",
      "        real       0.94      0.93      0.93      1130\n",
      "\n",
      "    accuracy                           0.93      2119\n",
      "   macro avg       0.93      0.93      0.93      2119\n",
      "weighted avg       0.93      0.93      0.93      2119\n",
      "\n",
      "------------------------\n",
      "knc result\n",
      "              precision    recall  f1-score   support\n",
      "\n",
      "        fake       0.95      0.89      0.92      1068\n",
      "        real       0.90      0.96      0.93      1051\n",
      "\n",
      "    accuracy                           0.92      2119\n",
      "   macro avg       0.93      0.92      0.92      2119\n",
      "weighted avg       0.93      0.92      0.92      2119\n",
      "\n",
      "------------------------\n",
      "svc result\n",
      "              precision    recall  f1-score   support\n",
      "\n",
      "        fake       0.93      0.93      0.93      1001\n",
      "        real       0.94      0.94      0.94      1118\n",
      "\n",
      "    accuracy                           0.93      2119\n",
      "   macro avg       0.93      0.93      0.93      2119\n",
      "weighted avg       0.93      0.93      0.93      2119\n",
      "\n",
      "------------------------\n",
      "gpc result\n",
      "              precision    recall  f1-score   support\n",
      "\n",
      "        fake       0.99      0.53      0.69      1871\n",
      "        real       0.21      0.96      0.35       248\n",
      "\n",
      "    accuracy                           0.58      2119\n",
      "   macro avg       0.60      0.74      0.52      2119\n",
      "weighted avg       0.90      0.58      0.65      2119\n",
      "\n",
      "------------------------\n"
     ]
    }
   ],
   "source": [
    "for label, model in classifiers.items():\n",
    "    model.fit(x_train, y_train)\n",
    "    y_pred = model.predict(x_test)\n",
    "    print(f'{label} result')\n",
    "    print(classification_report(y_pred, y_test))\n",
    "    print('------------------------')"
   ]
  },
  {
   "cell_type": "markdown",
   "metadata": {
    "id": "XJ2o6Gi9Voha"
   },
   "source": [
    "Три классификатора из пяти выдали f1-score, выше необходимого порога. Посмотрим, получится ли поднять f1-score, если изменить гиперпараметры. Возьму модель SVC, как модель с наибольшей accuracy "
   ]
  },
  {
   "cell_type": "code",
   "execution_count": 31,
   "metadata": {
    "id": "1FSBT25lSfc3"
   },
   "outputs": [],
   "source": [
    "from sklearn.model_selection import GridSearchCV"
   ]
  },
  {
   "cell_type": "code",
   "execution_count": 32,
   "metadata": {
    "id": "SsSQyA8XSfhA"
   },
   "outputs": [],
   "source": [
    "params = {\n",
    "    'kernel': ['linear', 'rbf', 'sigmoid'],\n",
    "    'C': [0.1, 1, 10]\n",
    "}"
   ]
  },
  {
   "cell_type": "code",
   "execution_count": 33,
   "metadata": {
    "id": "aUjXMB_dXYhM"
   },
   "outputs": [],
   "source": [
    "import warnings\n",
    "warnings.filterwarnings('ignore')"
   ]
  },
  {
   "cell_type": "code",
   "execution_count": 34,
   "metadata": {
    "id": "n0vmSfdiSflN"
   },
   "outputs": [],
   "source": [
    "grid_svc = GridSearchCV(SVC(), param_grid=params, scoring='f1')"
   ]
  },
  {
   "cell_type": "code",
   "execution_count": 35,
   "metadata": {
    "id": "Ik4ZvtGwSfpY"
   },
   "outputs": [
    {
     "data": {
      "text/plain": [
       "GridSearchCV(estimator=SVC(),\n",
       "             param_grid={'C': [0.1, 1, 10],\n",
       "                         'kernel': ['linear', 'rbf', 'sigmoid']},\n",
       "             scoring='f1')"
      ]
     },
     "execution_count": 35,
     "metadata": {},
     "output_type": "execute_result"
    }
   ],
   "source": [
    "grid_svc.fit(x_train, y_train)"
   ]
  },
  {
   "cell_type": "code",
   "execution_count": 36,
   "metadata": {
    "id": "xvRRNaMHSftk"
   },
   "outputs": [],
   "source": [
    "best_svc = grid_svc.best_estimator_"
   ]
  },
  {
   "cell_type": "code",
   "execution_count": 37,
   "metadata": {
    "id": "K6_NrXNQhyy_"
   },
   "outputs": [
    {
     "data": {
      "text/plain": [
       "{'C': 0.1, 'kernel': 'linear'}"
      ]
     },
     "execution_count": 37,
     "metadata": {},
     "output_type": "execute_result"
    }
   ],
   "source": [
    "grid_svc.best_params_"
   ]
  },
  {
   "cell_type": "code",
   "execution_count": 38,
   "metadata": {
    "id": "BPkheD2yhpQw"
   },
   "outputs": [
    {
     "data": {
      "text/plain": [
       "SVC(C=0.1, kernel='linear')"
      ]
     },
     "execution_count": 38,
     "metadata": {},
     "output_type": "execute_result"
    }
   ],
   "source": [
    "best_svc.fit(x_train, y_train)"
   ]
  },
  {
   "cell_type": "code",
   "execution_count": 39,
   "metadata": {
    "id": "V3CJOZE_hpWS"
   },
   "outputs": [
    {
     "name": "stdout",
     "output_type": "stream",
     "text": [
      "              precision    recall  f1-score   support\n",
      "\n",
      "        fake       0.92      0.88      0.90       779\n",
      "        real       0.89      0.93      0.91       826\n",
      "\n",
      "    accuracy                           0.91      1605\n",
      "   macro avg       0.91      0.91      0.91      1605\n",
      "weighted avg       0.91      0.91      0.91      1605\n",
      "\n",
      "------------------------\n"
     ]
    }
   ],
   "source": [
    "y_pred = best_svc.predict(x_test)\n",
    "print(classification_report(y_pred, y_test))\n",
    "print('------------------------')"
   ]
  },
  {
   "cell_type": "markdown",
   "metadata": {
    "id": "HWoxn2dYb4Xl"
   },
   "source": [
    "Результат SVC не был улучшен, но f1-score по-прежнему выше заданного порога"
   ]
  },
  {
   "cell_type": "markdown",
   "metadata": {
    "id": "zN0H6OEo4eJj"
   },
   "source": [
    "### TF-IDF + TruncatedSVD"
   ]
  },
  {
   "cell_type": "code",
   "execution_count": 26,
   "metadata": {
    "id": "Tj-uNvtihpbI"
   },
   "outputs": [],
   "source": [
    "from sklearn.feature_extraction.text import TfidfVectorizer\n",
    "from sklearn.decomposition import TruncatedSVD"
   ]
  },
  {
   "cell_type": "code",
   "execution_count": 27,
   "metadata": {
    "id": "m65c-eh_5OVF"
   },
   "outputs": [],
   "source": [
    "vectors = TfidfVectorizer().fit_transform(df.tweet)"
   ]
  },
  {
   "cell_type": "code",
   "execution_count": 28,
   "metadata": {
    "id": "b1F8KUMn54D7"
   },
   "outputs": [
    {
     "data": {
      "text/plain": [
       "(6420, 18385)"
      ]
     },
     "execution_count": 28,
     "metadata": {},
     "output_type": "execute_result"
    }
   ],
   "source": [
    "vectors.shape"
   ]
  },
  {
   "cell_type": "code",
   "execution_count": 29,
   "metadata": {
    "id": "yR6c-jQ9586a"
   },
   "outputs": [],
   "source": [
    "n_features = [20, 50, 80, 200, 500, 1000]"
   ]
  },
  {
   "cell_type": "code",
   "execution_count": 30,
   "metadata": {
    "id": "qniMLYe8hpfQ"
   },
   "outputs": [
    {
     "name": "stdout",
     "output_type": "stream",
     "text": [
      "truncatedSVD components: 20\n",
      "              precision    recall  f1-score   support\n",
      "\n",
      "        fake       0.88      0.85      0.87       801\n",
      "        real       0.86      0.89      0.87       804\n",
      "\n",
      "    accuracy                           0.87      1605\n",
      "   macro avg       0.87      0.87      0.87      1605\n",
      "weighted avg       0.87      0.87      0.87      1605\n",
      "\n",
      "---------------------------\n",
      "truncatedSVD components: 50\n",
      "              precision    recall  f1-score   support\n",
      "\n",
      "        fake       0.89      0.88      0.89       804\n",
      "        real       0.88      0.89      0.89       801\n",
      "\n",
      "    accuracy                           0.89      1605\n",
      "   macro avg       0.89      0.89      0.89      1605\n",
      "weighted avg       0.89      0.89      0.89      1605\n",
      "\n",
      "---------------------------\n",
      "truncatedSVD components: 80\n",
      "              precision    recall  f1-score   support\n",
      "\n",
      "        fake       0.89      0.89      0.89       778\n",
      "        real       0.90      0.89      0.90       827\n",
      "\n",
      "    accuracy                           0.89      1605\n",
      "   macro avg       0.89      0.89      0.89      1605\n",
      "weighted avg       0.89      0.89      0.89      1605\n",
      "\n",
      "---------------------------\n",
      "truncatedSVD components: 200\n",
      "              precision    recall  f1-score   support\n",
      "\n",
      "        fake       0.91      0.91      0.91       778\n",
      "        real       0.91      0.91      0.91       827\n",
      "\n",
      "    accuracy                           0.91      1605\n",
      "   macro avg       0.91      0.91      0.91      1605\n",
      "weighted avg       0.91      0.91      0.91      1605\n",
      "\n",
      "---------------------------\n",
      "truncatedSVD components: 500\n",
      "              precision    recall  f1-score   support\n",
      "\n",
      "        fake       0.94      0.89      0.91       777\n",
      "        real       0.90      0.94      0.92       828\n",
      "\n",
      "    accuracy                           0.92      1605\n",
      "   macro avg       0.92      0.92      0.92      1605\n",
      "weighted avg       0.92      0.92      0.92      1605\n",
      "\n",
      "---------------------------\n",
      "truncatedSVD components: 1000\n",
      "              precision    recall  f1-score   support\n",
      "\n",
      "        fake       0.92      0.91      0.92       753\n",
      "        real       0.92      0.93      0.93       852\n",
      "\n",
      "    accuracy                           0.92      1605\n",
      "   macro avg       0.92      0.92      0.92      1605\n",
      "weighted avg       0.92      0.92      0.92      1605\n",
      "\n",
      "---------------------------\n"
     ]
    }
   ],
   "source": [
    "# Посмотрим на результат в зависимости от возможного количества фич \n",
    "for n in n_features:\n",
    "    X_reduced = TruncatedSVD(n_components=n, random_state=0).fit_transform(vectors)\n",
    "    x_train, x_test, y_train, y_test = train_test_split(X_reduced, df.label)\n",
    "    clf = LogisticRegression(random_state=146, solver='liblinear')\n",
    "    clf.fit(x_train, y_train)\n",
    "\n",
    "    y_pred = clf.predict(x_test)\n",
    "    print(f'truncatedSVD components: {n}')\n",
    "    print(classification_report(y_pred, y_test))\n",
    "    print('---------------------------')"
   ]
  },
  {
   "cell_type": "markdown",
   "metadata": {
    "id": "kFVfOWK67u4M"
   },
   "source": [
    "для количества компонентов >= 200  получаем необходимый f1-score "
   ]
  },
  {
   "cell_type": "markdown",
   "metadata": {
    "id": "iY_QLhU579yq"
   },
   "source": [
    "### PyTorch: полносвязная нейросеть "
   ]
  },
  {
   "cell_type": "code",
   "execution_count": 152,
   "metadata": {
    "colab": {
     "base_uri": "https://localhost:8080/"
    },
    "id": "IKcpDDzjJWHG",
    "outputId": "854bf402-57f5-46fa-eba3-d155a21c524f"
   },
   "outputs": [
    {
     "name": "stdout",
     "output_type": "stream",
     "text": [
      "Requirement already satisfied: pymorphy2 in /usr/local/lib/python3.7/dist-packages (0.9.1)\n",
      "Requirement already satisfied: dawg-python>=0.7.1 in /usr/local/lib/python3.7/dist-packages (from pymorphy2) (0.7.2)\n",
      "Requirement already satisfied: pymorphy2-dicts-ru<3.0,>=2.4 in /usr/local/lib/python3.7/dist-packages (from pymorphy2) (2.4.417127.4579844)\n",
      "Requirement already satisfied: docopt>=0.6 in /usr/local/lib/python3.7/dist-packages (from pymorphy2) (0.6.2)\n"
     ]
    }
   ],
   "source": [
    "pip install pymorphy2"
   ]
  },
  {
   "cell_type": "code",
   "execution_count": 26,
   "metadata": {
    "id": "oYMzuPSi-Cpw"
   },
   "outputs": [],
   "source": [
    "from string import punctuation\n",
    "from nltk.corpus import stopwords\n",
    "import re\n",
    "import pymorphy2"
   ]
  },
  {
   "cell_type": "code",
   "execution_count": 27,
   "metadata": {
    "id": "CEQbS6OT-xN5"
   },
   "outputs": [],
   "source": [
    "morph = pymorphy2.MorphAnalyzer()"
   ]
  },
  {
   "cell_type": "code",
   "execution_count": 28,
   "metadata": {
    "colab": {
     "base_uri": "https://localhost:8080/"
    },
    "id": "gFhtpZdm-R3N",
    "outputId": "b635930a-bffa-4ee3-8696-3c0e08cf9137"
   },
   "outputs": [
    {
     "name": "stderr",
     "output_type": "stream",
     "text": [
      "[nltk_data] Downloading package stopwords to C:\\Users\\Polina.DESKTOP-\n",
      "[nltk_data]     UGBOPLJ\\AppData\\Roaming\\nltk_data...\n",
      "[nltk_data]   Package stopwords is already up-to-date!\n"
     ]
    },
    {
     "data": {
      "text/plain": [
       "True"
      ]
     },
     "execution_count": 28,
     "metadata": {},
     "output_type": "execute_result"
    }
   ],
   "source": [
    "nltk.download('stopwords')\n",
    "  "
   ]
  },
  {
   "cell_type": "code",
   "execution_count": 29,
   "metadata": {
    "id": "MM5qcNDr-H--"
   },
   "outputs": [],
   "source": [
    "stops = stopwords.words('english')+[char for char in punctuation]"
   ]
  },
  {
   "cell_type": "code",
   "execution_count": 30,
   "metadata": {
    "id": "IwT5GNq-45Gk"
   },
   "outputs": [],
   "source": [
    "\n",
    "en_words = re.compile(\"[A-Za-z]+\")\n",
    "\n",
    "\n",
    "def words_only(text):\n",
    "    return \" \".join(en_words.findall(text))\n",
    "\n",
    "\n",
    "def lemmatize(text, mystem=morph):\n",
    "    try:\n",
    "        words = text.split() # разбиваем текст на слова\n",
    "        res = list()\n",
    "        for word in words:\n",
    "            p = morph.parse(word)[0]\n",
    "            res.append(p.normal_form)\n",
    "        return \" \".join(res).strip() \n",
    "    except:\n",
    "        return \" \"\n",
    "\n",
    "\n",
    "def remove_stopwords(text, mystopwords = stops):\n",
    "    try:\n",
    "        return \" \".join([token for token in text.split() if not token in stops])\n",
    "    except:\n",
    "        return \"\"\n",
    "\n",
    "    \n",
    "def preprocess(text):\n",
    "    return remove_stopwords(lemmatize(words_only(text.lower())))"
   ]
  },
  {
   "cell_type": "code",
   "execution_count": 31,
   "metadata": {
    "id": "kls_cRUw45O0"
   },
   "outputs": [],
   "source": [
    "df['tweet_cleaned'] = df['tweet'].apply(preprocess)"
   ]
  },
  {
   "cell_type": "code",
   "execution_count": 159,
   "metadata": {
    "id": "i98R9Y2FD5yB"
   },
   "outputs": [],
   "source": [
    "# df = pd.read_csv('/content/df_fakenews_preprocessed.csv')"
   ]
  },
  {
   "cell_type": "code",
   "execution_count": 160,
   "metadata": {
    "id": "YpsbXoESEBwO"
   },
   "outputs": [],
   "source": [
    "# df = df.drop('Unnamed: 0', axis=1)"
   ]
  },
  {
   "cell_type": "code",
   "execution_count": 161,
   "metadata": {
    "id": "u0ZyOcYIhpjP"
   },
   "outputs": [],
   "source": [
    "# df.head()"
   ]
  },
  {
   "cell_type": "code",
   "execution_count": 32,
   "metadata": {
    "colab": {
     "base_uri": "https://localhost:8080/",
     "height": 206
    },
    "id": "UWJAyM9hSfxk",
    "outputId": "0ba6c45b-e5b5-4993-b59c-52075db7d32f"
   },
   "outputs": [
    {
     "data": {
      "text/html": [
       "<div>\n",
       "<style scoped>\n",
       "    .dataframe tbody tr th:only-of-type {\n",
       "        vertical-align: middle;\n",
       "    }\n",
       "\n",
       "    .dataframe tbody tr th {\n",
       "        vertical-align: top;\n",
       "    }\n",
       "\n",
       "    .dataframe thead th {\n",
       "        text-align: right;\n",
       "    }\n",
       "</style>\n",
       "<table border=\"1\" class=\"dataframe\">\n",
       "  <thead>\n",
       "    <tr style=\"text-align: right;\">\n",
       "      <th></th>\n",
       "      <th>id</th>\n",
       "      <th>tweet</th>\n",
       "      <th>label</th>\n",
       "      <th>tweet_cleaned</th>\n",
       "    </tr>\n",
       "  </thead>\n",
       "  <tbody>\n",
       "    <tr>\n",
       "      <th>0</th>\n",
       "      <td>1</td>\n",
       "      <td>The CDC currently reports 99031 deaths. In gen...</td>\n",
       "      <td>1</td>\n",
       "      <td>cdc currently reports deaths general discrepan...</td>\n",
       "    </tr>\n",
       "    <tr>\n",
       "      <th>1</th>\n",
       "      <td>2</td>\n",
       "      <td>States reported 1121 deaths a small rise from ...</td>\n",
       "      <td>1</td>\n",
       "      <td>states reported deaths small rise last tuesday...</td>\n",
       "    </tr>\n",
       "    <tr>\n",
       "      <th>2</th>\n",
       "      <td>3</td>\n",
       "      <td>Politically Correct Woman (Almost) Uses Pandem...</td>\n",
       "      <td>0</td>\n",
       "      <td>politically correct woman almost uses pandemic...</td>\n",
       "    </tr>\n",
       "    <tr>\n",
       "      <th>3</th>\n",
       "      <td>4</td>\n",
       "      <td>#IndiaFightsCorona: We have 1524 #COVID testin...</td>\n",
       "      <td>1</td>\n",
       "      <td>indiafightscorona covid testing laboratories i...</td>\n",
       "    </tr>\n",
       "    <tr>\n",
       "      <th>4</th>\n",
       "      <td>5</td>\n",
       "      <td>Populous states can generate large case counts...</td>\n",
       "      <td>1</td>\n",
       "      <td>populous states generate large case counts loo...</td>\n",
       "    </tr>\n",
       "  </tbody>\n",
       "</table>\n",
       "</div>"
      ],
      "text/plain": [
       "   id                                              tweet  label  \\\n",
       "0   1  The CDC currently reports 99031 deaths. In gen...      1   \n",
       "1   2  States reported 1121 deaths a small rise from ...      1   \n",
       "2   3  Politically Correct Woman (Almost) Uses Pandem...      0   \n",
       "3   4  #IndiaFightsCorona: We have 1524 #COVID testin...      1   \n",
       "4   5  Populous states can generate large case counts...      1   \n",
       "\n",
       "                                       tweet_cleaned  \n",
       "0  cdc currently reports deaths general discrepan...  \n",
       "1  states reported deaths small rise last tuesday...  \n",
       "2  politically correct woman almost uses pandemic...  \n",
       "3  indiafightscorona covid testing laboratories i...  \n",
       "4  populous states generate large case counts loo...  "
      ]
     },
     "execution_count": 32,
     "metadata": {},
     "output_type": "execute_result"
    }
   ],
   "source": [
    "df.label = df.label.map({'real':1, 'fake':0})\n",
    "df.head()"
   ]
  },
  {
   "cell_type": "code",
   "execution_count": 163,
   "metadata": {
    "id": "oGvb15GVSf1r"
   },
   "outputs": [],
   "source": [
    "df.to_csv('df_fakenews_preprocessed.csv')"
   ]
  },
  {
   "cell_type": "code",
   "execution_count": 33,
   "metadata": {
    "id": "Qhapmuh0AJcZ"
   },
   "outputs": [],
   "source": [
    "vectorizer_text = CountVectorizer(max_features=4000)\n",
    "text_matrix = vectorizer_text.fit_transform(df.tweet_cleaned).toarray()"
   ]
  },
  {
   "cell_type": "code",
   "execution_count": 34,
   "metadata": {
    "colab": {
     "base_uri": "https://localhost:8080/"
    },
    "id": "IQ8EkSLKAOl3",
    "outputId": "c508f89a-0e2c-4956-b150-b062bf9485fe"
   },
   "outputs": [
    {
     "data": {
      "text/plain": [
       "(6420, 4000)"
      ]
     },
     "execution_count": 34,
     "metadata": {},
     "output_type": "execute_result"
    }
   ],
   "source": [
    "text_matrix.shape"
   ]
  },
  {
   "cell_type": "code",
   "execution_count": 35,
   "metadata": {
    "id": "vFgd_urjAOuP"
   },
   "outputs": [],
   "source": [
    "X = text_matrix\n",
    "Y = df.label"
   ]
  },
  {
   "cell_type": "code",
   "execution_count": 36,
   "metadata": {
    "id": "F-_suW3BA1Km"
   },
   "outputs": [],
   "source": [
    "x_train,x_test,y_train,y_test = train_test_split(X,np.array(Y),test_size=0.33,random_state=1)"
   ]
  },
  {
   "cell_type": "code",
   "execution_count": 168,
   "metadata": {
    "id": "b2a-mO6GA1b-"
   },
   "outputs": [],
   "source": [
    "class ANN(nn.Module):\n",
    "    \n",
    "    def __init__(self):\n",
    "        \n",
    "        super(ANN,self).__init__() \n",
    "        \n",
    "        self.linear1 = nn.Linear(4000,2000) \n",
    "        self.relu1 = nn.ReLU() \n",
    "        \n",
    "        self.linear2 = nn.Linear(2000,500) \n",
    "        self.relu2 = nn.ReLU()\n",
    "        \n",
    "        self.linear3 = nn.Linear(500,100)\n",
    "        self.relu3 = nn.ReLU()\n",
    "        \n",
    "        self.linear4 = nn.Linear(100,20) \n",
    "        self.relu4 = nn.ReLU()\n",
    "        \n",
    "        self.linear5 = nn.Linear(20,2) \n",
    "        \n",
    "    \n",
    "    def forward(self,x):\n",
    "        \n",
    "        out = self.linear1(x) \n",
    "        out = self.relu1(out)\n",
    "        \n",
    "        out = self.linear2(out) \n",
    "        out = self.relu2(out)\n",
    "        \n",
    "        out = self.linear3(out)\n",
    "        out = self.relu3(out)\n",
    "        \n",
    "        out = self.linear4(out)  \n",
    "        out = self.relu4(out)\n",
    "\n",
    "        out = self.linear5(out) \n",
    "        \n",
    "        return out\n",
    "    \n",
    "\n"
   ]
  },
  {
   "cell_type": "code",
   "execution_count": 169,
   "metadata": {
    "id": "YOAZPeyzB4yx"
   },
   "outputs": [],
   "source": [
    "model = ANN()\n",
    "optimizer = torch.optim.Adam(model.parameters(),lr=0.01)\n",
    "error = nn.CrossEntropyLoss()"
   ]
  },
  {
   "cell_type": "code",
   "execution_count": 170,
   "metadata": {
    "colab": {
     "base_uri": "https://localhost:8080/"
    },
    "id": "7oxH5ccECrSq",
    "outputId": "5fec523a-1419-4f3e-eaa7-92cd82448f8a"
   },
   "outputs": [
    {
     "name": "stdout",
     "output_type": "stream",
     "text": [
      "(4301, 4000)\n",
      "(2119, 4000)\n",
      "(4301,)\n",
      "(2119,)\n"
     ]
    }
   ],
   "source": [
    "print(x_train.shape)\n",
    "print(x_test.shape)\n",
    "print(y_train.shape)\n",
    "print(y_test.shape)"
   ]
  },
  {
   "cell_type": "code",
   "execution_count": 171,
   "metadata": {
    "colab": {
     "base_uri": "https://localhost:8080/"
    },
    "id": "1koYk4TnAO6e",
    "outputId": "bd46561d-f3fb-4517-f462-c51dcd14dd62"
   },
   "outputs": [
    {
     "name": "stdout",
     "output_type": "stream",
     "text": [
      "Loss after iteration 0 is 0.6982213258743286\n",
      "Loss after iteration 1 is 0.6047581434249878\n",
      "Loss after iteration 2 is 0.7546039819717407\n",
      "Loss after iteration 3 is 0.388247549533844\n",
      "Loss after iteration 4 is 0.4566524028778076\n",
      "Loss after iteration 5 is 0.4190983176231384\n",
      "Loss after iteration 6 is 0.3315938711166382\n",
      "Loss after iteration 7 is 0.23581743240356445\n",
      "Loss after iteration 8 is 0.13586340844631195\n",
      "Loss after iteration 9 is 0.06271281838417053\n",
      "Loss after iteration 10 is 0.036571402102708817\n",
      "Loss after iteration 11 is 0.023890409618616104\n",
      "Loss after iteration 12 is 0.01668655313551426\n",
      "Loss after iteration 13 is 0.010778089053928852\n",
      "Loss after iteration 14 is 0.005265349987894297\n",
      "Loss after iteration 15 is 0.0036049869377166033\n",
      "Loss after iteration 16 is 0.0035705578047782183\n",
      "Loss after iteration 17 is 0.0031587216071784496\n",
      "Loss after iteration 18 is 0.0020256461575627327\n",
      "Loss after iteration 19 is 0.00036802442627958953\n"
     ]
    }
   ],
   "source": [
    "x_train = torch.Tensor(x_train).float()\n",
    "y_train = torch.Tensor(y_train).type(torch.LongTensor)\n",
    "# y_train = torch.Tensor(y_train).float()\n",
    "\n",
    "x_test = torch.Tensor(x_test)\n",
    "y_test = torch.Tensor(y_test)\n",
    "\n",
    "\n",
    "EPOCHS = 20\n",
    "\n",
    "for epoch in range(EPOCHS):\n",
    "    \n",
    "    optimizer.zero_grad()\n",
    "    \n",
    "    outs = model(x_train)\n",
    "    \n",
    "    loss = error(outs,y_train)\n",
    "    \n",
    "    loss.backward()\n",
    "    \n",
    "    optimizer.step()\n",
    "\n",
    "    print(f\"Loss after iteration {epoch} is {loss}\")\n",
    "    "
   ]
  },
  {
   "cell_type": "code",
   "execution_count": 37,
   "metadata": {
    "id": "81FpRNk-dFO4"
   },
   "outputs": [],
   "source": [
    "from sklearn.metrics import accuracy_score"
   ]
  },
  {
   "cell_type": "code",
   "execution_count": 173,
   "metadata": {
    "colab": {
     "base_uri": "https://localhost:8080/"
    },
    "id": "gsZqbvFXAPDv",
    "outputId": "d7ef8741-d37c-4945-cea3-628a9870edfd"
   },
   "outputs": [
    {
     "name": "stdout",
     "output_type": "stream",
     "text": [
      "tensor([ 13.1919, -26.6552], grad_fn=<SelectBackward0>)\n",
      "tensor(0)\n",
      "Model accuracy is  0.9056158565361019\n"
     ]
    }
   ],
   "source": [
    "\n",
    "y_head = model(x_test)\n",
    "print(y_head[0])\n",
    "\n",
    "y_pred = torch.max(y_head,1)[1]\n",
    "print(y_pred[0])\n",
    "\n",
    "# Accuracy score\n",
    "print(\"Model accuracy is \",accuracy_score(y_pred,y_test))"
   ]
  },
  {
   "cell_type": "code",
   "execution_count": 174,
   "metadata": {
    "colab": {
     "base_uri": "https://localhost:8080/"
    },
    "id": "htLmu_D4APPf",
    "outputId": "0a184282-2912-4658-8360-f3444e8f85d5"
   },
   "outputs": [
    {
     "name": "stdout",
     "output_type": "stream",
     "text": [
      "              precision    recall  f1-score   support\n",
      "\n",
      "           0       0.85      0.94      0.90       926\n",
      "           1       0.95      0.88      0.91      1193\n",
      "\n",
      "    accuracy                           0.91      2119\n",
      "   macro avg       0.90      0.91      0.91      2119\n",
      "weighted avg       0.91      0.91      0.91      2119\n",
      "\n"
     ]
    }
   ],
   "source": [
    "print(classification_report(y_pred, y_test))"
   ]
  },
  {
   "cell_type": "markdown",
   "metadata": {
    "id": "33Yj-mzIdOWi"
   },
   "source": [
    "В результате обучения полносвязной сети получили достаточно высокий f1-score"
   ]
  },
  {
   "cell_type": "markdown",
   "metadata": {
    "id": "QxSdPVFuJYwy"
   },
   "source": [
    "### PyTorch + LSTM"
   ]
  },
  {
   "cell_type": "code",
   "execution_count": 38,
   "metadata": {
    "id": "TpG7A1vEkZxL"
   },
   "outputs": [],
   "source": [
    "sentences = [word_tokenize(text.lower()) for text in df.tweet_cleaned]\n",
    "model_tweets_cleaned = model_tweets = Word2Vec(sentences, workers=4, vector_size=300, min_count=3, window=5)"
   ]
  },
  {
   "cell_type": "code",
   "execution_count": 39,
   "metadata": {
    "id": "zSYV0fNLJIrf"
   },
   "outputs": [],
   "source": [
    "def get_word_embedding(tokens, max_len):\n",
    "    result = []\n",
    "    for i in range(max_len):\n",
    "        if i < len(tokens):\n",
    "            word = tokens[i]\n",
    "            if word in model_tweets.wv:\n",
    "                result.append(model_tweets.wv[word])\n",
    "            else:\n",
    "                result.append(np.zeros(300))\n",
    "        else:\n",
    "            result.append(np.zeros(300))\n",
    "    return result"
   ]
  },
  {
   "cell_type": "code",
   "execution_count": 40,
   "metadata": {
    "id": "B3LJkfKZk5Ex"
   },
   "outputs": [],
   "source": [
    "features = [get_word_embedding(text, 200) for text in [word_tokenize(text) for text in df.tweet_cleaned]]"
   ]
  },
  {
   "cell_type": "code",
   "execution_count": 41,
   "metadata": {
    "colab": {
     "base_uri": "https://localhost:8080/"
    },
    "id": "Kp0Sxs4alPwl",
    "outputId": "9d356309-931d-4b64-afa6-4cd5b6d3ba11"
   },
   "outputs": [
    {
     "data": {
      "text/plain": [
       "300"
      ]
     },
     "execution_count": 41,
     "metadata": {},
     "output_type": "execute_result"
    }
   ],
   "source": [
    "len(features[0][0])"
   ]
  },
  {
   "cell_type": "code",
   "execution_count": 42,
   "metadata": {
    "id": "hNH857oOljjE"
   },
   "outputs": [],
   "source": [
    "x_train, x_test, y_train, y_test = train_test_split(features, df.label, test_size=0.33)"
   ]
  },
  {
   "cell_type": "code",
   "execution_count": 43,
   "metadata": {
    "colab": {
     "base_uri": "https://localhost:8080/"
    },
    "id": "oW0__9D5ptK7",
    "outputId": "b39b371c-b9c1-40f1-f9be-32eaa25ee8fc"
   },
   "outputs": [
    {
     "data": {
      "text/plain": [
       "300"
      ]
     },
     "execution_count": 43,
     "metadata": {},
     "output_type": "execute_result"
    }
   ],
   "source": [
    "len(x_train[0][0])"
   ]
  },
  {
   "cell_type": "markdown",
   "metadata": {},
   "source": [
    "Попробую создать модель, аналогичную модели с занятия, но добавить в неё полносвязный слой после слоя lstm. Так же хочу попробовать отдельно сделать модель с двунаправленным слоем lstm"
   ]
  },
  {
   "cell_type": "code",
   "execution_count": 46,
   "metadata": {
    "id": "9PpH7jYxJX3C"
   },
   "outputs": [],
   "source": [
    "class LSTM_model(nn.Module):\n",
    "    def __init__(self, embedding_size=300, hidden_size=100):\n",
    "        super(LSTM_model, self).__init__()\n",
    "        self.lstm = nn.LSTM(300, hidden_size)\n",
    "        self.fc = nn.Linear(hidden_size, 1)\n",
    "        self.sigmoid = nn.Sigmoid()\n",
    "        \n",
    "    def forward(self, x):\n",
    "\n",
    "        embeddings, (shortterm, longterm) = self.lstm(x.transpose(0, 1))\n",
    "        out = longterm.transpose(0,1)\n",
    "        out = out.flatten(start_dim=1)\n",
    "        out = self.fc(out)\n",
    "        prediction = self.sigmoid(out).flatten()\n",
    "        return prediction"
   ]
  },
  {
   "cell_type": "code",
   "execution_count": 47,
   "metadata": {
    "colab": {
     "base_uri": "https://localhost:8080/"
    },
    "id": "rjeRDN0soEz0",
    "outputId": "e377309f-ff15-4bc6-a47f-c853bbfff88e"
   },
   "outputs": [
    {
     "name": "stdout",
     "output_type": "stream",
     "text": [
      "LSTM_model(\n",
      "  (lstm): LSTM(300, 100)\n",
      "  (fc): Linear(in_features=100, out_features=1, bias=True)\n",
      "  (sigmoid): Sigmoid()\n",
      ")\n"
     ]
    }
   ],
   "source": [
    "lstm = LSTM_model()\n",
    "print(lstm)"
   ]
  },
  {
   "cell_type": "code",
   "execution_count": 48,
   "metadata": {
    "id": "LZkYwEKnJX5i"
   },
   "outputs": [],
   "source": [
    "x_train = torch.tensor(x_train).float()\n",
    "# y_train = torch.tensor(y_train).float()"
   ]
  },
  {
   "cell_type": "code",
   "execution_count": 49,
   "metadata": {
    "id": "zA8N_yJWJX7y"
   },
   "outputs": [],
   "source": [
    "targets = torch.tensor(y_train.values).float()"
   ]
  },
  {
   "cell_type": "code",
   "execution_count": 50,
   "metadata": {
    "id": "jvqg29T3JX92"
   },
   "outputs": [],
   "source": [
    "optimizer = optim.Adam(lstm.parameters(), lr=0.001)\n",
    "criterion = nn.BCELoss()"
   ]
  },
  {
   "cell_type": "code",
   "execution_count": 51,
   "metadata": {
    "id": "RuiUrzXWoAt-"
   },
   "outputs": [],
   "source": [
    "x_test = torch.Tensor(x_test)\n",
    "y_test = torch.Tensor(y_test.values)\n"
   ]
  },
  {
   "cell_type": "code",
   "execution_count": 52,
   "metadata": {
    "id": "ROorpwZmoAyT"
   },
   "outputs": [],
   "source": [
    "def train_one_epoch(epoch, model, in_data, targets, batch_size=16):\n",
    "    for i in tqdm(range(0, in_data.shape[0], batch_size)):\n",
    "        batch_x = in_data[i:i + batch_size]\n",
    "        batch_y = targets[i:i + batch_size]\n",
    "        optimizer.zero_grad()\n",
    "        output = model(batch_x)\n",
    "        loss = criterion(output.reshape(-1), batch_y)\n",
    "        loss.backward()\n",
    "        optimizer.step()\n",
    "    print(f\"Loss after iteration {epoch} is {loss}\")"
   ]
  },
  {
   "cell_type": "code",
   "execution_count": 53,
   "metadata": {
    "id": "622fnMhkoA0W"
   },
   "outputs": [
    {
     "name": "stderr",
     "output_type": "stream",
     "text": [
      "100%|████████████████████████████████████████████████████████████████████████████████| 269/269 [01:36<00:00,  2.79it/s]\n",
      "  0%|                                                                                          | 0/269 [00:00<?, ?it/s]"
     ]
    },
    {
     "name": "stdout",
     "output_type": "stream",
     "text": [
      "Loss after iteration 0 is 0.6902531385421753\n"
     ]
    },
    {
     "name": "stderr",
     "output_type": "stream",
     "text": [
      "100%|████████████████████████████████████████████████████████████████████████████████| 269/269 [01:36<00:00,  2.80it/s]\n",
      "  0%|                                                                                          | 0/269 [00:00<?, ?it/s]"
     ]
    },
    {
     "name": "stdout",
     "output_type": "stream",
     "text": [
      "Loss after iteration 1 is 0.6901988983154297\n"
     ]
    },
    {
     "name": "stderr",
     "output_type": "stream",
     "text": [
      "100%|████████████████████████████████████████████████████████████████████████████████| 269/269 [01:41<00:00,  2.65it/s]\n",
      "  0%|                                                                                          | 0/269 [00:00<?, ?it/s]"
     ]
    },
    {
     "name": "stdout",
     "output_type": "stream",
     "text": [
      "Loss after iteration 2 is 0.6901856660842896\n"
     ]
    },
    {
     "name": "stderr",
     "output_type": "stream",
     "text": [
      "100%|████████████████████████████████████████████████████████████████████████████████| 269/269 [01:44<00:00,  2.57it/s]\n",
      "  0%|                                                                                          | 0/269 [00:00<?, ?it/s]"
     ]
    },
    {
     "name": "stdout",
     "output_type": "stream",
     "text": [
      "Loss after iteration 3 is 0.6901884078979492\n"
     ]
    },
    {
     "name": "stderr",
     "output_type": "stream",
     "text": [
      "100%|████████████████████████████████████████████████████████████████████████████████| 269/269 [01:43<00:00,  2.59it/s]\n",
      "  0%|                                                                                          | 0/269 [00:00<?, ?it/s]"
     ]
    },
    {
     "name": "stdout",
     "output_type": "stream",
     "text": [
      "Loss after iteration 4 is 0.6902033686637878\n"
     ]
    },
    {
     "name": "stderr",
     "output_type": "stream",
     "text": [
      "100%|████████████████████████████████████████████████████████████████████████████████| 269/269 [01:43<00:00,  2.60it/s]\n",
      "  0%|                                                                                          | 0/269 [00:00<?, ?it/s]"
     ]
    },
    {
     "name": "stdout",
     "output_type": "stream",
     "text": [
      "Loss after iteration 5 is 0.6902069449424744\n"
     ]
    },
    {
     "name": "stderr",
     "output_type": "stream",
     "text": [
      "100%|████████████████████████████████████████████████████████████████████████████████| 269/269 [01:42<00:00,  2.63it/s]\n",
      "  0%|                                                                                          | 0/269 [00:00<?, ?it/s]"
     ]
    },
    {
     "name": "stdout",
     "output_type": "stream",
     "text": [
      "Loss after iteration 6 is 0.6902220845222473\n"
     ]
    },
    {
     "name": "stderr",
     "output_type": "stream",
     "text": [
      "100%|████████████████████████████████████████████████████████████████████████████████| 269/269 [01:43<00:00,  2.61it/s]\n",
      "  0%|                                                                                          | 0/269 [00:00<?, ?it/s]"
     ]
    },
    {
     "name": "stdout",
     "output_type": "stream",
     "text": [
      "Loss after iteration 7 is 0.6902374029159546\n"
     ]
    },
    {
     "name": "stderr",
     "output_type": "stream",
     "text": [
      "100%|████████████████████████████████████████████████████████████████████████████████| 269/269 [01:44<00:00,  2.58it/s]\n",
      "  0%|                                                                                          | 0/269 [00:00<?, ?it/s]"
     ]
    },
    {
     "name": "stdout",
     "output_type": "stream",
     "text": [
      "Loss after iteration 8 is 0.690243661403656\n"
     ]
    },
    {
     "name": "stderr",
     "output_type": "stream",
     "text": [
      "100%|████████████████████████████████████████████████████████████████████████████████| 269/269 [01:42<00:00,  2.63it/s]\n",
      "  0%|                                                                                          | 0/269 [00:00<?, ?it/s]"
     ]
    },
    {
     "name": "stdout",
     "output_type": "stream",
     "text": [
      "Loss after iteration 9 is 0.690234899520874\n"
     ]
    },
    {
     "name": "stderr",
     "output_type": "stream",
     "text": [
      "100%|████████████████████████████████████████████████████████████████████████████████| 269/269 [01:40<00:00,  2.68it/s]\n",
      "  0%|                                                                                          | 0/269 [00:00<?, ?it/s]"
     ]
    },
    {
     "name": "stdout",
     "output_type": "stream",
     "text": [
      "Loss after iteration 10 is 0.6902836561203003\n"
     ]
    },
    {
     "name": "stderr",
     "output_type": "stream",
     "text": [
      "100%|████████████████████████████████████████████████████████████████████████████████| 269/269 [01:40<00:00,  2.68it/s]\n",
      "  0%|                                                                                          | 0/269 [00:00<?, ?it/s]"
     ]
    },
    {
     "name": "stdout",
     "output_type": "stream",
     "text": [
      "Loss after iteration 11 is 0.6902669072151184\n"
     ]
    },
    {
     "name": "stderr",
     "output_type": "stream",
     "text": [
      "100%|████████████████████████████████████████████████████████████████████████████████| 269/269 [01:40<00:00,  2.68it/s]\n",
      "  0%|                                                                                          | 0/269 [00:00<?, ?it/s]"
     ]
    },
    {
     "name": "stdout",
     "output_type": "stream",
     "text": [
      "Loss after iteration 12 is 0.6902567148208618\n"
     ]
    },
    {
     "name": "stderr",
     "output_type": "stream",
     "text": [
      "100%|████████████████████████████████████████████████████████████████████████████████| 269/269 [01:39<00:00,  2.71it/s]\n",
      "  0%|                                                                                          | 0/269 [00:00<?, ?it/s]"
     ]
    },
    {
     "name": "stdout",
     "output_type": "stream",
     "text": [
      "Loss after iteration 13 is 0.6902906894683838\n"
     ]
    },
    {
     "name": "stderr",
     "output_type": "stream",
     "text": [
      "100%|████████████████████████████████████████████████████████████████████████████████| 269/269 [01:36<00:00,  2.78it/s]\n",
      "  0%|                                                                                          | 0/269 [00:00<?, ?it/s]"
     ]
    },
    {
     "name": "stdout",
     "output_type": "stream",
     "text": [
      "Loss after iteration 14 is 0.6902705430984497\n"
     ]
    },
    {
     "name": "stderr",
     "output_type": "stream",
     "text": [
      "100%|████████████████████████████████████████████████████████████████████████████████| 269/269 [01:34<00:00,  2.84it/s]\n",
      "  0%|                                                                                          | 0/269 [00:00<?, ?it/s]"
     ]
    },
    {
     "name": "stdout",
     "output_type": "stream",
     "text": [
      "Loss after iteration 15 is 0.6902891993522644\n"
     ]
    },
    {
     "name": "stderr",
     "output_type": "stream",
     "text": [
      "100%|████████████████████████████████████████████████████████████████████████████████| 269/269 [01:31<00:00,  2.93it/s]\n",
      "  0%|                                                                                          | 0/269 [00:00<?, ?it/s]"
     ]
    },
    {
     "name": "stdout",
     "output_type": "stream",
     "text": [
      "Loss after iteration 16 is 0.6902964115142822\n"
     ]
    },
    {
     "name": "stderr",
     "output_type": "stream",
     "text": [
      "100%|████████████████████████████████████████████████████████████████████████████████| 269/269 [01:30<00:00,  2.98it/s]\n",
      "  0%|                                                                                          | 0/269 [00:00<?, ?it/s]"
     ]
    },
    {
     "name": "stdout",
     "output_type": "stream",
     "text": [
      "Loss after iteration 17 is 0.6902846097946167\n"
     ]
    },
    {
     "name": "stderr",
     "output_type": "stream",
     "text": [
      "100%|████████████████████████████████████████████████████████████████████████████████| 269/269 [01:31<00:00,  2.95it/s]\n",
      "  0%|                                                                                          | 0/269 [00:00<?, ?it/s]"
     ]
    },
    {
     "name": "stdout",
     "output_type": "stream",
     "text": [
      "Loss after iteration 18 is 0.6902912855148315\n"
     ]
    },
    {
     "name": "stderr",
     "output_type": "stream",
     "text": [
      "100%|████████████████████████████████████████████████████████████████████████████████| 269/269 [01:31<00:00,  2.94it/s]"
     ]
    },
    {
     "name": "stdout",
     "output_type": "stream",
     "text": [
      "Loss after iteration 19 is 0.6903019547462463\n"
     ]
    },
    {
     "name": "stderr",
     "output_type": "stream",
     "text": [
      "\n"
     ]
    }
   ],
   "source": [
    "EPOCHS = 20\n",
    "\n",
    "for epoch in range(EPOCHS):\n",
    "    train_one_epoch(epoch, lstm, x_train, targets)"
   ]
  },
  {
   "cell_type": "code",
   "execution_count": 54,
   "metadata": {
    "id": "OQHC7CUJ8Vut"
   },
   "outputs": [],
   "source": [
    "with torch.no_grad():\n",
    "    output = lstm(x_test).reshape(-1)"
   ]
  },
  {
   "cell_type": "code",
   "execution_count": 55,
   "metadata": {
    "id": "RqyHCRt38cb1"
   },
   "outputs": [
    {
     "data": {
      "text/plain": [
       "tensor(0.5306)"
      ]
     },
     "execution_count": 55,
     "metadata": {},
     "output_type": "execute_result"
    }
   ],
   "source": [
    "output[0]"
   ]
  },
  {
   "cell_type": "code",
   "execution_count": 56,
   "metadata": {
    "id": "msP7cdLo7Cjp"
   },
   "outputs": [],
   "source": [
    "y_pred = (np.array(output).flatten() > 0.5).astype(np.int)"
   ]
  },
  {
   "cell_type": "code",
   "execution_count": 57,
   "metadata": {
    "id": "UCrifGwa8s8U"
   },
   "outputs": [
    {
     "name": "stdout",
     "output_type": "stream",
     "text": [
      "              precision    recall  f1-score   support\n",
      "\n",
      "           0       0.00      1.00      0.00         2\n",
      "           1       1.00      0.52      0.68      2117\n",
      "\n",
      "    accuracy                           0.52      2119\n",
      "   macro avg       0.50      0.76      0.34      2119\n",
      "weighted avg       1.00      0.52      0.68      2119\n",
      "\n"
     ]
    }
   ],
   "source": [
    "print(classification_report(y_pred, y_test))"
   ]
  },
  {
   "cell_type": "code",
   "execution_count": null,
   "metadata": {
    "id": "ALrPr5n58tAO"
   },
   "outputs": [],
   "source": []
  },
  {
   "cell_type": "code",
   "execution_count": 58,
   "metadata": {
    "id": "Sq-2IS_tJYAM"
   },
   "outputs": [],
   "source": [
    "class biLSTM_model(nn.Module):\n",
    "    def __init__(self, embedding_size=300, hidden_size=100):\n",
    "        super(biLSTM_model, self).__init__()\n",
    "        self.lstm = nn.LSTM(300, hidden_size, bidirectional=True)\n",
    "        self.fc = nn.Linear(hidden_size*2, 1)\n",
    "        self.sigmoid = nn.Sigmoid()\n",
    "        \n",
    "    def forward(self, x):\n",
    "        embeddings, (shortterm, longterm) = self.lstm(x.transpose(0, 1))\n",
    "        out = longterm.transpose(0,1)\n",
    "        out = out.flatten(start_dim=1)\n",
    "        out = self.fc(out)\n",
    "        prediction = self.sigmoid(out).flatten()\n",
    "        return prediction"
   ]
  },
  {
   "cell_type": "code",
   "execution_count": 59,
   "metadata": {
    "id": "XQ6zZ4fxJYCb"
   },
   "outputs": [
    {
     "name": "stdout",
     "output_type": "stream",
     "text": [
      "biLSTM_model(\n",
      "  (lstm): LSTM(300, 100, bidirectional=True)\n",
      "  (fc): Linear(in_features=200, out_features=1, bias=True)\n",
      "  (sigmoid): Sigmoid()\n",
      ")\n"
     ]
    }
   ],
   "source": [
    "bilstm = biLSTM_model()\n",
    "print(bilstm)"
   ]
  },
  {
   "cell_type": "code",
   "execution_count": 60,
   "metadata": {
    "id": "l9zxME3B_clJ"
   },
   "outputs": [
    {
     "name": "stderr",
     "output_type": "stream",
     "text": [
      "100%|████████████████████████████████████████████████████████████████████████████████| 135/135 [02:19<00:00,  1.03s/it]\n",
      "  0%|                                                                                          | 0/135 [00:00<?, ?it/s]"
     ]
    },
    {
     "name": "stdout",
     "output_type": "stream",
     "text": [
      "Loss after iteration 0 is 0.6876842975616455\n"
     ]
    },
    {
     "name": "stderr",
     "output_type": "stream",
     "text": [
      "100%|████████████████████████████████████████████████████████████████████████████████| 135/135 [02:19<00:00,  1.03s/it]\n",
      "  0%|                                                                                          | 0/135 [00:00<?, ?it/s]"
     ]
    },
    {
     "name": "stdout",
     "output_type": "stream",
     "text": [
      "Loss after iteration 1 is 0.6876842975616455\n"
     ]
    },
    {
     "name": "stderr",
     "output_type": "stream",
     "text": [
      "100%|████████████████████████████████████████████████████████████████████████████████| 135/135 [02:18<00:00,  1.03s/it]\n",
      "  0%|                                                                                          | 0/135 [00:00<?, ?it/s]"
     ]
    },
    {
     "name": "stdout",
     "output_type": "stream",
     "text": [
      "Loss after iteration 2 is 0.6876842975616455\n"
     ]
    },
    {
     "name": "stderr",
     "output_type": "stream",
     "text": [
      "100%|████████████████████████████████████████████████████████████████████████████████| 135/135 [02:19<00:00,  1.04s/it]\n",
      "  0%|                                                                                          | 0/135 [00:00<?, ?it/s]"
     ]
    },
    {
     "name": "stdout",
     "output_type": "stream",
     "text": [
      "Loss after iteration 3 is 0.6876842975616455\n"
     ]
    },
    {
     "name": "stderr",
     "output_type": "stream",
     "text": [
      "100%|████████████████████████████████████████████████████████████████████████████████| 135/135 [02:19<00:00,  1.04s/it]\n",
      "  0%|                                                                                          | 0/135 [00:00<?, ?it/s]"
     ]
    },
    {
     "name": "stdout",
     "output_type": "stream",
     "text": [
      "Loss after iteration 4 is 0.6876842975616455\n"
     ]
    },
    {
     "name": "stderr",
     "output_type": "stream",
     "text": [
      "100%|████████████████████████████████████████████████████████████████████████████████| 135/135 [02:19<00:00,  1.04s/it]\n",
      "  0%|                                                                                          | 0/135 [00:00<?, ?it/s]"
     ]
    },
    {
     "name": "stdout",
     "output_type": "stream",
     "text": [
      "Loss after iteration 5 is 0.6876842975616455\n"
     ]
    },
    {
     "name": "stderr",
     "output_type": "stream",
     "text": [
      "100%|████████████████████████████████████████████████████████████████████████████████| 135/135 [02:19<00:00,  1.03s/it]\n",
      "  0%|                                                                                          | 0/135 [00:00<?, ?it/s]"
     ]
    },
    {
     "name": "stdout",
     "output_type": "stream",
     "text": [
      "Loss after iteration 6 is 0.6876842975616455\n"
     ]
    },
    {
     "name": "stderr",
     "output_type": "stream",
     "text": [
      "100%|████████████████████████████████████████████████████████████████████████████████| 135/135 [02:19<00:00,  1.03s/it]\n",
      "  0%|                                                                                          | 0/135 [00:00<?, ?it/s]"
     ]
    },
    {
     "name": "stdout",
     "output_type": "stream",
     "text": [
      "Loss after iteration 7 is 0.6876842975616455\n"
     ]
    },
    {
     "name": "stderr",
     "output_type": "stream",
     "text": [
      "100%|████████████████████████████████████████████████████████████████████████████████| 135/135 [02:19<00:00,  1.04s/it]\n",
      "  0%|                                                                                          | 0/135 [00:00<?, ?it/s]"
     ]
    },
    {
     "name": "stdout",
     "output_type": "stream",
     "text": [
      "Loss after iteration 8 is 0.6876842975616455\n"
     ]
    },
    {
     "name": "stderr",
     "output_type": "stream",
     "text": [
      "100%|████████████████████████████████████████████████████████████████████████████████| 135/135 [02:20<00:00,  1.04s/it]\n",
      "  0%|                                                                                          | 0/135 [00:00<?, ?it/s]"
     ]
    },
    {
     "name": "stdout",
     "output_type": "stream",
     "text": [
      "Loss after iteration 9 is 0.6876842975616455\n"
     ]
    },
    {
     "name": "stderr",
     "output_type": "stream",
     "text": [
      "100%|████████████████████████████████████████████████████████████████████████████████| 135/135 [02:21<00:00,  1.05s/it]\n",
      "  0%|                                                                                          | 0/135 [00:00<?, ?it/s]"
     ]
    },
    {
     "name": "stdout",
     "output_type": "stream",
     "text": [
      "Loss after iteration 10 is 0.6876842975616455\n"
     ]
    },
    {
     "name": "stderr",
     "output_type": "stream",
     "text": [
      "100%|████████████████████████████████████████████████████████████████████████████████| 135/135 [02:19<00:00,  1.04s/it]\n",
      "  0%|                                                                                          | 0/135 [00:00<?, ?it/s]"
     ]
    },
    {
     "name": "stdout",
     "output_type": "stream",
     "text": [
      "Loss after iteration 11 is 0.6876842975616455\n"
     ]
    },
    {
     "name": "stderr",
     "output_type": "stream",
     "text": [
      "100%|████████████████████████████████████████████████████████████████████████████████| 135/135 [02:19<00:00,  1.03s/it]\n",
      "  0%|                                                                                          | 0/135 [00:00<?, ?it/s]"
     ]
    },
    {
     "name": "stdout",
     "output_type": "stream",
     "text": [
      "Loss after iteration 12 is 0.6876842975616455\n"
     ]
    },
    {
     "name": "stderr",
     "output_type": "stream",
     "text": [
      "100%|████████████████████████████████████████████████████████████████████████████████| 135/135 [02:19<00:00,  1.04s/it]\n",
      "  0%|                                                                                          | 0/135 [00:00<?, ?it/s]"
     ]
    },
    {
     "name": "stdout",
     "output_type": "stream",
     "text": [
      "Loss after iteration 13 is 0.6876842975616455\n"
     ]
    },
    {
     "name": "stderr",
     "output_type": "stream",
     "text": [
      "100%|████████████████████████████████████████████████████████████████████████████████| 135/135 [02:19<00:00,  1.04s/it]\n",
      "  0%|                                                                                          | 0/135 [00:00<?, ?it/s]"
     ]
    },
    {
     "name": "stdout",
     "output_type": "stream",
     "text": [
      "Loss after iteration 14 is 0.6876842975616455\n"
     ]
    },
    {
     "name": "stderr",
     "output_type": "stream",
     "text": [
      "100%|████████████████████████████████████████████████████████████████████████████████| 135/135 [02:21<00:00,  1.05s/it]\n",
      "  0%|                                                                                          | 0/135 [00:00<?, ?it/s]"
     ]
    },
    {
     "name": "stdout",
     "output_type": "stream",
     "text": [
      "Loss after iteration 15 is 0.6876842975616455\n"
     ]
    },
    {
     "name": "stderr",
     "output_type": "stream",
     "text": [
      "100%|████████████████████████████████████████████████████████████████████████████████| 135/135 [02:20<00:00,  1.04s/it]\n",
      "  0%|                                                                                          | 0/135 [00:00<?, ?it/s]"
     ]
    },
    {
     "name": "stdout",
     "output_type": "stream",
     "text": [
      "Loss after iteration 16 is 0.6876842975616455\n"
     ]
    },
    {
     "name": "stderr",
     "output_type": "stream",
     "text": [
      "100%|████████████████████████████████████████████████████████████████████████████████| 135/135 [02:20<00:00,  1.04s/it]\n",
      "  0%|                                                                                          | 0/135 [00:00<?, ?it/s]"
     ]
    },
    {
     "name": "stdout",
     "output_type": "stream",
     "text": [
      "Loss after iteration 17 is 0.6876842975616455\n"
     ]
    },
    {
     "name": "stderr",
     "output_type": "stream",
     "text": [
      "100%|████████████████████████████████████████████████████████████████████████████████| 135/135 [02:19<00:00,  1.03s/it]\n",
      "  0%|                                                                                          | 0/135 [00:00<?, ?it/s]"
     ]
    },
    {
     "name": "stdout",
     "output_type": "stream",
     "text": [
      "Loss after iteration 18 is 0.6876842975616455\n"
     ]
    },
    {
     "name": "stderr",
     "output_type": "stream",
     "text": [
      "100%|████████████████████████████████████████████████████████████████████████████████| 135/135 [02:19<00:00,  1.03s/it]"
     ]
    },
    {
     "name": "stdout",
     "output_type": "stream",
     "text": [
      "Loss after iteration 19 is 0.6876842975616455\n"
     ]
    },
    {
     "name": "stderr",
     "output_type": "stream",
     "text": [
      "\n"
     ]
    }
   ],
   "source": [
    "EPOCHS = 20\n",
    "\n",
    "for epoch in range(EPOCHS):\n",
    "    train_one_epoch(epoch, bilstm, x_train, targets, 32)"
   ]
  },
  {
   "cell_type": "code",
   "execution_count": 61,
   "metadata": {
    "id": "Ca5k-sJ3_cvV"
   },
   "outputs": [],
   "source": [
    "with torch.no_grad():\n",
    "    output = bilstm(x_test).reshape(-1)"
   ]
  },
  {
   "cell_type": "code",
   "execution_count": 62,
   "metadata": {
    "id": "Qm_qxZuJ_c5F"
   },
   "outputs": [],
   "source": [
    "y_pred = (np.array(output).flatten() > 0.5).astype(np.int)"
   ]
  },
  {
   "cell_type": "code",
   "execution_count": 63,
   "metadata": {
    "id": "W-y1U53j_dCt"
   },
   "outputs": [
    {
     "name": "stdout",
     "output_type": "stream",
     "text": [
      "              precision    recall  f1-score   support\n",
      "\n",
      "           0       0.80      0.62      0.70      1323\n",
      "           1       0.54      0.74      0.62       796\n",
      "\n",
      "    accuracy                           0.66      2119\n",
      "   macro avg       0.67      0.68      0.66      2119\n",
      "weighted avg       0.70      0.66      0.67      2119\n",
      "\n"
     ]
    }
   ],
   "source": [
    "print(classification_report(y_pred, y_test))"
   ]
  },
  {
   "cell_type": "markdown",
   "metadata": {},
   "source": [
    "Сетки с lstm-слоем показали меньшую точность, чем полносвязная нейронка, но набрали необходимый f-score "
   ]
  },
  {
   "cell_type": "code",
   "execution_count": null,
   "metadata": {},
   "outputs": [],
   "source": []
  }
 ],
 "metadata": {
  "accelerator": "GPU",
  "colab": {
   "collapsed_sections": [],
   "name": "Классификация в NLP.ipynb",
   "provenance": []
  },
  "kernelspec": {
   "display_name": "Python 3",
   "language": "python",
   "name": "python3"
  },
  "language_info": {
   "codemirror_mode": {
    "name": "ipython",
    "version": 3
   },
   "file_extension": ".py",
   "mimetype": "text/x-python",
   "name": "python",
   "nbconvert_exporter": "python",
   "pygments_lexer": "ipython3",
   "version": "3.8.8"
  }
 },
 "nbformat": 4,
 "nbformat_minor": 1
}
