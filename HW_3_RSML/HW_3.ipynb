{
 "cells": [
  {
   "cell_type": "markdown",
   "id": "664af5e9",
   "metadata": {},
   "source": [
    "### Задание к теме «Гибридные рекомендательные системы»"
   ]
  },
  {
   "cell_type": "markdown",
   "id": "fdb387eb",
   "metadata": {},
   "source": [
    "1. Датасет ml-latest\n",
    "1. Вспомнить подходы, которые мы разбирали\n",
    "1. Выбрать понравившийся подход к гибридным системам\n",
    "1. Написать свою"
   ]
  },
  {
   "cell_type": "code",
   "execution_count": 1,
   "id": "1efa4b58",
   "metadata": {},
   "outputs": [],
   "source": [
    "import pandas as pd\n",
    "import numpy as np"
   ]
  },
  {
   "cell_type": "code",
   "execution_count": 100,
   "id": "789238b1",
   "metadata": {},
   "outputs": [],
   "source": [
    "links = pd.read_csv('links.csv')\n",
    "movies = pd.read_csv('movies.csv')\n",
    "ratings = pd.read_csv('ratings.csv')\n",
    "tags = pd.read_csv('tags.csv')"
   ]
  },
  {
   "cell_type": "code",
   "execution_count": 104,
   "id": "a049aa5f",
   "metadata": {},
   "outputs": [],
   "source": [
    "movies_with_ratings = movies.join(ratings.set_index('movieId'), on='movieId').reset_index(drop=True)\n",
    "movies_with_ratings.dropna(inplace=True)"
   ]
  },
  {
   "cell_type": "code",
   "execution_count": 105,
   "id": "b9036480",
   "metadata": {},
   "outputs": [
    {
     "data": {
      "text/html": [
       "<div>\n",
       "<style scoped>\n",
       "    .dataframe tbody tr th:only-of-type {\n",
       "        vertical-align: middle;\n",
       "    }\n",
       "\n",
       "    .dataframe tbody tr th {\n",
       "        vertical-align: top;\n",
       "    }\n",
       "\n",
       "    .dataframe thead th {\n",
       "        text-align: right;\n",
       "    }\n",
       "</style>\n",
       "<table border=\"1\" class=\"dataframe\">\n",
       "  <thead>\n",
       "    <tr style=\"text-align: right;\">\n",
       "      <th></th>\n",
       "      <th>movieId</th>\n",
       "      <th>title</th>\n",
       "      <th>genres</th>\n",
       "      <th>userId</th>\n",
       "      <th>rating</th>\n",
       "      <th>timestamp</th>\n",
       "    </tr>\n",
       "  </thead>\n",
       "  <tbody>\n",
       "    <tr>\n",
       "      <th>0</th>\n",
       "      <td>1</td>\n",
       "      <td>Toy Story (1995)</td>\n",
       "      <td>Adventure|Animation|Children|Comedy|Fantasy</td>\n",
       "      <td>1.0</td>\n",
       "      <td>4.0</td>\n",
       "      <td>9.649827e+08</td>\n",
       "    </tr>\n",
       "    <tr>\n",
       "      <th>1</th>\n",
       "      <td>1</td>\n",
       "      <td>Toy Story (1995)</td>\n",
       "      <td>Adventure|Animation|Children|Comedy|Fantasy</td>\n",
       "      <td>5.0</td>\n",
       "      <td>4.0</td>\n",
       "      <td>8.474350e+08</td>\n",
       "    </tr>\n",
       "    <tr>\n",
       "      <th>2</th>\n",
       "      <td>1</td>\n",
       "      <td>Toy Story (1995)</td>\n",
       "      <td>Adventure|Animation|Children|Comedy|Fantasy</td>\n",
       "      <td>7.0</td>\n",
       "      <td>4.5</td>\n",
       "      <td>1.106636e+09</td>\n",
       "    </tr>\n",
       "    <tr>\n",
       "      <th>3</th>\n",
       "      <td>1</td>\n",
       "      <td>Toy Story (1995)</td>\n",
       "      <td>Adventure|Animation|Children|Comedy|Fantasy</td>\n",
       "      <td>15.0</td>\n",
       "      <td>2.5</td>\n",
       "      <td>1.510578e+09</td>\n",
       "    </tr>\n",
       "    <tr>\n",
       "      <th>4</th>\n",
       "      <td>1</td>\n",
       "      <td>Toy Story (1995)</td>\n",
       "      <td>Adventure|Animation|Children|Comedy|Fantasy</td>\n",
       "      <td>17.0</td>\n",
       "      <td>4.5</td>\n",
       "      <td>1.305696e+09</td>\n",
       "    </tr>\n",
       "  </tbody>\n",
       "</table>\n",
       "</div>"
      ],
      "text/plain": [
       "   movieId             title                                       genres  \\\n",
       "0        1  Toy Story (1995)  Adventure|Animation|Children|Comedy|Fantasy   \n",
       "1        1  Toy Story (1995)  Adventure|Animation|Children|Comedy|Fantasy   \n",
       "2        1  Toy Story (1995)  Adventure|Animation|Children|Comedy|Fantasy   \n",
       "3        1  Toy Story (1995)  Adventure|Animation|Children|Comedy|Fantasy   \n",
       "4        1  Toy Story (1995)  Adventure|Animation|Children|Comedy|Fantasy   \n",
       "\n",
       "   userId  rating     timestamp  \n",
       "0     1.0     4.0  9.649827e+08  \n",
       "1     5.0     4.0  8.474350e+08  \n",
       "2     7.0     4.5  1.106636e+09  \n",
       "3    15.0     2.5  1.510578e+09  \n",
       "4    17.0     4.5  1.305696e+09  "
      ]
     },
     "execution_count": 105,
     "metadata": {},
     "output_type": "execute_result"
    }
   ],
   "source": [
    "movies_with_ratings.head()"
   ]
  },
  {
   "cell_type": "code",
   "execution_count": 106,
   "id": "5eefd635",
   "metadata": {},
   "outputs": [],
   "source": [
    "from surprise import SVD\n",
    "from surprise import Dataset\n",
    "from surprise import accuracy\n",
    "from surprise import Reader\n",
    "from surprise.model_selection import train_test_split"
   ]
  },
  {
   "cell_type": "code",
   "execution_count": 107,
   "id": "f2377c26",
   "metadata": {},
   "outputs": [],
   "source": [
    "dataset = pd.DataFrame({\n",
    "    'uid': movies_with_ratings.userId,\n",
    "    'iid': movies_with_ratings.title,\n",
    "    'rating': movies_with_ratings.rating\n",
    "})"
   ]
  },
  {
   "cell_type": "code",
   "execution_count": 108,
   "id": "bca897bb",
   "metadata": {},
   "outputs": [
    {
     "data": {
      "text/html": [
       "<div>\n",
       "<style scoped>\n",
       "    .dataframe tbody tr th:only-of-type {\n",
       "        vertical-align: middle;\n",
       "    }\n",
       "\n",
       "    .dataframe tbody tr th {\n",
       "        vertical-align: top;\n",
       "    }\n",
       "\n",
       "    .dataframe thead th {\n",
       "        text-align: right;\n",
       "    }\n",
       "</style>\n",
       "<table border=\"1\" class=\"dataframe\">\n",
       "  <thead>\n",
       "    <tr style=\"text-align: right;\">\n",
       "      <th></th>\n",
       "      <th>uid</th>\n",
       "      <th>iid</th>\n",
       "      <th>rating</th>\n",
       "    </tr>\n",
       "  </thead>\n",
       "  <tbody>\n",
       "    <tr>\n",
       "      <th>0</th>\n",
       "      <td>1.0</td>\n",
       "      <td>Toy Story (1995)</td>\n",
       "      <td>4.0</td>\n",
       "    </tr>\n",
       "    <tr>\n",
       "      <th>1</th>\n",
       "      <td>5.0</td>\n",
       "      <td>Toy Story (1995)</td>\n",
       "      <td>4.0</td>\n",
       "    </tr>\n",
       "    <tr>\n",
       "      <th>2</th>\n",
       "      <td>7.0</td>\n",
       "      <td>Toy Story (1995)</td>\n",
       "      <td>4.5</td>\n",
       "    </tr>\n",
       "    <tr>\n",
       "      <th>3</th>\n",
       "      <td>15.0</td>\n",
       "      <td>Toy Story (1995)</td>\n",
       "      <td>2.5</td>\n",
       "    </tr>\n",
       "    <tr>\n",
       "      <th>4</th>\n",
       "      <td>17.0</td>\n",
       "      <td>Toy Story (1995)</td>\n",
       "      <td>4.5</td>\n",
       "    </tr>\n",
       "  </tbody>\n",
       "</table>\n",
       "</div>"
      ],
      "text/plain": [
       "    uid               iid  rating\n",
       "0   1.0  Toy Story (1995)     4.0\n",
       "1   5.0  Toy Story (1995)     4.0\n",
       "2   7.0  Toy Story (1995)     4.5\n",
       "3  15.0  Toy Story (1995)     2.5\n",
       "4  17.0  Toy Story (1995)     4.5"
      ]
     },
     "execution_count": 108,
     "metadata": {},
     "output_type": "execute_result"
    }
   ],
   "source": [
    "dataset.head()"
   ]
  },
  {
   "cell_type": "code",
   "execution_count": 110,
   "id": "481328a7",
   "metadata": {},
   "outputs": [
    {
     "data": {
      "text/html": [
       "<div>\n",
       "<style scoped>\n",
       "    .dataframe tbody tr th:only-of-type {\n",
       "        vertical-align: middle;\n",
       "    }\n",
       "\n",
       "    .dataframe tbody tr th {\n",
       "        vertical-align: top;\n",
       "    }\n",
       "\n",
       "    .dataframe thead th {\n",
       "        text-align: right;\n",
       "    }\n",
       "</style>\n",
       "<table border=\"1\" class=\"dataframe\">\n",
       "  <thead>\n",
       "    <tr style=\"text-align: right;\">\n",
       "      <th></th>\n",
       "      <th>uid</th>\n",
       "      <th>iid</th>\n",
       "      <th>rating</th>\n",
       "    </tr>\n",
       "  </thead>\n",
       "  <tbody>\n",
       "    <tr>\n",
       "      <th>0</th>\n",
       "      <td>1.0</td>\n",
       "      <td>Toy Story (1995)</td>\n",
       "      <td>4.0</td>\n",
       "    </tr>\n",
       "    <tr>\n",
       "      <th>325</th>\n",
       "      <td>1.0</td>\n",
       "      <td>Grumpier Old Men (1995)</td>\n",
       "      <td>4.0</td>\n",
       "    </tr>\n",
       "    <tr>\n",
       "      <th>433</th>\n",
       "      <td>1.0</td>\n",
       "      <td>Heat (1995)</td>\n",
       "      <td>4.0</td>\n",
       "    </tr>\n",
       "    <tr>\n",
       "      <th>2107</th>\n",
       "      <td>1.0</td>\n",
       "      <td>Seven (a.k.a. Se7en) (1995)</td>\n",
       "      <td>5.0</td>\n",
       "    </tr>\n",
       "    <tr>\n",
       "      <th>2379</th>\n",
       "      <td>1.0</td>\n",
       "      <td>Usual Suspects, The (1995)</td>\n",
       "      <td>5.0</td>\n",
       "    </tr>\n",
       "    <tr>\n",
       "      <th>...</th>\n",
       "      <td>...</td>\n",
       "      <td>...</td>\n",
       "      <td>...</td>\n",
       "    </tr>\n",
       "    <tr>\n",
       "      <th>56820</th>\n",
       "      <td>1.0</td>\n",
       "      <td>Shaft (2000)</td>\n",
       "      <td>4.0</td>\n",
       "    </tr>\n",
       "    <tr>\n",
       "      <th>57280</th>\n",
       "      <td>1.0</td>\n",
       "      <td>X-Men (2000)</td>\n",
       "      <td>5.0</td>\n",
       "    </tr>\n",
       "    <tr>\n",
       "      <th>57461</th>\n",
       "      <td>1.0</td>\n",
       "      <td>What About Bob? (1991)</td>\n",
       "      <td>4.0</td>\n",
       "    </tr>\n",
       "    <tr>\n",
       "      <th>59174</th>\n",
       "      <td>1.0</td>\n",
       "      <td>Transformers: The Movie (1986)</td>\n",
       "      <td>4.0</td>\n",
       "    </tr>\n",
       "    <tr>\n",
       "      <th>65538</th>\n",
       "      <td>1.0</td>\n",
       "      <td>M*A*S*H (a.k.a. MASH) (1970)</td>\n",
       "      <td>5.0</td>\n",
       "    </tr>\n",
       "  </tbody>\n",
       "</table>\n",
       "<p>232 rows × 3 columns</p>\n",
       "</div>"
      ],
      "text/plain": [
       "       uid                             iid  rating\n",
       "0      1.0                Toy Story (1995)     4.0\n",
       "325    1.0         Grumpier Old Men (1995)     4.0\n",
       "433    1.0                     Heat (1995)     4.0\n",
       "2107   1.0     Seven (a.k.a. Se7en) (1995)     5.0\n",
       "2379   1.0      Usual Suspects, The (1995)     5.0\n",
       "...    ...                             ...     ...\n",
       "56820  1.0                    Shaft (2000)     4.0\n",
       "57280  1.0                    X-Men (2000)     5.0\n",
       "57461  1.0          What About Bob? (1991)     4.0\n",
       "59174  1.0  Transformers: The Movie (1986)     4.0\n",
       "65538  1.0    M*A*S*H (a.k.a. MASH) (1970)     5.0\n",
       "\n",
       "[232 rows x 3 columns]"
      ]
     },
     "execution_count": 110,
     "metadata": {},
     "output_type": "execute_result"
    }
   ],
   "source": [
    "dataset[dataset.uid==1.0] "
   ]
  },
  {
   "cell_type": "markdown",
   "id": "79f56881",
   "metadata": {},
   "source": [
    "Идея гибридной системы в следующем:\n",
    "- составляем топ фильмов для просматриваемого пользователя\n",
    "- находим фильмы, похожие на найденный топ (алгоритм к-neibourghs)\n",
    "- оцениваем подборку фильмов (задача регрессии)\n",
    "- в выдачу попадают n фильмов с наиболее высокой оценкой"
   ]
  },
  {
   "cell_type": "code",
   "execution_count": 116,
   "id": "0aec9028",
   "metadata": {},
   "outputs": [
    {
     "data": {
      "text/html": [
       "<div>\n",
       "<style scoped>\n",
       "    .dataframe tbody tr th:only-of-type {\n",
       "        vertical-align: middle;\n",
       "    }\n",
       "\n",
       "    .dataframe tbody tr th {\n",
       "        vertical-align: top;\n",
       "    }\n",
       "\n",
       "    .dataframe thead th {\n",
       "        text-align: right;\n",
       "    }\n",
       "</style>\n",
       "<table border=\"1\" class=\"dataframe\">\n",
       "  <thead>\n",
       "    <tr style=\"text-align: right;\">\n",
       "      <th>uid</th>\n",
       "      <th>1.0</th>\n",
       "      <th>2.0</th>\n",
       "      <th>3.0</th>\n",
       "      <th>4.0</th>\n",
       "      <th>5.0</th>\n",
       "      <th>6.0</th>\n",
       "      <th>7.0</th>\n",
       "      <th>8.0</th>\n",
       "      <th>9.0</th>\n",
       "      <th>10.0</th>\n",
       "      <th>...</th>\n",
       "      <th>601.0</th>\n",
       "      <th>602.0</th>\n",
       "      <th>603.0</th>\n",
       "      <th>604.0</th>\n",
       "      <th>605.0</th>\n",
       "      <th>606.0</th>\n",
       "      <th>607.0</th>\n",
       "      <th>608.0</th>\n",
       "      <th>609.0</th>\n",
       "      <th>610.0</th>\n",
       "    </tr>\n",
       "    <tr>\n",
       "      <th>iid</th>\n",
       "      <th></th>\n",
       "      <th></th>\n",
       "      <th></th>\n",
       "      <th></th>\n",
       "      <th></th>\n",
       "      <th></th>\n",
       "      <th></th>\n",
       "      <th></th>\n",
       "      <th></th>\n",
       "      <th></th>\n",
       "      <th></th>\n",
       "      <th></th>\n",
       "      <th></th>\n",
       "      <th></th>\n",
       "      <th></th>\n",
       "      <th></th>\n",
       "      <th></th>\n",
       "      <th></th>\n",
       "      <th></th>\n",
       "      <th></th>\n",
       "      <th></th>\n",
       "    </tr>\n",
       "  </thead>\n",
       "  <tbody>\n",
       "    <tr>\n",
       "      <th>'71 (2014)</th>\n",
       "      <td>0</td>\n",
       "      <td>0.0</td>\n",
       "      <td>0.0</td>\n",
       "      <td>0</td>\n",
       "      <td>0</td>\n",
       "      <td>0</td>\n",
       "      <td>0.0</td>\n",
       "      <td>0</td>\n",
       "      <td>0</td>\n",
       "      <td>0.0</td>\n",
       "      <td>...</td>\n",
       "      <td>0.0</td>\n",
       "      <td>0</td>\n",
       "      <td>0</td>\n",
       "      <td>0</td>\n",
       "      <td>0.0</td>\n",
       "      <td>0.0</td>\n",
       "      <td>0</td>\n",
       "      <td>0.0</td>\n",
       "      <td>0</td>\n",
       "      <td>4.0</td>\n",
       "    </tr>\n",
       "    <tr>\n",
       "      <th>'Hellboy': The Seeds of Creation (2004)</th>\n",
       "      <td>0</td>\n",
       "      <td>0.0</td>\n",
       "      <td>0.0</td>\n",
       "      <td>0</td>\n",
       "      <td>0</td>\n",
       "      <td>0</td>\n",
       "      <td>0.0</td>\n",
       "      <td>0</td>\n",
       "      <td>0</td>\n",
       "      <td>0.0</td>\n",
       "      <td>...</td>\n",
       "      <td>0.0</td>\n",
       "      <td>0</td>\n",
       "      <td>0</td>\n",
       "      <td>0</td>\n",
       "      <td>0.0</td>\n",
       "      <td>0.0</td>\n",
       "      <td>0</td>\n",
       "      <td>0.0</td>\n",
       "      <td>0</td>\n",
       "      <td>0.0</td>\n",
       "    </tr>\n",
       "    <tr>\n",
       "      <th>'Round Midnight (1986)</th>\n",
       "      <td>0</td>\n",
       "      <td>0.0</td>\n",
       "      <td>0.0</td>\n",
       "      <td>0</td>\n",
       "      <td>0</td>\n",
       "      <td>0</td>\n",
       "      <td>0.0</td>\n",
       "      <td>0</td>\n",
       "      <td>0</td>\n",
       "      <td>0.0</td>\n",
       "      <td>...</td>\n",
       "      <td>0.0</td>\n",
       "      <td>0</td>\n",
       "      <td>0</td>\n",
       "      <td>0</td>\n",
       "      <td>0.0</td>\n",
       "      <td>0.0</td>\n",
       "      <td>0</td>\n",
       "      <td>0.0</td>\n",
       "      <td>0</td>\n",
       "      <td>0.0</td>\n",
       "    </tr>\n",
       "    <tr>\n",
       "      <th>'Salem's Lot (2004)</th>\n",
       "      <td>0</td>\n",
       "      <td>0.0</td>\n",
       "      <td>0.0</td>\n",
       "      <td>0</td>\n",
       "      <td>0</td>\n",
       "      <td>0</td>\n",
       "      <td>0.0</td>\n",
       "      <td>0</td>\n",
       "      <td>0</td>\n",
       "      <td>0.0</td>\n",
       "      <td>...</td>\n",
       "      <td>0.0</td>\n",
       "      <td>0</td>\n",
       "      <td>0</td>\n",
       "      <td>0</td>\n",
       "      <td>0.0</td>\n",
       "      <td>0.0</td>\n",
       "      <td>0</td>\n",
       "      <td>0.0</td>\n",
       "      <td>0</td>\n",
       "      <td>0.0</td>\n",
       "    </tr>\n",
       "    <tr>\n",
       "      <th>'Til There Was You (1997)</th>\n",
       "      <td>0</td>\n",
       "      <td>0.0</td>\n",
       "      <td>0.0</td>\n",
       "      <td>0</td>\n",
       "      <td>0</td>\n",
       "      <td>0</td>\n",
       "      <td>0.0</td>\n",
       "      <td>0</td>\n",
       "      <td>0</td>\n",
       "      <td>0.0</td>\n",
       "      <td>...</td>\n",
       "      <td>0.0</td>\n",
       "      <td>0</td>\n",
       "      <td>0</td>\n",
       "      <td>0</td>\n",
       "      <td>0.0</td>\n",
       "      <td>0.0</td>\n",
       "      <td>0</td>\n",
       "      <td>0.0</td>\n",
       "      <td>0</td>\n",
       "      <td>0.0</td>\n",
       "    </tr>\n",
       "  </tbody>\n",
       "</table>\n",
       "<p>5 rows × 610 columns</p>\n",
       "</div>"
      ],
      "text/plain": [
       "uid                                      1.0    2.0    3.0    4.0    5.0    \\\n",
       "iid                                                                          \n",
       "'71 (2014)                                   0    0.0    0.0      0      0   \n",
       "'Hellboy': The Seeds of Creation (2004)      0    0.0    0.0      0      0   \n",
       "'Round Midnight (1986)                       0    0.0    0.0      0      0   \n",
       "'Salem's Lot (2004)                          0    0.0    0.0      0      0   \n",
       "'Til There Was You (1997)                    0    0.0    0.0      0      0   \n",
       "\n",
       "uid                                      6.0    7.0    8.0    9.0    10.0   \\\n",
       "iid                                                                          \n",
       "'71 (2014)                                   0    0.0      0      0    0.0   \n",
       "'Hellboy': The Seeds of Creation (2004)      0    0.0      0      0    0.0   \n",
       "'Round Midnight (1986)                       0    0.0      0      0    0.0   \n",
       "'Salem's Lot (2004)                          0    0.0      0      0    0.0   \n",
       "'Til There Was You (1997)                    0    0.0      0      0    0.0   \n",
       "\n",
       "uid                                      ...  601.0  602.0  603.0  604.0  \\\n",
       "iid                                      ...                               \n",
       "'71 (2014)                               ...    0.0      0      0      0   \n",
       "'Hellboy': The Seeds of Creation (2004)  ...    0.0      0      0      0   \n",
       "'Round Midnight (1986)                   ...    0.0      0      0      0   \n",
       "'Salem's Lot (2004)                      ...    0.0      0      0      0   \n",
       "'Til There Was You (1997)                ...    0.0      0      0      0   \n",
       "\n",
       "uid                                      605.0  606.0  607.0  608.0  609.0  \\\n",
       "iid                                                                          \n",
       "'71 (2014)                                 0.0    0.0      0    0.0      0   \n",
       "'Hellboy': The Seeds of Creation (2004)    0.0    0.0      0    0.0      0   \n",
       "'Round Midnight (1986)                     0.0    0.0      0    0.0      0   \n",
       "'Salem's Lot (2004)                        0.0    0.0      0    0.0      0   \n",
       "'Til There Was You (1997)                  0.0    0.0      0    0.0      0   \n",
       "\n",
       "uid                                      610.0  \n",
       "iid                                             \n",
       "'71 (2014)                                 4.0  \n",
       "'Hellboy': The Seeds of Creation (2004)    0.0  \n",
       "'Round Midnight (1986)                     0.0  \n",
       "'Salem's Lot (2004)                        0.0  \n",
       "'Til There Was You (1997)                  0.0  \n",
       "\n",
       "[5 rows x 610 columns]"
      ]
     },
     "execution_count": 116,
     "metadata": {},
     "output_type": "execute_result"
    }
   ],
   "source": [
    "movie_pivot = dataset.pivot_table( index='iid', columns='uid', values='rating', fill_value=0)\n",
    "movie_pivot.head()"
   ]
  },
  {
   "cell_type": "code",
   "execution_count": 117,
   "id": "ef504976",
   "metadata": {},
   "outputs": [],
   "source": [
    "from scipy.sparse import csr_matrix\n",
    "movie_sparse=csr_matrix(movie_pivot)"
   ]
  },
  {
   "cell_type": "code",
   "execution_count": 118,
   "id": "baba34e6",
   "metadata": {},
   "outputs": [],
   "source": [
    "# 1я модель, определяющая схожесть фильмов\n",
    "from sklearn.neighbors import NearestNeighbors\n",
    "model=NearestNeighbors(n_neighbors=20,algorithm='brute',metric='cosine')"
   ]
  },
  {
   "cell_type": "code",
   "execution_count": 119,
   "id": "a5a4ec02",
   "metadata": {},
   "outputs": [
    {
     "data": {
      "text/plain": [
       "NearestNeighbors(algorithm='brute', metric='cosine', n_neighbors=20)"
      ]
     },
     "execution_count": 119,
     "metadata": {},
     "output_type": "execute_result"
    }
   ],
   "source": [
    "model.fit(movie_sparse)"
   ]
  },
  {
   "cell_type": "markdown",
   "id": "5c83332c",
   "metadata": {},
   "source": [
    "Например, для фильма Toy Story (1995) похожими будут выбраны следующие:"
   ]
  },
  {
   "cell_type": "code",
   "execution_count": 131,
   "id": "7e0b722d",
   "metadata": {},
   "outputs": [],
   "source": [
    "film_title = 'Toy Story (1995)'\n",
    "distances,suggestions=model.kneighbors(movie_pivot.loc[film_title,:].values.reshape(1,-1))"
   ]
  },
  {
   "cell_type": "code",
   "execution_count": 133,
   "id": "89390bf9",
   "metadata": {},
   "outputs": [
    {
     "name": "stdout",
     "output_type": "stream",
     "text": [
      "Toy Story 2 (1999)\n",
      "Jurassic Park (1993)\n",
      "Independence Day (a.k.a. ID4) (1996)\n",
      "Star Wars: Episode IV - A New Hope (1977)\n",
      "Forrest Gump (1994)\n",
      "Lion King, The (1994)\n",
      "Star Wars: Episode VI - Return of the Jedi (1983)\n",
      "Mission: Impossible (1996)\n",
      "Groundhog Day (1993)\n",
      "Back to the Future (1985)\n",
      "Shrek (2001)\n",
      "Aladdin (1992)\n",
      "Apollo 13 (1995)\n",
      "Pulp Fiction (1994)\n",
      "Star Wars: Episode V - The Empire Strikes Back (1980)\n",
      "Willy Wonka & the Chocolate Factory (1971)\n",
      "Men in Black (a.k.a. MIB) (1997)\n",
      "Twelve Monkeys (a.k.a. 12 Monkeys) (1995)\n",
      "Shawshank Redemption, The (1994)\n"
     ]
    }
   ],
   "source": [
    "for i in range(len(suggestions[0])):\n",
    "    if movie_pivot.index[suggestions[0][i]] == film_title:\n",
    "        continue\n",
    "    print(movie_pivot.index[suggestions[0][i]])"
   ]
  },
  {
   "cell_type": "code",
   "execution_count": 140,
   "id": "f72dd468",
   "metadata": {},
   "outputs": [],
   "source": [
    "# 2я модель, выставляющая фильму оценку\n",
    "# В предыдущей домашней работе на тех же данны алгоритм SVD давал наилучший результат из нескольких рассматриваемых,\n",
    "# поэтому воспользуюсь им\n",
    "# И параметры возьму те, которые были признаны оптимальными в результате подбора в ходе предыдущей ДЗ"
   ]
  },
  {
   "cell_type": "code",
   "execution_count": 136,
   "id": "93edbca3",
   "metadata": {},
   "outputs": [],
   "source": [
    "reader = Reader(rating_scale=(dataset.rating.min(), dataset.rating.max()))\n",
    "data = Dataset.load_from_df(dataset, reader)"
   ]
  },
  {
   "cell_type": "code",
   "execution_count": 138,
   "id": "d5335fe6",
   "metadata": {},
   "outputs": [],
   "source": [
    "trainset, testset = train_test_split(data, test_size=0.2, random_state=146)"
   ]
  },
  {
   "cell_type": "code",
   "execution_count": 139,
   "id": "5a96d8f2",
   "metadata": {},
   "outputs": [
    {
     "data": {
      "text/plain": [
       "<surprise.prediction_algorithms.matrix_factorization.SVD at 0x1c502f15d88>"
      ]
     },
     "execution_count": 139,
     "metadata": {},
     "output_type": "execute_result"
    }
   ],
   "source": [
    "algo = SVD(n_factors=80, n_epochs=40, lr_all=0.01, reg_all=0.1)\n",
    "algo.fit(trainset)"
   ]
  },
  {
   "cell_type": "code",
   "execution_count": 141,
   "id": "9f977ef3",
   "metadata": {},
   "outputs": [],
   "source": [
    "test_pred = algo.test(testset)"
   ]
  },
  {
   "cell_type": "code",
   "execution_count": 142,
   "id": "6ad6122f",
   "metadata": {},
   "outputs": [
    {
     "name": "stdout",
     "output_type": "stream",
     "text": [
      "RMSE: 0.8567\n"
     ]
    },
    {
     "data": {
      "text/plain": [
       "0.8567204630995651"
      ]
     },
     "execution_count": 142,
     "metadata": {},
     "output_type": "execute_result"
    }
   ],
   "source": [
    "accuracy.rmse(test_pred, verbose=True)"
   ]
  },
  {
   "cell_type": "code",
   "execution_count": 145,
   "id": "e6f68f88",
   "metadata": {},
   "outputs": [
    {
     "data": {
      "text/plain": [
       "3.7152047218438713"
      ]
     },
     "execution_count": 145,
     "metadata": {},
     "output_type": "execute_result"
    }
   ],
   "source": [
    "algo.predict(uid=146.0, iid='Toy Story (1995)').est"
   ]
  },
  {
   "cell_type": "markdown",
   "id": "c51852b5",
   "metadata": {},
   "source": [
    "Теперь у меня есть 2 обученных алгоритма. Пробую собрать общую гибридную систему "
   ]
  },
  {
   "cell_type": "code",
   "execution_count": 230,
   "id": "27bdc316",
   "metadata": {},
   "outputs": [],
   "source": [
    "def recommend_for_user(userid):\n",
    "#   отбираем фильмы, которым пользоватль поставил масимальные оценки\n",
    "#   если пользователь оценил много фильмов, оставляем 5 наиболее высоко оцененных\n",
    "    top_full = dataset[dataset['uid']==1].sort_values(by='rating', ascending=False)['iid'].values\n",
    "    top_short=[]\n",
    "    if len(top_full) > 5:\n",
    "        top_short = top_full[:5]\n",
    "    else:\n",
    "        top_short=top_full\n",
    "    \n",
    "    similar_films=set()\n",
    "#   используем 1ю модель  \n",
    "    for film in top_short:\n",
    " \n",
    "        distances,suggestions=model.kneighbors(movie_pivot.loc[film,:].values.reshape(1,-1))\n",
    "\n",
    "        for i in range(len(suggestions[0])):\n",
    "#           если фильм уже просмотрен - пропускаем  \n",
    "            if movie_pivot.index[suggestions[0][i]] in top_full:\n",
    "                continue\n",
    "            similar_films.add(movie_pivot.index[suggestions[0][i]])\n",
    "    \n",
    "    similar_films = list(similar_films)\n",
    "    film_score={}\n",
    "    \n",
    "#   используем 2ю модель     \n",
    "    for sim_film in similar_films:\n",
    "        est = algo.predict(uid=userid, iid=sim_film).est \n",
    "        film_score[sim_film] = est\n",
    "        \n",
    "    sorted_films = sorted(film_score.items(), key=lambda x: x[1], reverse=True)\n",
    "#   возвращаем 10 первых значений (если всего получилось меньше 10, возвращаем сколько есть) \n",
    "    if len(sorted_films) > 10:\n",
    "        sorted_films = sorted_films[:10]\n",
    "        \n",
    "    return sorted_films\n",
    "  "
   ]
  },
  {
   "cell_type": "markdown",
   "id": "4fbf02cc",
   "metadata": {},
   "source": [
    "Получим рекоммендации"
   ]
  },
  {
   "cell_type": "code",
   "execution_count": 231,
   "id": "44599a82",
   "metadata": {},
   "outputs": [
    {
     "data": {
      "text/plain": [
       "[('Sweet Hereafter, The (1997)', 4.919666964154644),\n",
       " ('Manchurian Candidate, The (1962)', 4.745793849294549),\n",
       " ('Crimes and Misdemeanors (1989)', 4.698483789829483),\n",
       " ('Maltese Falcon, The (1941)', 4.657360642065175),\n",
       " ('Butch Cassidy and the Sundance Kid (1969)', 4.6517825202797205),\n",
       " ('Killing Fields, The (1984)', 4.6506057372870355),\n",
       " ('Breaking Away (1979)', 4.644613350379735),\n",
       " ('Player, The (1992)', 4.634065631477329),\n",
       " ('Fear and Loathing in Las Vegas (1998)', 4.630739949858216),\n",
       " ('Jaws (1975)', 4.615940141320188)]"
      ]
     },
     "execution_count": 231,
     "metadata": {},
     "output_type": "execute_result"
    }
   ],
   "source": [
    "recommend_for_user(1)"
   ]
  },
  {
   "cell_type": "code",
   "execution_count": 234,
   "id": "a2b11bfb",
   "metadata": {},
   "outputs": [
    {
     "data": {
      "text/plain": [
       "[('For Your Eyes Only (1981)', 4.418362958785652),\n",
       " ('Jaws (1975)', 4.297529703857469),\n",
       " ('Crimes and Misdemeanors (1989)', 4.289439582946648),\n",
       " ('Deliverance (1972)', 4.246352026194097),\n",
       " ('Chariots of Fire (1981)', 4.212867447374068),\n",
       " ('Breaking Away (1979)', 4.201303244807084),\n",
       " ('Maltese Falcon, The (1941)', 4.189064388881887),\n",
       " ('Spy Who Loved Me, The (1977)', 4.164587063676464),\n",
       " ('Sweet Hereafter, The (1997)', 4.147214676194469),\n",
       " ('Doors, The (1991)', 4.142280464037425)]"
      ]
     },
     "execution_count": 234,
     "metadata": {},
     "output_type": "execute_result"
    }
   ],
   "source": [
    "recommend_for_user(42)"
   ]
  },
  {
   "cell_type": "code",
   "execution_count": 235,
   "id": "0109b6cf",
   "metadata": {},
   "outputs": [
    {
     "data": {
      "text/html": [
       "<div>\n",
       "<style scoped>\n",
       "    .dataframe tbody tr th:only-of-type {\n",
       "        vertical-align: middle;\n",
       "    }\n",
       "\n",
       "    .dataframe tbody tr th {\n",
       "        vertical-align: top;\n",
       "    }\n",
       "\n",
       "    .dataframe thead th {\n",
       "        text-align: right;\n",
       "    }\n",
       "</style>\n",
       "<table border=\"1\" class=\"dataframe\">\n",
       "  <thead>\n",
       "    <tr style=\"text-align: right;\">\n",
       "      <th></th>\n",
       "      <th>uid</th>\n",
       "      <th>iid</th>\n",
       "      <th>rating</th>\n",
       "    </tr>\n",
       "  </thead>\n",
       "  <tbody>\n",
       "    <tr>\n",
       "      <th>38596</th>\n",
       "      <td>42.0</td>\n",
       "      <td>Saving Private Ryan (1998)</td>\n",
       "      <td>5.0</td>\n",
       "    </tr>\n",
       "    <tr>\n",
       "      <th>19461</th>\n",
       "      <td>42.0</td>\n",
       "      <td>Time to Kill, A (1996)</td>\n",
       "      <td>5.0</td>\n",
       "    </tr>\n",
       "    <tr>\n",
       "      <th>23823</th>\n",
       "      <td>42.0</td>\n",
       "      <td>On Golden Pond (1981)</td>\n",
       "      <td>5.0</td>\n",
       "    </tr>\n",
       "    <tr>\n",
       "      <th>23663</th>\n",
       "      <td>42.0</td>\n",
       "      <td>Top Gun (1986)</td>\n",
       "      <td>5.0</td>\n",
       "    </tr>\n",
       "    <tr>\n",
       "      <th>23412</th>\n",
       "      <td>42.0</td>\n",
       "      <td>Doors, The (1991)</td>\n",
       "      <td>5.0</td>\n",
       "    </tr>\n",
       "    <tr>\n",
       "      <th>23282</th>\n",
       "      <td>42.0</td>\n",
       "      <td>Platoon (1986)</td>\n",
       "      <td>5.0</td>\n",
       "    </tr>\n",
       "    <tr>\n",
       "      <th>23157</th>\n",
       "      <td>42.0</td>\n",
       "      <td>Reservoir Dogs (1992)</td>\n",
       "      <td>5.0</td>\n",
       "    </tr>\n",
       "    <tr>\n",
       "      <th>22621</th>\n",
       "      <td>42.0</td>\n",
       "      <td>Swingers (1996)</td>\n",
       "      <td>5.0</td>\n",
       "    </tr>\n",
       "    <tr>\n",
       "      <th>46862</th>\n",
       "      <td>42.0</td>\n",
       "      <td>American Pie (1999)</td>\n",
       "      <td>5.0</td>\n",
       "    </tr>\n",
       "    <tr>\n",
       "      <th>47061</th>\n",
       "      <td>42.0</td>\n",
       "      <td>Eyes Wide Shut (1999)</td>\n",
       "      <td>5.0</td>\n",
       "    </tr>\n",
       "  </tbody>\n",
       "</table>\n",
       "</div>"
      ],
      "text/plain": [
       "        uid                         iid  rating\n",
       "38596  42.0  Saving Private Ryan (1998)     5.0\n",
       "19461  42.0      Time to Kill, A (1996)     5.0\n",
       "23823  42.0       On Golden Pond (1981)     5.0\n",
       "23663  42.0              Top Gun (1986)     5.0\n",
       "23412  42.0           Doors, The (1991)     5.0\n",
       "23282  42.0              Platoon (1986)     5.0\n",
       "23157  42.0       Reservoir Dogs (1992)     5.0\n",
       "22621  42.0             Swingers (1996)     5.0\n",
       "46862  42.0         American Pie (1999)     5.0\n",
       "47061  42.0       Eyes Wide Shut (1999)     5.0"
      ]
     },
     "execution_count": 235,
     "metadata": {},
     "output_type": "execute_result"
    }
   ],
   "source": [
    "dataset[dataset['uid']==42].sort_values(by='rating', ascending=False)[:10]"
   ]
  },
  {
   "cell_type": "code",
   "execution_count": 240,
   "id": "c400beb9",
   "metadata": {},
   "outputs": [
    {
     "data": {
      "text/plain": [
       "[('Hope and Glory (1987)', 3.8321732177345647),\n",
       " ('Crimes and Misdemeanors (1989)', 3.8321550154540183),\n",
       " ('Player, The (1992)', 3.7685636987893942),\n",
       " ('Terminator 2: Judgment Day (1991)', 3.641559550608656),\n",
       " ('Sweet Hereafter, The (1997)', 3.6373682909360885),\n",
       " ('Fish Called Wanda, A (1988)', 3.6237452764752205),\n",
       " ('Manchurian Candidate, The (1962)', 3.6184685056659074),\n",
       " ('Killing Fields, The (1984)', 3.5777518662772114),\n",
       " ('Mission, The (1986)', 3.5630803829522137),\n",
       " ('Fifth Element, The (1997)', 3.5019298777949714)]"
      ]
     },
     "execution_count": 240,
     "metadata": {},
     "output_type": "execute_result"
    }
   ],
   "source": [
    "recommend_for_user(55)"
   ]
  },
  {
   "cell_type": "code",
   "execution_count": 242,
   "id": "1c171cff",
   "metadata": {},
   "outputs": [
    {
     "data": {
      "text/html": [
       "<div>\n",
       "<style scoped>\n",
       "    .dataframe tbody tr th:only-of-type {\n",
       "        vertical-align: middle;\n",
       "    }\n",
       "\n",
       "    .dataframe tbody tr th {\n",
       "        vertical-align: top;\n",
       "    }\n",
       "\n",
       "    .dataframe thead th {\n",
       "        text-align: right;\n",
       "    }\n",
       "</style>\n",
       "<table border=\"1\" class=\"dataframe\">\n",
       "  <thead>\n",
       "    <tr style=\"text-align: right;\">\n",
       "      <th></th>\n",
       "      <th>uid</th>\n",
       "      <th>iid</th>\n",
       "      <th>rating</th>\n",
       "    </tr>\n",
       "  </thead>\n",
       "  <tbody>\n",
       "    <tr>\n",
       "      <th>44837</th>\n",
       "      <td>55.0</td>\n",
       "      <td>Lock, Stock &amp; Two Smoking Barrels (1998)</td>\n",
       "      <td>5.0</td>\n",
       "    </tr>\n",
       "    <tr>\n",
       "      <th>83534</th>\n",
       "      <td>55.0</td>\n",
       "      <td>Departed, The (2006)</td>\n",
       "      <td>5.0</td>\n",
       "    </tr>\n",
       "    <tr>\n",
       "      <th>78678</th>\n",
       "      <td>55.0</td>\n",
       "      <td>Layer Cake (2004)</td>\n",
       "      <td>5.0</td>\n",
       "    </tr>\n",
       "    <tr>\n",
       "      <th>59230</th>\n",
       "      <td>55.0</td>\n",
       "      <td>Snatch (2000)</td>\n",
       "      <td>5.0</td>\n",
       "    </tr>\n",
       "    <tr>\n",
       "      <th>53235</th>\n",
       "      <td>55.0</td>\n",
       "      <td>Boondock Saints, The (2000)</td>\n",
       "      <td>5.0</td>\n",
       "    </tr>\n",
       "    <tr>\n",
       "      <th>82146</th>\n",
       "      <td>55.0</td>\n",
       "      <td>Lucky Number Slevin (2006)</td>\n",
       "      <td>4.5</td>\n",
       "    </tr>\n",
       "    <tr>\n",
       "      <th>79711</th>\n",
       "      <td>55.0</td>\n",
       "      <td>Crash (2004)</td>\n",
       "      <td>4.5</td>\n",
       "    </tr>\n",
       "    <tr>\n",
       "      <th>85546</th>\n",
       "      <td>55.0</td>\n",
       "      <td>Bourne Ultimatum, The (2007)</td>\n",
       "      <td>4.0</td>\n",
       "    </tr>\n",
       "    <tr>\n",
       "      <th>28857</th>\n",
       "      <td>55.0</td>\n",
       "      <td>Highlander (1986)</td>\n",
       "      <td>4.0</td>\n",
       "    </tr>\n",
       "    <tr>\n",
       "      <th>29486</th>\n",
       "      <td>55.0</td>\n",
       "      <td>Gandhi (1982)</td>\n",
       "      <td>4.0</td>\n",
       "    </tr>\n",
       "  </tbody>\n",
       "</table>\n",
       "</div>"
      ],
      "text/plain": [
       "        uid                                       iid  rating\n",
       "44837  55.0  Lock, Stock & Two Smoking Barrels (1998)     5.0\n",
       "83534  55.0                      Departed, The (2006)     5.0\n",
       "78678  55.0                         Layer Cake (2004)     5.0\n",
       "59230  55.0                             Snatch (2000)     5.0\n",
       "53235  55.0               Boondock Saints, The (2000)     5.0\n",
       "82146  55.0                Lucky Number Slevin (2006)     4.5\n",
       "79711  55.0                              Crash (2004)     4.5\n",
       "85546  55.0              Bourne Ultimatum, The (2007)     4.0\n",
       "28857  55.0                         Highlander (1986)     4.0\n",
       "29486  55.0                             Gandhi (1982)     4.0"
      ]
     },
     "execution_count": 242,
     "metadata": {},
     "output_type": "execute_result"
    }
   ],
   "source": [
    "dataset[dataset['uid']==55].sort_values(by='rating', ascending=False)[:10]"
   ]
  },
  {
   "cell_type": "code",
   "execution_count": null,
   "id": "afc81792",
   "metadata": {},
   "outputs": [],
   "source": []
  }
 ],
 "metadata": {
  "kernelspec": {
   "display_name": "Python 3",
   "language": "python",
   "name": "python3"
  },
  "language_info": {
   "codemirror_mode": {
    "name": "ipython",
    "version": 3
   },
   "file_extension": ".py",
   "mimetype": "text/x-python",
   "name": "python",
   "nbconvert_exporter": "python",
   "pygments_lexer": "ipython3",
   "version": "3.7.10"
  }
 },
 "nbformat": 4,
 "nbformat_minor": 5
}
