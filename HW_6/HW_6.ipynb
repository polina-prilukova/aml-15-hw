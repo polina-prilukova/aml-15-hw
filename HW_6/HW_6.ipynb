{
 "cells": [
  {
   "cell_type": "markdown",
   "metadata": {},
   "source": [
    "### Домашнее задание «Деревья решений»"
   ]
  },
  {
   "cell_type": "markdown",
   "metadata": {},
   "source": [
    "Для выполнения домашнего задания необходимо взять файл boston house-prices datase (sklearn.datasets.load_boston) и построить модель.\n",
    "По аналогии задания к лекции «Классификация: Логистическая регрессия и SVM».\n",
    "А именно построить модель регрессии, дерево решений, оптимизировать параметры и сравнить результаты."
   ]
  },
  {
   "cell_type": "code",
   "execution_count": 64,
   "metadata": {},
   "outputs": [],
   "source": [
    "from sklearn.datasets import load_boston\n",
    "import pandas as pd\n",
    "import numpy as np\n",
    "import matplotlib.pyplot as plt\n",
    "import seaborn as sns\n",
    "from sklearn.tree import DecisionTreeRegressor\n",
    "from sklearn.model_selection import train_test_split\n",
    "from sklearn.metrics import mean_squared_error"
   ]
  },
  {
   "cell_type": "code",
   "execution_count": 2,
   "metadata": {},
   "outputs": [
    {
     "data": {
      "text/html": [
       "<div>\n",
       "<style scoped>\n",
       "    .dataframe tbody tr th:only-of-type {\n",
       "        vertical-align: middle;\n",
       "    }\n",
       "\n",
       "    .dataframe tbody tr th {\n",
       "        vertical-align: top;\n",
       "    }\n",
       "\n",
       "    .dataframe thead th {\n",
       "        text-align: right;\n",
       "    }\n",
       "</style>\n",
       "<table border=\"1\" class=\"dataframe\">\n",
       "  <thead>\n",
       "    <tr style=\"text-align: right;\">\n",
       "      <th></th>\n",
       "      <th>CRIM</th>\n",
       "      <th>ZN</th>\n",
       "      <th>INDUS</th>\n",
       "      <th>CHAS</th>\n",
       "      <th>NOX</th>\n",
       "      <th>RM</th>\n",
       "      <th>AGE</th>\n",
       "      <th>DIS</th>\n",
       "      <th>RAD</th>\n",
       "      <th>TAX</th>\n",
       "      <th>PTRATIO</th>\n",
       "      <th>B</th>\n",
       "      <th>LSTAT</th>\n",
       "      <th>MEDV</th>\n",
       "    </tr>\n",
       "  </thead>\n",
       "  <tbody>\n",
       "    <tr>\n",
       "      <th>0</th>\n",
       "      <td>0.00632</td>\n",
       "      <td>18.0</td>\n",
       "      <td>2.31</td>\n",
       "      <td>0</td>\n",
       "      <td>0.538</td>\n",
       "      <td>6.575</td>\n",
       "      <td>65.2</td>\n",
       "      <td>4.0900</td>\n",
       "      <td>1</td>\n",
       "      <td>296</td>\n",
       "      <td>15.3</td>\n",
       "      <td>396.90</td>\n",
       "      <td>4.98</td>\n",
       "      <td>24.0</td>\n",
       "    </tr>\n",
       "    <tr>\n",
       "      <th>1</th>\n",
       "      <td>0.02731</td>\n",
       "      <td>0.0</td>\n",
       "      <td>7.07</td>\n",
       "      <td>0</td>\n",
       "      <td>0.469</td>\n",
       "      <td>6.421</td>\n",
       "      <td>78.9</td>\n",
       "      <td>4.9671</td>\n",
       "      <td>2</td>\n",
       "      <td>242</td>\n",
       "      <td>17.8</td>\n",
       "      <td>396.90</td>\n",
       "      <td>9.14</td>\n",
       "      <td>21.6</td>\n",
       "    </tr>\n",
       "    <tr>\n",
       "      <th>2</th>\n",
       "      <td>0.02729</td>\n",
       "      <td>0.0</td>\n",
       "      <td>7.07</td>\n",
       "      <td>0</td>\n",
       "      <td>0.469</td>\n",
       "      <td>7.185</td>\n",
       "      <td>61.1</td>\n",
       "      <td>4.9671</td>\n",
       "      <td>2</td>\n",
       "      <td>242</td>\n",
       "      <td>17.8</td>\n",
       "      <td>392.83</td>\n",
       "      <td>4.03</td>\n",
       "      <td>34.7</td>\n",
       "    </tr>\n",
       "    <tr>\n",
       "      <th>3</th>\n",
       "      <td>0.03237</td>\n",
       "      <td>0.0</td>\n",
       "      <td>2.18</td>\n",
       "      <td>0</td>\n",
       "      <td>0.458</td>\n",
       "      <td>6.998</td>\n",
       "      <td>45.8</td>\n",
       "      <td>6.0622</td>\n",
       "      <td>3</td>\n",
       "      <td>222</td>\n",
       "      <td>18.7</td>\n",
       "      <td>394.63</td>\n",
       "      <td>2.94</td>\n",
       "      <td>33.4</td>\n",
       "    </tr>\n",
       "    <tr>\n",
       "      <th>4</th>\n",
       "      <td>0.06905</td>\n",
       "      <td>0.0</td>\n",
       "      <td>2.18</td>\n",
       "      <td>0</td>\n",
       "      <td>0.458</td>\n",
       "      <td>7.147</td>\n",
       "      <td>54.2</td>\n",
       "      <td>6.0622</td>\n",
       "      <td>3</td>\n",
       "      <td>222</td>\n",
       "      <td>18.7</td>\n",
       "      <td>396.90</td>\n",
       "      <td>5.33</td>\n",
       "      <td>36.2</td>\n",
       "    </tr>\n",
       "  </tbody>\n",
       "</table>\n",
       "</div>"
      ],
      "text/plain": [
       "      CRIM    ZN  INDUS  CHAS    NOX     RM   AGE     DIS  RAD  TAX  PTRATIO  \\\n",
       "0  0.00632  18.0   2.31     0  0.538  6.575  65.2  4.0900    1  296     15.3   \n",
       "1  0.02731   0.0   7.07     0  0.469  6.421  78.9  4.9671    2  242     17.8   \n",
       "2  0.02729   0.0   7.07     0  0.469  7.185  61.1  4.9671    2  242     17.8   \n",
       "3  0.03237   0.0   2.18     0  0.458  6.998  45.8  6.0622    3  222     18.7   \n",
       "4  0.06905   0.0   2.18     0  0.458  7.147  54.2  6.0622    3  222     18.7   \n",
       "\n",
       "        B  LSTAT  MEDV  \n",
       "0  396.90   4.98  24.0  \n",
       "1  396.90   9.14  21.6  \n",
       "2  392.83   4.03  34.7  \n",
       "3  394.63   2.94  33.4  \n",
       "4  396.90   5.33  36.2  "
      ]
     },
     "execution_count": 2,
     "metadata": {},
     "output_type": "execute_result"
    }
   ],
   "source": [
    "df = pd.read_csv(load_boston()['filename'], skiprows=1)\n",
    "df.head()"
   ]
  },
  {
   "cell_type": "code",
   "execution_count": 3,
   "metadata": {},
   "outputs": [
    {
     "name": "stdout",
     "output_type": "stream",
     "text": [
      "<class 'pandas.core.frame.DataFrame'>\n",
      "RangeIndex: 506 entries, 0 to 505\n",
      "Data columns (total 14 columns):\n",
      " #   Column   Non-Null Count  Dtype  \n",
      "---  ------   --------------  -----  \n",
      " 0   CRIM     506 non-null    float64\n",
      " 1   ZN       506 non-null    float64\n",
      " 2   INDUS    506 non-null    float64\n",
      " 3   CHAS     506 non-null    int64  \n",
      " 4   NOX      506 non-null    float64\n",
      " 5   RM       506 non-null    float64\n",
      " 6   AGE      506 non-null    float64\n",
      " 7   DIS      506 non-null    float64\n",
      " 8   RAD      506 non-null    int64  \n",
      " 9   TAX      506 non-null    int64  \n",
      " 10  PTRATIO  506 non-null    float64\n",
      " 11  B        506 non-null    float64\n",
      " 12  LSTAT    506 non-null    float64\n",
      " 13  MEDV     506 non-null    float64\n",
      "dtypes: float64(11), int64(3)\n",
      "memory usage: 55.5 KB\n"
     ]
    }
   ],
   "source": [
    "df.info()"
   ]
  },
  {
   "cell_type": "markdown",
   "metadata": {},
   "source": [
    "Пропусков в даных нет, построим модель на исходных данных, не меняя их. "
   ]
  },
  {
   "cell_type": "markdown",
   "metadata": {},
   "source": [
    "Попробуем построить модель, не задавая гиперпараметры, ограничим только максимальную глубину дерева."
   ]
  },
  {
   "cell_type": "code",
   "execution_count": 4,
   "metadata": {},
   "outputs": [],
   "source": [
    "reg = DecisionTreeRegressor(max_depth=4)"
   ]
  },
  {
   "cell_type": "code",
   "execution_count": 5,
   "metadata": {},
   "outputs": [],
   "source": [
    "X, Y = df.iloc[:, :-1], df['MEDV']\n"
   ]
  },
  {
   "cell_type": "code",
   "execution_count": 6,
   "metadata": {},
   "outputs": [],
   "source": [
    "x_train, x_test, y_train, y_test= train_test_split(X, Y, test_size=0.3, random_state=146)"
   ]
  },
  {
   "cell_type": "code",
   "execution_count": 7,
   "metadata": {},
   "outputs": [
    {
     "data": {
      "text/plain": [
       "DecisionTreeRegressor(criterion='mse', max_depth=4, max_features=None,\n",
       "           max_leaf_nodes=None, min_impurity_decrease=0.0,\n",
       "           min_impurity_split=None, min_samples_leaf=1,\n",
       "           min_samples_split=2, min_weight_fraction_leaf=0.0,\n",
       "           presort=False, random_state=None, splitter='best')"
      ]
     },
     "execution_count": 7,
     "metadata": {},
     "output_type": "execute_result"
    }
   ],
   "source": [
    "reg.fit(x_train, y_train)"
   ]
  },
  {
   "cell_type": "code",
   "execution_count": 8,
   "metadata": {},
   "outputs": [],
   "source": [
    "y_pred = reg.predict(x_test)"
   ]
  },
  {
   "cell_type": "code",
   "execution_count": 9,
   "metadata": {},
   "outputs": [
    {
     "data": {
      "text/plain": [
       "19.342422848843505"
      ]
     },
     "execution_count": 9,
     "metadata": {},
     "output_type": "execute_result"
    }
   ],
   "source": [
    "mean_squared_error(y_pred, y_test)"
   ]
  },
  {
   "cell_type": "code",
   "execution_count": 10,
   "metadata": {},
   "outputs": [
    {
     "data": {
      "text/plain": [
       "0.7132583665692513"
      ]
     },
     "execution_count": 10,
     "metadata": {},
     "output_type": "execute_result"
    }
   ],
   "source": [
    "reg.score(x_test, y_test)"
   ]
  },
  {
   "cell_type": "code",
   "execution_count": null,
   "metadata": {},
   "outputs": [],
   "source": []
  },
  {
   "cell_type": "markdown",
   "metadata": {},
   "source": [
    "Обучим модель на том же разделении данных. С помощью GridSearchCV будем варьировать гиперпараметры, чтобы выбрать наилучшие."
   ]
  },
  {
   "cell_type": "code",
   "execution_count": 11,
   "metadata": {},
   "outputs": [],
   "source": [
    "from sklearn.model_selection import GridSearchCV\n"
   ]
  },
  {
   "cell_type": "code",
   "execution_count": 55,
   "metadata": {},
   "outputs": [],
   "source": [
    "parameters = {'splitter':('best','random'), \n",
    "              'max_depth':np.arange(1,8), \n",
    "              'min_samples_split':np.arange(2,10), \n",
    "              'min_samples_leaf':np.arange(1,5)}\n"
   ]
  },
  {
   "cell_type": "code",
   "execution_count": 57,
   "metadata": {},
   "outputs": [
    {
     "name": "stderr",
     "output_type": "stream",
     "text": [
      "C:\\Users\\Polina.DESKTOP-UGBOPLJ\\anaconda3\\lib\\site-packages\\sklearn\\model_selection\\_search.py:841: DeprecationWarning: The default of the `iid` parameter will change from True to False in version 0.22 and will be removed in 0.24. This will change numeric results when test-set sizes are unequal.\n",
      "  DeprecationWarning)\n"
     ]
    },
    {
     "data": {
      "text/plain": [
       "GridSearchCV(cv=7, error_score='raise-deprecating',\n",
       "       estimator=DecisionTreeRegressor(criterion='mse', max_depth=None, max_features=None,\n",
       "           max_leaf_nodes=None, min_impurity_decrease=0.0,\n",
       "           min_impurity_split=None, min_samples_leaf=1,\n",
       "           min_samples_split=2, min_weight_fraction_leaf=0.0,\n",
       "           presort=False, random_state=None, splitter='best'),\n",
       "       fit_params=None, iid='warn', n_jobs=-1,\n",
       "       param_grid={'splitter': ('best', 'random'), 'max_depth': array([1, 2, 3, 4, 5, 6, 7]), 'min_samples_split': array([2, 3, 4, 5, 6, 7, 8, 9]), 'min_samples_leaf': array([1, 2, 3, 4])},\n",
       "       pre_dispatch='2*n_jobs', refit=True, return_train_score='warn',\n",
       "       scoring=None, verbose=0)"
      ]
     },
     "execution_count": 57,
     "metadata": {},
     "output_type": "execute_result"
    }
   ],
   "source": [
    "tree_grid = GridSearchCV(DecisionTreeRegressor(), parameters, cv = 7, n_jobs=-1)\n",
    "tree_grid.fit(x_train, y_train)\n"
   ]
  },
  {
   "cell_type": "code",
   "execution_count": 58,
   "metadata": {},
   "outputs": [
    {
     "data": {
      "text/plain": [
       "{'max_depth': 6,\n",
       " 'min_samples_leaf': 4,\n",
       " 'min_samples_split': 2,\n",
       " 'splitter': 'random'}"
      ]
     },
     "execution_count": 58,
     "metadata": {},
     "output_type": "execute_result"
    }
   ],
   "source": [
    "tree_grid.best_params_"
   ]
  },
  {
   "cell_type": "code",
   "execution_count": 59,
   "metadata": {},
   "outputs": [],
   "source": [
    "best_tree = DecisionTreeRegressor(max_depth=6, min_samples_leaf=4, min_samples_split=2, splitter='random')"
   ]
  },
  {
   "cell_type": "code",
   "execution_count": 60,
   "metadata": {},
   "outputs": [
    {
     "data": {
      "text/plain": [
       "DecisionTreeRegressor(criterion='mse', max_depth=6, max_features=None,\n",
       "           max_leaf_nodes=None, min_impurity_decrease=0.0,\n",
       "           min_impurity_split=None, min_samples_leaf=4,\n",
       "           min_samples_split=2, min_weight_fraction_leaf=0.0,\n",
       "           presort=False, random_state=None, splitter='random')"
      ]
     },
     "execution_count": 60,
     "metadata": {},
     "output_type": "execute_result"
    }
   ],
   "source": [
    "best_tree.fit(x_train, y_train)\n"
   ]
  },
  {
   "cell_type": "code",
   "execution_count": 61,
   "metadata": {},
   "outputs": [
    {
     "data": {
      "text/plain": [
       "0.7584267706793714"
      ]
     },
     "execution_count": 61,
     "metadata": {},
     "output_type": "execute_result"
    }
   ],
   "source": [
    "y_pred_best = best_tree.predict(x_test)\n",
    "best_tree.score(x_test, y_test)"
   ]
  },
  {
   "cell_type": "code",
   "execution_count": 62,
   "metadata": {},
   "outputs": [
    {
     "data": {
      "text/plain": [
       "16.295546253867343"
      ]
     },
     "execution_count": 62,
     "metadata": {},
     "output_type": "execute_result"
    }
   ],
   "source": [
    "mean_squared_error(y_test, y_pred_best)"
   ]
  },
  {
   "cell_type": "markdown",
   "metadata": {},
   "source": [
    "С новыми гиперпараметрами mse заметно уменьшилась, а точность предсказания поднялась примерно на 4%"
   ]
  },
  {
   "cell_type": "markdown",
   "metadata": {},
   "source": [
    "Наиболее важными фичами для модели оказались следующие: LSTAT (доля людей более низкого класса), RM (количество комнат) и NOX (концентрация оксидов азота)"
   ]
  },
  {
   "cell_type": "code",
   "execution_count": 65,
   "metadata": {},
   "outputs": [
    {
     "data": {
      "text/plain": [
       "([<matplotlib.axis.YTick at 0x2443bc87788>,\n",
       "  <matplotlib.axis.YTick at 0x2443bb53e48>,\n",
       "  <matplotlib.axis.YTick at 0x2443b76af08>,\n",
       "  <matplotlib.axis.YTick at 0x2443bb9b088>,\n",
       "  <matplotlib.axis.YTick at 0x2443b09e648>,\n",
       "  <matplotlib.axis.YTick at 0x2443bbb9c48>,\n",
       "  <matplotlib.axis.YTick at 0x2443bb23988>,\n",
       "  <matplotlib.axis.YTick at 0x2443ba44b88>,\n",
       "  <matplotlib.axis.YTick at 0x2443b8b2288>,\n",
       "  <matplotlib.axis.YTick at 0x2443b87bb08>,\n",
       "  <matplotlib.axis.YTick at 0x2443bc4dc88>,\n",
       "  <matplotlib.axis.YTick at 0x2443b985588>,\n",
       "  <matplotlib.axis.YTick at 0x2443b952108>],\n",
       " [Text(0, 0, 'CRIM'),\n",
       "  Text(0, 1, 'ZN'),\n",
       "  Text(0, 2, 'INDUS'),\n",
       "  Text(0, 3, 'CHAS'),\n",
       "  Text(0, 4, 'NOX'),\n",
       "  Text(0, 5, 'RM'),\n",
       "  Text(0, 6, 'AGE'),\n",
       "  Text(0, 7, 'DIS'),\n",
       "  Text(0, 8, 'RAD'),\n",
       "  Text(0, 9, 'TAX'),\n",
       "  Text(0, 10, 'PTRATIO'),\n",
       "  Text(0, 11, 'B'),\n",
       "  Text(0, 12, 'LSTAT')])"
      ]
     },
     "execution_count": 65,
     "metadata": {},
     "output_type": "execute_result"
    },
    {
     "data": {
      "image/png": "[encoded data removed]",
      "text/plain": [
       "<Figure size 432x288 with 1 Axes>"
      ]
     },
     "metadata": {
      "needs_background": "light"
     },
     "output_type": "display_data"
    }
   ],
   "source": [
    "plt.barh(np.arange(len(best_tree.feature_importances_)), best_tree.feature_importances_)\n",
    "plt.yticks(np.arange(len(X.columns)),X.columns)"
   ]
  },
  {
   "cell_type": "code",
   "execution_count": 66,
   "metadata": {},
   "outputs": [],
   "source": [
    "from sklearn.tree import export_graphviz\n",
    "\n",
    "def get_tree_dot_view(tree, feature_names=None, class_names=None):\n",
    "    print(export_graphviz(tree, out_file=None, filled=True, feature_names=feature_names, class_names=class_names))"
   ]
  },
  {
   "cell_type": "code",
   "execution_count": 67,
   "metadata": {},
   "outputs": [
    {
     "name": "stdout",
     "output_type": "stream",
     "text": [
      "digraph Tree {\n",
      "node [shape=box, style=\"filled\", color=\"black\"] ;\n",
      "0 [label=\"LSTAT <= 8.73\\nmse = 91.487\\nsamples = 354\\nvalue = 22.788\", fillcolor=\"#e581395a\"] ;\n",
      "1 [label=\"RM <= 7.559\\nmse = 86.23\\nsamples = 129\\nvalue = 31.128\", fillcolor=\"#e581398d\"] ;\n",
      "0 -> 1 [labeldistance=2.5, labelangle=45, headlabel=\"True\"] ;\n",
      "2 [label=\"RM <= 6.525\\nmse = 47.22\\nsamples = 108\\nvalue = 28.355\", fillcolor=\"#e581397c\"] ;\n",
      "1 -> 2 ;\n",
      "3 [label=\"INDUS <= 12.054\\nmse = 22.99\\nsamples = 46\\nvalue = 23.722\", fillcolor=\"#e5813960\"] ;\n",
      "2 -> 3 ;\n",
      "4 [label=\"RM <= 6.257\\nmse = 8.311\\nsamples = 39\\nvalue = 22.869\", fillcolor=\"#e581395a\"] ;\n",
      "3 -> 4 ;\n",
      "5 [label=\"RAD <= 2.307\\nmse = 8.834\\nsamples = 19\\nvalue = 21.453\", fillcolor=\"#e5813952\"] ;\n",
      "4 -> 5 ;\n",
      "6 [label=\"mse = 21.142\\nsamples = 4\\nvalue = 19.325\", fillcolor=\"#e5813945\"] ;\n",
      "5 -> 6 ;\n",
      "7 [label=\"mse = 4.023\\nsamples = 15\\nvalue = 22.02\", fillcolor=\"#e5813955\"] ;\n",
      "5 -> 7 ;\n",
      "8 [label=\"RM <= 6.396\\nmse = 4.096\\nsamples = 20\\nvalue = 24.215\", fillcolor=\"#e5813963\"] ;\n",
      "4 -> 8 ;\n",
      "9 [label=\"mse = 1.445\\nsamples = 10\\nvalue = 22.99\", fillcolor=\"#e581395b\"] ;\n",
      "8 -> 9 ;\n",
      "10 [label=\"mse = 3.746\\nsamples = 10\\nvalue = 25.44\", fillcolor=\"#e581396a\"] ;\n",
      "8 -> 10 ;\n",
      "11 [label=\"mse = 78.165\\nsamples = 7\\nvalue = 28.471\", fillcolor=\"#e581397d\"] ;\n",
      "3 -> 11 ;\n",
      "12 [label=\"AGE <= 91.297\\nmse = 37.458\\nsamples = 62\\nvalue = 31.792\", fillcolor=\"#e5813991\"] ;\n",
      "2 -> 12 ;\n",
      "13 [label=\"RM <= 6.945\\nmse = 25.857\\nsamples = 55\\nvalue = 30.671\", fillcolor=\"#e581398a\"] ;\n",
      "12 -> 13 ;\n",
      "14 [label=\"LSTAT <= 5.508\\nmse = 14.289\\nsamples = 28\\nvalue = 27.643\", fillcolor=\"#e5813978\"] ;\n",
      "13 -> 14 ;\n",
      "15 [label=\"mse = 7.664\\nsamples = 13\\nvalue = 29.908\", fillcolor=\"#e5813986\"] ;\n",
      "14 -> 15 ;\n",
      "16 [label=\"mse = 11.732\\nsamples = 15\\nvalue = 25.68\", fillcolor=\"#e581396c\"] ;\n",
      "14 -> 16 ;\n",
      "17 [label=\"RM <= 7.276\\nmse = 18.483\\nsamples = 27\\nvalue = 33.811\", fillcolor=\"#e581399e\"] ;\n",
      "13 -> 17 ;\n",
      "18 [label=\"mse = 14.277\\nsamples = 21\\nvalue = 33.162\", fillcolor=\"#e581399a\"] ;\n",
      "17 -> 18 ;\n",
      "19 [label=\"mse = 26.568\\nsamples = 6\\nvalue = 36.083\", fillcolor=\"#e58139ab\"] ;\n",
      "17 -> 19 ;\n",
      "20 [label=\"mse = 41.154\\nsamples = 7\\nvalue = 40.6\", fillcolor=\"#e58139c7\"] ;\n",
      "12 -> 20 ;\n",
      "21 [label=\"CHAS <= 0.927\\nmse = 43.875\\nsamples = 21\\nvalue = 45.39\", fillcolor=\"#e58139e5\"] ;\n",
      "1 -> 21 ;\n",
      "22 [label=\"PTRATIO <= 14.403\\nmse = 11.707\\nsamples = 16\\nvalue = 46.881\", fillcolor=\"#e58139ee\"] ;\n",
      "21 -> 22 ;\n",
      "23 [label=\"mse = 0.27\\nsamples = 4\\nvalue = 49.7\", fillcolor=\"#e58139ff\"] ;\n",
      "22 -> 23 ;\n",
      "24 [label=\"NOX <= 0.446\\nmse = 11.987\\nsamples = 12\\nvalue = 45.942\", fillcolor=\"#e58139e8\"] ;\n",
      "22 -> 24 ;\n",
      "25 [label=\"mse = 8.938\\nsamples = 6\\nvalue = 43.583\", fillcolor=\"#e58139d9\"] ;\n",
      "24 -> 25 ;\n",
      "26 [label=\"mse = 3.913\\nsamples = 6\\nvalue = 48.3\", fillcolor=\"#e58139f6\"] ;\n",
      "24 -> 26 ;\n",
      "27 [label=\"mse = 116.946\\nsamples = 5\\nvalue = 40.62\", fillcolor=\"#e58139c7\"] ;\n",
      "21 -> 27 ;\n",
      "28 [label=\"LSTAT <= 22.696\\nmse = 31.758\\nsamples = 225\\nvalue = 18.006\", fillcolor=\"#e581393d\"] ;\n",
      "0 -> 28 [labeldistance=2.5, labelangle=-45, headlabel=\"False\"] ;\n",
      "29 [label=\"LSTAT <= 19.461\\nmse = 24.437\\nsamples = 185\\nvalue = 19.408\", fillcolor=\"#e5813945\"] ;\n",
      "28 -> 29 ;\n",
      "30 [label=\"LSTAT <= 13.132\\nmse = 21.61\\nsamples = 168\\nvalue = 19.924\", fillcolor=\"#e5813948\"] ;\n",
      "29 -> 30 ;\n",
      "31 [label=\"CRIM <= 5.207\\nmse = 22.208\\nsamples = 77\\nvalue = 22.219\", fillcolor=\"#e5813956\"] ;\n",
      "30 -> 31 ;\n",
      "32 [label=\"INDUS <= 4.336\\nmse = 12.152\\nsamples = 73\\nvalue = 21.778\", fillcolor=\"#e5813954\"] ;\n",
      "31 -> 32 ;\n",
      "33 [label=\"mse = 20.68\\nsamples = 9\\nvalue = 25.122\", fillcolor=\"#e5813968\"] ;\n",
      "32 -> 33 ;\n",
      "34 [label=\"mse = 9.159\\nsamples = 64\\nvalue = 21.308\", fillcolor=\"#e5813951\"] ;\n",
      "32 -> 34 ;\n",
      "35 [label=\"mse = 137.287\\nsamples = 4\\nvalue = 30.275\", fillcolor=\"#e5813988\"] ;\n",
      "31 -> 35 ;\n",
      "36 [label=\"B <= 354.081\\nmse = 12.875\\nsamples = 91\\nvalue = 17.982\", fillcolor=\"#e581393c\"] ;\n",
      "30 -> 36 ;\n",
      "37 [label=\"LSTAT <= 15.385\\nmse = 9.971\\nsamples = 26\\nvalue = 15.412\", fillcolor=\"#e581392d\"] ;\n",
      "36 -> 37 ;\n",
      "38 [label=\"mse = 9.979\\nsamples = 9\\nvalue = 18.189\", fillcolor=\"#e581393e\"] ;\n",
      "37 -> 38 ;\n",
      "39 [label=\"mse = 3.721\\nsamples = 17\\nvalue = 13.941\", fillcolor=\"#e5813924\"] ;\n",
      "37 -> 39 ;\n",
      "40 [label=\"AGE <= 94.656\\nmse = 10.335\\nsamples = 65\\nvalue = 19.011\", fillcolor=\"#e5813943\"] ;\n",
      "36 -> 40 ;\n",
      "41 [label=\"mse = 8.595\\nsamples = 45\\nvalue = 20.087\", fillcolor=\"#e5813949\"] ;\n",
      "40 -> 41 ;\n",
      "42 [label=\"mse = 5.785\\nsamples = 20\\nvalue = 16.59\", fillcolor=\"#e5813934\"] ;\n",
      "40 -> 42 ;\n",
      "43 [label=\"INDUS <= 16.679\\nmse = 23.655\\nsamples = 17\\nvalue = 14.3\", fillcolor=\"#e5813926\"] ;\n",
      "29 -> 43 ;\n",
      "44 [label=\"mse = 12.474\\nsamples = 5\\nvalue = 16.54\", fillcolor=\"#e5813934\"] ;\n",
      "43 -> 44 ;\n",
      "45 [label=\"NOX <= 0.65\\nmse = 25.352\\nsamples = 12\\nvalue = 13.367\", fillcolor=\"#e5813920\"] ;\n",
      "43 -> 45 ;\n",
      "46 [label=\"mse = 32.047\\nsamples = 4\\nvalue = 18.025\", fillcolor=\"#e581393d\"] ;\n",
      "45 -> 46 ;\n",
      "47 [label=\"DIS <= 1.632\\nmse = 5.73\\nsamples = 8\\nvalue = 11.038\", fillcolor=\"#e5813912\"] ;\n",
      "45 -> 47 ;\n",
      "48 [label=\"mse = 9.285\\nsamples = 4\\nvalue = 11.7\", fillcolor=\"#e5813916\"] ;\n",
      "47 -> 48 ;\n",
      "49 [label=\"mse = 1.297\\nsamples = 4\\nvalue = 10.375\", fillcolor=\"#e581390e\"] ;\n",
      "47 -> 49 ;\n",
      "50 [label=\"TAX <= 391.976\\nmse = 14.526\\nsamples = 40\\nvalue = 11.525\", fillcolor=\"#e5813915\"] ;\n",
      "28 -> 50 ;\n",
      "51 [label=\"mse = 7.09\\nsamples = 5\\nvalue = 16.84\", fillcolor=\"#e5813935\"] ;\n",
      "50 -> 51 ;\n",
      "52 [label=\"LSTAT <= 33.625\\nmse = 10.977\\nsamples = 35\\nvalue = 10.766\", fillcolor=\"#e5813910\"] ;\n",
      "50 -> 52 ;\n",
      "53 [label=\"CRIM <= 11.557\\nmse = 9.638\\nsamples = 30\\nvalue = 10.51\", fillcolor=\"#e581390f\"] ;\n",
      "52 -> 53 ;\n",
      "54 [label=\"DIS <= 1.849\\nmse = 9.4\\nsamples = 16\\nvalue = 11.681\", fillcolor=\"#e5813916\"] ;\n",
      "53 -> 54 ;\n",
      "55 [label=\"mse = 12.39\\nsamples = 11\\nvalue = 11.409\", fillcolor=\"#e5813914\"] ;\n",
      "54 -> 55 ;\n",
      "56 [label=\"mse = 2.302\\nsamples = 5\\nvalue = 12.28\", fillcolor=\"#e5813919\"] ;\n",
      "54 -> 56 ;\n",
      "57 [label=\"AGE <= 98.869\\nmse = 6.549\\nsamples = 14\\nvalue = 9.171\", fillcolor=\"#e5813906\"] ;\n",
      "53 -> 57 ;\n",
      "58 [label=\"mse = 3.718\\nsamples = 7\\nvalue = 10.214\", fillcolor=\"#e581390d\"] ;\n",
      "57 -> 58 ;\n",
      "59 [label=\"mse = 7.205\\nsamples = 7\\nvalue = 8.129\", fillcolor=\"#e5813900\"] ;\n",
      "57 -> 59 ;\n",
      "60 [label=\"mse = 16.264\\nsamples = 5\\nvalue = 12.3\", fillcolor=\"#e581391a\"] ;\n",
      "52 -> 60 ;\n",
      "}\n"
     ]
    }
   ],
   "source": [
    "get_tree_dot_view(tree_grid.best_estimator_, X.columns)"
   ]
  },
  {
   "cell_type": "markdown",
   "metadata": {},
   "source": [
    "Для полученного после настройки гиперпараметров дерева визуализация получается слишком громоздкой, чтобы помещать её сюда. Можно визуализировать первое дерево с небольшой максимальной глубиной."
   ]
  },
  {
   "cell_type": "code",
   "execution_count": 130,
   "metadata": {},
   "outputs": [
    {
     "name": "stdout",
     "output_type": "stream",
     "text": [
      "digraph Tree {\n",
      "node [shape=box, style=\"filled\", color=\"black\"] ;\n",
      "0 [label=\"RM <= 6.941\\nmse = 91.487\\nsamples = 354\\nvalue = 22.788\", fillcolor=\"#e581394f\"] ;\n",
      "1 [label=\"LSTAT <= 14.405\\nmse = 41.829\\nsamples = 296\\nvalue = 19.837\", fillcolor=\"#e581393c\"] ;\n",
      "0 -> 1 [labeldistance=2.5, labelangle=45, headlabel=\"True\"] ;\n",
      "2 [label=\"DIS <= 1.434\\nmse = 26.74\\nsamples = 173\\nvalue = 23.436\", fillcolor=\"#e5813953\"] ;\n",
      "1 -> 2 ;\n",
      "3 [label=\"LSTAT <= 10.505\\nmse = 91.577\\nsamples = 4\\nvalue = 44.475\", fillcolor=\"#e58139db\"] ;\n",
      "2 -> 3 ;\n",
      "4 [label=\"mse = 0.0\\nsamples = 3\\nvalue = 50.0\", fillcolor=\"#e58139ff\"] ;\n",
      "3 -> 4 ;\n",
      "5 [label=\"mse = -0.0\\nsamples = 1\\nvalue = 27.9\", fillcolor=\"#e5813970\"] ;\n",
      "3 -> 5 ;\n",
      "6 [label=\"RM <= 6.544\\nmse = 14.481\\nsamples = 169\\nvalue = 22.938\", fillcolor=\"#e5813950\"] ;\n",
      "2 -> 6 ;\n",
      "7 [label=\"mse = 7.884\\nsamples = 132\\nvalue = 21.656\", fillcolor=\"#e5813947\"] ;\n",
      "6 -> 7 ;\n",
      "8 [label=\"mse = 11.219\\nsamples = 37\\nvalue = 27.514\", fillcolor=\"#e581396d\"] ;\n",
      "6 -> 8 ;\n",
      "9 [label=\"NOX <= 0.603\\nmse = 19.195\\nsamples = 123\\nvalue = 14.774\", fillcolor=\"#e581391b\"] ;\n",
      "1 -> 9 ;\n",
      "10 [label=\"B <= 378.085\\nmse = 11.684\\nsamples = 48\\nvalue = 17.971\", fillcolor=\"#e581392f\"] ;\n",
      "9 -> 10 ;\n",
      "11 [label=\"mse = 13.244\\nsamples = 20\\nvalue = 15.905\", fillcolor=\"#e5813922\"] ;\n",
      "10 -> 11 ;\n",
      "12 [label=\"mse = 5.344\\nsamples = 28\\nvalue = 19.446\", fillcolor=\"#e5813939\"] ;\n",
      "10 -> 12 ;\n",
      "13 [label=\"LSTAT <= 18.93\\nmse = 13.275\\nsamples = 75\\nvalue = 12.728\", fillcolor=\"#e581390e\"] ;\n",
      "9 -> 13 ;\n",
      "14 [label=\"mse = 5.888\\nsamples = 31\\nvalue = 15.69\", fillcolor=\"#e5813921\"] ;\n",
      "13 -> 14 ;\n",
      "15 [label=\"mse = 7.94\\nsamples = 44\\nvalue = 10.641\", fillcolor=\"#e5813900\"] ;\n",
      "13 -> 15 ;\n",
      "16 [label=\"RM <= 7.445\\nmse = 73.654\\nsamples = 58\\nvalue = 37.848\", fillcolor=\"#e58139b0\"] ;\n",
      "0 -> 16 [labeldistance=2.5, labelangle=-45, headlabel=\"False\"] ;\n",
      "17 [label=\"NOX <= 0.659\\nmse = 36.503\\nsamples = 35\\nvalue = 33.011\", fillcolor=\"#e5813991\"] ;\n",
      "16 -> 17 ;\n",
      "18 [label=\"DIS <= 1.886\\nmse = 20.86\\nsamples = 33\\nvalue = 34.018\", fillcolor=\"#e5813997\"] ;\n",
      "17 -> 18 ;\n",
      "19 [label=\"mse = 18.923\\nsamples = 2\\nvalue = 45.65\", fillcolor=\"#e58139e3\"] ;\n",
      "18 -> 19 ;\n",
      "20 [label=\"mse = 11.693\\nsamples = 31\\nvalue = 33.268\", fillcolor=\"#e5813993\"] ;\n",
      "18 -> 20 ;\n",
      "21 [label=\"LSTAT <= 15.09\\nmse = 1.96\\nsamples = 2\\nvalue = 16.4\", fillcolor=\"#e5813925\"] ;\n",
      "17 -> 21 ;\n",
      "22 [label=\"mse = 0.0\\nsamples = 1\\nvalue = 15.0\", fillcolor=\"#e581391c\"] ;\n",
      "21 -> 22 ;\n",
      "23 [label=\"mse = 0.0\\nsamples = 1\\nvalue = 17.8\", fillcolor=\"#e581392e\"] ;\n",
      "21 -> 23 ;\n",
      "24 [label=\"CRIM <= 2.742\\nmse = 40.41\\nsamples = 23\\nvalue = 45.209\", fillcolor=\"#e58139e0\"] ;\n",
      "16 -> 24 ;\n",
      "25 [label=\"PTRATIO <= 17.9\\nmse = 16.429\\nsamples = 22\\nvalue = 46.268\", fillcolor=\"#e58139e7\"] ;\n",
      "24 -> 25 ;\n",
      "26 [label=\"mse = 7.222\\nsamples = 18\\nvalue = 47.633\", fillcolor=\"#e58139f0\"] ;\n",
      "25 -> 26 ;\n",
      "27 [label=\"mse = 11.737\\nsamples = 4\\nvalue = 40.125\", fillcolor=\"#e58139bf\"] ;\n",
      "25 -> 27 ;\n",
      "28 [label=\"mse = 0.0\\nsamples = 1\\nvalue = 21.9\", fillcolor=\"#e5813949\"] ;\n",
      "24 -> 28 ;\n",
      "}\n"
     ]
    }
   ],
   "source": [
    "get_tree_dot_view(reg, X.columns)"
   ]
  },
  {
   "cell_type": "markdown",
   "metadata": {},
   "source": [
    "![tree](tree1.jpg)"
   ]
  },
  {
   "cell_type": "code",
   "execution_count": null,
   "metadata": {},
   "outputs": [],
   "source": []
  }
 ],
 "metadata": {
  "kernelspec": {
   "display_name": "Python 3",
   "language": "python",
   "name": "python3"
  },
  "language_info": {
   "codemirror_mode": {
    "name": "ipython",
    "version": 3
   },
   "file_extension": ".py",
   "mimetype": "text/x-python",
   "name": "python",
   "nbconvert_exporter": "python",
   "pygments_lexer": "ipython3",
   "version": "3.7.7"
  }
 },
 "nbformat": 4,
 "nbformat_minor": 4
}
